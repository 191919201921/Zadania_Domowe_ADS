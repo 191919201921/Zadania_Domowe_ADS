{
  "nbformat": 4,
  "nbformat_minor": 0,
  "metadata": {
    "colab": {
      "name": "Kopia notatnika M5MORE-SATYSTYKA-PYTHON.ipynb",
      "provenance": [],
      "collapsed_sections": [
        "X5svsRlc8V7w",
        "0dG-lOop8z3Q",
        "XTMbJ4iKAA52",
        "SD1CD8YRBtU0",
        "EUojHss_EYVO",
        "8ELTRoYPFHry",
        "gwDux0tmPXaj",
        "CjOoKj7BQafT",
        "YYBO21UuJO46",
        "g8YFAxS7JWXO",
        "YtFCOT4h-tv0",
        "tto3Jn7Y-tv1",
        "jA6RT3EHCRRs",
        "4lQ7KeUGCRRt"
      ],
      "include_colab_link": true
    },
    "kernelspec": {
      "name": "python3",
      "display_name": "Python 3"
    }
  },
  "cells": [
    {
      "cell_type": "markdown",
      "metadata": {
        "id": "view-in-github",
        "colab_type": "text"
      },
      "source": [
        "<a href=\"https://colab.research.google.com/github/191919201921/Zadania_Domowe_ADS/blob/main/Kopia_notatnika_M5MORE_SATYSTYKA_PYTHON.ipynb\" target=\"_parent\"><img src=\"https://colab.research.google.com/assets/colab-badge.svg\" alt=\"Open In Colab\"/></a>"
      ]
    },
    {
      "cell_type": "markdown",
      "metadata": {
        "id": "NKvwJ-9J8KMV"
      },
      "source": [
        "**Praktyczne zadania - Statystyka i Prawdopodobieństwo**"
      ]
    },
    {
      "cell_type": "markdown",
      "metadata": {
        "id": "O4Ni4oos8Kyo"
      },
      "source": [
        "# Zadanie 1\n"
      ]
    },
    {
      "cell_type": "markdown",
      "metadata": {
        "id": "_8iNHBPU8Z_A"
      },
      "source": [
        "1. Stwórz dowolną listę, nazwij ją list.\n",
        "\n",
        "2. Stwórz funkcję srednia(), która obliczy wartość średnią danej listy oraz jej medianę.\n",
        "\n",
        "3. Funkcja ta musi importować listę z elementami typu float oraz zwracać wynik typu float.\n",
        "\n",
        "Do tego typu operacji niezbędny będzie: *from typing import List*"
      ]
    },
    {
      "cell_type": "code",
      "metadata": {
        "id": "JpbWO6CQ8rSc"
      },
      "source": [
        "from typing import List\n",
        "\n",
        "#przykładowa lista - poćwicz z własną! Posprawdzaj działanie swojej funkcji dla listy o parzystej i nieparzystej liczbie elementów\n"
      ],
      "execution_count": null,
      "outputs": []
    },
    {
      "cell_type": "code",
      "metadata": {
        "id": "4gOc8MT8drcn"
      },
      "source": [
        "def srednia(lista : List[float]) -> float:\r\n",
        "  srednia = sum(lista)/len(lista)\r\n",
        "  \r\n",
        "  if len(lista)%2 != 0:\r\n",
        "    listax = sorted(lista)\r\n",
        "    c = listax[len(lista)//2]\r\n",
        "  else:\r\n",
        "    listax = sorted(lista)\r\n",
        "    b = listax[len(lista)//2] + listax[len(lista)//2-1]\r\n",
        "    c = b/2\r\n",
        "  return f\"Średnia wynosi {srednia} i mediana wynosi {c}\""
      ],
      "execution_count": null,
      "outputs": []
    },
    {
      "cell_type": "code",
      "metadata": {
        "colab": {
          "base_uri": "https://localhost:8080/"
        },
        "id": "vcbgr85coc_1",
        "outputId": "fbc170b7-f457-4f57-afa9-78451ec89d94"
      },
      "source": [
        "lista2 = [1,2,3,4,5]\r\n",
        "\r\n",
        "xd = lista2[len(lista2)//2] + lista2[len(lista2)//2-1] \r\n",
        "xc = xd / 2\r\n",
        "type(xd)\r\n",
        "type(xc)"
      ],
      "execution_count": null,
      "outputs": [
        {
          "output_type": "execute_result",
          "data": {
            "text/plain": [
              "float"
            ]
          },
          "metadata": {
            "tags": []
          },
          "execution_count": 3
        }
      ]
    },
    {
      "cell_type": "code",
      "metadata": {
        "colab": {
          "base_uri": "https://localhost:8080/",
          "height": 36
        },
        "id": "1mLQIDb1dzBQ",
        "outputId": "9cf08217-59b7-47ef-e225-bf74a2ed9492"
      },
      "source": [
        "srednia(lista2)"
      ],
      "execution_count": null,
      "outputs": [
        {
          "output_type": "execute_result",
          "data": {
            "application/vnd.google.colaboratory.intrinsic+json": {
              "type": "string"
            },
            "text/plain": [
              "'Średnia wynosi 3.0 i mediana wynosi 3'"
            ]
          },
          "metadata": {
            "tags": []
          },
          "execution_count": 4
        }
      ]
    },
    {
      "cell_type": "code",
      "metadata": {
        "colab": {
          "base_uri": "https://localhost:8080/",
          "height": 36
        },
        "id": "DB-Y2hScSz84",
        "outputId": "528b04fe-d622-4a9f-da49-6534610723fe"
      },
      "source": [
        "listaxd = [1,2,3,4,5,6,7,8,9,10,11,128,129,500]\r\n",
        "srednia(listaxd)"
      ],
      "execution_count": null,
      "outputs": [
        {
          "output_type": "execute_result",
          "data": {
            "application/vnd.google.colaboratory.intrinsic+json": {
              "type": "string"
            },
            "text/plain": [
              "'Średnia wynosi 58.785714285714285 i mediana wynosi 7.5'"
            ]
          },
          "metadata": {
            "tags": []
          },
          "execution_count": 9
        }
      ]
    },
    {
      "cell_type": "code",
      "metadata": {
        "colab": {
          "base_uri": "https://localhost:8080/"
        },
        "id": "25mXBEd0TS3f",
        "outputId": "b5c473d6-56b5-4458-faef-082995413369"
      },
      "source": [
        "len(listaxd)"
      ],
      "execution_count": null,
      "outputs": [
        {
          "output_type": "execute_result",
          "data": {
            "text/plain": [
              "14"
            ]
          },
          "metadata": {
            "tags": []
          },
          "execution_count": 10
        }
      ]
    },
    {
      "cell_type": "markdown",
      "metadata": {
        "id": "X5svsRlc8V7w"
      },
      "source": [
        "## Podpowiedzi\n"
      ]
    },
    {
      "cell_type": "code",
      "metadata": {
        "id": "1zmk1Msu75hF"
      },
      "source": [
        "from typing import List\n",
        "\n",
        "#przykładowa lista - poćwicz z własną! Posprawdzaj działanie swojej funkcji dla listy o parzystej i nieparzystej liczbie elementów\n",
        "lista = [1,2,5,76,2,34,5,23]\n",
        "#Zdefiniuj funkcję. Pamiętaj, że any założyć input i output konkretnego typu musisz wykorzystać zapis def funkcja(x:List[int]) -> int. Do tej operacji jest niezbędne zaimportowanie funkcji List z modułu typing.\n",
        "#Oblicz średnią na podstawie sumy i ilości elementów w liście\n",
        "#Zwróć uwagę na definicję mediany - inaczej będzie się zachowywać dla listy o parzystej i nieparzystej liczbie elementów\n",
        "#Nie zapomnij o sortowaniu elementów podczas liczenia mediany!"
      ],
      "execution_count": null,
      "outputs": []
    },
    {
      "cell_type": "markdown",
      "metadata": {
        "id": "0dG-lOop8z3Q"
      },
      "source": [
        "## Podpowiedzi + rozwiązanie"
      ]
    },
    {
      "cell_type": "code",
      "metadata": {
        "id": "Bx3Orjtl87MU",
        "colab": {
          "base_uri": "https://localhost:8080/"
        },
        "outputId": "131f2ee9-b5ec-418c-88bb-a299329ed6c9"
      },
      "source": [
        "from typing import List\n",
        "lista = [1,2,3,4,5,6,7]\n",
        "\n",
        "#Zdefiniuj funkcję. Pamiętaj, że any założyć input i output konkretnego typu musisz wykorzystać zapis def funkcja(x:List[int]) -> int. Do tej operacji jest niezbędne zaimportowanie funkcji List z modułu typing.\n",
        "def srednia(lista : List[float]) -> float:\n",
        "  #Oblicz średnią na podstawie sumy i ilości elementów w liście\n",
        "  #Zwróć uwagę na definicję mediany - inaczej będzie się zachowywać dla listy o parzystej i nieparzystej liczbie elementów\n",
        "  #Nie zapomnij o sortowaniu elementów podczas liczenia mediany!\n",
        "  a = sum(lista)/len(lista)\n",
        "  if len(lista)%2 == 0:\n",
        "    lista2 = sorted(lista)\n",
        "    midpoint = len(lista2)//2\n",
        "    b = (lista2[midpoint-1]+lista2[midpoint])/2\n",
        "  else:\n",
        "    lista2 = sorted(lista)\n",
        "    b = lista2[len(lista2)//2]\n",
        "  return print(\"średnia z listy to: \", a, \" mediana z listy to: \", b)\n",
        "\n",
        "srednia(lista)"
      ],
      "execution_count": null,
      "outputs": [
        {
          "output_type": "stream",
          "text": [
            "średnia z listy to:  4.0  mediana z listy to:  4\n"
          ],
          "name": "stdout"
        }
      ]
    },
    {
      "cell_type": "markdown",
      "metadata": {
        "id": "r75hDuVh_VVL"
      },
      "source": [
        "#Zadanie 2"
      ]
    },
    {
      "cell_type": "markdown",
      "metadata": {
        "id": "3AsIJHUe_Yqu"
      },
      "source": [
        "1. Wykorzystaj listę stworzoną w zadaniu 1 lub stwórzn nową. \n",
        "2. Stwórz funkcję dominanta, która wykorzystuje funkcję Counter z modułu collections i wyznacza dominantę.\n",
        "\n",
        "Załóż, że funkcja przyjmuje listę floatów i zwraca listę floatów - dominanta w zbiorze może być więcej niż jedna.\n",
        "\n"
      ]
    },
    {
      "cell_type": "code",
      "metadata": {
        "id": "I1LhTtK0__e5"
      },
      "source": [
        "from typing import List\n",
        "from collections import Counter\n",
        "\n",
        "#Wykorzystaj listę lub stwórz nową\n",
        "lista = [1,2,3,4,5,6,6,7]\n",
        "#zasady definiowania funkcji takie same jak w zadaniu 1\n",
        "#funkcja Counter tworzy słownik, gdzie kluczem jest dany zapis lub komórka danych a wartością ilość powtórzeń. \n",
        "#To bardzo użyteczna funkcja. Warto się z nią zaprzyjaźnić - szczególnie się przyda przy analizie danych do machine learningu.\n",
        "#Zwrot funkcji to efekt pętli for, która sprawdzi cały słownik i zwróci wartości, gdzie count jest równy max(Counter(lista).values())"
      ],
      "execution_count": null,
      "outputs": []
    },
    {
      "cell_type": "code",
      "metadata": {
        "colab": {
          "base_uri": "https://localhost:8080/"
        },
        "id": "mCQrT8edNA_w",
        "outputId": "fed6384e-5041-4c6f-a296-c6cc6a54d99d"
      },
      "source": [
        "Counter(lista)"
      ],
      "execution_count": null,
      "outputs": [
        {
          "output_type": "execute_result",
          "data": {
            "text/plain": [
              "Counter({1: 1, 2: 1, 3: 1, 4: 1, 5: 1, 6: 2, 7: 1})"
            ]
          },
          "metadata": {
            "tags": []
          },
          "execution_count": 12
        }
      ]
    },
    {
      "cell_type": "code",
      "metadata": {
        "colab": {
          "base_uri": "https://localhost:8080/"
        },
        "id": "Mpk4KjbxTTEa",
        "outputId": "ff0cc7f7-a539-4714-edc7-e7fe06d9e204"
      },
      "source": [
        "x = Counter(lista)\r\n",
        "x[6]"
      ],
      "execution_count": null,
      "outputs": [
        {
          "output_type": "execute_result",
          "data": {
            "text/plain": [
              "2"
            ]
          },
          "metadata": {
            "tags": []
          },
          "execution_count": 13
        }
      ]
    },
    {
      "cell_type": "code",
      "metadata": {
        "colab": {
          "base_uri": "https://localhost:8080/"
        },
        "id": "OlH5pONHNvek",
        "outputId": "ccc6b86c-4244-4e89-bf7e-0970b56863fa"
      },
      "source": [
        "Counter(lista).keys()"
      ],
      "execution_count": null,
      "outputs": [
        {
          "output_type": "execute_result",
          "data": {
            "text/plain": [
              "dict_keys([1, 2, 3, 4, 5, 6, 7])"
            ]
          },
          "metadata": {
            "tags": []
          },
          "execution_count": 14
        }
      ]
    },
    {
      "cell_type": "code",
      "metadata": {
        "id": "aLIFzXwlOrlg"
      },
      "source": [
        "def dominanta(lista):\r\n",
        " \r\n",
        "  count =  Counter(lista)\r\n",
        "  maksymalna =  max(Counter(lista).values())\r\n",
        "  \r\n",
        "  for x in count.keys():\r\n",
        "    if count[x] == maksymalna:\r\n",
        "      print(f\"{x} wystapila najczesciej, {maksymalna} razy.\")\r\n",
        "    else:\r\n",
        "      pass"
      ],
      "execution_count": null,
      "outputs": []
    },
    {
      "cell_type": "code",
      "metadata": {
        "colab": {
          "base_uri": "https://localhost:8080/"
        },
        "id": "8uVH07HOPa9A",
        "outputId": "160b67a6-ec96-42dc-b66b-367a856319c1"
      },
      "source": [
        "dominanta(lista)"
      ],
      "execution_count": null,
      "outputs": [
        {
          "output_type": "stream",
          "text": [
            "6 wystapila najczesciej, 2 razy.\n"
          ],
          "name": "stdout"
        }
      ]
    },
    {
      "cell_type": "markdown",
      "metadata": {
        "id": "XTMbJ4iKAA52"
      },
      "source": [
        "##Podpowiedzi"
      ]
    },
    {
      "cell_type": "code",
      "metadata": {
        "id": "tcQtG67JAELG"
      },
      "source": [
        "from typing import List\n",
        "from collections import Counter\n",
        "\n",
        "#Wykorzystaj listę lub stwórz nową\n",
        "lista = [1,2,3,4,5,6,6,7]\n",
        "#zasady definiowania funkcji takie same jak w zadaniu 1\n",
        "#funkcja Counter tworzy słownik, gdzie kluczem jest dany zapis lub komórka danych a wartością ilość powtórzeń. \n",
        "#To bardzo użyteczna funkcja. Warto się z nią zaprzyjaźnić - szczególnie się przyda przy analizie danych do machine learningu.\n",
        "#Zwrot funkcji to efekt pętli for, która sprawdzi cały słownik i zwróci wartości, gdzie count jest równy max(Counter(lista).values())"
      ],
      "execution_count": null,
      "outputs": []
    },
    {
      "cell_type": "markdown",
      "metadata": {
        "id": "SD1CD8YRBtU0"
      },
      "source": [
        "##Podpowiedzi + rozwiązanie"
      ]
    },
    {
      "cell_type": "code",
      "metadata": {
        "id": "jWFIVeUkBzNO",
        "colab": {
          "base_uri": "https://localhost:8080/"
        },
        "outputId": "7db8355a-70ab-4120-b23d-80746ab43f2e"
      },
      "source": [
        "from typing import List\n",
        "from collections import Counter\n",
        "\n",
        "#Wykorzystaj listę lub stwórz nową\n",
        "lista = [1,2,3,4,5,6,6,7]\n",
        "\n",
        "#zasady definiowania funkcji takie same jak w zadaniu 1\n",
        "def dominanta(x: List[float]) -> List[float]:\n",
        "  #funkcja Counter tworzy słownik, gdzie kluczem jest dany zapis lub komórka danych a wartością ilość powtórzeń. \n",
        "  #To bardzo użyteczna funkcja. Warto się z nią zaprzyjaźnić - szczególnie się przyda przy analizie danych do machine learningu.\n",
        "  counts = Counter(x)\n",
        "  max_count = max(counts.values())\n",
        "  #Zwrot funkcji to efekt pętli for, która sprawdzi cały słownik i zwróci wartości, gdzie count jest równy max(Counter(lista).values())\n",
        "  return [x_i for x_i, count in counts.items() if count == max_count]\n",
        "\n",
        "dominanta(lista)"
      ],
      "execution_count": null,
      "outputs": [
        {
          "output_type": "execute_result",
          "data": {
            "text/plain": [
              "[6]"
            ]
          },
          "metadata": {
            "tags": []
          },
          "execution_count": 10
        }
      ]
    },
    {
      "cell_type": "markdown",
      "metadata": {
        "id": "lJ33sgcxEI6c"
      },
      "source": [
        "#Zadanie 3"
      ]
    },
    {
      "cell_type": "markdown",
      "metadata": {
        "id": "WdrxzfOwELK9"
      },
      "source": [
        "1. Stwórz listę 500 elementów losowych z przedziału od 0 do 100.\n",
        "\n",
        "2. Stwórz funkcję importującą tą listę i obliczającą dyspersję wariancję oraz odchylenie standardowe tej listy (zbioru danych).\n",
        "\n",
        "  - Dyspersja to rozrzut danych (różnica pomiędzy największą a najmniejszą wartością).\n",
        "\n",
        "  - Wariancja to (suma wyrażeń ((element listy - średnia listy) podniesionych do kwadratu)) podzielona przez ilość wyrażeń.\n",
        "\n",
        "  - Odchylenie standardowe to pierwiastek kwadratowy z wariancji."
      ]
    },
    {
      "cell_type": "code",
      "metadata": {
        "id": "23t8r0zgEYps"
      },
      "source": [
        "import random\n",
        "#import funkcji pierwiastka\n",
        "from math import sqrt\n",
        "from typing import List\n",
        "import numpy as np"
      ],
      "execution_count": null,
      "outputs": []
    },
    {
      "cell_type": "code",
      "metadata": {
        "id": "sPzM_s4HYIib"
      },
      "source": [
        "random.seed()"
      ],
      "execution_count": null,
      "outputs": []
    },
    {
      "cell_type": "code",
      "metadata": {
        "id": "SNphdwMrYOU6"
      },
      "source": [
        "lista3 = []\r\n",
        "for x in range(0,500):\r\n",
        "  y = random.randint(0,100)\r\n",
        "  lista3.append(y)"
      ],
      "execution_count": null,
      "outputs": []
    },
    {
      "cell_type": "code",
      "metadata": {
        "colab": {
          "base_uri": "https://localhost:8080/"
        },
        "id": "oHC3EhTXYl1G",
        "outputId": "83cd562d-5819-48e2-af3b-dc78058eab00"
      },
      "source": [
        "len(lista3)"
      ],
      "execution_count": null,
      "outputs": [
        {
          "output_type": "execute_result",
          "data": {
            "text/plain": [
              "500"
            ]
          },
          "metadata": {
            "tags": []
          },
          "execution_count": 20
        }
      ]
    },
    {
      "cell_type": "code",
      "metadata": {
        "id": "1M9PYiPBZC2p"
      },
      "source": [
        "def funkcja(lista):\r\n",
        "  \r\n",
        "  #dyspersja\r\n",
        "  dyspersja =  max(lista) - min(lista)\r\n",
        "  \r\n",
        "  # wariancja\r\n",
        "  srednia = sum(lista)/len(lista)\r\n",
        "  suma = 0 \r\n",
        "  \r\n",
        "  for x in lista:\r\n",
        "    y = (x - srednia)**2\r\n",
        "    suma = suma + y\r\n",
        "  \r\n",
        "  wariancja = suma/len(lista)\r\n",
        "  \r\n",
        "  #odchylenie standardowe\r\n",
        "  odchstand = sqrt(wariancja)\r\n",
        "\r\n",
        "  return (f\"Dyspersja wynosi: {dyspersja}  Wariancja wynosi: {wariancja} Odchylenie standardowe wynosi: {odchstand}\")"
      ],
      "execution_count": null,
      "outputs": []
    },
    {
      "cell_type": "code",
      "metadata": {
        "colab": {
          "base_uri": "https://localhost:8080/",
          "height": 36
        },
        "id": "kiBq1A5AcFC9",
        "outputId": "398186eb-b7ab-4ef6-b201-c9c0efc582f9"
      },
      "source": [
        "funkcja(lista3)"
      ],
      "execution_count": null,
      "outputs": [
        {
          "output_type": "execute_result",
          "data": {
            "application/vnd.google.colaboratory.intrinsic+json": {
              "type": "string"
            },
            "text/plain": [
              "'Dyspersja wynosi: 100  Wariancja wynosi: 885.9879160000007 Odchylenie standardowe wynosi: 29.765549146622522'"
            ]
          },
          "metadata": {
            "tags": []
          },
          "execution_count": 22
        }
      ]
    },
    {
      "cell_type": "markdown",
      "metadata": {
        "id": "EUojHss_EYVO"
      },
      "source": [
        "##Podpowiedzi"
      ]
    },
    {
      "cell_type": "code",
      "metadata": {
        "id": "h6Wqicg5EaqM"
      },
      "source": [
        "import random\n",
        "#import funkcji pierwiastka\n",
        "from math import sqrt\n",
        "from typing import List\n",
        "\n",
        "#Podpowiedź do funkcji obliczania średniej:\n",
        "#Wykorzystaj funkcję średnia z Zadania 1 - trzeba ją nieco przerobić aby zwracała średnią (bez mediany) jako liczbę, bez printu.\n",
        "\n",
        "\n",
        "#Podpowiedź do funkcji obliczania dyspersji:\n",
        "#Dyspersja to różnica pomiędzy wartością maksymalną a minimalną.\n",
        "\n",
        "\n",
        "#Przyda się funkcja element_minus_srednia przyjmująca listę floatów i zwracająca listę floatów, która przyjmie element z listy i odejmie od niego średnią. Wykorzystaj funkcję średnia z Zadania 1!\n",
        "\n",
        "#Podpowiedź do pozostałych funkcji:\n",
        "#Aby to zadziałało musisz stworzyć funkcję sumującą kwadraty elementów z poprzedniej funkcji.\n",
        "#Najprościej to zrobić za pomocą zapisu:   return sum(map(lambda i: i*i, elementy))\n",
        "#Oznacza on, że funkcja zwróci sumę wszystkich elementów listy \"elementy\", do których zastosuje działanie i*i, czyli podniesienie do kwadratu.\n",
        "#do listy elementy przypisz wywołanie funkcji element_minus_srednia\n",
        "\n",
        "\n",
        "#Aby stworzyć działającą poprawnie funkcję wariancja, musisz zadbać o kilka rzeczy\n",
        "#Po pierwsze - długość przyjmowanej listy musi być większa lub równa 2. Inaczej nie jest możliwe policzenie wariancji\n",
        "#Po drugie - odpowiednio skonfiguruj zwrot z funkcji - powinien zwracać sumę kwadratów podzieloną przez ilość elementów (tj. średnia z sumy kwadratów)\n",
        "\n",
        "\n",
        "#Odchylenie standardowe to dość prosta kalkulacja - wystarczy wziąć wynik z funkcji wariancja i podać go jako argument do pierwiastka kwadratowego, tj. sqrt(wariancja(nazwa_listy))\n",
        "#W moim przypadku zdecydowałem się na stworzenie funkcji zbiorczej, która podsumuje i wywoła powyższe funkcje."
      ],
      "execution_count": null,
      "outputs": []
    },
    {
      "cell_type": "markdown",
      "metadata": {
        "id": "8ELTRoYPFHry"
      },
      "source": [
        "##Podpowiedzi + rozwiązanie"
      ]
    },
    {
      "cell_type": "code",
      "metadata": {
        "id": "pm8xuBQcFM78",
        "colab": {
          "base_uri": "https://localhost:8080/"
        },
        "outputId": "5519394b-2d9b-413a-cb6f-acdf5d516eaf"
      },
      "source": [
        "import random\n",
        "#import funkcji pierwiastka\n",
        "from math import sqrt\n",
        "from typing import List\n",
        "\n",
        "randomlist = []\n",
        "for i in range(0, 500):\n",
        "  n = random.randint(0, 100)\n",
        "  randomlist.append(n)\n",
        "\n",
        "#Wykorzystaj funkcję średnia z Zadania 1 - trzeba ją nieco przerobić aby zwracała średnią (bez mediany) jako liczbę, bez printu.\n",
        "def srednia(lista: List[float]) -> float:\n",
        "  a = sum(lista)/len(lista)\n",
        "  return a\n",
        "\n",
        "#Dyspersja to różnica pomiędzy wartością maksymalną a minimalną.\n",
        "def dyspersja(xs: List[float]) -> float:\n",
        "  return max(xs) - min(xs)\n",
        "\n",
        "#Przyda się funkcja element_minus_srednia przyjmująca listę floatów i zwracająca listę floatów, która przyjmie element z listy i odejmie od niego średnią. Wykorzystaj funkcję średnia z Zadania 1!\n",
        "def element_minus_srednia(xs: List[float]) -> List[float]:\n",
        "  x_srednia = srednia(xs)\n",
        "  return [x - x_srednia for x in xs]\n",
        "  \n",
        "#Aby to zadziałało musisz stworzyć funkcję sumującą kwadraty elementów z poprzedniej funkcji.\n",
        "#Najprościej to zrobić za pomocą zapisu:   return sum(map(lambda i: i*i, elementy))\n",
        "#Oznacza on, że funkcja zwróci sumę wszystkich elementów listy \"elementy\", do których zastosuje działanie i*i, czyli podniesienie do kwadratu.\n",
        "#do listy elementy przypisz wywołanie funkcji element_minus_srednia\n",
        "def suma_kwadratow(xs: List[float]) -> List[float]:\n",
        "  suma = 0\n",
        "  elementy = element_minus_srednia(xs)\n",
        "  return sum(map(lambda i: i*i, elementy))\n",
        "\n",
        "#Aby stworzyć działającą poprawnie funkcję wariancja, musisz zadbać o kilka rzeczy\n",
        "#Po pierwsze - długość przyjmowanej listy musi być większa lub równa 2. Inaczej nie jest możliwe policzenie wariancji\n",
        "#Po drugie - odpowiednio skonfiguruj zwrot z funkcji - powinien zwracać sumę kwadratów podzieloną przez ilość elementów (tj. średnia z sumy kwadratów)\n",
        "\n",
        "def wariancja(xs: List[float]) -> float:\n",
        "  assert len(xs) >= 2, \"wariancja wymaga minimum 2 elementów\"\n",
        "  return (suma_kwadratow(xs) / (len(xs)))\n",
        "\n",
        "#Odchylenie standardowe to dość prosta kalkulacja - wystarczy wziąć wynik z funkcji wariancja i podać go jako argument do pierwiastka kwadratowego, tj. sqrt(wariancja(nazwa_listy))\n",
        "def odchylenie_standardowe(xs: List[float]) -> float:\n",
        "  return sqrt(wariancja(xs))\n",
        "\n",
        "#W moim przypadku zdecydowałem się na stworzenie funkcji zbiorczej, która podsumuje i wywoła powyższe funkcje.\n",
        "def funkcja_zbiorcza(xs):\n",
        "  print(\"Dyspersja wzoru wynosi :\", dyspersja(xs))\n",
        "  print(\"Wariancja zbioru wynosi: \", wariancja(xs))\n",
        "  print(\"Odchylenie standardowe zbioru wynosi: \", odchylenie_standardowe(xs))\n",
        "\n",
        "funkcja_zbiorcza(randomlist)\n"
      ],
      "execution_count": null,
      "outputs": [
        {
          "output_type": "stream",
          "text": [
            "Dyspersja wzoru wynosi : 100\n",
            "Wariancja zbioru wynosi:  834.3910840000001\n",
            "Odchylenie standardowe zbioru wynosi:  28.885828428487212\n"
          ],
          "name": "stdout"
        }
      ]
    },
    {
      "cell_type": "markdown",
      "metadata": {
        "id": "6Udv7WjAHbd5"
      },
      "source": [
        "#Zadanie 4"
      ]
    },
    {
      "cell_type": "markdown",
      "metadata": {
        "id": "WUW_2yOvHeZ3"
      },
      "source": [
        "To bardziej ciekawostka i notatka niż zadanie :)\n",
        "\n",
        "Podczas analizy danych często spotyka się pojęcie \"Paradoks Simpsona\" - korelacje mogą wprowadzać w błąd, gdy ignorowane są niektóre zmienne składowe.\n",
        "\n",
        "Oto przykład takiej sytuacji. Załóżmy, że możemy określić część Polski, z której pochodzą analitycy. Podzielmy ich na Śląsk i Podlasie i sprawdźmy, która grupa ma więcej znajomych.\n",
        "\n",
        "\n",
        "\n"
      ]
    },
    {
      "cell_type": "code",
      "metadata": {
        "id": "hO66pZkEMifS",
        "colab": {
          "base_uri": "https://localhost:8080/",
          "height": 112
        },
        "outputId": "76a15f0e-0b10-43a0-f9fa-88bec66017d1"
      },
      "source": [
        "df = pd.DataFrame({'Region' : ['Podlasie', 'Śląsk'],\r\n",
        "                   'Liczba analityków' : [101, 103],\r\n",
        "                   'Średnia ilość znajomych' : [8.2, 6.5]})\r\n",
        "df"
      ],
      "execution_count": null,
      "outputs": [
        {
          "output_type": "execute_result",
          "data": {
            "text/html": [
              "<div>\n",
              "<style scoped>\n",
              "    .dataframe tbody tr th:only-of-type {\n",
              "        vertical-align: middle;\n",
              "    }\n",
              "\n",
              "    .dataframe tbody tr th {\n",
              "        vertical-align: top;\n",
              "    }\n",
              "\n",
              "    .dataframe thead th {\n",
              "        text-align: right;\n",
              "    }\n",
              "</style>\n",
              "<table border=\"1\" class=\"dataframe\">\n",
              "  <thead>\n",
              "    <tr style=\"text-align: right;\">\n",
              "      <th></th>\n",
              "      <th>Region</th>\n",
              "      <th>Liczba analityków</th>\n",
              "      <th>Średnia ilość znajomych</th>\n",
              "    </tr>\n",
              "  </thead>\n",
              "  <tbody>\n",
              "    <tr>\n",
              "      <th>0</th>\n",
              "      <td>Podlasie</td>\n",
              "      <td>101</td>\n",
              "      <td>8.2</td>\n",
              "    </tr>\n",
              "    <tr>\n",
              "      <th>1</th>\n",
              "      <td>Śląsk</td>\n",
              "      <td>103</td>\n",
              "      <td>6.5</td>\n",
              "    </tr>\n",
              "  </tbody>\n",
              "</table>\n",
              "</div>"
            ],
            "text/plain": [
              "     Region  Liczba analityków  Średnia ilość znajomych\n",
              "0  Podlasie                101                      8.2\n",
              "1     Śląsk                103                      6.5"
            ]
          },
          "metadata": {
            "tags": []
          },
          "execution_count": 17
        }
      ]
    },
    {
      "cell_type": "markdown",
      "metadata": {
        "id": "EcYm_YXcWo9B"
      },
      "source": [
        "Wygląda na to, że anality z Podlasia mają więcej znajomych od tych ze Śląska. Twoi koledzy mają wiele teorii dotyczących przyczyn tego zjawiska. Niektórzy przypisują to zjawisko wpływowi słońca, inni wpływowi Kopnięcia Łosia.\r\n",
        "\r\n",
        "Przyglądając się danym, odkrywasz coś dziwnego. Gdyby wziąć pod uwagę tylko osoby z doktoratem, to analitycy ze Śląska mają średnio więcej znajomych! Gdyby spojrzeć tylko na osoby bez tytułu doktora, to analitycy ze Śląska ponownie mają średnio więcej znajomych!"
      ]
    },
    {
      "cell_type": "code",
      "metadata": {
        "colab": {
          "base_uri": "https://localhost:8080/",
          "height": 175
        },
        "id": "QrQL8_kpXOSy",
        "outputId": "123416b6-bc56-4142-e66c-57b9cebf7631"
      },
      "source": [
        "df2 = pd.DataFrame({'Region' : ['Podlasie', 'Śląsk', 'Podlasie', 'Śląsk'],\r\n",
        "                   'Doktorat' : ['Tak', 'Tak', 'Nie', 'Nie'],\r\n",
        "                   'Liczba analityków' : [35, 70, 66, 33],\r\n",
        "                   'Średnia ilość znajomych' : [3.1, 3.2, 10.9, 13.4]})\r\n",
        "df2"
      ],
      "execution_count": null,
      "outputs": [
        {
          "output_type": "execute_result",
          "data": {
            "text/html": [
              "<div>\n",
              "<style scoped>\n",
              "    .dataframe tbody tr th:only-of-type {\n",
              "        vertical-align: middle;\n",
              "    }\n",
              "\n",
              "    .dataframe tbody tr th {\n",
              "        vertical-align: top;\n",
              "    }\n",
              "\n",
              "    .dataframe thead th {\n",
              "        text-align: right;\n",
              "    }\n",
              "</style>\n",
              "<table border=\"1\" class=\"dataframe\">\n",
              "  <thead>\n",
              "    <tr style=\"text-align: right;\">\n",
              "      <th></th>\n",
              "      <th>Region</th>\n",
              "      <th>Doktorat</th>\n",
              "      <th>Liczba analityków</th>\n",
              "      <th>Średnia ilość znajomych</th>\n",
              "    </tr>\n",
              "  </thead>\n",
              "  <tbody>\n",
              "    <tr>\n",
              "      <th>0</th>\n",
              "      <td>Podlasie</td>\n",
              "      <td>Tak</td>\n",
              "      <td>35</td>\n",
              "      <td>3.1</td>\n",
              "    </tr>\n",
              "    <tr>\n",
              "      <th>1</th>\n",
              "      <td>Śląsk</td>\n",
              "      <td>Tak</td>\n",
              "      <td>70</td>\n",
              "      <td>3.2</td>\n",
              "    </tr>\n",
              "    <tr>\n",
              "      <th>2</th>\n",
              "      <td>Podlasie</td>\n",
              "      <td>Nie</td>\n",
              "      <td>66</td>\n",
              "      <td>10.9</td>\n",
              "    </tr>\n",
              "    <tr>\n",
              "      <th>3</th>\n",
              "      <td>Śląsk</td>\n",
              "      <td>Nie</td>\n",
              "      <td>33</td>\n",
              "      <td>13.4</td>\n",
              "    </tr>\n",
              "  </tbody>\n",
              "</table>\n",
              "</div>"
            ],
            "text/plain": [
              "     Region Doktorat  Liczba analityków  Średnia ilość znajomych\n",
              "0  Podlasie      Tak                 35                      3.1\n",
              "1     Śląsk      Tak                 70                      3.2\n",
              "2  Podlasie      Nie                 66                     10.9\n",
              "3     Śląsk      Nie                 33                     13.4"
            ]
          },
          "metadata": {
            "tags": []
          },
          "execution_count": 18
        }
      ]
    },
    {
      "cell_type": "markdown",
      "metadata": {
        "id": "xQJOmdqlXk71"
      },
      "source": [
        "Po wzięciu pod uwagę stopnia naukowego użytkowników korelacja uległa odwróceniu! Podział danych na grupy pokazał, że na Śląsku jest więcej analityków z doktoratem.\r\n",
        "\r\n",
        "Tego typu paradoks spotyka się dość regularnie. Wynika on z tego, że korelacja mierzy zależność pomiędzy dwoma zmiennymi, zakładając, że pomiędzy obserwacjami nie występują żadne inne różnice. Jeżeli klasy danych są przypisane w sposób losowy, do czego może dojść w przypadku dobrze zaplanowanego eksperymentu, to założenie, że \"pomiędzy obserwacjami nie występują żadne inne różnice\" może nie być niczym złym, ale jeżeli przypisanie do klas posiada drugie dno, takie założenie może okazać się nieprawdziwe.\r\n",
        "\r\n",
        "Tego problemu można uniknąć tylko w jeden sposób - należy poznać analizowane dane. Tylko to pozwoli wykryć występowanie dodatkowych czynników. Oczywiście, nie zawsze jest to możliwe. Gdybyśmy nie dysponowali informacją o wykształceniu, moglibyśmy dojść do wniosku, że osoby z Podlasia są bardziej towarzyskie."
      ]
    },
    {
      "cell_type": "markdown",
      "metadata": {
        "id": "mPTrug4GZs2M"
      },
      "source": [
        "**Inne pułapki związane z korelacją** "
      ]
    },
    {
      "cell_type": "markdown",
      "metadata": {
        "id": "4O2TfLpWZ08O"
      },
      "source": [
        "Korelacja równa zero oznacza brak liniowej zależności pomiędzy dwoma zmiennymi, ale pomiędzy takimi zmiennymi mogą zachodzić inne zależności. Przyjrzyj się przykładowym danym:"
      ]
    },
    {
      "cell_type": "code",
      "metadata": {
        "id": "68dZdhkJaEhv",
        "colab": {
          "base_uri": "https://localhost:8080/"
        },
        "outputId": "80eb3ad3-ecda-456e-fb59-fbfabda20cc4"
      },
      "source": [
        "import numpy as np\r\n",
        "\r\n",
        "x = [-2, -1, 0, 1, 2]\r\n",
        "y = [2, 1, 0, 1, 2]\r\n",
        "\r\n",
        "#obliczenie macierzy ze wsp. korelacji Pearson'a\r\n",
        "corr = np.corrcoef(x, y)\r\n",
        "#wsp. korelacji Pearson'a między x i y\r\n",
        "corr[0, 1]"
      ],
      "execution_count": null,
      "outputs": [
        {
          "output_type": "execute_result",
          "data": {
            "text/plain": [
              "0.0"
            ]
          },
          "metadata": {
            "tags": []
          },
          "execution_count": 27
        }
      ]
    },
    {
      "cell_type": "markdown",
      "metadata": {
        "id": "R4eJkjcaaKgO"
      },
      "source": [
        "Korelacja pomiędzy zmiennymi x i y jest zerowa, ale widać, że zachodzi pomiędzy nimi jakaś zależność - każdy element zbioru y przyjmuje wartość bezwzględną odpowiadającego mu elementu ze zbioru x. Pomiędzy tymi zmiennymi nie zachodzi zależność, według której wartość x_i ma się do średniej mean(x), tak samo jak wartość y_i do średniej mean(y), a dokładnie takiej zależności oczekuje korelacja.\r\n",
        "\r\n",
        "Ponadto korelacja nie mówi niczego o tym, jak duża jest zależność. Na przykład zmienne:"
      ]
    },
    {
      "cell_type": "code",
      "metadata": {
        "id": "0NJ1Dc36as7C",
        "colab": {
          "base_uri": "https://localhost:8080/"
        },
        "outputId": "9bbab16c-c7ac-43c5-df8b-8b0fbff90b78"
      },
      "source": [
        "import numpy as np\r\n",
        "\r\n",
        "x = [-2, -1, 0, 1, 2]\r\n",
        "y = [99.98, 99.99, 100, 100.01, 100.02]\r\n",
        "\r\n",
        "#obliczenie macierzy ze wsp. korelacji Pearson'a\r\n",
        "corr = np.corrcoef(x, y)\r\n",
        "#wsp. korelacji Pearson'a między x i y\r\n",
        "corr[0, 1]"
      ],
      "execution_count": null,
      "outputs": [
        {
          "output_type": "execute_result",
          "data": {
            "text/plain": [
              "1.0"
            ]
          },
          "metadata": {
            "tags": []
          },
          "execution_count": 28
        }
      ]
    },
    {
      "cell_type": "markdown",
      "metadata": {
        "id": "q_TQhA35a93Z"
      },
      "source": [
        "Są idealnie skorelowane, ale patrząc na niektóre wskaźniki, można dojść do wniosku, że zależność między nimi wcale nie jest interesująca."
      ]
    },
    {
      "cell_type": "markdown",
      "metadata": {
        "id": "Z0CN8rzIbIxn"
      },
      "source": [
        "**Korelacja a przyczynowość**"
      ]
    },
    {
      "cell_type": "markdown",
      "metadata": {
        "id": "Ez-p0YcjbNI1"
      },
      "source": [
        "Jeśli zmienne x i y są ze sobą mocno skorelowane, może to oznaczać, że x wpływa na y, y wpływa na x, obie zmienne wpływają na siebie, czynnik trzeci wpływa wartości obu z nich a także może to nie oznaczać absolutnie niczego.\r\n",
        "\r\n",
        "Przyczynowość można określać, przeprowadzając losowe próby. Jeżeli populacja zostanie podzielona w sposób losowy na dwie grupy o podobnym składzie, ale jedna z nich będzie testowana w nieco inny sposób, to można założyć z dość dużą pewnością, że różne cechy szczególne tych grup (na przykład pochodzenie, tło demograficzne, stan zdrowia itd.) wpłyną na uzyskanie różnych wyników."
      ]
    },
    {
      "cell_type": "markdown",
      "metadata": {
        "id": "ZdZuXqnOOrPp"
      },
      "source": [
        "#Zadanie 5"
      ]
    },
    {
      "cell_type": "markdown",
      "metadata": {
        "id": "glt0uYZtOtfi"
      },
      "source": [
        "1. Zaimportuj pandas oraz seaborn.\n",
        "\n",
        "2. Z seaborn zaimportuj dataset \"*car_crashes*\"\n",
        "\n",
        "3. Na jego podstawie stwórz heatmapę korelacji.\n",
        "\n",
        "4. Stwórz drugą heatmapę - tym razem z następującymi wytycznymi:\n",
        "\n",
        "  - korelacja ma być powiązana z kolumną '**speeding**'\n",
        "  - heatmapa ma zawierać 4 kolumny o najwyższym współczynniku korelacji z kolumną '**speeding**'\n"
      ]
    },
    {
      "cell_type": "code",
      "metadata": {
        "id": "xF1LNr4ePW8_"
      },
      "source": [
        "import pandas as pd\n",
        "import seaborn as sns\n",
        "import numpy as np"
      ],
      "execution_count": null,
      "outputs": []
    },
    {
      "cell_type": "code",
      "metadata": {
        "id": "RedMSOrTdzhj"
      },
      "source": [
        "df = sns.load_dataset('car_crashes')"
      ],
      "execution_count": null,
      "outputs": []
    },
    {
      "cell_type": "code",
      "metadata": {
        "colab": {
          "base_uri": "https://localhost:8080/",
          "height": 143
        },
        "id": "atL2aFSQecb8",
        "outputId": "e40c16b6-d03b-4049-abb6-5458480ce43c"
      },
      "source": [
        "df.head(3)"
      ],
      "execution_count": null,
      "outputs": [
        {
          "output_type": "execute_result",
          "data": {
            "text/html": [
              "<div>\n",
              "<style scoped>\n",
              "    .dataframe tbody tr th:only-of-type {\n",
              "        vertical-align: middle;\n",
              "    }\n",
              "\n",
              "    .dataframe tbody tr th {\n",
              "        vertical-align: top;\n",
              "    }\n",
              "\n",
              "    .dataframe thead th {\n",
              "        text-align: right;\n",
              "    }\n",
              "</style>\n",
              "<table border=\"1\" class=\"dataframe\">\n",
              "  <thead>\n",
              "    <tr style=\"text-align: right;\">\n",
              "      <th></th>\n",
              "      <th>total</th>\n",
              "      <th>speeding</th>\n",
              "      <th>alcohol</th>\n",
              "      <th>not_distracted</th>\n",
              "      <th>no_previous</th>\n",
              "      <th>ins_premium</th>\n",
              "      <th>ins_losses</th>\n",
              "      <th>abbrev</th>\n",
              "    </tr>\n",
              "  </thead>\n",
              "  <tbody>\n",
              "    <tr>\n",
              "      <th>0</th>\n",
              "      <td>18.8</td>\n",
              "      <td>7.332</td>\n",
              "      <td>5.640</td>\n",
              "      <td>18.048</td>\n",
              "      <td>15.040</td>\n",
              "      <td>784.55</td>\n",
              "      <td>145.08</td>\n",
              "      <td>AL</td>\n",
              "    </tr>\n",
              "    <tr>\n",
              "      <th>1</th>\n",
              "      <td>18.1</td>\n",
              "      <td>7.421</td>\n",
              "      <td>4.525</td>\n",
              "      <td>16.290</td>\n",
              "      <td>17.014</td>\n",
              "      <td>1053.48</td>\n",
              "      <td>133.93</td>\n",
              "      <td>AK</td>\n",
              "    </tr>\n",
              "    <tr>\n",
              "      <th>2</th>\n",
              "      <td>18.6</td>\n",
              "      <td>6.510</td>\n",
              "      <td>5.208</td>\n",
              "      <td>15.624</td>\n",
              "      <td>17.856</td>\n",
              "      <td>899.47</td>\n",
              "      <td>110.35</td>\n",
              "      <td>AZ</td>\n",
              "    </tr>\n",
              "  </tbody>\n",
              "</table>\n",
              "</div>"
            ],
            "text/plain": [
              "   total  speeding  alcohol  ...  ins_premium  ins_losses  abbrev\n",
              "0   18.8     7.332    5.640  ...       784.55      145.08      AL\n",
              "1   18.1     7.421    4.525  ...      1053.48      133.93      AK\n",
              "2   18.6     6.510    5.208  ...       899.47      110.35      AZ\n",
              "\n",
              "[3 rows x 8 columns]"
            ]
          },
          "metadata": {
            "tags": []
          },
          "execution_count": 129
        }
      ]
    },
    {
      "cell_type": "code",
      "metadata": {
        "colab": {
          "base_uri": "https://localhost:8080/",
          "height": 300
        },
        "id": "DzjPPlI6eYlz",
        "outputId": "99a18ec3-76e7-46a1-b2ba-c869e5f22922"
      },
      "source": [
        "df.describe()"
      ],
      "execution_count": null,
      "outputs": [
        {
          "output_type": "execute_result",
          "data": {
            "text/html": [
              "<div>\n",
              "<style scoped>\n",
              "    .dataframe tbody tr th:only-of-type {\n",
              "        vertical-align: middle;\n",
              "    }\n",
              "\n",
              "    .dataframe tbody tr th {\n",
              "        vertical-align: top;\n",
              "    }\n",
              "\n",
              "    .dataframe thead th {\n",
              "        text-align: right;\n",
              "    }\n",
              "</style>\n",
              "<table border=\"1\" class=\"dataframe\">\n",
              "  <thead>\n",
              "    <tr style=\"text-align: right;\">\n",
              "      <th></th>\n",
              "      <th>total</th>\n",
              "      <th>speeding</th>\n",
              "      <th>alcohol</th>\n",
              "      <th>not_distracted</th>\n",
              "      <th>no_previous</th>\n",
              "      <th>ins_premium</th>\n",
              "      <th>ins_losses</th>\n",
              "    </tr>\n",
              "  </thead>\n",
              "  <tbody>\n",
              "    <tr>\n",
              "      <th>count</th>\n",
              "      <td>51.000000</td>\n",
              "      <td>51.000000</td>\n",
              "      <td>51.000000</td>\n",
              "      <td>51.000000</td>\n",
              "      <td>51.000000</td>\n",
              "      <td>51.000000</td>\n",
              "      <td>51.000000</td>\n",
              "    </tr>\n",
              "    <tr>\n",
              "      <th>mean</th>\n",
              "      <td>15.790196</td>\n",
              "      <td>4.998196</td>\n",
              "      <td>4.886784</td>\n",
              "      <td>13.573176</td>\n",
              "      <td>14.004882</td>\n",
              "      <td>886.957647</td>\n",
              "      <td>134.493137</td>\n",
              "    </tr>\n",
              "    <tr>\n",
              "      <th>std</th>\n",
              "      <td>4.122002</td>\n",
              "      <td>2.017747</td>\n",
              "      <td>1.729133</td>\n",
              "      <td>4.508977</td>\n",
              "      <td>3.764672</td>\n",
              "      <td>178.296285</td>\n",
              "      <td>24.835922</td>\n",
              "    </tr>\n",
              "    <tr>\n",
              "      <th>min</th>\n",
              "      <td>5.900000</td>\n",
              "      <td>1.792000</td>\n",
              "      <td>1.593000</td>\n",
              "      <td>1.760000</td>\n",
              "      <td>5.900000</td>\n",
              "      <td>641.960000</td>\n",
              "      <td>82.750000</td>\n",
              "    </tr>\n",
              "    <tr>\n",
              "      <th>25%</th>\n",
              "      <td>12.750000</td>\n",
              "      <td>3.766500</td>\n",
              "      <td>3.894000</td>\n",
              "      <td>10.478000</td>\n",
              "      <td>11.348000</td>\n",
              "      <td>768.430000</td>\n",
              "      <td>114.645000</td>\n",
              "    </tr>\n",
              "    <tr>\n",
              "      <th>50%</th>\n",
              "      <td>15.600000</td>\n",
              "      <td>4.608000</td>\n",
              "      <td>4.554000</td>\n",
              "      <td>13.857000</td>\n",
              "      <td>13.775000</td>\n",
              "      <td>858.970000</td>\n",
              "      <td>136.050000</td>\n",
              "    </tr>\n",
              "    <tr>\n",
              "      <th>75%</th>\n",
              "      <td>18.500000</td>\n",
              "      <td>6.439000</td>\n",
              "      <td>5.604000</td>\n",
              "      <td>16.140000</td>\n",
              "      <td>16.755000</td>\n",
              "      <td>1007.945000</td>\n",
              "      <td>151.870000</td>\n",
              "    </tr>\n",
              "    <tr>\n",
              "      <th>max</th>\n",
              "      <td>23.900000</td>\n",
              "      <td>9.450000</td>\n",
              "      <td>10.038000</td>\n",
              "      <td>23.661000</td>\n",
              "      <td>21.280000</td>\n",
              "      <td>1301.520000</td>\n",
              "      <td>194.780000</td>\n",
              "    </tr>\n",
              "  </tbody>\n",
              "</table>\n",
              "</div>"
            ],
            "text/plain": [
              "           total   speeding    alcohol  ...  no_previous  ins_premium  ins_losses\n",
              "count  51.000000  51.000000  51.000000  ...    51.000000    51.000000   51.000000\n",
              "mean   15.790196   4.998196   4.886784  ...    14.004882   886.957647  134.493137\n",
              "std     4.122002   2.017747   1.729133  ...     3.764672   178.296285   24.835922\n",
              "min     5.900000   1.792000   1.593000  ...     5.900000   641.960000   82.750000\n",
              "25%    12.750000   3.766500   3.894000  ...    11.348000   768.430000  114.645000\n",
              "50%    15.600000   4.608000   4.554000  ...    13.775000   858.970000  136.050000\n",
              "75%    18.500000   6.439000   5.604000  ...    16.755000  1007.945000  151.870000\n",
              "max    23.900000   9.450000  10.038000  ...    21.280000  1301.520000  194.780000\n",
              "\n",
              "[8 rows x 7 columns]"
            ]
          },
          "metadata": {
            "tags": []
          },
          "execution_count": 131
        }
      ]
    },
    {
      "cell_type": "code",
      "metadata": {
        "colab": {
          "base_uri": "https://localhost:8080/",
          "height": 269
        },
        "id": "8QtiGW0qensO",
        "outputId": "fa2b4a50-51d2-4e14-e755-4433f80b4a0c"
      },
      "source": [
        "korelacja = df.corr()\r\n",
        "korelacja"
      ],
      "execution_count": null,
      "outputs": [
        {
          "output_type": "execute_result",
          "data": {
            "text/html": [
              "<div>\n",
              "<style scoped>\n",
              "    .dataframe tbody tr th:only-of-type {\n",
              "        vertical-align: middle;\n",
              "    }\n",
              "\n",
              "    .dataframe tbody tr th {\n",
              "        vertical-align: top;\n",
              "    }\n",
              "\n",
              "    .dataframe thead th {\n",
              "        text-align: right;\n",
              "    }\n",
              "</style>\n",
              "<table border=\"1\" class=\"dataframe\">\n",
              "  <thead>\n",
              "    <tr style=\"text-align: right;\">\n",
              "      <th></th>\n",
              "      <th>total</th>\n",
              "      <th>speeding</th>\n",
              "      <th>alcohol</th>\n",
              "      <th>not_distracted</th>\n",
              "      <th>no_previous</th>\n",
              "      <th>ins_premium</th>\n",
              "      <th>ins_losses</th>\n",
              "    </tr>\n",
              "  </thead>\n",
              "  <tbody>\n",
              "    <tr>\n",
              "      <th>total</th>\n",
              "      <td>1.000000</td>\n",
              "      <td>0.611548</td>\n",
              "      <td>0.852613</td>\n",
              "      <td>0.827560</td>\n",
              "      <td>0.956179</td>\n",
              "      <td>-0.199702</td>\n",
              "      <td>-0.036011</td>\n",
              "    </tr>\n",
              "    <tr>\n",
              "      <th>speeding</th>\n",
              "      <td>0.611548</td>\n",
              "      <td>1.000000</td>\n",
              "      <td>0.669719</td>\n",
              "      <td>0.588010</td>\n",
              "      <td>0.571976</td>\n",
              "      <td>-0.077675</td>\n",
              "      <td>-0.065928</td>\n",
              "    </tr>\n",
              "    <tr>\n",
              "      <th>alcohol</th>\n",
              "      <td>0.852613</td>\n",
              "      <td>0.669719</td>\n",
              "      <td>1.000000</td>\n",
              "      <td>0.732816</td>\n",
              "      <td>0.783520</td>\n",
              "      <td>-0.170612</td>\n",
              "      <td>-0.112547</td>\n",
              "    </tr>\n",
              "    <tr>\n",
              "      <th>not_distracted</th>\n",
              "      <td>0.827560</td>\n",
              "      <td>0.588010</td>\n",
              "      <td>0.732816</td>\n",
              "      <td>1.000000</td>\n",
              "      <td>0.747307</td>\n",
              "      <td>-0.174856</td>\n",
              "      <td>-0.075970</td>\n",
              "    </tr>\n",
              "    <tr>\n",
              "      <th>no_previous</th>\n",
              "      <td>0.956179</td>\n",
              "      <td>0.571976</td>\n",
              "      <td>0.783520</td>\n",
              "      <td>0.747307</td>\n",
              "      <td>1.000000</td>\n",
              "      <td>-0.156895</td>\n",
              "      <td>-0.006359</td>\n",
              "    </tr>\n",
              "    <tr>\n",
              "      <th>ins_premium</th>\n",
              "      <td>-0.199702</td>\n",
              "      <td>-0.077675</td>\n",
              "      <td>-0.170612</td>\n",
              "      <td>-0.174856</td>\n",
              "      <td>-0.156895</td>\n",
              "      <td>1.000000</td>\n",
              "      <td>0.623116</td>\n",
              "    </tr>\n",
              "    <tr>\n",
              "      <th>ins_losses</th>\n",
              "      <td>-0.036011</td>\n",
              "      <td>-0.065928</td>\n",
              "      <td>-0.112547</td>\n",
              "      <td>-0.075970</td>\n",
              "      <td>-0.006359</td>\n",
              "      <td>0.623116</td>\n",
              "      <td>1.000000</td>\n",
              "    </tr>\n",
              "  </tbody>\n",
              "</table>\n",
              "</div>"
            ],
            "text/plain": [
              "                   total  speeding  ...  ins_premium  ins_losses\n",
              "total           1.000000  0.611548  ...    -0.199702   -0.036011\n",
              "speeding        0.611548  1.000000  ...    -0.077675   -0.065928\n",
              "alcohol         0.852613  0.669719  ...    -0.170612   -0.112547\n",
              "not_distracted  0.827560  0.588010  ...    -0.174856   -0.075970\n",
              "no_previous     0.956179  0.571976  ...    -0.156895   -0.006359\n",
              "ins_premium    -0.199702 -0.077675  ...     1.000000    0.623116\n",
              "ins_losses     -0.036011 -0.065928  ...     0.623116    1.000000\n",
              "\n",
              "[7 rows x 7 columns]"
            ]
          },
          "metadata": {
            "tags": []
          },
          "execution_count": 135
        }
      ]
    },
    {
      "cell_type": "code",
      "metadata": {
        "colab": {
          "base_uri": "https://localhost:8080/",
          "height": 349
        },
        "id": "E7vtlHzygLEY",
        "outputId": "92adea5f-7cd1-4ba9-c1bb-8766223393c3"
      },
      "source": [
        "sns.heatmap(korelacja, annot= True)"
      ],
      "execution_count": null,
      "outputs": [
        {
          "output_type": "execute_result",
          "data": {
            "text/plain": [
              "<matplotlib.axes._subplots.AxesSubplot at 0x7f6c88d1cac8>"
            ]
          },
          "metadata": {
            "tags": []
          },
          "execution_count": 141
        },
        {
          "output_type": "display_data",
          "data": {
            "image/png": "[encoded data removed]",
            "text/plain": [
              "<Figure size 432x288 with 2 Axes>"
            ]
          },
          "metadata": {
            "tags": [],
            "needs_background": "light"
          }
        }
      ]
    },
    {
      "cell_type": "code",
      "metadata": {
        "colab": {
          "base_uri": "https://localhost:8080/"
        },
        "id": "GaeHARkMhJUy",
        "outputId": "955a3104-b615-4392-fd89-ec8bbe19c44b"
      },
      "source": [
        "kolumny = korelacja.nlargest(5,\"speeding\")['speeding'].index\r\n",
        "kolumny"
      ],
      "execution_count": null,
      "outputs": [
        {
          "output_type": "execute_result",
          "data": {
            "text/plain": [
              "Index(['speeding', 'alcohol', 'total', 'not_distracted', 'no_previous'], dtype='object')"
            ]
          },
          "metadata": {
            "tags": []
          },
          "execution_count": 182
        }
      ]
    },
    {
      "cell_type": "code",
      "metadata": {
        "colab": {
          "base_uri": "https://localhost:8080/",
          "height": 143
        },
        "id": "OluNLZUCwR5z",
        "outputId": "5aaab3f9-6bc6-4aa9-c7ac-8f03d9a5d3e4"
      },
      "source": [
        "df[kolumny].head(3)"
      ],
      "execution_count": null,
      "outputs": [
        {
          "output_type": "execute_result",
          "data": {
            "text/html": [
              "<div>\n",
              "<style scoped>\n",
              "    .dataframe tbody tr th:only-of-type {\n",
              "        vertical-align: middle;\n",
              "    }\n",
              "\n",
              "    .dataframe tbody tr th {\n",
              "        vertical-align: top;\n",
              "    }\n",
              "\n",
              "    .dataframe thead th {\n",
              "        text-align: right;\n",
              "    }\n",
              "</style>\n",
              "<table border=\"1\" class=\"dataframe\">\n",
              "  <thead>\n",
              "    <tr style=\"text-align: right;\">\n",
              "      <th></th>\n",
              "      <th>speeding</th>\n",
              "      <th>alcohol</th>\n",
              "      <th>total</th>\n",
              "      <th>not_distracted</th>\n",
              "      <th>no_previous</th>\n",
              "    </tr>\n",
              "  </thead>\n",
              "  <tbody>\n",
              "    <tr>\n",
              "      <th>0</th>\n",
              "      <td>7.332</td>\n",
              "      <td>5.640</td>\n",
              "      <td>18.8</td>\n",
              "      <td>18.048</td>\n",
              "      <td>15.040</td>\n",
              "    </tr>\n",
              "    <tr>\n",
              "      <th>1</th>\n",
              "      <td>7.421</td>\n",
              "      <td>4.525</td>\n",
              "      <td>18.1</td>\n",
              "      <td>16.290</td>\n",
              "      <td>17.014</td>\n",
              "    </tr>\n",
              "    <tr>\n",
              "      <th>2</th>\n",
              "      <td>6.510</td>\n",
              "      <td>5.208</td>\n",
              "      <td>18.6</td>\n",
              "      <td>15.624</td>\n",
              "      <td>17.856</td>\n",
              "    </tr>\n",
              "  </tbody>\n",
              "</table>\n",
              "</div>"
            ],
            "text/plain": [
              "   speeding  alcohol  total  not_distracted  no_previous\n",
              "0     7.332    5.640   18.8          18.048       15.040\n",
              "1     7.421    4.525   18.1          16.290       17.014\n",
              "2     6.510    5.208   18.6          15.624       17.856"
            ]
          },
          "metadata": {
            "tags": []
          },
          "execution_count": 184
        }
      ]
    },
    {
      "cell_type": "code",
      "metadata": {
        "colab": {
          "base_uri": "https://localhost:8080/"
        },
        "id": "1w8nxZcEsiO4",
        "outputId": "11c0e785-4ac9-437b-983d-377b3d6f06a1"
      },
      "source": [
        "mapakor = np.corrcoef(df[kolumny].values.T)\r\n",
        "mapakor"
      ],
      "execution_count": null,
      "outputs": [
        {
          "output_type": "execute_result",
          "data": {
            "text/plain": [
              "array([[1.        , 0.66971856, 0.6115476 , 0.5880104 , 0.57197553],\n",
              "       [0.66971856, 1.        , 0.85261322, 0.73281638, 0.78351995],\n",
              "       [0.6115476 , 0.85261322, 1.        , 0.82756035, 0.95617917],\n",
              "       [0.5880104 , 0.73281638, 0.82756035, 1.        , 0.74730654],\n",
              "       [0.57197553, 0.78351995, 0.95617917, 0.74730654, 1.        ]])"
            ]
          },
          "metadata": {
            "tags": []
          },
          "execution_count": 181
        }
      ]
    },
    {
      "cell_type": "code",
      "metadata": {
        "colab": {
          "base_uri": "https://localhost:8080/",
          "height": 342
        },
        "id": "0E6uMOq0wOFU",
        "outputId": "6f8f8fb1-23f9-40e4-df2d-a79cdbd3d0b7"
      },
      "source": [
        "sns.heatmap(mapakor, annot= True, xticklabels = kolumny, yticklabels = kolumny)"
      ],
      "execution_count": null,
      "outputs": [
        {
          "output_type": "execute_result",
          "data": {
            "text/plain": [
              "<matplotlib.axes._subplots.AxesSubplot at 0x7f6c885bbef0>"
            ]
          },
          "metadata": {
            "tags": []
          },
          "execution_count": 186
        },
        {
          "output_type": "display_data",
          "data": {
            "image/png": "[encoded data removed]",
            "text/plain": [
              "<Figure size 432x288 with 2 Axes>"
            ]
          },
          "metadata": {
            "tags": []
          }
        }
      ]
    },
    {
      "cell_type": "markdown",
      "metadata": {
        "id": "gwDux0tmPXaj"
      },
      "source": [
        "##Podpowiedzi\n"
      ]
    },
    {
      "cell_type": "code",
      "metadata": {
        "id": "8JkZXE2jPZR9"
      },
      "source": [
        "import pandas as pd\n",
        "import seaborn as sns\n",
        "import numpy as np\n",
        "\n",
        "#aby załadować dataset wykorzystaj funkcję sns.load_dataset(\"nazwa_datasetu\")\n",
        "#aby stworzyć heatmapę korelacji wykorzystaj funkcję sns.heatmap(), gdzie jako argument możesz podać macierz korelacji\n",
        "#aby wybrać kolumny z najwyższą korelacją wg. wybranej kolumny wykorzystaj funkcję .nlargest(ilosc_kolumn, 'nazwa_kolumny')['nazwa_kolumny'].index"
      ],
      "execution_count": null,
      "outputs": []
    },
    {
      "cell_type": "markdown",
      "metadata": {
        "id": "CjOoKj7BQafT"
      },
      "source": [
        "##Podpowiedzi + rozwiązanie\n"
      ]
    },
    {
      "cell_type": "code",
      "metadata": {
        "id": "shuORwtAQczR",
        "colab": {
          "base_uri": "https://localhost:8080/",
          "height": 324
        },
        "outputId": "c7fd81d5-8006-4a88-ea1a-917a3bd0c6f4"
      },
      "source": [
        "import pandas as pd\n",
        "import seaborn as sns\n",
        "import numpy as np\n",
        "import matplotlib.pyplot as plt\n",
        "\n",
        "#aby stworzyć heatmapę korelacji wykorzystaj funkcję sns.heatmap(), gdzie jako argument możesz podać macierz korelacji\n",
        "#aby wybrać kolumny z najwyższą korelacją wg. wybranej kolumny wykorzystaj funkcję .nlargest(ilosc_kolumn, 'nazwa_kolumny')['nazwa_kolumny'].index\n",
        "\n",
        "df = sns.load_dataset(\"car_crashes\")\n",
        "\n",
        "#tworzenie macierzy korelacji (wartości bezwzględne)\n",
        "corrmat = abs(df.corr())\n",
        "#skalowanie rozmiaru czcionki\n",
        "sns.set(font_scale = 0.8)\n",
        "#tworzenie podstawowej heatmapy\n",
        "sns.heatmap(corrmat, vmax=1, square=True, annot = True); "
      ],
      "execution_count": null,
      "outputs": [
        {
          "output_type": "display_data",
          "data": {
            "image/png": "[encoded data removed]",
            "text/plain": [
              "<Figure size 432x288 with 2 Axes>"
            ]
          },
          "metadata": {
            "tags": []
          }
        }
      ]
    },
    {
      "cell_type": "code",
      "metadata": {
        "colab": {
          "base_uri": "https://localhost:8080/"
        },
        "id": "wOoLD8E-sEct",
        "outputId": "ab900b58-1a4d-4d86-a06d-664e0ce43a8f"
      },
      "source": [
        "cols = corrmat.nlargest(k, 'speeding')['speeding'].index\r\n",
        "cols"
      ],
      "execution_count": null,
      "outputs": [
        {
          "output_type": "execute_result",
          "data": {
            "text/plain": [
              "Index(['speeding', 'alcohol', 'total', 'not_distracted', 'no_previous'], dtype='object')"
            ]
          },
          "metadata": {
            "tags": []
          },
          "execution_count": 165
        }
      ]
    },
    {
      "cell_type": "code",
      "metadata": {
        "colab": {
          "base_uri": "https://localhost:8080/",
          "height": 362
        },
        "id": "LZQyL3DDWeOD",
        "outputId": "bee5c4e0-2d83-45cc-bf5f-5996dd28fed2"
      },
      "source": [
        "#Druga matryca korelacji\r\n",
        "k = 5 #numer zmiennych w heatmapie\r\n",
        "cols = corrmat.nlargest(k, 'speeding')['speeding'].index\r\n",
        "cm = np.corrcoef(df[cols].values.T)\r\n",
        "sns.set(font_scale=1.25)\r\n",
        "hm = sns.heatmap(cm, cbar=True, annot=True, square=True, fmt='.2f', annot_kws={'size': 10}, yticklabels=cols.values, xticklabels=cols.values)\r\n",
        "plt.show()"
      ],
      "execution_count": null,
      "outputs": [
        {
          "output_type": "display_data",
          "data": {
            "image/png": "[encoded data removed]",
            "text/plain": [
              "<Figure size 432x288 with 2 Axes>"
            ]
          },
          "metadata": {
            "tags": []
          }
        }
      ]
    },
    {
      "cell_type": "markdown",
      "metadata": {
        "id": "63ZsxNUT-kGW"
      },
      "source": [
        "#Zadanie 6\n"
      ]
    },
    {
      "cell_type": "markdown",
      "metadata": {
        "id": "EG_VF5gE-kGW"
      },
      "source": [
        "Zasymuluj eksperyment sprawdzający prawdopodobieństwo zdarzenia, że :\n",
        "\n",
        "1. Posiadając dwójkę dzieci, obydwoje dzieci są płci żeńskiej i starsze dziecko jest dziewczynką.\n",
        "2. Posiadając dwójkę dzieci, obydwoje dzieci są płci żeńskiej i przynajmniej jedno z nich jest dziewczynką.\n",
        "\n",
        "Porównaj wyniki i przemyśl, skąd wzięła się różnica.\n",
        "\n",
        "Wykorzystaj moduły random (do losowania) i enum. Enum to zbiór wartości typu enumerated. Sprawi, że kod będzie bardziej czytelny."
      ]
    },
    {
      "cell_type": "code",
      "metadata": {
        "id": "9EZZ3p7V-kGW",
        "colab": {
          "base_uri": "https://localhost:8080/"
        },
        "outputId": "c0e3a122-7190-433e-c9eb-743d0ee450ec"
      },
      "source": [
        "import random, enum\n",
        "#enum.Enum to klasa w Pythonie stosowana do tworzenia enumeracji, które są zestawem części przypisanych do unikalnych, stałych wartości\n",
        "#Wewnątrz enumeracji, te części mogą być porównywane ze sobą, a cała enumeracja umożliwia iterację po składowych.\n",
        "\n",
        "class Dziecko(enum.Enum):\n",
        "  chlopak = 0\n",
        "  dziewczyna = 1\n",
        "\n",
        "def losuj_plec() -> Dziecko:\n",
        "  return random.choice([Dziecko.chlopak, Dziecko.dziewczyna])\n",
        "\n",
        "dwie_dziewczynki = 0\n",
        "jedna_dziewczynka = 0\n",
        "starsza_dziewczyna = 0\n",
        "\n",
        "random.seed(2020) #seed podany\n",
        "\n",
        "for n in range(1000):  \n",
        "  starsze = losuj_plec()\n",
        "  mlodsze = losuj_plec()\n",
        "\n",
        "  if starsze.name  == 'dziewczyna':\n",
        "    starsza_dziewczyna += 1\n",
        "  if starsze.name == 'dziewczyna' and mlodsze.name == 'dziewczyna':\n",
        "    dwie_dziewczynki +=1\n",
        "  if mlodsze.name == 'dziewczyna':\n",
        "    jedna_dziewczynka += 1\n",
        "\n",
        "print(f\"dwie: {dwie_dziewczynki}\")\n",
        "print(f\"starsza: {starsza_dziewczyna}\")\n",
        "print(f\"jedna: {jedna_dziewczynka}\")"
      ],
      "execution_count": null,
      "outputs": [
        {
          "output_type": "stream",
          "text": [
            "dwie: 243\n",
            "starsza: 502\n",
            "jedna: 499\n"
          ],
          "name": "stdout"
        }
      ]
    },
    {
      "cell_type": "code",
      "metadata": {
        "colab": {
          "base_uri": "https://localhost:8080/"
        },
        "id": "7bZWL-8oZbEr",
        "outputId": "d32097f4-b3ab-468c-aa92-54626bada9cf"
      },
      "source": [
        "dwie_dziewczynki/starsza_dziewczyna"
      ],
      "execution_count": null,
      "outputs": [
        {
          "output_type": "execute_result",
          "data": {
            "text/plain": [
              "0.48406374501992033"
            ]
          },
          "metadata": {
            "tags": []
          },
          "execution_count": 55
        }
      ]
    },
    {
      "cell_type": "code",
      "metadata": {
        "colab": {
          "base_uri": "https://localhost:8080/"
        },
        "id": "tMDU2FaQZgMB",
        "outputId": "870a52dd-702e-425c-b348-cca0099094b1"
      },
      "source": [
        "dwie_dziewczynki/jedna_dziewczynka"
      ],
      "execution_count": null,
      "outputs": [
        {
          "output_type": "execute_result",
          "data": {
            "text/plain": [
              "0.48697394789579157"
            ]
          },
          "metadata": {
            "tags": []
          },
          "execution_count": 56
        }
      ]
    },
    {
      "cell_type": "code",
      "metadata": {
        "colab": {
          "base_uri": "https://localhost:8080/",
          "height": 36
        },
        "id": "CiPqGFhxYhVF",
        "outputId": "ae97f741-002b-4fde-e772-56e8bb9db461"
      },
      "source": [
        "mlodsze = losuj_plec()\r\n",
        "mlodsze.name"
      ],
      "execution_count": null,
      "outputs": [
        {
          "output_type": "execute_result",
          "data": {
            "application/vnd.google.colaboratory.intrinsic+json": {
              "type": "string"
            },
            "text/plain": [
              "'dziewczyna'"
            ]
          },
          "metadata": {
            "tags": []
          },
          "execution_count": 44
        }
      ]
    },
    {
      "cell_type": "markdown",
      "metadata": {
        "id": "YYBO21UuJO46"
      },
      "source": [
        "##Podpowiedzi"
      ]
    },
    {
      "cell_type": "markdown",
      "metadata": {
        "id": "qaTi6OjXZvgn"
      },
      "source": [
        "Różnica wynika z założeń, że:\r\n",
        "1. Prawdopodobieństwo, że dziecko będzie chłopcem jest równe prawdopodobieństwu, że będzie dziewczynką\r\n",
        "2. Płeć drugiego dziecka nie zależy od płci pierwszego dziecka\r\n",
        "\r\n",
        "Wówczas prawdopodobieństwo zdarzenia, polegającego na tym, że żadne z dzieci nie jest dziewczynką wynosi 1/4, prawdopodobieństwo, \r\n",
        "że jedno jest dziewczynką wynosi 1/4, a prawdopodobieństwo, że obie to dziewczynki wynosi 1/4.\r\n",
        "\r\n",
        "Teraz można policzyć, że prawdopodobieństwo tego, że obydwoje dzieci są płci żeńskiej (Zdarzenie D), pod warunkiem, \r\n",
        "że starsze dziecko jest dziewczynką (Zdarzenie S) można policzyć ze wzoru:\r\n",
        "\r\n",
        "\r\n",
        ">>P(D) = 1/4\r\n",
        "\r\n",
        ">>P(S) = 1/2 (bo albo będzie dziewczynką albo chłopcem)\r\n",
        "\r\n",
        ">>P(D/S) = P((D i S)/P(S)) = P(D)/P(S)= (1/4)/(1/2) = 1/2\r\n",
        "\r\n",
        "Jest to dość intuicyjne.\r\n",
        "\r\n",
        "Próbując określić prawdopodobieństwo zdarzenia D oraz J (\"Obydwoje dzieci są płci żeńskiej i przynajmniej jedno jest płci żeńskiej\"),\r\n",
        "Można zastosować wzór;\r\n",
        "\r\n",
        "\r\n",
        ">>P(D/J) = P((D i J)/P(J) = P(D)/P(J) = (1/4)/(3/4) = 1/3\r\n",
        "\r\n",
        "\r\n",
        "P(J) - prawdopodobieństwo, że minimum jedno dziecko jest dziewczynką.\r\n",
        "P(J) = 3/4 (Wynika to ze wzoru, gdzie sumuje się prawdopodobieństwo 1/2, że jedno dziecko jest dziewczynką + prawdopodobieństwo 1/4, że obydwoje dzieci to dziewczynki)\r\n",
        "\r\n",
        "\r\n",
        "\r\n",
        "\r\n",
        ">Jak to możliwe?\r\n",
        "\r\n",
        ">Jeśli wiemy, że jedno dziecko jest płci żeńskiej, to prawdopodobieństwo tego, że jedno dziecko jest chłopcem a drugie dziewczynką jest 2x większe od \r\n",
        "tego, że obydwoje dzieci to dziewczynki. Podobne zagadnienie jest opowiedziane w jednej ze scen filmu \"21\" z Kevinem Spacey.\r\n",
        "Link : https://www.youtube.com/watch?v=iBdjqtR2iK4\r\n"
      ]
    },
    {
      "cell_type": "code",
      "metadata": {
        "id": "rJTKswt3JVQz"
      },
      "source": [
        "import random, enum\n",
        "\n",
        "#enum.Enum to klasa w Pythonie stosowana do tworzenia enumeracji, które są zestawem części przypisanych do unikalnych, stałych wartości\n",
        "#Wewnątrz enumeracji, te części mogą być porównywane ze sobą, a cała enumeracja umożliwia iterację po składowych\n",
        "class Dziecko(enum.Enum):\n",
        "  CHLOPIEC = 0\n",
        "  DZIEWCZYNKA = 1\n",
        "\n",
        "def losuj_plec() -> Dziecko:\n",
        "  return random.choice([Dziecko.CHLOPIEC, Dziecko.DZIEWCZYNKA])\n",
        "\n",
        "#warto stworzyć pętlę for, która wykona znaczną ilość powtórzeń - na przykład 10000. \n",
        "#warunki logiczne w pętli są dość proste \n",
        "#jeśli starsze dziecko to dziewczynka, zwiększ licznik starsza_dziewczynka o 1\n",
        "#jeśli starsze dziecko to dziewczynka i młodsze to dziewczynka (tj. obie dziewczynki), zwiększ licznik obie_dziewczynki o 1\n",
        "#jeśli starsze dziecko to dziewczynka lub młodsze dziecko to dziewczynka, zwiększ licznik jedna_dziewczynka o 1\n"
      ],
      "execution_count": null,
      "outputs": []
    },
    {
      "cell_type": "markdown",
      "metadata": {
        "id": "g8YFAxS7JWXO"
      },
      "source": [
        "##Podpowiedzi + rozwiązanie"
      ]
    },
    {
      "cell_type": "markdown",
      "metadata": {
        "id": "3qIWFD1C2Iht"
      },
      "source": [
        "Różnica wynika z założeń, że:\r\n",
        "1. Prawdopodobieństwo, że dziecko będzie chłopcem jest równe prawdopodobieństwu, że będzie dziewczynką\r\n",
        "2. Płeć drugiego dziecka nie zależy od płci pierwszego dziecka\r\n",
        "\r\n",
        "Wówczas prawdopodobieństwo zdarzenia, polegającego na tym, że żadne z dzieci nie jest dziewczynką wynosi 1/4, prawdopodobieństwo, \r\n",
        "że jedno jest dziewczynką wynosi 1/4, a prawdopodobieństwo, że obie to dziewczynki wynosi 1/4.\r\n",
        "\r\n",
        "Teraz można policzyć, że prawdopodobieństwo tego, że obydwoje dzieci są płci żeńskiej (Zdarzenie D), pod warunkiem, \r\n",
        "że starsze dziecko jest dziewczynką (Zdarzenie S) można policzyć ze wzoru:\r\n",
        "\r\n",
        "\r\n",
        ">>P(D) = 1/4\r\n",
        "\r\n",
        ">>P(S) = 1/2 (bo albo będzie dziewczynką albo chłopcem)\r\n",
        "\r\n",
        ">>P(D/S) = P((D i S)/P(S)) = P(D)/P(S)= (1/4)/(1/2) = 1/2\r\n",
        "\r\n",
        "Jest to dość intuicyjne.\r\n",
        "\r\n",
        "Próbując określić prawdopodobieństwo zdarzenia D oraz J (\"Obydwoje dzieci są płci żeńskiej i przynajmniej jedno jest płci żeńskiej\"),\r\n",
        "Można zastosować wzór;\r\n",
        "\r\n",
        "\r\n",
        ">>P(D/J) = P((D i J)/P(J) = P(D)/P(J) = (1/4)/(3/4) = 1/3\r\n",
        "\r\n",
        "\r\n",
        "P(J) - prawdopodobieństwo, że minimum jedno dziecko jest dziewczynką.\r\n",
        "P(J) = 3/4 (Wynika to ze wzoru, gdzie sumuje się prawdopodobieństwo 1/2, że jedno dziecko jest dziewczynką + prawdopodobieństwo 1/4, że obydwoje dzieci to dziewczynki)\r\n",
        "\r\n",
        "\r\n",
        "\r\n",
        "\r\n",
        ">Jak to możliwe?\r\n",
        "\r\n",
        ">Jeśli wiemy, że jedno dziecko jest płci żeńskiej, to prawdopodobieństwo tego, że jedno dziecko jest chłopcem a drugie dziewczynką jest 2x większe od \r\n",
        "tego, że obydwoje dzieci to dziewczynki. Podobne zagadnienie jest opowiedziane w jednej ze scen filmu \"21\" z Kevinem Spacey.\r\n",
        "Link : https://www.youtube.com/watch?v=iBdjqtR2iK4\r\n"
      ]
    },
    {
      "cell_type": "code",
      "metadata": {
        "id": "fB3EZc3JJYYB",
        "colab": {
          "base_uri": "https://localhost:8080/"
        },
        "outputId": "88e58a56-f4f9-4d57-f654-2fcf700f7e88"
      },
      "source": [
        "import random, enum\n",
        "\n",
        "#enum.Enum to klasa w Pythonie stosowana do tworzenia enumeracji, które są zestawem części przypisanych do unikalnych, stałych wartości\n",
        "#Wewnątrz enumeracji, te części mogą być porównywane ze sobą, a cała enumeracja umożliwia iterację po składowych.\n",
        "\n",
        "class Dziecko(enum.Enum):\n",
        "  CHLOPIEC = 0\n",
        "  DZIEWCZYNKA = 1\n",
        "\n",
        "def losuj_plec() -> Dziecko:\n",
        "  return random.choice([Dziecko.CHLOPIEC, Dziecko.DZIEWCZYNKA])\n",
        "\n",
        "obie_dziewczynki = 0\n",
        "starsza_dziewczynka = 0\n",
        "jedna_dziewczynka = 0 \n",
        "\n",
        "random.seed(2020)\n",
        "\n",
        "#warto stworzyć pętlę for, która wykona znaczną ilość powtórzeń - na przykład 10000. \n",
        "#warunki logiczne w pętli są dość proste \n",
        "#jeśli starsze dziecko to dziewczynka, zwiększ licznik starsza_dziewczynka o 1\n",
        "#jeśli starsze dziecko to dziewczynka i młodsze to dziewczynka (tj. obie dziewczynki), zwiększ licznik obie_dziewczynki o 1\n",
        "#jeśli starsze dziecko to dziewczynka lub młodsze dziecko to dziewczynka, zwiększ licznik jedna_dziewczynka o 1\n",
        "for x in range(10000):\n",
        "  mlodsze=losuj_plec()\n",
        "  starsze=losuj_plec()\n",
        "  if starsze == Dziecko.DZIEWCZYNKA:\n",
        "    starsza_dziewczynka += 1\n",
        "  if starsze == Dziecko.DZIEWCZYNKA and mlodsze == Dziecko.DZIEWCZYNKA:\n",
        "    obie_dziewczynki += 1\n",
        "  if starsze == Dziecko.DZIEWCZYNKA or mlodsze == Dziecko.DZIEWCZYNKA:\n",
        "    jedna_dziewczynka += 1\n",
        "\n",
        "print(\"Prawdopodobieństwo obydwie to dziewczynki i starsze dziecko to dziewczynka wynosi: \", obie_dziewczynki/starsza_dziewczynka) #około 1/2\n",
        "print(\"Prawdopodobieństwo obydwie to dziewczynki i jedna z nich to dziewczynka wynosi: \", obie_dziewczynki/jedna_dziewczynka) #około 1/3"
      ],
      "execution_count": null,
      "outputs": [
        {
          "output_type": "stream",
          "text": [
            "Prawdopodobieństwo obydwie to dziewczynki i starsze dziecko to dziewczynka wynosi:  0.49134672767057885\n",
            "Prawdopodobieństwo obydwie to dziewczynki i jedna z nich to dziewczynka wynosi:  0.3270223752151463\n"
          ],
          "name": "stdout"
        }
      ]
    },
    {
      "cell_type": "markdown",
      "metadata": {
        "id": "iBjoEjZqJHK_"
      },
      "source": [
        "#Zadanie 7\n"
      ]
    },
    {
      "cell_type": "markdown",
      "metadata": {
        "id": "oSA1UroqJaJ1"
      },
      "source": [
        "Rozkład normalny.\n",
        "Wzór na funkcję z rozkładem normalnym można znaleźć tutaj:\n",
        "https://pl.wikipedia.org/wiki/Rozk%C5%82ad_normalny\n",
        "\n",
        "1. Napisz funkcję w Python, która zaimplementuje ten wzór matematyczny. Funkcja ta musi przyjmować 3 argumenty - x jako float, mi jako float z domyślną wartością 0 oraz sigma jako float z domyślną wartością 1, i zwracać wartość typu float.\n",
        "\n",
        "2. Stwórz wykres za pomocą matplotlib.pyplot na którym pokażesz co najmniej 4 rozkłady normalne różniące się parametrami mi raz sigma.\n",
        "\n",
        "Aby wywołać działanie matematyczne \"*exp*\" wykorzystaj funkcję *math.exp()*. Funkcję *math.sqrt()* już znasz.\n"
      ]
    },
    {
      "cell_type": "code",
      "metadata": {
        "id": "WZ2FcmjTJLY5"
      },
      "source": [
        "import math\n",
        "import matplotlib.pyplot as plt\n",
        "#W tym wzorze odchylenie standardowe określa się jako sigma a jego średnią jako mi\n",
        "\n",
        "funkcja =  1/math."
      ],
      "execution_count": null,
      "outputs": []
    },
    {
      "cell_type": "markdown",
      "metadata": {
        "id": "YtFCOT4h-tv0"
      },
      "source": [
        "##Podpowiedzi"
      ]
    },
    {
      "cell_type": "code",
      "metadata": {
        "id": "zvrCrwZf-tv1"
      },
      "source": [
        "import math\n",
        "import matplotlib.pyplot as plt\n",
        "\n",
        "#stwórz obiekt pierwiastek_2pi = wykorzystaj do tego funkcje math.sqrt oraz math.pi\n",
        "#pierwiastek_2pi = math.sqrt(2*math.pi)\n",
        "#najtrudniejszym elementem zadania jest odpowiedni zapis funkcji\n",
        "#aby zapisać exp(a-b), czyli e do potęgi (a-b), wykorzystaj funkcję math.exp(a-b)\n",
        "#zapis działania funkcji:\n",
        "#(math.exp(-(x-mi) ** 2 /(2 * sigma**2)) / (pierwiastek_2pi * sigma))\n",
        "#W tym wzorze odchylenie standardowe określa się jako sigma a jego średnią jako mi\n",
        "#kolejny krok - tworzenie listy punktów za pomocą pętli for. Warto stworzyć je z większą rozdzielczością.\n",
        "#Stwórz np 100 punktów od -5 do 5.\n",
        "#Zwizualizuj i obserwuj zależności.\n"
      ],
      "execution_count": null,
      "outputs": []
    },
    {
      "cell_type": "markdown",
      "metadata": {
        "id": "tto3Jn7Y-tv1"
      },
      "source": [
        "##Podpowiedzi + rozwiązanie"
      ]
    },
    {
      "cell_type": "code",
      "metadata": {
        "colab": {
          "base_uri": "https://localhost:8080/",
          "height": 607
        },
        "id": "f2PmPRTc-tv1",
        "outputId": "42a8c505-d0cf-4b6d-a628-e82d581c1f7f"
      },
      "source": [
        "import math\n",
        "import matplotlib.pyplot as plt\n",
        "import numpy as np\n",
        "\n",
        "#stwórz obiekt pierwiastek_2pi = wykorzystaj do tego funkcje math.sqrt oraz math.pi\n",
        "pierwiastek_2pi = math.sqrt(2*math.pi)\n",
        "\n",
        "#najtrudniejszym elementem zadania jest odpowiedni zapis funkcji\n",
        "#aby zapisać exp(a-b), czyli e do potęgi (a-b), wykorzystaj funkcję math.exp(a-b)\n",
        "def rozklad_normalny(x: float, mi : float =0, sigma: float =1) -> float:\n",
        "  return (math.exp(-(x-mi) ** 2 /(2 * sigma ** 2)) / (pierwiastek_2pi * sigma))\n",
        "\n",
        "#W tym wzorze odchylenie standardowe określa się jako sigma a jego średnią jako mi\n",
        "#tworzenie listy punktów za pomocą pętli for. Warto stworzyć je z większą rozdzielczością.\n",
        "#Stwórz np 100 punktów od -5 do 5.\n",
        "#Zwizualizuj i obserwuj zależności.\n",
        "xs = np.linspace(-5, 5, 100)\n",
        "plt.figure(figsize=(20,10))\n",
        "plt.plot(xs, [rozklad_normalny(x, sigma = 1) for x in xs], \"-\", label= \"mi=0, sigma=1\")\n",
        "plt.plot(xs, [rozklad_normalny(x, sigma = 2) for x in xs], \"--\", label= \"mi=0, sigma=2\")\n",
        "plt.plot(xs, [rozklad_normalny(x, mi = -1,sigma = 0.5) for x in xs], \":\", label= \"mi=-1, sigma=1\")\n",
        "plt.plot(xs, [rozklad_normalny(x, mi = -1) for x in xs], \"-.\", label= \"mi=-1, sigma=1\")\n",
        "plt.legend()\n",
        "plt.title(\"Wykresy różnych rozkładów normalnych\")\n",
        "plt.show()"
      ],
      "execution_count": null,
      "outputs": [
        {
          "output_type": "display_data",
          "data": {
            "image/png": "[encoded data removed]",
            "text/plain": [
              "<Figure size 1440x720 with 1 Axes>"
            ]
          },
          "metadata": {
            "tags": []
          }
        }
      ]
    },
    {
      "cell_type": "markdown",
      "metadata": {
        "id": "QVRWmO94CRRr"
      },
      "source": [
        "#Zadanie 8\n"
      ]
    },
    {
      "cell_type": "markdown",
      "metadata": {
        "id": "GrbuyyoZCRRs"
      },
      "source": [
        "Napisz funkcję symulującą rzut monetą (przyjmującą jako argument ilość prób) i zwracającą ilość wyrzuconych orłów i reszek oraz % orłów i %reszek w całości prób."
      ]
    },
    {
      "cell_type": "code",
      "metadata": {
        "id": "NaRC_MicCRRs"
      },
      "source": [
        "import random\r\n",
        "\r\n",
        "class Moneta(enum.Enum):\r\n",
        "  orzel = 0\r\n",
        "  reszka = 1\r\n",
        "\r\n",
        "random.seed(100)\r\n",
        "\r\n",
        "def rzut(x: int):\r\n",
        "  licznik_orzel = 0\r\n",
        "  licznik_reszka = 0\r\n",
        "\r\n",
        "  for n in range(x):\r\n",
        "    flip = random.choice([Moneta.orzel, Moneta.reszka])\r\n",
        "    if flip.name == 'orzel':\r\n",
        "      licznik_orzel += 1\r\n",
        "    if flip.name == 'reszka':\r\n",
        "      licznik_reszka += 1\r\n",
        "\r\n",
        "  proc_orlow = licznik_orzel/(licznik_orzel + licznik_reszka)\r\n",
        "  proc_reszek = licznik_reszka/(licznik_orzel + licznik_reszka)\r\n",
        "\r\n",
        "  return \"l. orlow: \" + str(licznik_orzel), \"liczba reszek: \" + str(licznik_reszka), \"% orłów: \" + str(proc_orlow), \"%reszek: \" + str(proc_reszek)"
      ],
      "execution_count": null,
      "outputs": []
    },
    {
      "cell_type": "code",
      "metadata": {
        "colab": {
          "base_uri": "https://localhost:8080/"
        },
        "id": "Aefq_phqkwhF",
        "outputId": "dfaf7230-bcf4-4522-bd2f-c6573dcd86d1"
      },
      "source": [
        "rzut(1000)"
      ],
      "execution_count": null,
      "outputs": [
        {
          "output_type": "execute_result",
          "data": {
            "text/plain": [
              "('l. orlow: 515', 'liczba reszek: 485', '% orłów: 0.515', '%reszek: 0.485')"
            ]
          },
          "metadata": {
            "tags": []
          },
          "execution_count": 98
        }
      ]
    },
    {
      "cell_type": "markdown",
      "metadata": {
        "id": "jA6RT3EHCRRs"
      },
      "source": [
        "##Podpowiedzi"
      ]
    },
    {
      "cell_type": "code",
      "metadata": {
        "id": "hVYkTTQOCRRs"
      },
      "source": [
        "import random\n",
        "#do symulacji rzutu wykorzystaj funkcję random.random() - bez podanego argumentu bazowo losuje pomiędzy 0 a 1"
      ],
      "execution_count": null,
      "outputs": []
    },
    {
      "cell_type": "markdown",
      "metadata": {
        "id": "4lQ7KeUGCRRt"
      },
      "source": [
        "##Podpowiedzi + rozwiązanie"
      ]
    },
    {
      "cell_type": "code",
      "metadata": {
        "colab": {
          "base_uri": "https://localhost:8080/"
        },
        "id": "spPGYDjjCRRt",
        "outputId": "9d742d88-f227-4e60-f49b-01bb8f8f8673"
      },
      "source": [
        "import random\n",
        "def rzut_moneta(proby):\n",
        "  orly = 0\n",
        "  reszki = 0\n",
        "  for i in range(proby):\n",
        "    #do symulacji rzutu wykorzystaj funkcję random.random() - bez podanego argumentu bazowo losuje pomiędzy 0 a 1\n",
        "    if random.random() <= 0.5:\n",
        "      orly += 1\n",
        "    else:\n",
        "      reszki += 1\n",
        "  return print(\"Ilość orłów: \", orly, \"Ilość reszek: \", reszki, \"\\nProcentowo orły: \", orly*100/proby, \"%\", \"\\nProcentowo reszki: \", reszki*100/proby, \"%\")\n",
        "\n",
        "rzut_moneta(500)"
      ],
      "execution_count": null,
      "outputs": [
        {
          "output_type": "stream",
          "text": [
            "Ilość orłów:  232 Ilość reszek:  268 \n",
            "Procentowo orły:  46.4 % \n",
            "Procentowo reszki:  53.6 %\n"
          ],
          "name": "stdout"
        }
      ]
    },
    {
      "cell_type": "code",
      "metadata": {
        "id": "uavXDKGp3zwb"
      },
      "source": [
        ""
      ],
      "execution_count": null,
      "outputs": []
    }
  ]
}
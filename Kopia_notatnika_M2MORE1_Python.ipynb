{
  "nbformat": 4,
  "nbformat_minor": 0,
  "metadata": {
    "colab": {
      "name": "Kopia notatnika M2MORE1-Python.ipynb",
      "provenance": [],
      "collapsed_sections": [
        "O4Ni4oos8Kyo",
        "X5svsRlc8V7w",
        "0dG-lOop8z3Q",
        "r75hDuVh_VVL",
        "XTMbJ4iKAA52",
        "SD1CD8YRBtU0",
        "lJ33sgcxEI6c",
        "EUojHss_EYVO",
        "8ELTRoYPFHry",
        "6Udv7WjAHbd5",
        "GVDj07ZKMh7e",
        "xvIdu1NmMmQ5",
        "ZdZuXqnOOrPp",
        "gwDux0tmPXaj",
        "iBjoEjZqJHK_",
        "YYBO21UuJO46",
        "TFX8x0aNN5nc",
        "CQJ3gkUdN75p",
        "apYFKFGvOAj4",
        "r64-AX5oSC5y",
        "gaDYxhC_SC55",
        "ollIx6-XSC59",
        "oif1b95zSFCU",
        "VrnKa4RgSFCb",
        "yQvjyXP6SFCf",
        "fHuoh-08WklT",
        "wsrBaBpBWklg",
        "CUCXm0LUWklm",
        "e1kkY9TcWlUJ",
        "7oGlwbOeWlUQ",
        "ZSeJW8I6WlUU",
        "7gmiNIv8Wwr5",
        "B7WgLT1lWwsF",
        "UpiyMqDSWyzF",
        "-s23LSR9WyzN",
        "RXkw-FS7W1Jz",
        "Z0fVe47HW1J5",
        "gpMuI9PoW1J7",
        "0kxBGF3vW32Y",
        "3g3W8RIsW32c",
        "3pVYW6N2W32f"
      ],
      "toc_visible": true,
      "include_colab_link": true
    },
    "kernelspec": {
      "name": "python3",
      "display_name": "Python 3"
    }
  },
  "cells": [
    {
      "cell_type": "markdown",
      "metadata": {
        "id": "view-in-github",
        "colab_type": "text"
      },
      "source": [
        "<a href=\"https://colab.research.google.com/github/191919201921/Zadania_Domowe_ADS/blob/main/Kopia_notatnika_M2MORE1_Python.ipynb\" target=\"_parent\"><img src=\"https://colab.research.google.com/assets/colab-badge.svg\" alt=\"Open In Colab\"/></a>"
      ]
    },
    {
      "cell_type": "markdown",
      "metadata": {
        "id": "NKvwJ-9J8KMV"
      },
      "source": [
        "**Praktyczne Zadania - Podstawy Python**"
      ]
    },
    {
      "cell_type": "markdown",
      "metadata": {
        "id": "O4Ni4oos8Kyo"
      },
      "source": [
        "# Zadanie 1\n"
      ]
    },
    {
      "cell_type": "markdown",
      "metadata": {
        "id": "_8iNHBPU8Z_A"
      },
      "source": [
        "Napisz funkcję, która przyjmie dwa argumenty. Zwróci ich iloczyn jeśli jest mniejszy niż 500, jeśli nie - zwróci ich sumę."
      ]
    },
    {
      "cell_type": "code",
      "metadata": {
        "id": "JpbWO6CQ8rSc"
      },
      "source": [
        "def iloczyn(x1,x2):\n",
        "  wynik = x1*x2\n",
        "  if wynik < 500:\n",
        "    return wynik\n",
        "  else:\n",
        "    return x1+x2"
      ],
      "execution_count": null,
      "outputs": []
    },
    {
      "cell_type": "code",
      "metadata": {
        "id": "QKi_jk5scDKW",
        "colab": {
          "base_uri": "https://localhost:8080/"
        },
        "outputId": "cb2d9ace-767f-4b3a-986f-330cabe06a5e"
      },
      "source": [
        "iloczyn(2,10)"
      ],
      "execution_count": null,
      "outputs": [
        {
          "output_type": "execute_result",
          "data": {
            "text/plain": [
              "20"
            ]
          },
          "metadata": {
            "tags": []
          },
          "execution_count": 10
        }
      ]
    },
    {
      "cell_type": "code",
      "metadata": {
        "id": "oOPYnTRFcFW2",
        "colab": {
          "base_uri": "https://localhost:8080/"
        },
        "outputId": "1efc1515-7944-48fb-b058-f2b72796aa53"
      },
      "source": [
        "iloczyn(200,3)"
      ],
      "execution_count": null,
      "outputs": [
        {
          "output_type": "execute_result",
          "data": {
            "text/plain": [
              "203"
            ]
          },
          "metadata": {
            "tags": []
          },
          "execution_count": 11
        }
      ]
    },
    {
      "cell_type": "markdown",
      "metadata": {
        "id": "X5svsRlc8V7w"
      },
      "source": [
        "### Podpowiedzi\n"
      ]
    },
    {
      "cell_type": "code",
      "metadata": {
        "id": "1zmk1Msu75hF"
      },
      "source": [
        "#krok pierwszy : zdefiniuj funkcję, która przyjmuje dwa argumenty\n",
        "#krok drugi - Wewnątrz funkcji zdefiniuj zmienną będącą iloczynem \n",
        "#krok trzeci - Wewnątrz funkcji opisz niezbędne warunki logiczne (wykorzystaj warunek if / else)\n",
        "#funkcja jest gotowa\n",
        "#krok czwarty - zdefiniuj zmienne - dwie liczby do zsumowania\n",
        "#krok piąty - wykorzystaj funkcję print() do wyświetlenia wyniku"
      ],
      "execution_count": null,
      "outputs": []
    },
    {
      "cell_type": "markdown",
      "metadata": {
        "id": "0dG-lOop8z3Q"
      },
      "source": [
        "### Podpowiedzi + rozwiązanie"
      ]
    },
    {
      "cell_type": "code",
      "metadata": {
        "id": "Bx3Orjtl87MU",
        "colab": {
          "base_uri": "https://localhost:8080/"
        },
        "outputId": "6ea38b3f-2f1a-44ec-f6fe-63e62a39ff95"
      },
      "source": [
        "#krok pierwszy : zdefiniuj funkcję, która przyjmuje dwa argumenty\n",
        "def funkcja(numer1, numer2):\n",
        "#krok drugi - Wewnątrz funkcji zdefiniuj zmienną będącą iloczynem \n",
        "    iloczyn = numer1 * numer2\n",
        "#krok trzeci - Wewnątrz funkcji opisz niezbędne warunki logiczne (wykorzystaj warunek if / else)\n",
        "    if iloczyn < 500:\n",
        "      return iloczyn\n",
        "    else:\n",
        "      return numer1 + numer2\n",
        "#funkcja jest gotowa\n",
        "\n",
        "#krok czwarty - zdefiniuj zmienne - dwie liczby do zsumowania\n",
        "numer1 = 32 #można też wykorzystać funkcję input do poproszenia o wpisanie liczb. \n",
        "#Bazowo funkcja input() zwraca typ danych - string, więc należy zabezpieczyć się używając funkcji int(), która zwraca wnętrze nawiasu jako liczba całkowita\n",
        "\n",
        "#numer1 = int(input(\"podaj pierwszy argument\")) \n",
        "numer2 = 19\n",
        "#numer2 = int(input(\"podaj drugi argument\"))\n",
        "\n",
        "#krok piąty - wykorzystaj funkcję print() do wyświetlenia wyniku\n",
        "print(\"Wynik to: \", funkcja(numer1,numer2))"
      ],
      "execution_count": null,
      "outputs": [
        {
          "output_type": "stream",
          "text": [
            "Wynik to:  51\n"
          ],
          "name": "stdout"
        }
      ]
    },
    {
      "cell_type": "markdown",
      "metadata": {
        "id": "r75hDuVh_VVL"
      },
      "source": [
        "#Zadanie 2"
      ]
    },
    {
      "cell_type": "markdown",
      "metadata": {
        "id": "3AsIJHUe_Yqu"
      },
      "source": [
        "Wykorzystaj wpisaną przez użytkownika wartość, aby stworzyć pętle, która wykona następujące operacje : wyświetlenie bieżącej liczby, wyświetlenie poprzedniej liczby, obliczenie wyświetlenie sumy ciągu wszystkich poprzednich (wraz z bieżącą) liczb. Tj. Dla numeru 3, wyświetlana suma to 6, bo 0+1+2+3 = 6."
      ]
    },
    {
      "cell_type": "code",
      "metadata": {
        "id": "I1LhTtK0__e5"
      },
      "source": [
        "#Przykładowy output:\n",
        "#Bieżący numer: 0, poprzedni numer: 0, suma: 0\n",
        "#Bieżący numer: 1, poprzedni numer: 0, suma: 1\n",
        "#Bieżący numer: 2, poprzedni numer: 1, suma: 3\n",
        "#Bieżący numer: 3, poprzedni numer: 2, suma: 6"
      ],
      "execution_count": null,
      "outputs": []
    },
    {
      "cell_type": "code",
      "metadata": {
        "id": "mXBXJT4AcPxr"
      },
      "source": [
        "def petla(wartosc):\n",
        "  suma = 0\n",
        "  for x in range(wartosc):\n",
        "    suma = suma + x\n",
        "    print(f'Biezący numer: {x}, poprzedni numer {x-1}, suma: {suma}')\n"
      ],
      "execution_count": null,
      "outputs": []
    },
    {
      "cell_type": "code",
      "metadata": {
        "id": "Den94ddzdIZf",
        "colab": {
          "base_uri": "https://localhost:8080/"
        },
        "outputId": "43d39132-c13b-4d81-b246-7e369ca0a244"
      },
      "source": [
        "petla(10)"
      ],
      "execution_count": null,
      "outputs": [
        {
          "output_type": "stream",
          "text": [
            "Biezący numer: 0, poprzedni numer -1, suma: 0\n",
            "Biezący numer: 1, poprzedni numer 0, suma: 1\n",
            "Biezący numer: 2, poprzedni numer 1, suma: 3\n",
            "Biezący numer: 3, poprzedni numer 2, suma: 6\n",
            "Biezący numer: 4, poprzedni numer 3, suma: 10\n",
            "Biezący numer: 5, poprzedni numer 4, suma: 15\n",
            "Biezący numer: 6, poprzedni numer 5, suma: 21\n",
            "Biezący numer: 7, poprzedni numer 6, suma: 28\n",
            "Biezący numer: 8, poprzedni numer 7, suma: 36\n",
            "Biezący numer: 9, poprzedni numer 8, suma: 45\n"
          ],
          "name": "stdout"
        }
      ]
    },
    {
      "cell_type": "markdown",
      "metadata": {
        "id": "XTMbJ4iKAA52"
      },
      "source": [
        "###Podpowiedzi"
      ]
    },
    {
      "cell_type": "code",
      "metadata": {
        "id": "tcQtG67JAELG"
      },
      "source": [
        "#Krok pierwszy - Zdefiniuj input pobierający wartość od użytkownika (i zmieniający typ na int)\n",
        "#krok drugi - Zdefiniuj funkcję, pobierającą argument z kroku pierwszego\n",
        "#krok trzeci - Zdefiniuj punkt zerowy w funkcji (w tym przypadku jest to 0)\n",
        "#krok czwarty - Zdefiniuj pętlę w funkcji do obliczania sumy. Ponieważ w tym przypadku pętla ma przechodzić całkowitą i skończoną ilość razy, najlepiej zastosować pętlę for.\n",
        "#krok piąty - Zwróć uwagę na powtarzalność pożądanego outputu - podobieństwo linijek. Oznacza to, że pożądany print() znajduje się wewnątrz pętli\n",
        "#funkcja jest gotowa - wywołaj ją dla argumentu pobranego od użytkownika w kroku pierwszym"
      ],
      "execution_count": null,
      "outputs": []
    },
    {
      "cell_type": "markdown",
      "metadata": {
        "id": "SD1CD8YRBtU0"
      },
      "source": [
        "###Podpowiedzi + rozwiązanie"
      ]
    },
    {
      "cell_type": "code",
      "metadata": {
        "id": "jWFIVeUkBzNO",
        "colab": {
          "base_uri": "https://localhost:8080/"
        },
        "outputId": "315f5e33-69be-42e5-870f-9fe75e816915"
      },
      "source": [
        "#Krok pierwszy - Zdefiniuj input pobierający wartość od użytkownika (i zmieniający typ na int)\n",
        "numer = int(input(\"Podaj numer, na którym ma się skończyć pętla: \"))\n",
        "#krok drugi - Zdefiniuj funkcję, pobierającą argument z kroku pierwszego\n",
        "def funkcja(a):\n",
        "#krok trzeci - Zdefiniuj punkt zerowy w funkcji (w tym przypadku jest to 0- poeksperymentuj z innymi wartościami i zobacz co się stanie!)\n",
        "    poprzedniNumer = 0\n",
        "    suma = 0\n",
        "#krok czwarty - Zdefiniuj pętlę w funkcji do obliczania sumy. Ponieważ w tym przypadku pętla ma przechodzić całkowitą i skończoną ilość razy, najlepiej zastosować pętlę for.\n",
        "    for i in range(a+1): #pamiętaj, że range() odwołuje się do zmiennych mniejszych niż określona (nie mniejszych lub równych)\n",
        "        suma += i\n",
        "#krok piąty - Zwróć uwagę na powtarzalność pożądanego outputu - podobieństwo linijek. Oznacza to, że pożądany print() znajduje się wewnątrz pętli\n",
        "        print(\"Bieżący numer: \",  i, \", poprzedni numer: \", poprzedniNumer, \", suma: \", suma)\n",
        "#krok szósty - zwiększ zmienną poprzedniNumer (dla kolejnego obrotu pętli będzie on większy niż dla poprzedniego)\n",
        "        poprzedniNumer = i        \n",
        "#funkcja jest gotowa - wywołaj ją dla argumentu pobranego od użytkownika w kroku pierwszym\n",
        "funkcja(numer)"
      ],
      "execution_count": null,
      "outputs": [
        {
          "output_type": "stream",
          "text": [
            "Podaj numer, na którym ma się skończyć pętla: 23\n",
            "Bieżący numer:  0 , poprzedni numer:  0 , suma:  0\n",
            "Bieżący numer:  1 , poprzedni numer:  0 , suma:  1\n",
            "Bieżący numer:  2 , poprzedni numer:  1 , suma:  3\n",
            "Bieżący numer:  3 , poprzedni numer:  2 , suma:  6\n",
            "Bieżący numer:  4 , poprzedni numer:  3 , suma:  10\n",
            "Bieżący numer:  5 , poprzedni numer:  4 , suma:  15\n",
            "Bieżący numer:  6 , poprzedni numer:  5 , suma:  21\n",
            "Bieżący numer:  7 , poprzedni numer:  6 , suma:  28\n",
            "Bieżący numer:  8 , poprzedni numer:  7 , suma:  36\n",
            "Bieżący numer:  9 , poprzedni numer:  8 , suma:  45\n",
            "Bieżący numer:  10 , poprzedni numer:  9 , suma:  55\n",
            "Bieżący numer:  11 , poprzedni numer:  10 , suma:  66\n",
            "Bieżący numer:  12 , poprzedni numer:  11 , suma:  78\n",
            "Bieżący numer:  13 , poprzedni numer:  12 , suma:  91\n",
            "Bieżący numer:  14 , poprzedni numer:  13 , suma:  105\n",
            "Bieżący numer:  15 , poprzedni numer:  14 , suma:  120\n",
            "Bieżący numer:  16 , poprzedni numer:  15 , suma:  136\n",
            "Bieżący numer:  17 , poprzedni numer:  16 , suma:  153\n",
            "Bieżący numer:  18 , poprzedni numer:  17 , suma:  171\n",
            "Bieżący numer:  19 , poprzedni numer:  18 , suma:  190\n",
            "Bieżący numer:  20 , poprzedni numer:  19 , suma:  210\n",
            "Bieżący numer:  21 , poprzedni numer:  20 , suma:  231\n",
            "Bieżący numer:  22 , poprzedni numer:  21 , suma:  253\n",
            "Bieżący numer:  23 , poprzedni numer:  22 , suma:  276\n"
          ],
          "name": "stdout"
        }
      ]
    },
    {
      "cell_type": "markdown",
      "metadata": {
        "id": "lJ33sgcxEI6c"
      },
      "source": [
        "#Zadanie 3"
      ]
    },
    {
      "cell_type": "markdown",
      "metadata": {
        "id": "WdrxzfOwELK9"
      },
      "source": [
        "Przyjmuj od użytkownika string (łańcuch znaków). Napisz funkcję, która zwraca znaki znajdujące się na parzystych miejscach oraz ilość znaków w wejściowym stringu. "
      ]
    },
    {
      "cell_type": "code",
      "metadata": {
        "id": "23t8r0zgEYps"
      },
      "source": [
        "def parzyste_znaki():\n",
        "  tekst = input()\n",
        "  length = len(tekst)\n",
        "  print (f\"Ilość znaków w tekście: {length}.\")\n",
        "  for x in range(length):\n",
        "    if x%2==0:\n",
        "      print(tekst[x])\n",
        "    else:\n",
        "      pass\n"
      ],
      "execution_count": null,
      "outputs": []
    },
    {
      "cell_type": "code",
      "metadata": {
        "id": "m-XT_qYRdh8C",
        "colab": {
          "base_uri": "https://localhost:8080/"
        },
        "outputId": "a9408790-1532-4bae-f4dc-7fcd260763e5"
      },
      "source": [
        "parzyste_znaki()"
      ],
      "execution_count": null,
      "outputs": [
        {
          "output_type": "stream",
          "text": [
            "sasasa\n",
            "Ilość znaków w tekście: 6.\n",
            "s\n",
            "s\n",
            "s\n"
          ],
          "name": "stdout"
        }
      ]
    },
    {
      "cell_type": "code",
      "metadata": {
        "id": "wlE3wz98eGxu",
        "colab": {
          "base_uri": "https://localhost:8080/"
        },
        "outputId": "6757d38d-073a-4352-9a18-fdd5f7365cdc"
      },
      "source": [
        "parzyste_znaki()"
      ],
      "execution_count": null,
      "outputs": [
        {
          "output_type": "stream",
          "text": [
            "dsdsd\n",
            "Ilość znaków w tekście: 5.\n",
            "d\n",
            "d\n",
            "d\n"
          ],
          "name": "stdout"
        }
      ]
    },
    {
      "cell_type": "code",
      "metadata": {
        "id": "YU0gYAa4feUP"
      },
      "source": [
        "def parzyste_znaki():\n",
        "  tekst = input()\n",
        "  length = len(tekst)\n",
        "  print (f\"Ilość znaków w tekście: {length}.\")\n",
        "  for x in range(0,length,2):\n",
        "      print(tekst[x])\n",
        "  else:\n",
        "      pass"
      ],
      "execution_count": null,
      "outputs": []
    },
    {
      "cell_type": "code",
      "metadata": {
        "id": "7J0g_oqXfrop",
        "colab": {
          "base_uri": "https://localhost:8080/"
        },
        "outputId": "f082539a-4386-4028-e802-f36cb2f340d1"
      },
      "source": [
        "parzyste_znaki()"
      ],
      "execution_count": null,
      "outputs": [
        {
          "output_type": "stream",
          "text": [
            "kacper\n",
            "Ilość znaków w tekście: 6.\n",
            "k\n",
            "c\n",
            "e\n"
          ],
          "name": "stdout"
        }
      ]
    },
    {
      "cell_type": "markdown",
      "metadata": {
        "id": "EUojHss_EYVO"
      },
      "source": [
        "###Podpowiedzi"
      ]
    },
    {
      "cell_type": "code",
      "metadata": {
        "id": "h6Wqicg5EaqM"
      },
      "source": [
        "#krok pierwszy - zdefiniuj input od użytkownika\n",
        "#krok drugi - zdefiniuj funkcję pobierającą input od użytkownika jako argument\n",
        "#krok trzeci - wewnątrz funkcji napisz pętlę (indeksowanie to robota dla pętli for), która spełnia wymagane zadania. W pętli for można określić rozmiar kroku w sposób: for i in range(0, 20, 2)\n",
        "#krok czwarty - napisz pożądany zwrot długości stringu - pojawia się raz, więc powinien być poza pętlą for.\n",
        "#krok piąty - wywołaj swoją funkcję dla argumentu podanego przez użytkownika"
      ],
      "execution_count": null,
      "outputs": []
    },
    {
      "cell_type": "markdown",
      "metadata": {
        "id": "8ELTRoYPFHry"
      },
      "source": [
        "###Podpowiedzi + rozwiązanie"
      ]
    },
    {
      "cell_type": "code",
      "metadata": {
        "id": "pm8xuBQcFM78",
        "colab": {
          "base_uri": "https://localhost:8080/"
        },
        "outputId": "966c62c8-606a-41fc-ee05-1a62484b94be"
      },
      "source": [
        "#krok pierwszy - zdefiniuj input od użytkownika\n",
        "a = input(\"Podaj pożądany string: \")\n",
        "#krok drugi - zdefiniuj funkcję pobierającą input od użytkownika jako argument\n",
        "def funkcja(string):\n",
        "    print(\"długość wczytanego łańcuchu znaków to: \", len(string)) \n",
        "#krok trzeci - wewnątrz funkcji napisz pętlę (indeksowanie to robota dla pętli for), która spełnia wymagane zadania\n",
        "    for i in range(1, len(string), 2): #tutaj pętla rozpoczyna się od 1 ponieważ pierwszy znak w łańcuchu znaków (stringu) ma indeks 0. Wtedy drugi - czyli parzysty, ma indeks 1.\n",
        "        print(\"string[\", i, \"] to :\", string[i])\n",
        "#krok czwarty - napisz pożądany zwrot długości stringu - pojawia się raz, więc powinien być poza pętlą for.\n",
        "#krok piąty - wywołaj swoją funkcję dla argumentu podanego przez użytkownika\n",
        "funkcja(a)"
      ],
      "execution_count": null,
      "outputs": [
        {
          "output_type": "stream",
          "text": [
            "Podaj pożądany string: aa\n",
            "długość wczytanego łańcuchu znaków to:  2\n",
            "string[ 1 ] to : a\n"
          ],
          "name": "stdout"
        }
      ]
    },
    {
      "cell_type": "markdown",
      "metadata": {
        "id": "6Udv7WjAHbd5"
      },
      "source": [
        "#Zadanie 4"
      ]
    },
    {
      "cell_type": "markdown",
      "metadata": {
        "id": "WUW_2yOvHeZ3"
      },
      "source": [
        "Przyjmij od użytkownika string (łańcuch znaków) oraz liczbę n. Zdefiniuj funkcję, przyjmującą te dwa argumenty i usuwająca n pierwszych znaków, zwracając i wyświetlając nowy string. Zabezpiecz się na wypadek, gdyby liczba n była większa od długości stringu, oraz zwróć \"brak\" gdy będzie jej równa."
      ]
    },
    {
      "cell_type": "code",
      "metadata": {
        "id": "hO66pZkEMifS"
      },
      "source": [
        "def przytnij(tekst :str,n :int):\n",
        "  nx = int(n)\n",
        "  length = len(tekst)\n",
        "  if nx <= length:\n",
        "    print(tekst[nx:length])\n",
        "  else:\n",
        "    print(\"Liczba cyfr do ucięcia dłuższa od tekstu.\")"
      ],
      "execution_count": null,
      "outputs": []
    },
    {
      "cell_type": "code",
      "metadata": {
        "id": "EJbU-z8hgxHY",
        "colab": {
          "base_uri": "https://localhost:8080/"
        },
        "outputId": "392cdb85-ef87-42b6-cd23-8355d7333bce"
      },
      "source": [
        "przytnij(\"Kacper\",2)"
      ],
      "execution_count": null,
      "outputs": [
        {
          "output_type": "stream",
          "text": [
            "cper\n"
          ],
          "name": "stdout"
        }
      ]
    },
    {
      "cell_type": "code",
      "metadata": {
        "id": "6dqxFnfXhM96",
        "colab": {
          "base_uri": "https://localhost:8080/"
        },
        "outputId": "e65bde9b-23d8-4287-bec5-be658c838ca3"
      },
      "source": [
        "przytnij(\"Kacper\",9)"
      ],
      "execution_count": null,
      "outputs": [
        {
          "output_type": "stream",
          "text": [
            "Liczba cyfr do ucięcia dłuższa od tekstu.\n"
          ],
          "name": "stdout"
        }
      ]
    },
    {
      "cell_type": "markdown",
      "metadata": {
        "id": "GVDj07ZKMh7e"
      },
      "source": [
        "###Podpowiedzi"
      ]
    },
    {
      "cell_type": "code",
      "metadata": {
        "id": "gEp_0LycMld8"
      },
      "source": [
        "#krok pierwszy - zdefiniuj input() pobierający od użytkownika pożądane dane\n",
        "#krok drugi - zdefiniuj funkcję przyjmującą dwa argumenty. Możesz dodać zabezpieczenie typu (znacząco ułatwia to czytanie kodu w przyszłości). Wykorzystaj def funkcja(string : str, n: int)\n",
        "#krok trzeci - opisz warunki logiczne dla warunków gdzie n jest większe lub równe długości stringu. Mając kilka warunków należy wykorzystać if / elif / else.\n",
        "#krok czwarty - właściwa część funkcji - tworzenie drugiego stringu przez \"obcięcie\" przodu pierwszego\n",
        "#krok piąty - funkcja jest gotowa. Wywołaj ją za pomocą pobranych w kroku pierwszym argumentów"
      ],
      "execution_count": null,
      "outputs": []
    },
    {
      "cell_type": "markdown",
      "metadata": {
        "id": "xvIdu1NmMmQ5"
      },
      "source": [
        "###Podpowiedzi + rozwiązanie"
      ]
    },
    {
      "cell_type": "code",
      "metadata": {
        "id": "LB3k2XlwMtIh",
        "colab": {
          "base_uri": "https://localhost:8080/"
        },
        "outputId": "fcad25a1-858d-41f2-ca4a-fc03fb36c420"
      },
      "source": [
        "#krok pierwszy - zdefiniuj input() pobierający od użytkownika pożądane dane\n",
        "string = input(\"podaj string: \")\n",
        "n = int(input(\"podaj liczbę n: \")) \n",
        "#krok drugi - zdefiniuj funkcję przyjmującą dwa argumenty. Możesz dodać zabezpieczenie typu (znacząco ułatwia to czytanie kodu w przyszłości). Wykorzystaj def funkcja(string : str, n: int)\n",
        "def funkcja(string : str, n:int):\n",
        "#krok trzeci - opisz warunki logiczne dla warunków gdzie n jest większe lub równe długości stringu. Mając kilka warunków należy wykorzystać if / elif / else.\n",
        "    if n == len(string):\n",
        "      print(\"brak\")\n",
        "    elif n > len(string):\n",
        "      print(\"liczba n jest większa niż dlugość stringu\")\n",
        "#krok czwarty - właściwa część funkcji - tworzenie drugiego stringu przez \"obcięcie\" przodu pierwszego\n",
        "    else:\n",
        "      return print(string[n:])\n",
        "#krok piąty - funkcja jest gotowa. Wywołaj ją za pomocą pobranych w kroku pierwszym argumentów\n",
        "funkcja(string, n)"
      ],
      "execution_count": null,
      "outputs": [
        {
          "output_type": "stream",
          "text": [
            "podaj string: afdc\n",
            "podaj liczbę n: 2\n",
            "dc\n"
          ],
          "name": "stdout"
        }
      ]
    },
    {
      "cell_type": "markdown",
      "metadata": {
        "id": "ZdZuXqnOOrPp"
      },
      "source": [
        "#Zadanie 5"
      ]
    },
    {
      "cell_type": "markdown",
      "metadata": {
        "id": "glt0uYZtOtfi"
      },
      "source": [
        "Mając listę a sprawdź, czy jej pierwszy element jest równy ostatniemu. Jeśli tak - zwróć True, jeśli nie - False."
      ]
    },
    {
      "cell_type": "code",
      "metadata": {
        "id": "xF1LNr4ePW8_"
      },
      "source": [
        "a = [1,2,3,4,5,6,1]"
      ],
      "execution_count": null,
      "outputs": []
    },
    {
      "cell_type": "code",
      "metadata": {
        "id": "ArNPvb_chaiY",
        "colab": {
          "base_uri": "https://localhost:8080/"
        },
        "outputId": "6cd16561-05e3-4246-f5f7-616d4a32c773"
      },
      "source": [
        "a[0] == a[len(a)-1]"
      ],
      "execution_count": null,
      "outputs": [
        {
          "output_type": "execute_result",
          "data": {
            "text/plain": [
              "True"
            ]
          },
          "metadata": {
            "tags": []
          },
          "execution_count": 62
        }
      ]
    },
    {
      "cell_type": "markdown",
      "metadata": {
        "id": "gwDux0tmPXaj"
      },
      "source": [
        "###Podpowiedzi\n"
      ]
    },
    {
      "cell_type": "code",
      "metadata": {
        "id": "8JkZXE2jPZR9"
      },
      "source": [
        "#krok pierwszy - zdefiniuj listę do sprawdzenia\n",
        "#krok drugi - zdefiniuj funkcję pobierającą tą listę jako argument. Możesz dodać zabezpieczenie w funkcji upewniajace się, że pobrany argument to lista - def funkcja(lista : list)\n",
        "#krok trzeci - wewnątrz funkcji stwórz warunek logiczny porównujący pierwszy i ostatni element listy\n",
        "#krok czwarty - określi wartość zwracaną przez funkcję. W tym przypadku pożądana jest wartość typu bool - tj. True lub False (ważna jest duża litera w True / False)\n",
        "\n",
        "#można to zadanie rozwiązać również bez definiowania funkcji"
      ],
      "execution_count": null,
      "outputs": []
    },
    {
      "cell_type": "markdown",
      "metadata": {
        "id": "CjOoKj7BQafT"
      },
      "source": [
        "###Podpowiedzi + rozwiązanie\n"
      ]
    },
    {
      "cell_type": "code",
      "metadata": {
        "id": "shuORwtAQczR",
        "colab": {
          "base_uri": "https://localhost:8080/"
        },
        "outputId": "aba90529-861e-4c57-ee18-d84e556ba060"
      },
      "source": [
        "#krok pierwszy - zdefiniuj listę do sprawdzenia\n",
        "lista = [12, 23, 11, 23, 34, 1, 20, 12]\n",
        "#krok drugi - zdefiniuj funkcję pobierającą tą listę jako argument. Możesz dodać zabezpieczenie w funkcji upewniajace się, że pobrany argument to lista - def funkcja(lista : list)\n",
        "def funkcja(lista: list):\n",
        "#krok trzeci - wewnątrz funkcji stwórz warunek logiczny porównujący pierwszy i ostatni element listy\n",
        "    print(lista[0] == lista[-1])\n",
        "#krok czwarty - określi wartość zwracaną przez funkcję. W tym przypadku pożądana jest wartość typu bool - tj. True lub False (ważna jest duża litera w True / False)\n",
        "funkcja(lista)\n",
        "\n",
        "#można to zadanie rozwiązać również bez definiowania funkcji"
      ],
      "execution_count": null,
      "outputs": [
        {
          "output_type": "stream",
          "text": [
            "True\n"
          ],
          "name": "stdout"
        }
      ]
    },
    {
      "cell_type": "markdown",
      "metadata": {
        "id": "iBjoEjZqJHK_"
      },
      "source": [
        "#Zadanie 6\n"
      ]
    },
    {
      "cell_type": "markdown",
      "metadata": {
        "id": "oSA1UroqJaJ1"
      },
      "source": [
        "Stwórz pustą listę. Pozwól użytkownikowi ją zapełnić dowolnymi elementami. Jeśli użytkownik wpisze \"koniec\", kończy to tworzenie listy, bez dopisania elementu \"koniec\" i wyświetla listę."
      ]
    },
    {
      "cell_type": "code",
      "metadata": {
        "id": "WZ2FcmjTJLY5"
      },
      "source": [
        "def utworz_liste():\n",
        "  \n",
        "  koniec = False\n",
        "  \n",
        "  lista = []\n",
        "  dod = input(\"dodaj daną do listy: \")\n",
        "  \n",
        "  while dod.upper() != \"KONIEC\":\n",
        "    \n",
        "    lista.append(dod)\n",
        "    koniec = False\n",
        "    dod = input(\"dodaj daną do listy, wpisz 'koniec' zeby wyjsc: \")\n",
        "\n",
        "    if dod.upper() == \"KONIEC\":\n",
        "      return(lista)\n",
        "      break\n",
        "\n"
      ],
      "execution_count": null,
      "outputs": []
    },
    {
      "cell_type": "code",
      "metadata": {
        "id": "WSiUvdiujk5o",
        "colab": {
          "base_uri": "https://localhost:8080/"
        },
        "outputId": "5422723d-135a-48be-da74-d2de05ddeb37"
      },
      "source": [
        "l1 = utworz_liste()"
      ],
      "execution_count": null,
      "outputs": [
        {
          "output_type": "stream",
          "text": [
            "dodaj daną do listy: ds\n",
            "dodaj daną do listy, wpisz 'koniec' zeby wyjsc: ds\n",
            "dodaj daną do listy, wpisz 'koniec' zeby wyjsc: asa\n",
            "dodaj daną do listy, wpisz 'koniec' zeby wyjsc: koniec\n"
          ],
          "name": "stdout"
        }
      ]
    },
    {
      "cell_type": "code",
      "metadata": {
        "id": "MkYoMarylZsP",
        "colab": {
          "base_uri": "https://localhost:8080/"
        },
        "outputId": "741a5e51-203e-43ee-dada-0804c3c56da8"
      },
      "source": [
        "print(l1)"
      ],
      "execution_count": null,
      "outputs": [
        {
          "output_type": "stream",
          "text": [
            "['ds', 'ds', 'asa']\n"
          ],
          "name": "stdout"
        }
      ]
    },
    {
      "cell_type": "markdown",
      "metadata": {
        "id": "YYBO21UuJO46"
      },
      "source": [
        "###Podpowiedzi"
      ]
    },
    {
      "cell_type": "code",
      "metadata": {
        "id": "rJTKswt3JVQz"
      },
      "source": [
        "#krok pierwszy - stwórz pustą listę do późniejszego zapełniania. Ten sposób działa również dla słowników - wtedy do stworzenia pustego słownika trzeba użyć kodu slownik = {}. \n",
        "#Aby stworzyć pusty zestaw należy wykorzystać funkcję set(), tj. zestaw=set().\n",
        "#krok drugi - jednym ze sposobów zachowania ciągłości pętli jest stworzenie zmiennej logicznej, która ją podtrzymuje. Inne sposoby będą równie skuteczne.\n",
        "#krok trzeci - ponieważ pętla wykonuje nieznaną ilość przejść, należy wykorzystać pętlę while.\n",
        "#krok czwarty - pobierz input od użytkownika, dodaj go do listy (wykorzystaj funkcję append()) i stwórz warunek logiczny zatrzymania pętli. \n",
        "#Dodatkowym zabezpieczeniem przed wpisaniem komendy z małej lub dużej litery jest wykorzystanie funkcji .upper() lub .lower(). W tym wypadku pętla zatrzyma się również po wpisaniu \"KoNiEc\"\n",
        "#krok piąty - wyświetl listę. Można to zrobić również wewnątrz pętli while."
      ],
      "execution_count": null,
      "outputs": []
    },
    {
      "cell_type": "markdown",
      "metadata": {
        "id": "g8YFAxS7JWXO"
      },
      "source": [
        "###Podpowiedzi + rozwiązanie"
      ]
    },
    {
      "cell_type": "code",
      "metadata": {
        "id": "fB3EZc3JJYYB",
        "colab": {
          "base_uri": "https://localhost:8080/"
        },
        "outputId": "8253261f-b9fc-466f-b321-1995dfff9579"
      },
      "source": [
        "#krok pierwszy - stwórz pustą listę do późniejszego zapełniania. Ten sposób działa również dla słowników - wtedy do stworzenia pustego słownika trzeba użyć kodu slownik = {}. \n",
        "#Aby stworzyć pusty zestaw należy wykorzystać funkcję set(), tj. zestaw=set().\n",
        "lista=[]\n",
        "#krok drugi - jednym ze sposobów zachowania ciągłości pętli jest stworzenie zmiennej logicznej, która ją podtrzymuje. Inne sposoby będą równie skuteczne.\n",
        "tworzenie = False\n",
        "#krok trzeci - ponieważ pętla wykonuje nieznaną ilość przejść, należy wykorzystać pętlę while.\n",
        "while tworzenie == False:\n",
        "#krok czwarty - pobierz input od użytkownika, dodaj go do listy (wykorzystaj funkcję append()) i stwórz warunek logiczny zatrzymania pętli. \n",
        "#Dodatkowym zabezpieczeniem przed wpisaniem komendy z małej lub dużej litery jest wykorzystanie funkcji .upper() lub .lower(). W tym wypadku pętla zatrzyma się również po wpisaniu \"KoNiEc\"\n",
        "  n = input(\"Komenda 'koniec' kończy przyjmowanie elementów i wyświetla listę. Podaj element listy: \")\n",
        "  if n.lower() == \"koniec\" :\n",
        "    tworzenie = True\n",
        "  else:\n",
        "    lista.append(n)\n",
        "#krok piąty - wyświetl listę. Można to zrobić również wewnątrz pętli while.\n",
        "print(\"twoja lista to: \", lista)"
      ],
      "execution_count": null,
      "outputs": [
        {
          "output_type": "stream",
          "text": [
            "Komenda 'koniec' kończy przyjmowanie elementów i wyświetla listę. Podaj element listy: 32\n",
            "Komenda 'koniec' kończy przyjmowanie elementów i wyświetla listę. Podaj element listy: mama\n",
            "Komenda 'koniec' kończy przyjmowanie elementów i wyświetla listę. Podaj element listy: yolo\n",
            "Komenda 'koniec' kończy przyjmowanie elementów i wyświetla listę. Podaj element listy: KoNieC\n",
            "twoja lista to:  ['32', 'mama', 'yolo']\n"
          ],
          "name": "stdout"
        }
      ]
    },
    {
      "cell_type": "markdown",
      "metadata": {
        "id": "TFX8x0aNN5nc"
      },
      "source": [
        "#Zadanie 7"
      ]
    },
    {
      "cell_type": "markdown",
      "metadata": {
        "id": "1SRwhVG_N9sP"
      },
      "source": [
        "Podaj wejściowy string oraz klucz, który w tym stringu będzie szukany. Wyświetl ile razy klucz pojawia się w stringu - w dowolnej konfiguracji małych i wielkich liter."
      ]
    },
    {
      "cell_type": "code",
      "metadata": {
        "id": "YJWZeMvHN8X2"
      },
      "source": [
        "wejsciowy = \"Ala ma kota i Ala ma psa.\"\n"
      ],
      "execution_count": null,
      "outputs": []
    },
    {
      "cell_type": "code",
      "metadata": {
        "colab": {
          "base_uri": "https://localhost:8080/"
        },
        "id": "COsNDlCeLsr4",
        "outputId": "d106a4ad-6901-407d-8167-211082f0db17"
      },
      "source": [
        "sprawdz = input(\"wprowadz slowo do policzenia.\")\n",
        "wejsciowy.upper().count(sprawdz.upper())"
      ],
      "execution_count": null,
      "outputs": [
        {
          "output_type": "stream",
          "text": [
            "wprowadz slowo do policzenia.ma\n"
          ],
          "name": "stdout"
        },
        {
          "output_type": "execute_result",
          "data": {
            "text/plain": [
              "2"
            ]
          },
          "metadata": {
            "tags": []
          },
          "execution_count": 4
        }
      ]
    },
    {
      "cell_type": "markdown",
      "metadata": {
        "id": "CQJ3gkUdN75p"
      },
      "source": [
        "###Podpowiedzi"
      ]
    },
    {
      "cell_type": "code",
      "metadata": {
        "id": "1WxvqtD0ODZh"
      },
      "source": [
        "#krok pierwszy - pobierz string od użytkownika. Dla zabezpieczenia zamień go na małe (lub wielkie z użyciem .upper()) litery\n",
        "#krok drugi - pobierz klucz od użytkownika. Dla bezpieczeństwa zamień go na małe (lub wielkie z użyciem .upper()) litery\n",
        "#krok trzeci - stwórz licznik za pomocą funkcji .count()\n",
        "#krok czwarty - wydrukuj licznik"
      ],
      "execution_count": null,
      "outputs": []
    },
    {
      "cell_type": "markdown",
      "metadata": {
        "id": "apYFKFGvOAj4"
      },
      "source": [
        "###Podpowiedzi + rozwiązanie"
      ]
    },
    {
      "cell_type": "code",
      "metadata": {
        "id": "FzM7mP14Xeml",
        "colab": {
          "base_uri": "https://localhost:8080/"
        },
        "outputId": "127513e0-7c1f-4d75-b9e6-54f867f267a9"
      },
      "source": [
        "#krok pierwszy - pobierz string od użytkownika. Dla zabezpieczenia zamień go na małe (lub wielkie z użyciem .upper()) litery\n",
        "string = input(\"Podaj wejściowy string: \").lower()\n",
        "#krok drugi - pobierz klucz od użytkownika. Dla bezpieczeństwa zamień go na małe (lub wielkie z użyciem .upper()) litery\n",
        "klucz = input(\"Podaj klucz, który będzie wyszukiwany w wejściowym stringu: \").lower()\n",
        "#krok trzeci - stwórz licznik za pomocą funkcji .count()\n",
        "licznik = string.count(klucz)\n",
        "#krok czwarty - wydrukuj licznik\n",
        "print(licznik)"
      ],
      "execution_count": null,
      "outputs": [
        {
          "output_type": "stream",
          "text": [
            "Podaj wejściowy string :AM AMA MAM AM MA \n",
            "Podaj klucz, który będzie wyszukiwany w wejściowym stringu :ma\n",
            "3\n"
          ],
          "name": "stdout"
        }
      ]
    },
    {
      "cell_type": "markdown",
      "metadata": {
        "id": "r64-AX5oSC5y"
      },
      "source": [
        "#Zadanie 8"
      ]
    },
    {
      "cell_type": "markdown",
      "metadata": {
        "id": "4Jj6e3VPSC50"
      },
      "source": [
        "wyświetl następujący wzór:\n",
        "\n",
        "1\n",
        "\n",
        "2 2 \n",
        "\n",
        "3 3 3 \n",
        "\n",
        "4 4 4 4 \n",
        "\n",
        "5 5 5 5 5\n",
        "\n",
        "dla wartości podanej przez użytkownika (powyższy przykład dla wartości 5)."
      ]
    },
    {
      "cell_type": "code",
      "metadata": {
        "id": "Y9ZzyIheYyw9"
      },
      "source": [
        "def piramid(ilosc :int):\n",
        "  counter = 1\n",
        "  for x in range(1,ilosc+1):\n",
        "    print(str(x)*counter)\n",
        "    print(\"\\n\")\n",
        "    counter += 1"
      ],
      "execution_count": null,
      "outputs": []
    },
    {
      "cell_type": "code",
      "metadata": {
        "colab": {
          "base_uri": "https://localhost:8080/"
        },
        "id": "1ihau0PBM6dV",
        "outputId": "efd604cf-9bb6-4398-c179-043a4160f897"
      },
      "source": [
        "piramid(5)"
      ],
      "execution_count": null,
      "outputs": [
        {
          "output_type": "stream",
          "text": [
            "1\n",
            "\n",
            "\n",
            "22\n",
            "\n",
            "\n",
            "333\n",
            "\n",
            "\n",
            "4444\n",
            "\n",
            "\n",
            "55555\n",
            "\n",
            "\n"
          ],
          "name": "stdout"
        }
      ]
    },
    {
      "cell_type": "markdown",
      "metadata": {
        "id": "gaDYxhC_SC55"
      },
      "source": [
        "###Podpowiedzi"
      ]
    },
    {
      "cell_type": "code",
      "metadata": {
        "id": "wFhdosgCSC56"
      },
      "source": [
        "#krok pierwszy - pobierz liczbę od użytkownika\n",
        "#krok drugi - stwórz pętlę (mamy skończoną ilość przejść więc wybór pada na for). Pamiętaj, że dla pętli \"for num in range(numer)\", range() zakończy się na liczbie o 1 mniejszej niż numer.\n",
        "#krok trzeci - stwórz kolejną pętle for wewnątrz pierwszej. Zwyczajowo, w dwuwymiarowych zbiorach danych, jedna pętla iteruje po wierszach, druga po kolumnach. W ten sposób \"przejść\" przez cały zbiór.\n",
        "#krok czwarty - wydrukuj liczbę na której jest pierwsza pętla, tyle razy ile wynosi numer wiersza (lub tyle razy, na którym numerze jest druga pętla). Za pomocą parametru end = \" \" w funkcji print dodaj separator - spację.\n",
        "#po zakończeniu wiersza, stwórz nową linię"
      ],
      "execution_count": null,
      "outputs": []
    },
    {
      "cell_type": "markdown",
      "metadata": {
        "id": "ollIx6-XSC59"
      },
      "source": [
        "###Podpowiedzi + rozwiązanie"
      ]
    },
    {
      "cell_type": "code",
      "metadata": {
        "id": "CxNn_1p1SC5-",
        "colab": {
          "base_uri": "https://localhost:8080/"
        },
        "outputId": "da358dd6-1313-4ffa-a63f-a538e675a884"
      },
      "source": [
        "#krok pierwszy - pobierz liczbę od użytkownika\n",
        "numer = int(input(\"Podaj liczbę do wyświetlenia wzoru: \"))\n",
        "#krok drugi - stwórz pętlę (mamy skończoną ilość przejść więc wybór pada na for). Pamiętaj, że dla pętli \"for num in range(numer)\", range() zakończy się na liczbie o 1 mniejszej niż numer.\n",
        "for num in range(numer+1):\n",
        "#krok trzeci - stwórz kolejną pętle for wewnątrz pierwszej. Zwyczajowo, w dwuwymiarowych zbiorach danych, jedna pętla iteruje po wierszach, druga po kolumnach. W ten sposób \"przejść\" przez cały zbiór.\n",
        "    for i in range(num):\n",
        "      #krok czwarty - wydrukuj liczbę na której jest pierwsza pętla, tyle razy ile wynosi numer wiersza (lub tyle razy, na którym numerze jest druga pętla). Za pomocą parametru end = \" \" w funkcji print dodaj separator - spację.\n",
        "        print(num, end=\" \") \n",
        "    #po zakończeniu wiersza, stwórz nową linię\n",
        "    print(\"\\n\")"
      ],
      "execution_count": null,
      "outputs": [
        {
          "output_type": "stream",
          "text": [
            "Podaj liczbę do wyświetlenia wzoru: 6\n",
            "\n",
            "\n",
            "1 \n",
            "\n",
            "2 2 \n",
            "\n",
            "3 3 3 \n",
            "\n",
            "4 4 4 4 \n",
            "\n",
            "5 5 5 5 5 \n",
            "\n",
            "6 6 6 6 6 6 \n",
            "\n"
          ],
          "name": "stdout"
        }
      ]
    },
    {
      "cell_type": "markdown",
      "metadata": {
        "id": "oif1b95zSFCU"
      },
      "source": [
        "#Zadanie 9"
      ]
    },
    {
      "cell_type": "markdown",
      "metadata": {
        "id": "58YFIs4LSFCV"
      },
      "source": [
        "Pobierz liczbę od użytkownika i sprawdź czy czytana od przodu i od tyłu jest taka sama (czy jest palindromem)"
      ]
    },
    {
      "cell_type": "code",
      "metadata": {
        "id": "HGCvPAGvSFCW"
      },
      "source": [
        "def palindrome():\n",
        "  slownik = {0:\"zero\", 1:\"one\",2:\"two\",3:\"three\",4:\"four\",5:\"five\",6:\"six\",7:\"seven\",8:\"eight\",9:\"nine\",10:\"xdx\"}\n",
        "  x = input(\"wprowadź cyfrę\")\n",
        "  check = slownik[int(x)]\n",
        "  odwr = check[::-1]\n",
        "  if check == odwr:\n",
        "    print(f\"Number is a palindrome normal: {check}, backwards: {odwr}\")\n",
        "  else:\n",
        "    print(\"Number is not a palindrome.\")\n",
        "\n",
        "  "
      ],
      "execution_count": null,
      "outputs": []
    },
    {
      "cell_type": "code",
      "metadata": {
        "colab": {
          "base_uri": "https://localhost:8080/"
        },
        "id": "rPtr-T6KSbwr",
        "outputId": "c1ee4e1a-73a2-4e29-9514-2ea006a5b039"
      },
      "source": [
        "palindrome()"
      ],
      "execution_count": null,
      "outputs": [
        {
          "output_type": "stream",
          "text": [
            "wprowadź cyfrę1\n",
            "Number is not a palindrome.\n"
          ],
          "name": "stdout"
        }
      ]
    },
    {
      "cell_type": "code",
      "metadata": {
        "colab": {
          "base_uri": "https://localhost:8080/"
        },
        "id": "OQYH1_IYTneK",
        "outputId": "d4e11b62-2bcc-4ab9-f8a8-3394d4a50b1c"
      },
      "source": [
        "palindrome()"
      ],
      "execution_count": null,
      "outputs": [
        {
          "output_type": "stream",
          "text": [
            "wprowadź cyfrę10\n",
            "Number is a palindrome normal: xdx, backwards: xdx\n"
          ],
          "name": "stdout"
        }
      ]
    },
    {
      "cell_type": "code",
      "metadata": {
        "id": "48J_0BwfR9ND"
      },
      "source": [
        "slownik = {0:\"zero\", 1:\"one\",2:\"two\",3:\"three\",4:\"four\",5:\"five\",6:\"six\",7:\"seven\",8:\"eight\",9:\"nine\",10:\"ten\"}"
      ],
      "execution_count": null,
      "outputs": []
    },
    {
      "cell_type": "code",
      "metadata": {
        "colab": {
          "base_uri": "https://localhost:8080/"
        },
        "id": "0nSX4oUBSJN0",
        "outputId": "5b97a6a7-551a-4fab-d498-beabcd5c113b"
      },
      "source": [
        "slownik = {0:\"zero\", 1:\"one\",2:\"two\",3:\"three\",4:\"four\",5:\"five\",6:\"six\",7:\"seven\",8:\"eight\",9:\"nine\",10:\"ten\"}\n",
        "x = input(\"wprowadź cyfrę\")\n"
      ],
      "execution_count": null,
      "outputs": [
        {
          "output_type": "stream",
          "text": [
            "wprowadź cyfrę1\n"
          ],
          "name": "stdout"
        }
      ]
    },
    {
      "cell_type": "code",
      "metadata": {
        "colab": {
          "base_uri": "https://localhost:8080/",
          "height": 36
        },
        "id": "MANICcHqTJH9",
        "outputId": "8de2671a-a8bd-4532-ec53-0c48a06b9d58"
      },
      "source": [
        "check = slownik[int(x)]\n",
        "check"
      ],
      "execution_count": null,
      "outputs": [
        {
          "output_type": "execute_result",
          "data": {
            "application/vnd.google.colaboratory.intrinsic+json": {
              "type": "string"
            },
            "text/plain": [
              "'one'"
            ]
          },
          "metadata": {
            "tags": []
          },
          "execution_count": 44
        }
      ]
    },
    {
      "cell_type": "code",
      "metadata": {
        "colab": {
          "base_uri": "https://localhost:8080/",
          "height": 36
        },
        "id": "R32FFD-9TOUS",
        "outputId": "17676097-5e9e-4683-e8c9-faa2de06e12b"
      },
      "source": [
        "odwr = check[::-1]\n",
        "odwr"
      ],
      "execution_count": null,
      "outputs": [
        {
          "output_type": "execute_result",
          "data": {
            "application/vnd.google.colaboratory.intrinsic+json": {
              "type": "string"
            },
            "text/plain": [
              "'eno'"
            ]
          },
          "metadata": {
            "tags": []
          },
          "execution_count": 45
        }
      ]
    },
    {
      "cell_type": "markdown",
      "metadata": {
        "id": "VrnKa4RgSFCb"
      },
      "source": [
        "###Podpowiedzi"
      ]
    },
    {
      "cell_type": "code",
      "metadata": {
        "id": "qsQPLMr4SFCb"
      },
      "source": [
        "#krok pierwszy - pobierz liczbę od użytkownika. Przekształć otrzymany input na string.\n",
        "#krok drugi - określ warunek logiczny. Odwrócenie stringu można otrzymać np. za pomocą indeksu [::-1], przykład : numer[::-1]\n",
        "#krok trzeci - wyświetl odpowiedni wynik"
      ],
      "execution_count": null,
      "outputs": []
    },
    {
      "cell_type": "markdown",
      "metadata": {
        "id": "yQvjyXP6SFCf"
      },
      "source": [
        "###Podpowiedzi + rozwiązanie"
      ]
    },
    {
      "cell_type": "code",
      "metadata": {
        "id": "ABtbHz3lSFCf",
        "colab": {
          "base_uri": "https://localhost:8080/"
        },
        "outputId": "249e97e4-e77c-4f66-ce63-7f7a1de5ae82"
      },
      "source": [
        "#krok pierwszy - pobierz liczbę od użytkownika. Przekształć otrzymany input na string.\n",
        "numer = str(input(\"Podaj liczbę do sprawdzenia, czy jest palindromem: \"))\n",
        "#krok drugi - określ warunek logiczny. Odwrócenie stringu można otrzymać np. za pomocą indeksu [::-1], przykład : numer[::-1]\n",
        "#krok trzeci - wyświetl odpowiedni wynik\n",
        "if numer == numer[::-1]:\n",
        "  print(\"ta liczba jest palindromem\")\n",
        "else:\n",
        "  print(\"ta liczba nie jest palindromem\")"
      ],
      "execution_count": null,
      "outputs": [
        {
          "output_type": "stream",
          "text": [
            "Podaj liczbę do sprawdzenia, czy jest palindromem: 1221\n",
            "ta liczba jest palindromem\n"
          ],
          "name": "stdout"
        }
      ]
    },
    {
      "cell_type": "markdown",
      "metadata": {
        "id": "fHuoh-08WklT"
      },
      "source": [
        "#Zadanie 10"
      ]
    },
    {
      "cell_type": "markdown",
      "metadata": {
        "id": "DWn3h2APWklU"
      },
      "source": [
        "Stwórz dwie listy z liczbami całkowitymi. Na ich podstawie stwórz funkcję tworzącą trzecią listę, która będzie zawierać parzyste elementy większe niż 15 z pierwszej listy i nieparzyste, mniejsze niż 35 z drugiej, a potem sortuje powstałą listę rosnąco)."
      ]
    },
    {
      "cell_type": "code",
      "metadata": {
        "id": "jI4ayGofWklW"
      },
      "source": [
        "a = [10,11,15,20,25,30]\n",
        "b = [1,2,5,10,8,22,29,33,35,37]"
      ],
      "execution_count": null,
      "outputs": []
    },
    {
      "cell_type": "code",
      "metadata": {
        "id": "-K_NXyvyUBnO"
      },
      "source": [
        "def polacz(a : list, b :list):\n",
        "  \n",
        "  c = []\n",
        "  \n",
        "  for num in a:\n",
        "    if num > 15 and num % 2 == 0:\n",
        "      c.append(num)\n",
        "    else:\n",
        "      pass\n",
        "  \n",
        "  for num in b:\n",
        "    if num < 35 and num % 2 > 0:\n",
        "      c.append(num)\n",
        "    else:\n",
        "      pass\n",
        "  \n",
        "  c.sort()\n",
        "  print(c)"
      ],
      "execution_count": null,
      "outputs": []
    },
    {
      "cell_type": "code",
      "metadata": {
        "colab": {
          "base_uri": "https://localhost:8080/"
        },
        "id": "QwitnBcGXALc",
        "outputId": "58c45127-a865-4915-8ea1-f96b80c91bad"
      },
      "source": [
        "polacz(a,b)"
      ],
      "execution_count": null,
      "outputs": [
        {
          "output_type": "stream",
          "text": [
            "[1, 5, 20, 29, 30, 33]\n"
          ],
          "name": "stdout"
        }
      ]
    },
    {
      "cell_type": "markdown",
      "metadata": {
        "id": "wsrBaBpBWklg"
      },
      "source": [
        "###Podpowiedzi"
      ]
    },
    {
      "cell_type": "code",
      "metadata": {
        "id": "rkYJ3epdWkli"
      },
      "source": [
        "#krok pierwszy - tworzenie list\n",
        "#krok drugi - definicja funkcji pobierającej dwie listy jako argumenty\n",
        "#krok trzeci - definicja pustej listy wewnątrz funkcji\n",
        "#krok czwarty - definicja warunków logicznych dla pierwszej i drugiej listy\n",
        "#krok piąty - dodanie elementów spełniających warunki logiczne do powstałej listy - wykorzystaj do tego funkcję append()\n",
        "#krok szósty - sortuj listę. wykorzystaj do tego funkcję sort()\n",
        "#krok siódmy - wywołaj funkcję dla stworzonych list"
      ],
      "execution_count": null,
      "outputs": []
    },
    {
      "cell_type": "markdown",
      "metadata": {
        "id": "CUCXm0LUWklm"
      },
      "source": [
        "###Podpowiedzi + rozwiązanie"
      ]
    },
    {
      "cell_type": "code",
      "metadata": {
        "id": "IX_H2y9qghIi",
        "colab": {
          "base_uri": "https://localhost:8080/"
        },
        "outputId": "fd91c095-3938-4c81-d2ec-517dad3567f4"
      },
      "source": [
        "#krok pierwszy - tworzenie list\n",
        "lista1=[12,25,32,15,543,33,22,143,100,3,54,420]\n",
        "lista2=[42,23,165,34,2,5,3,243,5632,34,2322,1]\n",
        "\n",
        "#krok drugi - definicja funkcji pobierającej dwie listy jako argumenty\n",
        "def funkcja(lista1, lista2):\n",
        "  #krok trzeci - definicja pustej listy wewnątrz funkcji\n",
        "  lista3=[]\n",
        "  #krok czwarty - definicja warunków logicznych dla pierwszej i drugiej listy\n",
        "  #krok piąty - dodanie elementów spełniających warunki logiczne do powstałej listy - wykorzystaj do tego funkcję append()\n",
        "  for i in range(len(lista1)):\n",
        "    if lista1[i]>15 and lista1[i] %2 == 0:\n",
        "      lista3.append(lista1[i])\n",
        "\n",
        "  for j in range(len(lista2)):\n",
        "    if lista2[j]<35 and lista2[j] %2 == 1:\n",
        "      lista3.append(lista2[j])\n",
        "#krok szósty - sortuj listę. wykorzystaj do tego funkcję sort()\n",
        "  lista3.sort()\n",
        "  return print(lista3)\n",
        "#krok siódmy - wywołaj funkcję dla stworzonych list\n",
        "funkcja(lista1,lista2)"
      ],
      "execution_count": null,
      "outputs": [
        {
          "output_type": "stream",
          "text": [
            "[1, 3, 5, 22, 23, 32, 54, 100, 420]\n"
          ],
          "name": "stdout"
        }
      ]
    },
    {
      "cell_type": "markdown",
      "metadata": {
        "id": "e1kkY9TcWlUJ"
      },
      "source": [
        "#Zadanie 11"
      ]
    },
    {
      "cell_type": "markdown",
      "metadata": {
        "id": "7tJhUx_iWuYm"
      },
      "source": [
        "Pobierz od użytkownika liczbę i wyświetl ją od tyłu, ze spacjami pomiędzy cyframi. Przykład : 1234 -> 4 3 2 1."
      ]
    },
    {
      "cell_type": "code",
      "metadata": {
        "id": "w6a4p4XPWlUL"
      },
      "source": [
        "def funkcja1():\n",
        "\n",
        "  tekst = input(\"Wprowadź liczbę: \")\n",
        "  odwrocone = \"\"\n",
        "  length = len(tekst)\n",
        "\n",
        "  for x in range(length):\n",
        "    odwrocone = odwrocone + \" \" + tekst[length-1]\n",
        "    length = length - 1\n",
        "\n",
        "  print(odwrocone)"
      ],
      "execution_count": null,
      "outputs": []
    },
    {
      "cell_type": "code",
      "metadata": {
        "colab": {
          "base_uri": "https://localhost:8080/"
        },
        "id": "xY7qRyQvYamp",
        "outputId": "d21fe8c5-cc61-41ad-c6d0-69955212e406"
      },
      "source": [
        "funkcja1()"
      ],
      "execution_count": null,
      "outputs": [
        {
          "output_type": "stream",
          "text": [
            "Wprowadź liczbę: 789\n",
            " 9 8 7\n"
          ],
          "name": "stdout"
        }
      ]
    },
    {
      "cell_type": "code",
      "metadata": {
        "id": "6D7vlW6SZOoy"
      },
      "source": [
        ""
      ],
      "execution_count": null,
      "outputs": []
    },
    {
      "cell_type": "markdown",
      "metadata": {
        "id": "7oGlwbOeWlUQ"
      },
      "source": [
        "###Podpowiedzi"
      ]
    },
    {
      "cell_type": "code",
      "metadata": {
        "id": "nK1qYectWlUQ"
      },
      "source": [
        "#krok pierwszy - pobierz liczbę od użytkownika\n",
        "#krok drugi - odwróć liczbę, np. z wykorzystaniem indeksowania [::-1]\n",
        "#krok trzeci - stwórz pętlę iterującą po każdym znaku\n",
        "#krok czwarty - wyświetl każdy znak oraz spację po nim, np. za pomocą parametru end=\" \" w funkcji print"
      ],
      "execution_count": null,
      "outputs": []
    },
    {
      "cell_type": "markdown",
      "metadata": {
        "id": "ZSeJW8I6WlUU"
      },
      "source": [
        "###Podpowiedzi + rozwiązanie"
      ]
    },
    {
      "cell_type": "code",
      "metadata": {
        "id": "c-fGneyEWlUW",
        "colab": {
          "base_uri": "https://localhost:8080/"
        },
        "outputId": "9f7bddec-dbc6-457c-86b7-a04a8fd072d5"
      },
      "source": [
        "#krok pierwszy - pobierz liczbę od użytkownika\n",
        "liczba = str(input(\"Podaj liczbę: \"))\n",
        "#krok drugi - odwróć liczbę, np. z wykorzystaniem indeksowania [::-1]\n",
        "liczba = liczba[::-1]\n",
        "#krok trzeci - stwórz pętlę iterującą po każdym znaku\n",
        "for i in range(len(liczba)):\n",
        "  #krok czwarty - wyświetl każdy znak oraz spację po nim, np. za pomocą parametru end=\" \" w funkcji print\n",
        "  print(liczba[i], end=\" \")\n"
      ],
      "execution_count": null,
      "outputs": [
        {
          "output_type": "stream",
          "text": [
            "Podaj liczbę: 121534\n",
            "4 3 5 1 2 1 "
          ],
          "name": "stdout"
        }
      ]
    },
    {
      "cell_type": "markdown",
      "metadata": {
        "id": "7gmiNIv8Wwr5"
      },
      "source": [
        "#Zadanie 12"
      ]
    },
    {
      "cell_type": "markdown",
      "metadata": {
        "id": "oKfSABtbWwr7"
      },
      "source": [
        "Stwórz funkcję, która obliczy ile podatku zapłacisz jako przyszły Data Scientist. Wykorzystaj progi podatkowe :\n",
        "\n",
        "17% dla dochodu rocznego brutto poniżej 85 528zł\n",
        "\n",
        "32% powyżej 85 528zł\n",
        "\n",
        "P.S. Średnio Data Scientist w Polsce zarabia 126 000zł rocznie (10 500zł miesięcznie) wg. platformy [pracuj.pl](https://zarobki.pracuj.pl/stanowiska/badania-i-rozwoj/data-scientist)"
      ]
    },
    {
      "cell_type": "code",
      "metadata": {
        "id": "x7CWz2R_Wwr7"
      },
      "source": [
        "def podatek():\n",
        "\n",
        "  zarobki = int(input(\"Podaj swoje zarobki brutto: \"))\n",
        "  \n",
        "  if zarobki <= 85528:\n",
        "    pod = zarobki * 0.17\n",
        "    print(f\"Zapłacisz {pod} PLN podatku.\")\n",
        "  \n",
        "  else:\n",
        "    pod = 85528 * 0.17 + ((zarobki - 85528)*0.32)\n",
        "    pp = zarobki - 85528\n",
        "    print(f\"Zapłacisz {pod} PLN podatku. Przekroczyłeś próg podatkowy o {pp}.\")"
      ],
      "execution_count": null,
      "outputs": []
    },
    {
      "cell_type": "code",
      "metadata": {
        "colab": {
          "base_uri": "https://localhost:8080/"
        },
        "id": "zUwRjoKvZ8FD",
        "outputId": "a0e21aa6-9d4c-4195-8f83-a3f927434f10"
      },
      "source": [
        "podatek()"
      ],
      "execution_count": null,
      "outputs": [
        {
          "output_type": "stream",
          "text": [
            "Podaj swoje zarobki brutto: 58000\n",
            "Zapłacisz 9860.0 PLN podatku.\n"
          ],
          "name": "stdout"
        }
      ]
    },
    {
      "cell_type": "code",
      "metadata": {
        "colab": {
          "base_uri": "https://localhost:8080/"
        },
        "id": "32vhYS3-bG5h",
        "outputId": "c7b1700c-6aa9-469a-ed72-a9d293f84310"
      },
      "source": [
        "podatek()"
      ],
      "execution_count": null,
      "outputs": [
        {
          "output_type": "stream",
          "text": [
            "Podaj swoje zarobki brutto: 140000\n",
            "Zapłacisz 31970.800000000003 PLN podatku. Przekroczyłeś próg podatkowy o 54472.\n"
          ],
          "name": "stdout"
        }
      ]
    },
    {
      "cell_type": "markdown",
      "metadata": {
        "id": "ipCB6h2aWwsB"
      },
      "source": [
        "###Podpowiedzi"
      ]
    },
    {
      "cell_type": "code",
      "metadata": {
        "id": "pdvYXfoJWwsB"
      },
      "source": [
        "#krok pierwszy - pobierz dochód od użytkownika\n",
        "#krok drugi - zdefiniuj funkcję pobierającą dochód jako argument\n",
        "#krok trzeci - określ niezbędne warunki logiczne i działania matematyczne wewnątrz funkcji\n",
        "#krok czwarty - uruchom funkcję i wydrukuj rezultat."
      ],
      "execution_count": null,
      "outputs": []
    },
    {
      "cell_type": "markdown",
      "metadata": {
        "id": "B7WgLT1lWwsF"
      },
      "source": [
        "###Podpowiedzi + rozwiązanie"
      ]
    },
    {
      "cell_type": "code",
      "metadata": {
        "id": "BuH1oDhgWwsH",
        "colab": {
          "base_uri": "https://localhost:8080/"
        },
        "outputId": "a29deb1c-6e38-48f8-c0f6-a87370bc799b"
      },
      "source": [
        "#krok pierwszy - pobierz dochód od użytkownika\n",
        "dochod=int(input(\"Podaj roczny dochód: \"))\n",
        "#krok drugi - zdefiniuj funkcję pobierającą dochód jako argument\n",
        "def podatek(dochod):\n",
        "  #krok trzeci - określ niezbędne warunki logiczne i działania matematyczne wewnątrz funkcji\n",
        "  if dochod <= 85528:\n",
        "    return dochod*0.17\n",
        "  else:\n",
        "    nadwyzka = dochod-85528 \n",
        "    return 85528*0.17 + nadwyzka*0.32\n",
        "#krok czwarty - uruchom funkcję i wydrukuj rezultat.\n",
        "print(\"Zapłacisz \", podatek(dochod), \"zł podatku\")"
      ],
      "execution_count": null,
      "outputs": [
        {
          "output_type": "stream",
          "text": [
            "Podaj roczny dochód: 126000\n",
            "Zapłacisz  27490.800000000003 zł podatku\n"
          ],
          "name": "stdout"
        }
      ]
    },
    {
      "cell_type": "markdown",
      "metadata": {
        "id": "UpiyMqDSWyzF"
      },
      "source": [
        "#Zadanie 13"
      ]
    },
    {
      "cell_type": "markdown",
      "metadata": {
        "id": "vfmNFEBEWyzG"
      },
      "source": [
        "Napisz funkcję, która pobiera od użytkownika dwa parametry - podstawę potęgi oraz potęgę, do której ma zostać podniesiona podstawa. Podczas definicji ustaw domyślny parametr potęga=2. Oznacza to, że jeśli przy wywołaniu funkcji jako argument zostanie podana wyłącznie podstawa, zostanie ona podniesiona do kwadratu. Następnie wyświetl wynik\n"
      ]
    },
    {
      "cell_type": "code",
      "metadata": {
        "id": "QA2rAiirWyzH"
      },
      "source": [
        "def potegowanie (podstawa, potega = 2):\n",
        "  return podstawa**potega"
      ],
      "execution_count": null,
      "outputs": []
    },
    {
      "cell_type": "code",
      "metadata": {
        "colab": {
          "base_uri": "https://localhost:8080/"
        },
        "id": "p3Tg8s2Sbot5",
        "outputId": "3c0ad8b3-5f01-4cd2-aa95-6be57582d189"
      },
      "source": [
        "potegowanie(2,3)"
      ],
      "execution_count": null,
      "outputs": [
        {
          "output_type": "execute_result",
          "data": {
            "text/plain": [
              "8"
            ]
          },
          "metadata": {
            "tags": []
          },
          "execution_count": 86
        }
      ]
    },
    {
      "cell_type": "code",
      "metadata": {
        "colab": {
          "base_uri": "https://localhost:8080/"
        },
        "id": "KXXN-cNWbq6g",
        "outputId": "51bbf08f-43ad-4537-c564-2185aa940b57"
      },
      "source": [
        "potegowanie(2)"
      ],
      "execution_count": null,
      "outputs": [
        {
          "output_type": "execute_result",
          "data": {
            "text/plain": [
              "4"
            ]
          },
          "metadata": {
            "tags": []
          },
          "execution_count": 87
        }
      ]
    },
    {
      "cell_type": "markdown",
      "metadata": {
        "id": "uvWGk_AWWyzJ"
      },
      "source": [
        "###Podpowiedzi"
      ]
    },
    {
      "cell_type": "code",
      "metadata": {
        "id": "sZaLZ2vjWyzJ"
      },
      "source": [
        "#krok pierwszy - pobierz dane od użytkownika\n",
        "#krok drugi - zdefiniuj funkcję. Aby określić parametry domyślne w funkcji wykorzystaj zapis: def funkcja(podstawa, potega = 2). Wtedy jeśli parametr potega nie zostanie podany, funkcja domyślnie przyjmie wartość 2.\n",
        "#krok trzeci - wydrukuj wyniki"
      ],
      "execution_count": null,
      "outputs": []
    },
    {
      "cell_type": "markdown",
      "metadata": {
        "id": "-s23LSR9WyzN"
      },
      "source": [
        "###Podpowiedzi + rozwiązanie"
      ]
    },
    {
      "cell_type": "code",
      "metadata": {
        "id": "kI9ZtjVrWyzO",
        "colab": {
          "base_uri": "https://localhost:8080/"
        },
        "outputId": "cc375054-79b9-49af-d91b-1718de0cdcb4"
      },
      "source": [
        "#krok pierwszy - pobierz dane od użytkownika\n",
        "podstawa = int(input(\"podaj podstawę potęgi: \"))\n",
        "potega = int(input(\"do której potęgi podnieść podstawę? :\"))\n",
        "#krok drugi - zdefiniuj funkcję. Aby określić parametry domyślne w funkcji wykorzystaj zapis: def funkcja(podstawa, potega = 2). Wtedy jeśli parametr potega nie zostanie podany, funkcja domyślnie przyjmie wartość 2.\n",
        "def potegowanie(podstawa, potega=2):\n",
        "  return podstawa ** potega\n",
        "#krok trzeci - wydrukuj wyniki\n",
        "print(potegowanie(podstawa,potega))\n",
        "print(\"podana liczba do kwadratu wynosi: \", potegowanie(podstawa))"
      ],
      "execution_count": null,
      "outputs": [
        {
          "output_type": "stream",
          "text": [
            "podaj podstawę potęgi: 10\n",
            "do której potęgi podnieść podstawę? :2\n",
            "100\n",
            "podana liczba do kwadratu wynosi:  100\n"
          ],
          "name": "stdout"
        }
      ]
    },
    {
      "cell_type": "markdown",
      "metadata": {
        "id": "RXkw-FS7W1Jz"
      },
      "source": [
        "#Zadanie 14"
      ]
    },
    {
      "cell_type": "markdown",
      "metadata": {
        "id": "hDjakbvPW1J0"
      },
      "source": [
        "Wyświetl tabliczkę mnożenia dla wymiarów podanych przez użytkownika.\n",
        "Oczekiwany output dla wymiarów 10 x 10:\n",
        "\n",
        "1  2 3 4 5 6 7 8 9 10 \t\t\n",
        "2  4 6 8 10 12 14 16 18 20 \t\t\n",
        "3  6 9 12 15 18 21 24 27 30 \t\t\n",
        "4  8 12 16 20 24 28 32 36 40 \t\t\n",
        "5  10 15 20 25 30 35 40 45 50 \t\t\n",
        "6  12 18 24 30 36 42 48 54 60 \t\t\n",
        "7  14 21 28 35 42 49 56 63 70 \t\t\n",
        "8  16 24 32 40 48 56 64 72 80 \t\t\n",
        "9  18 27 36 45 54 63 72 81 90 \t\t\n",
        "10 20 30 40 50 60 70 80 90 100 "
      ]
    },
    {
      "cell_type": "code",
      "metadata": {
        "id": "O9WGnFvUW1J1"
      },
      "source": [
        "def tabliczka():\n",
        "\n",
        "  tab = int(input(\"Do ilu wydrukować tabliczkę mnożenia?: \"))\n",
        "  lista = []\n",
        "\n",
        "  for x in range(1,tab+2):\n",
        "    print(lista)\n",
        "    print(\"\\n\")\n",
        "    lista = []\n",
        "    \n",
        "    for z in range(1,tab+1):\n",
        "      lista.append(z*x)\n"
      ],
      "execution_count": null,
      "outputs": []
    },
    {
      "cell_type": "code",
      "metadata": {
        "colab": {
          "base_uri": "https://localhost:8080/"
        },
        "id": "IK2A-9yLc4A9",
        "outputId": "da22e39f-8e70-454e-86fc-8b51d7e2e815"
      },
      "source": [
        "tabliczka()"
      ],
      "execution_count": null,
      "outputs": [
        {
          "output_type": "stream",
          "text": [
            "Do ilu wydrukować tabliczkę mnożenia?: 10\n",
            "[]\n",
            "\n",
            "\n",
            "[1, 2, 3, 4, 5, 6, 7, 8, 9, 10]\n",
            "\n",
            "\n",
            "[2, 4, 6, 8, 10, 12, 14, 16, 18, 20]\n",
            "\n",
            "\n",
            "[3, 6, 9, 12, 15, 18, 21, 24, 27, 30]\n",
            "\n",
            "\n",
            "[4, 8, 12, 16, 20, 24, 28, 32, 36, 40]\n",
            "\n",
            "\n",
            "[5, 10, 15, 20, 25, 30, 35, 40, 45, 50]\n",
            "\n",
            "\n",
            "[6, 12, 18, 24, 30, 36, 42, 48, 54, 60]\n",
            "\n",
            "\n",
            "[7, 14, 21, 28, 35, 42, 49, 56, 63, 70]\n",
            "\n",
            "\n",
            "[8, 16, 24, 32, 40, 48, 56, 64, 72, 80]\n",
            "\n",
            "\n",
            "[9, 18, 27, 36, 45, 54, 63, 72, 81, 90]\n",
            "\n",
            "\n",
            "[10, 20, 30, 40, 50, 60, 70, 80, 90, 100]\n",
            "\n",
            "\n"
          ],
          "name": "stdout"
        }
      ]
    },
    {
      "cell_type": "markdown",
      "metadata": {
        "id": "Z0fVe47HW1J5"
      },
      "source": [
        "###Podpowiedzi"
      ]
    },
    {
      "cell_type": "code",
      "metadata": {
        "id": "NA-HFS5tW1J5"
      },
      "source": [
        "#krok pierwszy - pobierz wymiary tabliczki mnożenia od użytkownika\n",
        "#krok drugi - ilość przebiegów funkcji jest kończona - wykorzystaj pętlę for.\n",
        "#krok trzeci - wykorzystaj drugą pętlę for do iteracji wewnątrz wiersza \n",
        "#krok czwarty - wydrukuj wynik i separator - spację\n",
        "#krok piąty - stwórz nową linijkę"
      ],
      "execution_count": null,
      "outputs": []
    },
    {
      "cell_type": "markdown",
      "metadata": {
        "id": "gpMuI9PoW1J7"
      },
      "source": [
        "###Podpowiedzi + rozwiązanie"
      ]
    },
    {
      "cell_type": "code",
      "metadata": {
        "id": "B5jG2Re9W1J8",
        "colab": {
          "base_uri": "https://localhost:8080/"
        },
        "outputId": "9417609c-c22f-45ac-e72f-5a35baeeac0e"
      },
      "source": [
        "#krok pierwszy - pobierz wymiary tabliczki mnożenia od użytkownika\n",
        "a = int(input(\"podaj pierwszy wymiar tabliczki mnożenia: \"))\n",
        "b = int(input(\"podaj drugi wymiar tabliczki mnożenia: \"))\n",
        "#krok drugi - ilość przebiegów funkcji jest kończona - wykorzystaj pętlę for.\n",
        "for i in range(1, a+1):\n",
        "#krok trzeci - wykorzystaj drugą pętlę for do iteracji wewnątrz wiersza \n",
        "    for j in range(1, b+1):\n",
        "#krok czwarty - wydrukuj wynik i separator - spację\n",
        "        print(i * j, end=\" \"),\n",
        "#krok piąty - stwórz nową linijkę\n",
        "    print(\"\\t\\t\")\n"
      ],
      "execution_count": null,
      "outputs": [
        {
          "output_type": "stream",
          "text": [
            "podaj pierwszy wymiar tabliczki mnożenia: 10\n",
            "podaj drugi wymiar tabliczki mnożenia: 10\n",
            "1 2 3 4 5 6 7 8 9 10 \t\t\n",
            "2 4 6 8 10 12 14 16 18 20 \t\t\n",
            "3 6 9 12 15 18 21 24 27 30 \t\t\n",
            "4 8 12 16 20 24 28 32 36 40 \t\t\n",
            "5 10 15 20 25 30 35 40 45 50 \t\t\n",
            "6 12 18 24 30 36 42 48 54 60 \t\t\n",
            "7 14 21 28 35 42 49 56 63 70 \t\t\n",
            "8 16 24 32 40 48 56 64 72 80 \t\t\n",
            "9 18 27 36 45 54 63 72 81 90 \t\t\n",
            "10 20 30 40 50 60 70 80 90 100 \t\t\n"
          ],
          "name": "stdout"
        }
      ]
    },
    {
      "cell_type": "markdown",
      "metadata": {
        "id": "0kxBGF3vW32Y"
      },
      "source": [
        "#Zadanie 15"
      ]
    },
    {
      "cell_type": "markdown",
      "metadata": {
        "id": "1yGt5qIMW32Z"
      },
      "source": [
        "Połącz dwa podane słowniki w jeden. Do tego celu stwórz trzeci słownik (będący sumą dwóch pierwszych). Następnie wyświetl trzeci słownik."
      ]
    },
    {
      "cell_type": "code",
      "metadata": {
        "id": "nEXnFWEcW32a"
      },
      "source": [
        "dict1= {'Pizza': 26, 'Burger':21, 'Frytki':7, 'Keczup':1, 'Sałatka':12}\n",
        "dict2= {'Piwo': 7, 'Wino':11, 'Wódka':6, 'Cola':6, 'Woda':3, 'Sok': 5}"
      ],
      "execution_count": null,
      "outputs": []
    },
    {
      "cell_type": "code",
      "metadata": {
        "colab": {
          "base_uri": "https://localhost:8080/"
        },
        "id": "oZFvUScdfvhH",
        "outputId": "a89e2b8a-8579-4a94-ebad-89644585a117"
      },
      "source": [
        "dict3 = {**dict1, **dict2}\n",
        "dict3"
      ],
      "execution_count": null,
      "outputs": [
        {
          "output_type": "execute_result",
          "data": {
            "text/plain": [
              "{'Burger': 21,\n",
              " 'Cola': 6,\n",
              " 'Frytki': 7,\n",
              " 'Keczup': 1,\n",
              " 'Piwo': 7,\n",
              " 'Pizza': 26,\n",
              " 'Sałatka': 12,\n",
              " 'Sok': 5,\n",
              " 'Wino': 11,\n",
              " 'Woda': 3,\n",
              " 'Wódka': 6}"
            ]
          },
          "metadata": {
            "tags": []
          },
          "execution_count": 115
        }
      ]
    },
    {
      "cell_type": "markdown",
      "metadata": {
        "id": "3g3W8RIsW32c"
      },
      "source": [
        "###Podpowiedzi"
      ]
    },
    {
      "cell_type": "code",
      "metadata": {
        "id": "mvBY1BJvW32d"
      },
      "source": [
        "#krok pierwszy = stwórz trzeci słownik. Aby zsumować słowniki wykorzystaj zapis dict3 = {**dict1, **dict2}\n",
        "#krok drugi = wyświetl słownik"
      ],
      "execution_count": null,
      "outputs": []
    },
    {
      "cell_type": "markdown",
      "metadata": {
        "id": "3pVYW6N2W32f"
      },
      "source": [
        "###Podpowiedzi + rozwiązanie"
      ]
    },
    {
      "cell_type": "code",
      "metadata": {
        "id": "M_SsKZ_xW32f",
        "colab": {
          "base_uri": "https://localhost:8080/"
        },
        "outputId": "81aa037f-f4e0-47c2-9d89-2cc557a4d3ac"
      },
      "source": [
        "dict1= {'Pizza': 26, 'Burger':21, 'Frytki':7, 'Keczup':1, 'Sałatka':12}\n",
        "dict2= {'Piwo': 7, 'Wino':11, 'Wódka':6, 'Cola':6, 'Woda':3, 'Sok': 5}\n",
        "#krok pierwszy = stwórz trzeci słownik. Aby zsumować słowniki wykorzystaj zapis dict3 = {**dict1, **dict2}\n",
        "dict3 = {**dict1, **dict2}\n",
        "#krok drugi = wyświetl słownik\n",
        "print(dict3)"
      ],
      "execution_count": null,
      "outputs": [
        {
          "output_type": "stream",
          "text": [
            "{'Pizza': 26, 'Burger': 21, 'Frytki': 7, 'Keczup': 1, 'Sałatka': 12, 'Piwo': 7, 'Wino': 11, 'Wódka': 6, 'Cola': 6, 'Woda': 3, 'Sok': 5}\n"
          ],
          "name": "stdout"
        }
      ]
    }
  ]
}
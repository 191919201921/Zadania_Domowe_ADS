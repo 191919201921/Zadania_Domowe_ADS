{
  "nbformat": 4,
  "nbformat_minor": 0,
  "metadata": {
    "colab": {
      "name": "Kopia notatnika M4PD1V1-Python.ipynb",
      "provenance": [],
      "collapsed_sections": [],
      "toc_visible": true,
      "include_colab_link": true
    },
    "kernelspec": {
      "name": "python3",
      "display_name": "Python 3"
    }
  },
  "cells": [
    {
      "cell_type": "markdown",
      "metadata": {
        "id": "view-in-github",
        "colab_type": "text"
      },
      "source": [
        "<a href=\"https://colab.research.google.com/github/191919201921/Zadania_Domowe_ADS/blob/main/Kopia_notatnika_M4PD1V1_Python.ipynb\" target=\"_parent\"><img src=\"https://colab.research.google.com/assets/colab-badge.svg\" alt=\"Open In Colab\"/></a>"
      ]
    },
    {
      "cell_type": "markdown",
      "metadata": {
        "id": "OE8V528-EIjp"
      },
      "source": [
        "# Modul 4 - Praca domowa - Python"
      ]
    },
    {
      "cell_type": "markdown",
      "metadata": {
        "id": "WDVcAsVjGrUD"
      },
      "source": [
        "Zwykle istnieje wiele sposobów, żeby rozwiązać zadanie w Python. Także czasami warto spróbować opracować kod na 1-2 sposoby :)"
      ]
    },
    {
      "cell_type": "markdown",
      "metadata": {
        "id": "CreP0LsfEBiC"
      },
      "source": [
        "## Zadanie - 1"
      ]
    },
    {
      "cell_type": "markdown",
      "metadata": {
        "id": "T2QbHkSFTvE9"
      },
      "source": [
        "* Stwórz mapę Twojego miasta. \n",
        "* Dodaj na niej punkty z 3 miejscami które najbardziej polecasz do odwiedzenia (np. restauracje, muzea, zoo, plaże itd.). \n",
        "* Zapisz mapę z punktami.\n",
        "* Udostępnij mapę z punktami w grupie na [FB](https://bit.ly/2OSyHaG), podając nazwę miasta!\n",
        "\n",
        "<img src=\"https://media.giphy.com/media/26CaL8cNprN6sz5WU/giphy.gif\" width=\"300\">\n",
        "\n",
        "---\n",
        "Mapę stwórz wykorzystując bibliotekę `folium` a także dla lepszej nawigacji użyj różne ikonki dla punktów, które znajdziesz [TUTAJ...](https://bit.ly/32XsQt8) \n",
        "\n",
        "*Wskazówka: Współrzędne geograficzne można pobierać bezpośrednio z [Mapy Google](https://bit.ly/3hEhM8k), klikając prawym przyciskiem i wybierając \"Co tu jest?\" za czym pojawią się współrzędne miejsca, które zaznaczono.*"
      ]
    },
    {
      "cell_type": "code",
      "metadata": {
        "id": "QSl2qpLCegPy"
      },
      "source": [
        "import folium\r\n",
        "import pandas as pd"
      ],
      "execution_count": null,
      "outputs": []
    },
    {
      "cell_type": "code",
      "metadata": {
        "id": "5kopxJq_phiN"
      },
      "source": [
        "mapa = folium.Map(location = [50.26305855323006, 19.021954165293778],\r\n",
        "                  zoom_start = 13)\r\n",
        "mapa.save(\"katowice.html\")"
      ],
      "execution_count": null,
      "outputs": []
    },
    {
      "cell_type": "code",
      "metadata": {
        "id": "UCzO0wQaqqun",
        "colab": {
          "base_uri": "https://localhost:8080/"
        },
        "outputId": "adbec663-1800-4349-fa78-598c571e0e06"
      },
      "source": [
        "folium.Marker([50.25897065447083, 19.02207259448237], \r\n",
        "              tooltip='Rynek w Katowicach',\r\n",
        "              icon=folium.Icon(icon='home')).add_to(mapa)\r\n",
        "\r\n",
        "folium.Marker([50.265876764010464, 19.02729206017497],\r\n",
        "              tooltip = \"Spodek- hala\",\r\n",
        "              icon = folium.Icon(icon='music', icon_color='purple')).add_to(mapa)\r\n",
        "\r\n",
        "folium.Marker([50.27123024982024, 19.005443133309843],\r\n",
        "              tooltip = \"Centrum Silesia\",\r\n",
        "              icon = folium.Icon(icon= 'shopping-cart',color = 'red')).add_to(mapa)\r\n"
      ],
      "execution_count": null,
      "outputs": [
        {
          "output_type": "execute_result",
          "data": {
            "text/plain": [
              "<folium.map.Marker at 0x7f54695a7710>"
            ]
          },
          "metadata": {
            "tags": []
          },
          "execution_count": 28
        }
      ]
    },
    {
      "cell_type": "code",
      "metadata": {
        "id": "i56lXXNZqiBi"
      },
      "source": [
        "mapa"
      ],
      "execution_count": null,
      "outputs": []
    },
    {
      "cell_type": "markdown",
      "metadata": {
        "id": "wsnY5oghRau3"
      },
      "source": [
        "## Zadanie - 2"
      ]
    },
    {
      "cell_type": "markdown",
      "metadata": {
        "id": "xikVBGt5eeP3"
      },
      "source": [
        "Przygotuj swój raport w Power BI. Wykorzystaj do tego zbiór danych o liczbie wydanych nowych praw jazdy w podziale na województwa, wiek i płeć w okresie 1-5.2020 roku. Spróbuj pokazać jak najwięcej informacji z danych bazując na zasadach wizualizacji danych z [Lekcji 2](https://bit.ly/2BIB4tM). Główne pytania na które warto odpowiedzieć:\n",
        "* W jakim województwie wydano najmniej praw jazdy w okresie `1-5.2020` roku?\n",
        "* W jakim miesiącu wydano najwięcej praw jazdy kobietom wg. wszystkich województw?\n",
        "* Jaka jest tendencja liczby wydawanych praw jazdy bazując na danych od poczatku `2020` roku?\n",
        "* W jakim województwie wydawano najwięcej praw jazdy, ile to `%` od ogólnej liczby? \n",
        "> Do zbudowania raportu wykorzystaj zbiorowy zbiór danych zebranych w okresie od stycznia do maja 2020 roku - **[DANE](https://bit.ly/2EBmlSD)**\n",
        "> *Ten zbiór danych jest informacją publiczną, może być ponownie wykorzystywany bez ograniczeń. [Więcej o źródle danych...](https://bit.ly/33913G1)*\n",
        "\n",
        "<img src=\"https://media.giphy.com/media/3oKIPEqDGUULpEU0aQ/giphy.gif\" width=\"400\">\n"
      ]
    },
    {
      "cell_type": "markdown",
      "metadata": {
        "id": "gxZrmoG78v2P"
      },
      "source": [
        "# Odpowiedzi\r\n",
        "1. Najmniej - Województwo opolskie: 1798.\r\n",
        "2. W styczniu.\r\n",
        "3. Spadkowa.\r\n",
        "4. Mazowieckie, 14,55% ogółu wydanych.\r\n",
        "![dash.PNG](data:image/png;base64,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)\r\n",
        "\r\n"
      ]
    },
    {
      "cell_type": "markdown",
      "metadata": {
        "id": "rG3PrtmJm1sH"
      },
      "source": [
        "## Zadanie - 3"
      ]
    },
    {
      "cell_type": "markdown",
      "metadata": {
        "id": "M5S1cgYorPEd"
      },
      "source": [
        "Przygotój podobne wizualizacje jak w Zadaniu 2 ale wykorzystując do tego `Python`. <br> Staraj się nie kopiować wyglądu wizualizacji a bardziej skupić się na pytaniach, na które próbujesz udzielić odpowiedzi. <br> Po ukończeniu zadania koniecznie podziel się wynikami w grupie na [FB](https://bit.ly/2OSyHaG)! :)<br><br>\n",
        "> Pamiętaj że separatorem w danych jest `|`"
      ]
    },
    {
      "cell_type": "code",
      "metadata": {
        "id": "KEaTwo1TrN8X"
      },
      "source": [
        "import pandas as pd\r\n",
        "import plotly.express as pl\r\n",
        "import plotly.graph_objects as po"
      ],
      "execution_count": null,
      "outputs": []
    },
    {
      "cell_type": "code",
      "metadata": {
        "colab": {
          "base_uri": "https://localhost:8080/",
          "height": 206
        },
        "id": "4JgBcWdZT47I",
        "outputId": "da5ca8ef-65b5-4dec-cbdf-2e1fb4149c1b"
      },
      "source": [
        "#import danych\r\n",
        "#plik usunie się po restarcie - trzeba dodać u siebie do plików\r\n",
        "dane = pd.read_csv('/content/sample_data/nowe_prawa_jazdy_wg_plci_i_wieku(1-5.2020).csv',sep = '|',encoding= 'unicode_escape')\r\n",
        "dane.head()\r\n"
      ],
      "execution_count": null,
      "outputs": [
        {
          "output_type": "execute_result",
          "data": {
            "text/html": [
              "<div>\n",
              "<style scoped>\n",
              "    .dataframe tbody tr th:only-of-type {\n",
              "        vertical-align: middle;\n",
              "    }\n",
              "\n",
              "    .dataframe tbody tr th {\n",
              "        vertical-align: top;\n",
              "    }\n",
              "\n",
              "    .dataframe thead th {\n",
              "        text-align: right;\n",
              "    }\n",
              "</style>\n",
              "<table border=\"1\" class=\"dataframe\">\n",
              "  <thead>\n",
              "    <tr style=\"text-align: right;\">\n",
              "      <th></th>\n",
              "      <th>DATA_MC</th>\n",
              "      <th>KOD_WOJ</th>\n",
              "      <th>WOJEWODZTWO</th>\n",
              "      <th>PLEC</th>\n",
              "      <th>WIEK</th>\n",
              "      <th>LICZBA</th>\n",
              "    </tr>\n",
              "  </thead>\n",
              "  <tbody>\n",
              "    <tr>\n",
              "      <th>0</th>\n",
              "      <td>2020-01</td>\n",
              "      <td>2</td>\n",
              "      <td>WOJ. DOLNOL¥SKIE</td>\n",
              "      <td>K</td>\n",
              "      <td>40</td>\n",
              "      <td>15</td>\n",
              "    </tr>\n",
              "    <tr>\n",
              "      <th>1</th>\n",
              "      <td>2020-01</td>\n",
              "      <td>2</td>\n",
              "      <td>WOJ. DOLNOL¥SKIE</td>\n",
              "      <td>K</td>\n",
              "      <td>36</td>\n",
              "      <td>22</td>\n",
              "    </tr>\n",
              "    <tr>\n",
              "      <th>2</th>\n",
              "      <td>2020-01</td>\n",
              "      <td>2</td>\n",
              "      <td>WOJ. DOLNOL¥SKIE</td>\n",
              "      <td>K</td>\n",
              "      <td>61</td>\n",
              "      <td>1</td>\n",
              "    </tr>\n",
              "    <tr>\n",
              "      <th>3</th>\n",
              "      <td>2020-01</td>\n",
              "      <td>2</td>\n",
              "      <td>WOJ. DOLNOL¥SKIE</td>\n",
              "      <td>K</td>\n",
              "      <td>55</td>\n",
              "      <td>4</td>\n",
              "    </tr>\n",
              "    <tr>\n",
              "      <th>4</th>\n",
              "      <td>2020-01</td>\n",
              "      <td>2</td>\n",
              "      <td>WOJ. DOLNOL¥SKIE</td>\n",
              "      <td>K</td>\n",
              "      <td>56</td>\n",
              "      <td>2</td>\n",
              "    </tr>\n",
              "  </tbody>\n",
              "</table>\n",
              "</div>"
            ],
            "text/plain": [
              "   DATA_MC  KOD_WOJ        WOJEWODZTWO PLEC  WIEK  LICZBA\n",
              "0  2020-01        2  WOJ. DOLNOL¥SKIE    K    40      15\n",
              "1  2020-01        2  WOJ. DOLNOL¥SKIE    K    36      22\n",
              "2  2020-01        2  WOJ. DOLNOL¥SKIE    K    61       1\n",
              "3  2020-01        2  WOJ. DOLNOL¥SKIE    K    55       4\n",
              "4  2020-01        2  WOJ. DOLNOL¥SKIE    K    56       2"
            ]
          },
          "metadata": {
            "tags": []
          },
          "execution_count": 17
        }
      ]
    },
    {
      "cell_type": "code",
      "metadata": {
        "colab": {
          "base_uri": "https://localhost:8080/"
        },
        "id": "p3epE3xOXlBm",
        "outputId": "508e79d9-04d1-43f7-c422-377ab2da1fc3"
      },
      "source": [
        "print(dane.shape)"
      ],
      "execution_count": null,
      "outputs": [
        {
          "output_type": "stream",
          "text": [
            "(4954, 6)\n"
          ],
          "name": "stdout"
        }
      ]
    },
    {
      "cell_type": "code",
      "metadata": {
        "colab": {
          "base_uri": "https://localhost:8080/",
          "height": 206
        },
        "id": "gGVtXWfSY5Gu",
        "outputId": "6ad6a3ed-99f5-4444-8660-610c175b612c"
      },
      "source": [
        "dane1 = dane.groupby([\"WOJEWODZTWO\"])[\"LICZBA\"].sum().reset_index()\r\n",
        "dane1.head()"
      ],
      "execution_count": null,
      "outputs": [
        {
          "output_type": "execute_result",
          "data": {
            "text/html": [
              "<div>\n",
              "<style scoped>\n",
              "    .dataframe tbody tr th:only-of-type {\n",
              "        vertical-align: middle;\n",
              "    }\n",
              "\n",
              "    .dataframe tbody tr th {\n",
              "        vertical-align: top;\n",
              "    }\n",
              "\n",
              "    .dataframe thead th {\n",
              "        text-align: right;\n",
              "    }\n",
              "</style>\n",
              "<table border=\"1\" class=\"dataframe\">\n",
              "  <thead>\n",
              "    <tr style=\"text-align: right;\">\n",
              "      <th></th>\n",
              "      <th>WOJEWODZTWO</th>\n",
              "      <th>LICZBA</th>\n",
              "    </tr>\n",
              "  </thead>\n",
              "  <tbody>\n",
              "    <tr>\n",
              "      <th>0</th>\n",
              "      <td>WOJ. DOLNOL¥SKIE</td>\n",
              "      <td>6596</td>\n",
              "    </tr>\n",
              "    <tr>\n",
              "      <th>1</th>\n",
              "      <td>WOJ. KUJAWSKO-POMORSKIE</td>\n",
              "      <td>4349</td>\n",
              "    </tr>\n",
              "    <tr>\n",
              "      <th>2</th>\n",
              "      <td>WOJ. LUBELSKIE</td>\n",
              "      <td>4969</td>\n",
              "    </tr>\n",
              "    <tr>\n",
              "      <th>3</th>\n",
              "      <td>WOJ. LUBUSKIE</td>\n",
              "      <td>2408</td>\n",
              "    </tr>\n",
              "    <tr>\n",
              "      <th>4</th>\n",
              "      <td>WOJ. MAZOWIECKIE</td>\n",
              "      <td>11408</td>\n",
              "    </tr>\n",
              "  </tbody>\n",
              "</table>\n",
              "</div>"
            ],
            "text/plain": [
              "               WOJEWODZTWO  LICZBA\n",
              "0        WOJ. DOLNOL¥SKIE    6596\n",
              "1  WOJ. KUJAWSKO-POMORSKIE    4349\n",
              "2           WOJ. LUBELSKIE    4969\n",
              "3            WOJ. LUBUSKIE    2408\n",
              "4         WOJ. MAZOWIECKIE   11408"
            ]
          },
          "metadata": {
            "tags": []
          },
          "execution_count": 33
        }
      ]
    },
    {
      "cell_type": "code",
      "metadata": {
        "colab": {
          "base_uri": "https://localhost:8080/",
          "height": 542
        },
        "id": "a4VktevQaAyS",
        "outputId": "857ddf0c-be73-4e9f-c4f2-5be8761517e7"
      },
      "source": [
        "liczba_wydanych = pl.bar(\r\n",
        "    dane1,\r\n",
        "    x = \"WOJEWODZTWO\",\r\n",
        "    y = \"LICZBA\",\r\n",
        "    title = \"Liczba wydanych praw jazdy ogółem w Województwach.\",\r\n",
        "    color = 'LICZBA'\r\n",
        ")\r\n",
        "\r\n",
        "liczba_wydanych.show()"
      ],
      "execution_count": null,
      "outputs": [
        {
          "output_type": "display_data",
          "data": {
            "text/html": [
              "<html>\n",
              "<head><meta charset=\"utf-8\" /></head>\n",
              "<body>\n",
              "    <div>\n",
              "            <script src=\"https://cdnjs.cloudflare.com/ajax/libs/mathjax/2.7.5/MathJax.js?config=TeX-AMS-MML_SVG\"></script><script type=\"text/javascript\">if (window.MathJax) {MathJax.Hub.Config({SVG: {font: \"STIX-Web\"}});}</script>\n",
              "                <script type=\"text/javascript\">window.PlotlyConfig = {MathJaxConfig: 'local'};</script>\n",
              "        <script src=\"https://cdn.plot.ly/plotly-latest.min.js\"></script>    \n",
              "            <div id=\"c046c8dc-9a97-4b26-b088-e5c428b80491\" class=\"plotly-graph-div\" style=\"height:525px; width:100%;\"></div>\n",
              "            <script type=\"text/javascript\">\n",
              "                \n",
              "                    window.PLOTLYENV=window.PLOTLYENV || {};\n",
              "                    \n",
              "                if (document.getElementById(\"c046c8dc-9a97-4b26-b088-e5c428b80491\")) {\n",
              "                    Plotly.newPlot(\n",
              "                        'c046c8dc-9a97-4b26-b088-e5c428b80491',\n",
              "                        [{\"alignmentgroup\": \"True\", \"hoverlabel\": {\"namelength\": 0}, \"hovertemplate\": \"WOJEWODZTWO=%{x}<br>LICZBA=%{marker.color}\", \"legendgroup\": \"\", \"marker\": {\"color\": [6596, 4349, 4969, 2408, 11408, 6503, 1798, 4199, 2873, 4444, 3100, 7611, 3342, 7801, 2301, 4685], \"coloraxis\": \"coloraxis\"}, \"name\": \"\", \"offsetgroup\": \"\", \"orientation\": \"v\", \"showlegend\": false, \"textposition\": \"auto\", \"type\": \"bar\", \"x\": [\"WOJ. DOLNO\\u008cL\\u00a5SKIE\", \"WOJ. KUJAWSKO-POMORSKIE\", \"WOJ. LUBELSKIE\", \"WOJ. LUBUSKIE\", \"WOJ. MAZOWIECKIE\", \"WOJ. MA\\u00a3OPOLSKIE\", \"WOJ. OPOLSKIE\", \"WOJ. PODKARPACKIE\", \"WOJ. PODLASKIE\", \"WOJ. POMORSKIE\", \"WOJ. WARMI\\u00d1SKO-MAZURSKIE\", \"WOJ. WIELKOPOLSKIE\", \"WOJ. ZACHODNIOPOMORSKIE\", \"WOJ. \\u008cL\\u00a5SKIE\", \"WOJ. \\u008cWI\\u00caTOKRZYSKIE\", \"WOJ. \\u00a3\\u00d3DZKIE\"], \"xaxis\": \"x\", \"y\": [6596, 4349, 4969, 2408, 11408, 6503, 1798, 4199, 2873, 4444, 3100, 7611, 3342, 7801, 2301, 4685], \"yaxis\": \"y\"}],\n",
              "                        {\"barmode\": \"relative\", \"coloraxis\": {\"colorbar\": {\"title\": {\"text\": \"LICZBA\"}}, \"colorscale\": [[0.0, \"#0d0887\"], [0.1111111111111111, \"#46039f\"], [0.2222222222222222, \"#7201a8\"], [0.3333333333333333, \"#9c179e\"], [0.4444444444444444, \"#bd3786\"], [0.5555555555555556, \"#d8576b\"], [0.6666666666666666, \"#ed7953\"], [0.7777777777777778, \"#fb9f3a\"], [0.8888888888888888, \"#fdca26\"], [1.0, \"#f0f921\"]]}, \"legend\": {\"tracegroupgap\": 0}, \"template\": {\"data\": {\"bar\": [{\"error_x\": {\"color\": \"#2a3f5f\"}, \"error_y\": {\"color\": \"#2a3f5f\"}, \"marker\": {\"line\": {\"color\": \"#E5ECF6\", \"width\": 0.5}}, \"type\": \"bar\"}], \"barpolar\": [{\"marker\": {\"line\": {\"color\": \"#E5ECF6\", \"width\": 0.5}}, \"type\": \"barpolar\"}], \"carpet\": [{\"aaxis\": {\"endlinecolor\": \"#2a3f5f\", \"gridcolor\": \"white\", \"linecolor\": \"white\", \"minorgridcolor\": \"white\", \"startlinecolor\": \"#2a3f5f\"}, \"baxis\": {\"endlinecolor\": \"#2a3f5f\", \"gridcolor\": \"white\", \"linecolor\": \"white\", \"minorgridcolor\": \"white\", \"startlinecolor\": \"#2a3f5f\"}, \"type\": \"carpet\"}], \"choropleth\": [{\"colorbar\": {\"outlinewidth\": 0, \"ticks\": \"\"}, \"type\": \"choropleth\"}], \"contour\": [{\"colorbar\": {\"outlinewidth\": 0, \"ticks\": \"\"}, \"colorscale\": [[0.0, \"#0d0887\"], [0.1111111111111111, \"#46039f\"], [0.2222222222222222, \"#7201a8\"], [0.3333333333333333, \"#9c179e\"], [0.4444444444444444, \"#bd3786\"], [0.5555555555555556, \"#d8576b\"], [0.6666666666666666, \"#ed7953\"], [0.7777777777777778, \"#fb9f3a\"], [0.8888888888888888, \"#fdca26\"], [1.0, \"#f0f921\"]], \"type\": \"contour\"}], \"contourcarpet\": [{\"colorbar\": {\"outlinewidth\": 0, \"ticks\": \"\"}, \"type\": \"contourcarpet\"}], \"heatmap\": [{\"colorbar\": {\"outlinewidth\": 0, \"ticks\": \"\"}, \"colorscale\": [[0.0, \"#0d0887\"], [0.1111111111111111, \"#46039f\"], [0.2222222222222222, \"#7201a8\"], [0.3333333333333333, \"#9c179e\"], [0.4444444444444444, \"#bd3786\"], [0.5555555555555556, \"#d8576b\"], [0.6666666666666666, \"#ed7953\"], [0.7777777777777778, \"#fb9f3a\"], [0.8888888888888888, \"#fdca26\"], [1.0, \"#f0f921\"]], \"type\": \"heatmap\"}], \"heatmapgl\": [{\"colorbar\": {\"outlinewidth\": 0, \"ticks\": \"\"}, \"colorscale\": [[0.0, \"#0d0887\"], [0.1111111111111111, \"#46039f\"], [0.2222222222222222, \"#7201a8\"], [0.3333333333333333, \"#9c179e\"], [0.4444444444444444, \"#bd3786\"], [0.5555555555555556, \"#d8576b\"], [0.6666666666666666, \"#ed7953\"], [0.7777777777777778, \"#fb9f3a\"], [0.8888888888888888, \"#fdca26\"], [1.0, \"#f0f921\"]], \"type\": \"heatmapgl\"}], \"histogram\": [{\"marker\": {\"colorbar\": {\"outlinewidth\": 0, \"ticks\": \"\"}}, \"type\": \"histogram\"}], \"histogram2d\": [{\"colorbar\": {\"outlinewidth\": 0, \"ticks\": \"\"}, \"colorscale\": [[0.0, \"#0d0887\"], [0.1111111111111111, \"#46039f\"], [0.2222222222222222, \"#7201a8\"], [0.3333333333333333, \"#9c179e\"], [0.4444444444444444, \"#bd3786\"], [0.5555555555555556, \"#d8576b\"], [0.6666666666666666, \"#ed7953\"], [0.7777777777777778, \"#fb9f3a\"], [0.8888888888888888, \"#fdca26\"], [1.0, \"#f0f921\"]], \"type\": \"histogram2d\"}], \"histogram2dcontour\": [{\"colorbar\": {\"outlinewidth\": 0, \"ticks\": \"\"}, \"colorscale\": [[0.0, \"#0d0887\"], [0.1111111111111111, \"#46039f\"], [0.2222222222222222, \"#7201a8\"], [0.3333333333333333, \"#9c179e\"], [0.4444444444444444, \"#bd3786\"], [0.5555555555555556, \"#d8576b\"], [0.6666666666666666, \"#ed7953\"], [0.7777777777777778, \"#fb9f3a\"], [0.8888888888888888, \"#fdca26\"], [1.0, \"#f0f921\"]], \"type\": \"histogram2dcontour\"}], \"mesh3d\": [{\"colorbar\": {\"outlinewidth\": 0, \"ticks\": \"\"}, \"type\": \"mesh3d\"}], \"parcoords\": [{\"line\": {\"colorbar\": {\"outlinewidth\": 0, \"ticks\": \"\"}}, \"type\": \"parcoords\"}], \"pie\": [{\"automargin\": true, \"type\": \"pie\"}], \"scatter\": [{\"marker\": {\"colorbar\": {\"outlinewidth\": 0, \"ticks\": \"\"}}, \"type\": \"scatter\"}], \"scatter3d\": [{\"line\": {\"colorbar\": {\"outlinewidth\": 0, \"ticks\": \"\"}}, \"marker\": {\"colorbar\": {\"outlinewidth\": 0, \"ticks\": \"\"}}, \"type\": \"scatter3d\"}], \"scattercarpet\": [{\"marker\": {\"colorbar\": {\"outlinewidth\": 0, \"ticks\": \"\"}}, \"type\": \"scattercarpet\"}], \"scattergeo\": [{\"marker\": {\"colorbar\": {\"outlinewidth\": 0, \"ticks\": \"\"}}, \"type\": \"scattergeo\"}], \"scattergl\": [{\"marker\": {\"colorbar\": {\"outlinewidth\": 0, \"ticks\": \"\"}}, \"type\": \"scattergl\"}], \"scattermapbox\": [{\"marker\": {\"colorbar\": {\"outlinewidth\": 0, \"ticks\": \"\"}}, \"type\": \"scattermapbox\"}], \"scatterpolar\": [{\"marker\": {\"colorbar\": {\"outlinewidth\": 0, \"ticks\": \"\"}}, \"type\": \"scatterpolar\"}], \"scatterpolargl\": [{\"marker\": {\"colorbar\": {\"outlinewidth\": 0, \"ticks\": \"\"}}, \"type\": \"scatterpolargl\"}], \"scatterternary\": [{\"marker\": {\"colorbar\": {\"outlinewidth\": 0, \"ticks\": \"\"}}, \"type\": \"scatterternary\"}], \"surface\": [{\"colorbar\": {\"outlinewidth\": 0, \"ticks\": \"\"}, \"colorscale\": [[0.0, \"#0d0887\"], [0.1111111111111111, \"#46039f\"], [0.2222222222222222, \"#7201a8\"], [0.3333333333333333, \"#9c179e\"], [0.4444444444444444, \"#bd3786\"], [0.5555555555555556, \"#d8576b\"], [0.6666666666666666, \"#ed7953\"], [0.7777777777777778, \"#fb9f3a\"], [0.8888888888888888, \"#fdca26\"], [1.0, \"#f0f921\"]], \"type\": \"surface\"}], \"table\": [{\"cells\": {\"fill\": {\"color\": \"#EBF0F8\"}, \"line\": {\"color\": \"white\"}}, \"header\": {\"fill\": {\"color\": \"#C8D4E3\"}, \"line\": {\"color\": \"white\"}}, \"type\": \"table\"}]}, \"layout\": {\"annotationdefaults\": {\"arrowcolor\": \"#2a3f5f\", \"arrowhead\": 0, \"arrowwidth\": 1}, \"coloraxis\": {\"colorbar\": {\"outlinewidth\": 0, \"ticks\": \"\"}}, \"colorscale\": {\"diverging\": [[0, \"#8e0152\"], [0.1, \"#c51b7d\"], [0.2, \"#de77ae\"], [0.3, \"#f1b6da\"], [0.4, \"#fde0ef\"], [0.5, \"#f7f7f7\"], [0.6, \"#e6f5d0\"], [0.7, \"#b8e186\"], [0.8, \"#7fbc41\"], [0.9, \"#4d9221\"], [1, \"#276419\"]], \"sequential\": [[0.0, \"#0d0887\"], [0.1111111111111111, \"#46039f\"], [0.2222222222222222, \"#7201a8\"], [0.3333333333333333, \"#9c179e\"], [0.4444444444444444, \"#bd3786\"], [0.5555555555555556, \"#d8576b\"], [0.6666666666666666, \"#ed7953\"], [0.7777777777777778, \"#fb9f3a\"], [0.8888888888888888, \"#fdca26\"], [1.0, \"#f0f921\"]], \"sequentialminus\": [[0.0, \"#0d0887\"], [0.1111111111111111, \"#46039f\"], [0.2222222222222222, \"#7201a8\"], [0.3333333333333333, \"#9c179e\"], [0.4444444444444444, \"#bd3786\"], [0.5555555555555556, \"#d8576b\"], [0.6666666666666666, \"#ed7953\"], [0.7777777777777778, \"#fb9f3a\"], [0.8888888888888888, \"#fdca26\"], [1.0, \"#f0f921\"]]}, \"colorway\": [\"#636efa\", \"#EF553B\", \"#00cc96\", \"#ab63fa\", \"#FFA15A\", \"#19d3f3\", \"#FF6692\", \"#B6E880\", \"#FF97FF\", \"#FECB52\"], \"font\": {\"color\": \"#2a3f5f\"}, \"geo\": {\"bgcolor\": \"white\", \"lakecolor\": \"white\", \"landcolor\": \"#E5ECF6\", \"showlakes\": true, \"showland\": true, \"subunitcolor\": \"white\"}, \"hoverlabel\": {\"align\": \"left\"}, \"hovermode\": \"closest\", \"mapbox\": {\"style\": \"light\"}, \"paper_bgcolor\": \"white\", \"plot_bgcolor\": \"#E5ECF6\", \"polar\": {\"angularaxis\": {\"gridcolor\": \"white\", \"linecolor\": \"white\", \"ticks\": \"\"}, \"bgcolor\": \"#E5ECF6\", \"radialaxis\": {\"gridcolor\": \"white\", \"linecolor\": \"white\", \"ticks\": \"\"}}, \"scene\": {\"xaxis\": {\"backgroundcolor\": \"#E5ECF6\", \"gridcolor\": \"white\", \"gridwidth\": 2, \"linecolor\": \"white\", \"showbackground\": true, \"ticks\": \"\", \"zerolinecolor\": \"white\"}, \"yaxis\": {\"backgroundcolor\": \"#E5ECF6\", \"gridcolor\": \"white\", \"gridwidth\": 2, \"linecolor\": \"white\", \"showbackground\": true, \"ticks\": \"\", \"zerolinecolor\": \"white\"}, \"zaxis\": {\"backgroundcolor\": \"#E5ECF6\", \"gridcolor\": \"white\", \"gridwidth\": 2, \"linecolor\": \"white\", \"showbackground\": true, \"ticks\": \"\", \"zerolinecolor\": \"white\"}}, \"shapedefaults\": {\"line\": {\"color\": \"#2a3f5f\"}}, \"ternary\": {\"aaxis\": {\"gridcolor\": \"white\", \"linecolor\": \"white\", \"ticks\": \"\"}, \"baxis\": {\"gridcolor\": \"white\", \"linecolor\": \"white\", \"ticks\": \"\"}, \"bgcolor\": \"#E5ECF6\", \"caxis\": {\"gridcolor\": \"white\", \"linecolor\": \"white\", \"ticks\": \"\"}}, \"title\": {\"x\": 0.05}, \"xaxis\": {\"automargin\": true, \"gridcolor\": \"white\", \"linecolor\": \"white\", \"ticks\": \"\", \"title\": {\"standoff\": 15}, \"zerolinecolor\": \"white\", \"zerolinewidth\": 2}, \"yaxis\": {\"automargin\": true, \"gridcolor\": \"white\", \"linecolor\": \"white\", \"ticks\": \"\", \"title\": {\"standoff\": 15}, \"zerolinecolor\": \"white\", \"zerolinewidth\": 2}}}, \"title\": {\"text\": \"Liczba wydanych praw jazdy og\\u00f3\\u0142em w Wojew\\u00f3dztwach.\"}, \"xaxis\": {\"anchor\": \"y\", \"domain\": [0.0, 1.0], \"title\": {\"text\": \"WOJEWODZTWO\"}}, \"yaxis\": {\"anchor\": \"x\", \"domain\": [0.0, 1.0], \"title\": {\"text\": \"LICZBA\"}}},\n",
              "                        {\"responsive\": true}\n",
              "                    ).then(function(){\n",
              "                            \n",
              "var gd = document.getElementById('c046c8dc-9a97-4b26-b088-e5c428b80491');\n",
              "var x = new MutationObserver(function (mutations, observer) {{\n",
              "        var display = window.getComputedStyle(gd).display;\n",
              "        if (!display || display === 'none') {{\n",
              "            console.log([gd, 'removed!']);\n",
              "            Plotly.purge(gd);\n",
              "            observer.disconnect();\n",
              "        }}\n",
              "}});\n",
              "\n",
              "// Listen for the removal of the full notebook cells\n",
              "var notebookContainer = gd.closest('#notebook-container');\n",
              "if (notebookContainer) {{\n",
              "    x.observe(notebookContainer, {childList: true});\n",
              "}}\n",
              "\n",
              "// Listen for the clearing of the current output cell\n",
              "var outputEl = gd.closest('.output');\n",
              "if (outputEl) {{\n",
              "    x.observe(outputEl, {childList: true});\n",
              "}}\n",
              "\n",
              "                        })\n",
              "                };\n",
              "                \n",
              "            </script>\n",
              "        </div>\n",
              "</body>\n",
              "</html>"
            ]
          },
          "metadata": {
            "tags": []
          }
        }
      ]
    },
    {
      "cell_type": "code",
      "metadata": {
        "colab": {
          "base_uri": "https://localhost:8080/",
          "height": 206
        },
        "id": "UzOvNEV9cARU",
        "outputId": "91625f89-f0cc-45c5-a80f-afdb019b7493"
      },
      "source": [
        "dane2 = dane.groupby([\"DATA_MC\",\"PLEC\"])[\"LICZBA\"].sum().reset_index()\r\n",
        "dane2 = dane2[dane2['PLEC'] == 'K']\r\n",
        "dane2.head()"
      ],
      "execution_count": null,
      "outputs": [
        {
          "output_type": "execute_result",
          "data": {
            "text/html": [
              "<div>\n",
              "<style scoped>\n",
              "    .dataframe tbody tr th:only-of-type {\n",
              "        vertical-align: middle;\n",
              "    }\n",
              "\n",
              "    .dataframe tbody tr th {\n",
              "        vertical-align: top;\n",
              "    }\n",
              "\n",
              "    .dataframe thead th {\n",
              "        text-align: right;\n",
              "    }\n",
              "</style>\n",
              "<table border=\"1\" class=\"dataframe\">\n",
              "  <thead>\n",
              "    <tr style=\"text-align: right;\">\n",
              "      <th></th>\n",
              "      <th>DATA_MC</th>\n",
              "      <th>PLEC</th>\n",
              "      <th>LICZBA</th>\n",
              "    </tr>\n",
              "  </thead>\n",
              "  <tbody>\n",
              "    <tr>\n",
              "      <th>0</th>\n",
              "      <td>2020-01</td>\n",
              "      <td>K</td>\n",
              "      <td>14227</td>\n",
              "    </tr>\n",
              "    <tr>\n",
              "      <th>2</th>\n",
              "      <td>2020-02</td>\n",
              "      <td>K</td>\n",
              "      <td>13600</td>\n",
              "    </tr>\n",
              "    <tr>\n",
              "      <th>4</th>\n",
              "      <td>2020-03</td>\n",
              "      <td>K</td>\n",
              "      <td>7297</td>\n",
              "    </tr>\n",
              "    <tr>\n",
              "      <th>6</th>\n",
              "      <td>2020-04</td>\n",
              "      <td>K</td>\n",
              "      <td>332</td>\n",
              "    </tr>\n",
              "    <tr>\n",
              "      <th>8</th>\n",
              "      <td>2020-05</td>\n",
              "      <td>K</td>\n",
              "      <td>4021</td>\n",
              "    </tr>\n",
              "  </tbody>\n",
              "</table>\n",
              "</div>"
            ],
            "text/plain": [
              "   DATA_MC PLEC  LICZBA\n",
              "0  2020-01    K   14227\n",
              "2  2020-02    K   13600\n",
              "4  2020-03    K    7297\n",
              "6  2020-04    K     332\n",
              "8  2020-05    K    4021"
            ]
          },
          "metadata": {
            "tags": []
          },
          "execution_count": 44
        }
      ]
    },
    {
      "cell_type": "code",
      "metadata": {
        "colab": {
          "base_uri": "https://localhost:8080/",
          "height": 542
        },
        "id": "ffrNOH-BeKWg",
        "outputId": "3d287215-daea-4825-c6f4-16ecfa64eef1"
      },
      "source": [
        "liczba_kobiety = pl.bar(\r\n",
        "    dane2,\r\n",
        "    x = \"LICZBA\",\r\n",
        "    y = \"DATA_MC\",\r\n",
        "    color = \"LICZBA\",\r\n",
        "    orientation = \"h\"\r\n",
        ")\r\n",
        "\r\n",
        "liczba_kobiety.show()"
      ],
      "execution_count": null,
      "outputs": [
        {
          "output_type": "display_data",
          "data": {
            "text/html": [
              "<html>\n",
              "<head><meta charset=\"utf-8\" /></head>\n",
              "<body>\n",
              "    <div>\n",
              "            <script src=\"https://cdnjs.cloudflare.com/ajax/libs/mathjax/2.7.5/MathJax.js?config=TeX-AMS-MML_SVG\"></script><script type=\"text/javascript\">if (window.MathJax) {MathJax.Hub.Config({SVG: {font: \"STIX-Web\"}});}</script>\n",
              "                <script type=\"text/javascript\">window.PlotlyConfig = {MathJaxConfig: 'local'};</script>\n",
              "        <script src=\"https://cdn.plot.ly/plotly-latest.min.js\"></script>    \n",
              "            <div id=\"5318f256-9317-4daf-ba7e-ee7909857474\" class=\"plotly-graph-div\" style=\"height:525px; width:100%;\"></div>\n",
              "            <script type=\"text/javascript\">\n",
              "                \n",
              "                    window.PLOTLYENV=window.PLOTLYENV || {};\n",
              "                    \n",
              "                if (document.getElementById(\"5318f256-9317-4daf-ba7e-ee7909857474\")) {\n",
              "                    Plotly.newPlot(\n",
              "                        '5318f256-9317-4daf-ba7e-ee7909857474',\n",
              "                        [{\"alignmentgroup\": \"True\", \"hoverlabel\": {\"namelength\": 0}, \"hovertemplate\": \"LICZBA=%{marker.color}<br>DATA_MC=%{y}\", \"legendgroup\": \"\", \"marker\": {\"color\": [14227, 13600, 7297, 332, 4021], \"coloraxis\": \"coloraxis\"}, \"name\": \"\", \"offsetgroup\": \"\", \"orientation\": \"h\", \"showlegend\": false, \"textposition\": \"auto\", \"type\": \"bar\", \"x\": [14227, 13600, 7297, 332, 4021], \"xaxis\": \"x\", \"y\": [\"2020-01\", \"2020-02\", \"2020-03\", \"2020-04\", \"2020-05\"], \"yaxis\": \"y\"}],\n",
              "                        {\"barmode\": \"relative\", \"coloraxis\": {\"colorbar\": {\"title\": {\"text\": \"LICZBA\"}}, \"colorscale\": [[0.0, \"#0d0887\"], [0.1111111111111111, \"#46039f\"], [0.2222222222222222, \"#7201a8\"], [0.3333333333333333, \"#9c179e\"], [0.4444444444444444, \"#bd3786\"], [0.5555555555555556, \"#d8576b\"], [0.6666666666666666, \"#ed7953\"], [0.7777777777777778, \"#fb9f3a\"], [0.8888888888888888, \"#fdca26\"], [1.0, \"#f0f921\"]]}, \"legend\": {\"tracegroupgap\": 0}, \"margin\": {\"t\": 60}, \"template\": {\"data\": {\"bar\": [{\"error_x\": {\"color\": \"#2a3f5f\"}, \"error_y\": {\"color\": \"#2a3f5f\"}, \"marker\": {\"line\": {\"color\": \"#E5ECF6\", \"width\": 0.5}}, \"type\": \"bar\"}], \"barpolar\": [{\"marker\": {\"line\": {\"color\": \"#E5ECF6\", \"width\": 0.5}}, \"type\": \"barpolar\"}], \"carpet\": [{\"aaxis\": {\"endlinecolor\": \"#2a3f5f\", \"gridcolor\": \"white\", \"linecolor\": \"white\", \"minorgridcolor\": \"white\", \"startlinecolor\": \"#2a3f5f\"}, \"baxis\": {\"endlinecolor\": \"#2a3f5f\", \"gridcolor\": \"white\", \"linecolor\": \"white\", \"minorgridcolor\": \"white\", \"startlinecolor\": \"#2a3f5f\"}, \"type\": \"carpet\"}], \"choropleth\": [{\"colorbar\": {\"outlinewidth\": 0, \"ticks\": \"\"}, \"type\": \"choropleth\"}], \"contour\": [{\"colorbar\": {\"outlinewidth\": 0, \"ticks\": \"\"}, \"colorscale\": [[0.0, \"#0d0887\"], [0.1111111111111111, \"#46039f\"], [0.2222222222222222, \"#7201a8\"], [0.3333333333333333, \"#9c179e\"], [0.4444444444444444, \"#bd3786\"], [0.5555555555555556, \"#d8576b\"], [0.6666666666666666, \"#ed7953\"], [0.7777777777777778, \"#fb9f3a\"], [0.8888888888888888, \"#fdca26\"], [1.0, \"#f0f921\"]], \"type\": \"contour\"}], \"contourcarpet\": [{\"colorbar\": {\"outlinewidth\": 0, \"ticks\": \"\"}, \"type\": \"contourcarpet\"}], \"heatmap\": [{\"colorbar\": {\"outlinewidth\": 0, \"ticks\": \"\"}, \"colorscale\": [[0.0, \"#0d0887\"], [0.1111111111111111, \"#46039f\"], [0.2222222222222222, \"#7201a8\"], [0.3333333333333333, \"#9c179e\"], [0.4444444444444444, \"#bd3786\"], [0.5555555555555556, \"#d8576b\"], [0.6666666666666666, \"#ed7953\"], [0.7777777777777778, \"#fb9f3a\"], [0.8888888888888888, \"#fdca26\"], [1.0, \"#f0f921\"]], \"type\": \"heatmap\"}], \"heatmapgl\": [{\"colorbar\": {\"outlinewidth\": 0, \"ticks\": \"\"}, \"colorscale\": [[0.0, \"#0d0887\"], [0.1111111111111111, \"#46039f\"], [0.2222222222222222, \"#7201a8\"], [0.3333333333333333, \"#9c179e\"], [0.4444444444444444, \"#bd3786\"], [0.5555555555555556, \"#d8576b\"], [0.6666666666666666, \"#ed7953\"], [0.7777777777777778, \"#fb9f3a\"], [0.8888888888888888, \"#fdca26\"], [1.0, \"#f0f921\"]], \"type\": \"heatmapgl\"}], \"histogram\": [{\"marker\": {\"colorbar\": {\"outlinewidth\": 0, \"ticks\": \"\"}}, \"type\": \"histogram\"}], \"histogram2d\": [{\"colorbar\": {\"outlinewidth\": 0, \"ticks\": \"\"}, \"colorscale\": [[0.0, \"#0d0887\"], [0.1111111111111111, \"#46039f\"], [0.2222222222222222, \"#7201a8\"], [0.3333333333333333, \"#9c179e\"], [0.4444444444444444, \"#bd3786\"], [0.5555555555555556, \"#d8576b\"], [0.6666666666666666, \"#ed7953\"], [0.7777777777777778, \"#fb9f3a\"], [0.8888888888888888, \"#fdca26\"], [1.0, \"#f0f921\"]], \"type\": \"histogram2d\"}], \"histogram2dcontour\": [{\"colorbar\": {\"outlinewidth\": 0, \"ticks\": \"\"}, \"colorscale\": [[0.0, \"#0d0887\"], [0.1111111111111111, \"#46039f\"], [0.2222222222222222, \"#7201a8\"], [0.3333333333333333, \"#9c179e\"], [0.4444444444444444, \"#bd3786\"], [0.5555555555555556, \"#d8576b\"], [0.6666666666666666, \"#ed7953\"], [0.7777777777777778, \"#fb9f3a\"], [0.8888888888888888, \"#fdca26\"], [1.0, \"#f0f921\"]], \"type\": \"histogram2dcontour\"}], \"mesh3d\": [{\"colorbar\": {\"outlinewidth\": 0, \"ticks\": \"\"}, \"type\": \"mesh3d\"}], \"parcoords\": [{\"line\": {\"colorbar\": {\"outlinewidth\": 0, \"ticks\": \"\"}}, \"type\": \"parcoords\"}], \"pie\": [{\"automargin\": true, \"type\": \"pie\"}], \"scatter\": [{\"marker\": {\"colorbar\": {\"outlinewidth\": 0, \"ticks\": \"\"}}, \"type\": \"scatter\"}], \"scatter3d\": [{\"line\": {\"colorbar\": {\"outlinewidth\": 0, \"ticks\": \"\"}}, \"marker\": {\"colorbar\": {\"outlinewidth\": 0, \"ticks\": \"\"}}, \"type\": \"scatter3d\"}], \"scattercarpet\": [{\"marker\": {\"colorbar\": {\"outlinewidth\": 0, \"ticks\": \"\"}}, \"type\": \"scattercarpet\"}], \"scattergeo\": [{\"marker\": {\"colorbar\": {\"outlinewidth\": 0, \"ticks\": \"\"}}, \"type\": \"scattergeo\"}], \"scattergl\": [{\"marker\": {\"colorbar\": {\"outlinewidth\": 0, \"ticks\": \"\"}}, \"type\": \"scattergl\"}], \"scattermapbox\": [{\"marker\": {\"colorbar\": {\"outlinewidth\": 0, \"ticks\": \"\"}}, \"type\": \"scattermapbox\"}], \"scatterpolar\": [{\"marker\": {\"colorbar\": {\"outlinewidth\": 0, \"ticks\": \"\"}}, \"type\": \"scatterpolar\"}], \"scatterpolargl\": [{\"marker\": {\"colorbar\": {\"outlinewidth\": 0, \"ticks\": \"\"}}, \"type\": \"scatterpolargl\"}], \"scatterternary\": [{\"marker\": {\"colorbar\": {\"outlinewidth\": 0, \"ticks\": \"\"}}, \"type\": \"scatterternary\"}], \"surface\": [{\"colorbar\": {\"outlinewidth\": 0, \"ticks\": \"\"}, \"colorscale\": [[0.0, \"#0d0887\"], [0.1111111111111111, \"#46039f\"], [0.2222222222222222, \"#7201a8\"], [0.3333333333333333, \"#9c179e\"], [0.4444444444444444, \"#bd3786\"], [0.5555555555555556, \"#d8576b\"], [0.6666666666666666, \"#ed7953\"], [0.7777777777777778, \"#fb9f3a\"], [0.8888888888888888, \"#fdca26\"], [1.0, \"#f0f921\"]], \"type\": \"surface\"}], \"table\": [{\"cells\": {\"fill\": {\"color\": \"#EBF0F8\"}, \"line\": {\"color\": \"white\"}}, \"header\": {\"fill\": {\"color\": \"#C8D4E3\"}, \"line\": {\"color\": \"white\"}}, \"type\": \"table\"}]}, \"layout\": {\"annotationdefaults\": {\"arrowcolor\": \"#2a3f5f\", \"arrowhead\": 0, \"arrowwidth\": 1}, \"coloraxis\": {\"colorbar\": {\"outlinewidth\": 0, \"ticks\": \"\"}}, \"colorscale\": {\"diverging\": [[0, \"#8e0152\"], [0.1, \"#c51b7d\"], [0.2, \"#de77ae\"], [0.3, \"#f1b6da\"], [0.4, \"#fde0ef\"], [0.5, \"#f7f7f7\"], [0.6, \"#e6f5d0\"], [0.7, \"#b8e186\"], [0.8, \"#7fbc41\"], [0.9, \"#4d9221\"], [1, \"#276419\"]], \"sequential\": [[0.0, \"#0d0887\"], [0.1111111111111111, \"#46039f\"], [0.2222222222222222, \"#7201a8\"], [0.3333333333333333, \"#9c179e\"], [0.4444444444444444, \"#bd3786\"], [0.5555555555555556, \"#d8576b\"], [0.6666666666666666, \"#ed7953\"], [0.7777777777777778, \"#fb9f3a\"], [0.8888888888888888, \"#fdca26\"], [1.0, \"#f0f921\"]], \"sequentialminus\": [[0.0, \"#0d0887\"], [0.1111111111111111, \"#46039f\"], [0.2222222222222222, \"#7201a8\"], [0.3333333333333333, \"#9c179e\"], [0.4444444444444444, \"#bd3786\"], [0.5555555555555556, \"#d8576b\"], [0.6666666666666666, \"#ed7953\"], [0.7777777777777778, \"#fb9f3a\"], [0.8888888888888888, \"#fdca26\"], [1.0, \"#f0f921\"]]}, \"colorway\": [\"#636efa\", \"#EF553B\", \"#00cc96\", \"#ab63fa\", \"#FFA15A\", \"#19d3f3\", \"#FF6692\", \"#B6E880\", \"#FF97FF\", \"#FECB52\"], \"font\": {\"color\": \"#2a3f5f\"}, \"geo\": {\"bgcolor\": \"white\", \"lakecolor\": \"white\", \"landcolor\": \"#E5ECF6\", \"showlakes\": true, \"showland\": true, \"subunitcolor\": \"white\"}, \"hoverlabel\": {\"align\": \"left\"}, \"hovermode\": \"closest\", \"mapbox\": {\"style\": \"light\"}, \"paper_bgcolor\": \"white\", \"plot_bgcolor\": \"#E5ECF6\", \"polar\": {\"angularaxis\": {\"gridcolor\": \"white\", \"linecolor\": \"white\", \"ticks\": \"\"}, \"bgcolor\": \"#E5ECF6\", \"radialaxis\": {\"gridcolor\": \"white\", \"linecolor\": \"white\", \"ticks\": \"\"}}, \"scene\": {\"xaxis\": {\"backgroundcolor\": \"#E5ECF6\", \"gridcolor\": \"white\", \"gridwidth\": 2, \"linecolor\": \"white\", \"showbackground\": true, \"ticks\": \"\", \"zerolinecolor\": \"white\"}, \"yaxis\": {\"backgroundcolor\": \"#E5ECF6\", \"gridcolor\": \"white\", \"gridwidth\": 2, \"linecolor\": \"white\", \"showbackground\": true, \"ticks\": \"\", \"zerolinecolor\": \"white\"}, \"zaxis\": {\"backgroundcolor\": \"#E5ECF6\", \"gridcolor\": \"white\", \"gridwidth\": 2, \"linecolor\": \"white\", \"showbackground\": true, \"ticks\": \"\", \"zerolinecolor\": \"white\"}}, \"shapedefaults\": {\"line\": {\"color\": \"#2a3f5f\"}}, \"ternary\": {\"aaxis\": {\"gridcolor\": \"white\", \"linecolor\": \"white\", \"ticks\": \"\"}, \"baxis\": {\"gridcolor\": \"white\", \"linecolor\": \"white\", \"ticks\": \"\"}, \"bgcolor\": \"#E5ECF6\", \"caxis\": {\"gridcolor\": \"white\", \"linecolor\": \"white\", \"ticks\": \"\"}}, \"title\": {\"x\": 0.05}, \"xaxis\": {\"automargin\": true, \"gridcolor\": \"white\", \"linecolor\": \"white\", \"ticks\": \"\", \"title\": {\"standoff\": 15}, \"zerolinecolor\": \"white\", \"zerolinewidth\": 2}, \"yaxis\": {\"automargin\": true, \"gridcolor\": \"white\", \"linecolor\": \"white\", \"ticks\": \"\", \"title\": {\"standoff\": 15}, \"zerolinecolor\": \"white\", \"zerolinewidth\": 2}}}, \"xaxis\": {\"anchor\": \"y\", \"domain\": [0.0, 1.0], \"title\": {\"text\": \"LICZBA\"}}, \"yaxis\": {\"anchor\": \"x\", \"domain\": [0.0, 1.0], \"title\": {\"text\": \"DATA_MC\"}}},\n",
              "                        {\"responsive\": true}\n",
              "                    ).then(function(){\n",
              "                            \n",
              "var gd = document.getElementById('5318f256-9317-4daf-ba7e-ee7909857474');\n",
              "var x = new MutationObserver(function (mutations, observer) {{\n",
              "        var display = window.getComputedStyle(gd).display;\n",
              "        if (!display || display === 'none') {{\n",
              "            console.log([gd, 'removed!']);\n",
              "            Plotly.purge(gd);\n",
              "            observer.disconnect();\n",
              "        }}\n",
              "}});\n",
              "\n",
              "// Listen for the removal of the full notebook cells\n",
              "var notebookContainer = gd.closest('#notebook-container');\n",
              "if (notebookContainer) {{\n",
              "    x.observe(notebookContainer, {childList: true});\n",
              "}}\n",
              "\n",
              "// Listen for the clearing of the current output cell\n",
              "var outputEl = gd.closest('.output');\n",
              "if (outputEl) {{\n",
              "    x.observe(outputEl, {childList: true});\n",
              "}}\n",
              "\n",
              "                        })\n",
              "                };\n",
              "                \n",
              "            </script>\n",
              "        </div>\n",
              "</body>\n",
              "</html>"
            ]
          },
          "metadata": {
            "tags": []
          }
        }
      ]
    },
    {
      "cell_type": "code",
      "metadata": {
        "colab": {
          "base_uri": "https://localhost:8080/",
          "height": 206
        },
        "id": "Hdq8Tw96ftDe",
        "outputId": "07d9837b-0bdf-42c5-9a5a-2c9ce8d00fb9"
      },
      "source": [
        "dane3 = dane.groupby([\"DATA_MC\",\"PLEC\"])[\"LICZBA\"].sum().reset_index()\r\n",
        "dane3 = dane3[dane3['PLEC'] == 'M']\r\n",
        "dane3.head()"
      ],
      "execution_count": null,
      "outputs": [
        {
          "output_type": "execute_result",
          "data": {
            "text/html": [
              "<div>\n",
              "<style scoped>\n",
              "    .dataframe tbody tr th:only-of-type {\n",
              "        vertical-align: middle;\n",
              "    }\n",
              "\n",
              "    .dataframe tbody tr th {\n",
              "        vertical-align: top;\n",
              "    }\n",
              "\n",
              "    .dataframe thead th {\n",
              "        text-align: right;\n",
              "    }\n",
              "</style>\n",
              "<table border=\"1\" class=\"dataframe\">\n",
              "  <thead>\n",
              "    <tr style=\"text-align: right;\">\n",
              "      <th></th>\n",
              "      <th>DATA_MC</th>\n",
              "      <th>PLEC</th>\n",
              "      <th>LICZBA</th>\n",
              "    </tr>\n",
              "  </thead>\n",
              "  <tbody>\n",
              "    <tr>\n",
              "      <th>1</th>\n",
              "      <td>2020-01</td>\n",
              "      <td>M</td>\n",
              "      <td>13584</td>\n",
              "    </tr>\n",
              "    <tr>\n",
              "      <th>3</th>\n",
              "      <td>2020-02</td>\n",
              "      <td>M</td>\n",
              "      <td>13355</td>\n",
              "    </tr>\n",
              "    <tr>\n",
              "      <th>5</th>\n",
              "      <td>2020-03</td>\n",
              "      <td>M</td>\n",
              "      <td>7216</td>\n",
              "    </tr>\n",
              "    <tr>\n",
              "      <th>7</th>\n",
              "      <td>2020-04</td>\n",
              "      <td>M</td>\n",
              "      <td>383</td>\n",
              "    </tr>\n",
              "    <tr>\n",
              "      <th>9</th>\n",
              "      <td>2020-05</td>\n",
              "      <td>M</td>\n",
              "      <td>4372</td>\n",
              "    </tr>\n",
              "  </tbody>\n",
              "</table>\n",
              "</div>"
            ],
            "text/plain": [
              "   DATA_MC PLEC  LICZBA\n",
              "1  2020-01    M   13584\n",
              "3  2020-02    M   13355\n",
              "5  2020-03    M    7216\n",
              "7  2020-04    M     383\n",
              "9  2020-05    M    4372"
            ]
          },
          "metadata": {
            "tags": []
          },
          "execution_count": 56
        }
      ]
    },
    {
      "cell_type": "code",
      "metadata": {
        "colab": {
          "base_uri": "https://localhost:8080/",
          "height": 542
        },
        "id": "nNuPuEkohEQT",
        "outputId": "6f3cda6a-2ff1-407b-c41c-1455657e68bf"
      },
      "source": [
        "wykres_plec = po.Figure()\r\n",
        "\r\n",
        "wykres_plec.add_trace(po.Bar(\r\n",
        "    x = dane2['DATA_MC'],\r\n",
        "    y = dane2['LICZBA'],\r\n",
        "    name = 'Kobiety'\r\n",
        "))\r\n",
        "\r\n",
        "wykres_plec.add_trace(po.Bar(\r\n",
        "    x = dane3['DATA_MC'],\r\n",
        "    y = dane3['LICZBA'],\r\n",
        "    name = 'Mezczyzni'\r\n",
        "))\r\n",
        "\r\n",
        "wykres_plec.update_layout(barmode = 'group', title = 'Wydane paszporty wg. płci')\r\n",
        "wykres_plec.show()"
      ],
      "execution_count": null,
      "outputs": [
        {
          "output_type": "display_data",
          "data": {
            "text/html": [
              "<html>\n",
              "<head><meta charset=\"utf-8\" /></head>\n",
              "<body>\n",
              "    <div>\n",
              "            <script src=\"https://cdnjs.cloudflare.com/ajax/libs/mathjax/2.7.5/MathJax.js?config=TeX-AMS-MML_SVG\"></script><script type=\"text/javascript\">if (window.MathJax) {MathJax.Hub.Config({SVG: {font: \"STIX-Web\"}});}</script>\n",
              "                <script type=\"text/javascript\">window.PlotlyConfig = {MathJaxConfig: 'local'};</script>\n",
              "        <script src=\"https://cdn.plot.ly/plotly-latest.min.js\"></script>    \n",
              "            <div id=\"06e8c6b1-41d2-42dc-8a41-adeffaa9be42\" class=\"plotly-graph-div\" style=\"height:525px; width:100%;\"></div>\n",
              "            <script type=\"text/javascript\">\n",
              "                \n",
              "                    window.PLOTLYENV=window.PLOTLYENV || {};\n",
              "                    \n",
              "                if (document.getElementById(\"06e8c6b1-41d2-42dc-8a41-adeffaa9be42\")) {\n",
              "                    Plotly.newPlot(\n",
              "                        '06e8c6b1-41d2-42dc-8a41-adeffaa9be42',\n",
              "                        [{\"name\": \"Kobiety\", \"type\": \"bar\", \"x\": [\"2020-01\", \"2020-02\", \"2020-03\", \"2020-04\", \"2020-05\"], \"y\": [14227, 13600, 7297, 332, 4021]}, {\"name\": \"Mezczyzni\", \"type\": \"bar\", \"x\": [\"2020-01\", \"2020-02\", \"2020-03\", \"2020-04\", \"2020-05\"], \"y\": [13584, 13355, 7216, 383, 4372]}],\n",
              "                        {\"barmode\": \"group\", \"template\": {\"data\": {\"bar\": [{\"error_x\": {\"color\": \"#2a3f5f\"}, \"error_y\": {\"color\": \"#2a3f5f\"}, \"marker\": {\"line\": {\"color\": \"#E5ECF6\", \"width\": 0.5}}, \"type\": \"bar\"}], \"barpolar\": [{\"marker\": {\"line\": {\"color\": \"#E5ECF6\", \"width\": 0.5}}, \"type\": \"barpolar\"}], \"carpet\": [{\"aaxis\": {\"endlinecolor\": \"#2a3f5f\", \"gridcolor\": \"white\", \"linecolor\": \"white\", \"minorgridcolor\": \"white\", \"startlinecolor\": \"#2a3f5f\"}, \"baxis\": {\"endlinecolor\": \"#2a3f5f\", \"gridcolor\": \"white\", \"linecolor\": \"white\", \"minorgridcolor\": \"white\", \"startlinecolor\": \"#2a3f5f\"}, \"type\": \"carpet\"}], \"choropleth\": [{\"colorbar\": {\"outlinewidth\": 0, \"ticks\": \"\"}, \"type\": \"choropleth\"}], \"contour\": [{\"colorbar\": {\"outlinewidth\": 0, \"ticks\": \"\"}, \"colorscale\": [[0.0, \"#0d0887\"], [0.1111111111111111, \"#46039f\"], [0.2222222222222222, \"#7201a8\"], [0.3333333333333333, \"#9c179e\"], [0.4444444444444444, \"#bd3786\"], [0.5555555555555556, \"#d8576b\"], [0.6666666666666666, \"#ed7953\"], [0.7777777777777778, \"#fb9f3a\"], [0.8888888888888888, \"#fdca26\"], [1.0, \"#f0f921\"]], \"type\": \"contour\"}], \"contourcarpet\": [{\"colorbar\": {\"outlinewidth\": 0, \"ticks\": \"\"}, \"type\": \"contourcarpet\"}], \"heatmap\": [{\"colorbar\": {\"outlinewidth\": 0, \"ticks\": \"\"}, \"colorscale\": [[0.0, \"#0d0887\"], [0.1111111111111111, \"#46039f\"], [0.2222222222222222, \"#7201a8\"], [0.3333333333333333, \"#9c179e\"], [0.4444444444444444, \"#bd3786\"], [0.5555555555555556, \"#d8576b\"], [0.6666666666666666, \"#ed7953\"], [0.7777777777777778, \"#fb9f3a\"], [0.8888888888888888, \"#fdca26\"], [1.0, \"#f0f921\"]], \"type\": \"heatmap\"}], \"heatmapgl\": [{\"colorbar\": {\"outlinewidth\": 0, \"ticks\": \"\"}, \"colorscale\": [[0.0, \"#0d0887\"], [0.1111111111111111, \"#46039f\"], [0.2222222222222222, \"#7201a8\"], [0.3333333333333333, \"#9c179e\"], [0.4444444444444444, \"#bd3786\"], [0.5555555555555556, \"#d8576b\"], [0.6666666666666666, \"#ed7953\"], [0.7777777777777778, \"#fb9f3a\"], [0.8888888888888888, \"#fdca26\"], [1.0, \"#f0f921\"]], \"type\": \"heatmapgl\"}], \"histogram\": [{\"marker\": {\"colorbar\": {\"outlinewidth\": 0, \"ticks\": \"\"}}, \"type\": \"histogram\"}], \"histogram2d\": [{\"colorbar\": {\"outlinewidth\": 0, \"ticks\": \"\"}, \"colorscale\": [[0.0, \"#0d0887\"], [0.1111111111111111, \"#46039f\"], [0.2222222222222222, \"#7201a8\"], [0.3333333333333333, \"#9c179e\"], [0.4444444444444444, \"#bd3786\"], [0.5555555555555556, \"#d8576b\"], [0.6666666666666666, \"#ed7953\"], [0.7777777777777778, \"#fb9f3a\"], [0.8888888888888888, \"#fdca26\"], [1.0, \"#f0f921\"]], \"type\": \"histogram2d\"}], \"histogram2dcontour\": [{\"colorbar\": {\"outlinewidth\": 0, \"ticks\": \"\"}, \"colorscale\": [[0.0, \"#0d0887\"], [0.1111111111111111, \"#46039f\"], [0.2222222222222222, \"#7201a8\"], [0.3333333333333333, \"#9c179e\"], [0.4444444444444444, \"#bd3786\"], [0.5555555555555556, \"#d8576b\"], [0.6666666666666666, \"#ed7953\"], [0.7777777777777778, \"#fb9f3a\"], [0.8888888888888888, \"#fdca26\"], [1.0, \"#f0f921\"]], \"type\": \"histogram2dcontour\"}], \"mesh3d\": [{\"colorbar\": {\"outlinewidth\": 0, \"ticks\": \"\"}, \"type\": \"mesh3d\"}], \"parcoords\": [{\"line\": {\"colorbar\": {\"outlinewidth\": 0, \"ticks\": \"\"}}, \"type\": \"parcoords\"}], \"pie\": [{\"automargin\": true, \"type\": \"pie\"}], \"scatter\": [{\"marker\": {\"colorbar\": {\"outlinewidth\": 0, \"ticks\": \"\"}}, \"type\": \"scatter\"}], \"scatter3d\": [{\"line\": {\"colorbar\": {\"outlinewidth\": 0, \"ticks\": \"\"}}, \"marker\": {\"colorbar\": {\"outlinewidth\": 0, \"ticks\": \"\"}}, \"type\": \"scatter3d\"}], \"scattercarpet\": [{\"marker\": {\"colorbar\": {\"outlinewidth\": 0, \"ticks\": \"\"}}, \"type\": \"scattercarpet\"}], \"scattergeo\": [{\"marker\": {\"colorbar\": {\"outlinewidth\": 0, \"ticks\": \"\"}}, \"type\": \"scattergeo\"}], \"scattergl\": [{\"marker\": {\"colorbar\": {\"outlinewidth\": 0, \"ticks\": \"\"}}, \"type\": \"scattergl\"}], \"scattermapbox\": [{\"marker\": {\"colorbar\": {\"outlinewidth\": 0, \"ticks\": \"\"}}, \"type\": \"scattermapbox\"}], \"scatterpolar\": [{\"marker\": {\"colorbar\": {\"outlinewidth\": 0, \"ticks\": \"\"}}, \"type\": \"scatterpolar\"}], \"scatterpolargl\": [{\"marker\": {\"colorbar\": {\"outlinewidth\": 0, \"ticks\": \"\"}}, \"type\": \"scatterpolargl\"}], \"scatterternary\": [{\"marker\": {\"colorbar\": {\"outlinewidth\": 0, \"ticks\": \"\"}}, \"type\": \"scatterternary\"}], \"surface\": [{\"colorbar\": {\"outlinewidth\": 0, \"ticks\": \"\"}, \"colorscale\": [[0.0, \"#0d0887\"], [0.1111111111111111, \"#46039f\"], [0.2222222222222222, \"#7201a8\"], [0.3333333333333333, \"#9c179e\"], [0.4444444444444444, \"#bd3786\"], [0.5555555555555556, \"#d8576b\"], [0.6666666666666666, \"#ed7953\"], [0.7777777777777778, \"#fb9f3a\"], [0.8888888888888888, \"#fdca26\"], [1.0, \"#f0f921\"]], \"type\": \"surface\"}], \"table\": [{\"cells\": {\"fill\": {\"color\": \"#EBF0F8\"}, \"line\": {\"color\": \"white\"}}, \"header\": {\"fill\": {\"color\": \"#C8D4E3\"}, \"line\": {\"color\": \"white\"}}, \"type\": \"table\"}]}, \"layout\": {\"annotationdefaults\": {\"arrowcolor\": \"#2a3f5f\", \"arrowhead\": 0, \"arrowwidth\": 1}, \"coloraxis\": {\"colorbar\": {\"outlinewidth\": 0, \"ticks\": \"\"}}, \"colorscale\": {\"diverging\": [[0, \"#8e0152\"], [0.1, \"#c51b7d\"], [0.2, \"#de77ae\"], [0.3, \"#f1b6da\"], [0.4, \"#fde0ef\"], [0.5, \"#f7f7f7\"], [0.6, \"#e6f5d0\"], [0.7, \"#b8e186\"], [0.8, \"#7fbc41\"], [0.9, \"#4d9221\"], [1, \"#276419\"]], \"sequential\": [[0.0, \"#0d0887\"], [0.1111111111111111, \"#46039f\"], [0.2222222222222222, \"#7201a8\"], [0.3333333333333333, \"#9c179e\"], [0.4444444444444444, \"#bd3786\"], [0.5555555555555556, \"#d8576b\"], [0.6666666666666666, \"#ed7953\"], [0.7777777777777778, \"#fb9f3a\"], [0.8888888888888888, \"#fdca26\"], [1.0, \"#f0f921\"]], \"sequentialminus\": [[0.0, \"#0d0887\"], [0.1111111111111111, \"#46039f\"], [0.2222222222222222, \"#7201a8\"], [0.3333333333333333, \"#9c179e\"], [0.4444444444444444, \"#bd3786\"], [0.5555555555555556, \"#d8576b\"], [0.6666666666666666, \"#ed7953\"], [0.7777777777777778, \"#fb9f3a\"], [0.8888888888888888, \"#fdca26\"], [1.0, \"#f0f921\"]]}, \"colorway\": [\"#636efa\", \"#EF553B\", \"#00cc96\", \"#ab63fa\", \"#FFA15A\", \"#19d3f3\", \"#FF6692\", \"#B6E880\", \"#FF97FF\", \"#FECB52\"], \"font\": {\"color\": \"#2a3f5f\"}, \"geo\": {\"bgcolor\": \"white\", \"lakecolor\": \"white\", \"landcolor\": \"#E5ECF6\", \"showlakes\": true, \"showland\": true, \"subunitcolor\": \"white\"}, \"hoverlabel\": {\"align\": \"left\"}, \"hovermode\": \"closest\", \"mapbox\": {\"style\": \"light\"}, \"paper_bgcolor\": \"white\", \"plot_bgcolor\": \"#E5ECF6\", \"polar\": {\"angularaxis\": {\"gridcolor\": \"white\", \"linecolor\": \"white\", \"ticks\": \"\"}, \"bgcolor\": \"#E5ECF6\", \"radialaxis\": {\"gridcolor\": \"white\", \"linecolor\": \"white\", \"ticks\": \"\"}}, \"scene\": {\"xaxis\": {\"backgroundcolor\": \"#E5ECF6\", \"gridcolor\": \"white\", \"gridwidth\": 2, \"linecolor\": \"white\", \"showbackground\": true, \"ticks\": \"\", \"zerolinecolor\": \"white\"}, \"yaxis\": {\"backgroundcolor\": \"#E5ECF6\", \"gridcolor\": \"white\", \"gridwidth\": 2, \"linecolor\": \"white\", \"showbackground\": true, \"ticks\": \"\", \"zerolinecolor\": \"white\"}, \"zaxis\": {\"backgroundcolor\": \"#E5ECF6\", \"gridcolor\": \"white\", \"gridwidth\": 2, \"linecolor\": \"white\", \"showbackground\": true, \"ticks\": \"\", \"zerolinecolor\": \"white\"}}, \"shapedefaults\": {\"line\": {\"color\": \"#2a3f5f\"}}, \"ternary\": {\"aaxis\": {\"gridcolor\": \"white\", \"linecolor\": \"white\", \"ticks\": \"\"}, \"baxis\": {\"gridcolor\": \"white\", \"linecolor\": \"white\", \"ticks\": \"\"}, \"bgcolor\": \"#E5ECF6\", \"caxis\": {\"gridcolor\": \"white\", \"linecolor\": \"white\", \"ticks\": \"\"}}, \"title\": {\"x\": 0.05}, \"xaxis\": {\"automargin\": true, \"gridcolor\": \"white\", \"linecolor\": \"white\", \"ticks\": \"\", \"title\": {\"standoff\": 15}, \"zerolinecolor\": \"white\", \"zerolinewidth\": 2}, \"yaxis\": {\"automargin\": true, \"gridcolor\": \"white\", \"linecolor\": \"white\", \"ticks\": \"\", \"title\": {\"standoff\": 15}, \"zerolinecolor\": \"white\", \"zerolinewidth\": 2}}}, \"title\": {\"text\": \"Wydane paszporty wg. p\\u0142ci\"}},\n",
              "                        {\"responsive\": true}\n",
              "                    ).then(function(){\n",
              "                            \n",
              "var gd = document.getElementById('06e8c6b1-41d2-42dc-8a41-adeffaa9be42');\n",
              "var x = new MutationObserver(function (mutations, observer) {{\n",
              "        var display = window.getComputedStyle(gd).display;\n",
              "        if (!display || display === 'none') {{\n",
              "            console.log([gd, 'removed!']);\n",
              "            Plotly.purge(gd);\n",
              "            observer.disconnect();\n",
              "        }}\n",
              "}});\n",
              "\n",
              "// Listen for the removal of the full notebook cells\n",
              "var notebookContainer = gd.closest('#notebook-container');\n",
              "if (notebookContainer) {{\n",
              "    x.observe(notebookContainer, {childList: true});\n",
              "}}\n",
              "\n",
              "// Listen for the clearing of the current output cell\n",
              "var outputEl = gd.closest('.output');\n",
              "if (outputEl) {{\n",
              "    x.observe(outputEl, {childList: true});\n",
              "}}\n",
              "\n",
              "                        })\n",
              "                };\n",
              "                \n",
              "            </script>\n",
              "        </div>\n",
              "</body>\n",
              "</html>"
            ]
          },
          "metadata": {
            "tags": []
          }
        }
      ]
    },
    {
      "cell_type": "code",
      "metadata": {
        "colab": {
          "base_uri": "https://localhost:8080/",
          "height": 542
        },
        "id": "neLQC0lfiEmK",
        "outputId": "071e125f-858b-4d0e-9159-a0b72519b550"
      },
      "source": [
        "wykres_plec.update_layout(barmode = 'stack', title = 'Wydane paszporty wg. płci')\r\n",
        "wykres_plec.show()"
      ],
      "execution_count": null,
      "outputs": [
        {
          "output_type": "display_data",
          "data": {
            "text/html": [
              "<html>\n",
              "<head><meta charset=\"utf-8\" /></head>\n",
              "<body>\n",
              "    <div>\n",
              "            <script src=\"https://cdnjs.cloudflare.com/ajax/libs/mathjax/2.7.5/MathJax.js?config=TeX-AMS-MML_SVG\"></script><script type=\"text/javascript\">if (window.MathJax) {MathJax.Hub.Config({SVG: {font: \"STIX-Web\"}});}</script>\n",
              "                <script type=\"text/javascript\">window.PlotlyConfig = {MathJaxConfig: 'local'};</script>\n",
              "        <script src=\"https://cdn.plot.ly/plotly-latest.min.js\"></script>    \n",
              "            <div id=\"dfa0f254-d3b4-41c4-9a22-5e605c3d5978\" class=\"plotly-graph-div\" style=\"height:525px; width:100%;\"></div>\n",
              "            <script type=\"text/javascript\">\n",
              "                \n",
              "                    window.PLOTLYENV=window.PLOTLYENV || {};\n",
              "                    \n",
              "                if (document.getElementById(\"dfa0f254-d3b4-41c4-9a22-5e605c3d5978\")) {\n",
              "                    Plotly.newPlot(\n",
              "                        'dfa0f254-d3b4-41c4-9a22-5e605c3d5978',\n",
              "                        [{\"name\": \"Kobiety\", \"type\": \"bar\", \"x\": [\"2020-01\", \"2020-02\", \"2020-03\", \"2020-04\", \"2020-05\"], \"y\": [14227, 13600, 7297, 332, 4021]}, {\"name\": \"Mezczyzni\", \"type\": \"bar\", \"x\": [\"2020-01\", \"2020-02\", \"2020-03\", \"2020-04\", \"2020-05\"], \"y\": [13584, 13355, 7216, 383, 4372]}],\n",
              "                        {\"barmode\": \"stack\", \"template\": {\"data\": {\"bar\": [{\"error_x\": {\"color\": \"#2a3f5f\"}, \"error_y\": {\"color\": \"#2a3f5f\"}, \"marker\": {\"line\": {\"color\": \"#E5ECF6\", \"width\": 0.5}}, \"type\": \"bar\"}], \"barpolar\": [{\"marker\": {\"line\": {\"color\": \"#E5ECF6\", \"width\": 0.5}}, \"type\": \"barpolar\"}], \"carpet\": [{\"aaxis\": {\"endlinecolor\": \"#2a3f5f\", \"gridcolor\": \"white\", \"linecolor\": \"white\", \"minorgridcolor\": \"white\", \"startlinecolor\": \"#2a3f5f\"}, \"baxis\": {\"endlinecolor\": \"#2a3f5f\", \"gridcolor\": \"white\", \"linecolor\": \"white\", \"minorgridcolor\": \"white\", \"startlinecolor\": \"#2a3f5f\"}, \"type\": \"carpet\"}], \"choropleth\": [{\"colorbar\": {\"outlinewidth\": 0, \"ticks\": \"\"}, \"type\": \"choropleth\"}], \"contour\": [{\"colorbar\": {\"outlinewidth\": 0, \"ticks\": \"\"}, \"colorscale\": [[0.0, \"#0d0887\"], [0.1111111111111111, \"#46039f\"], [0.2222222222222222, \"#7201a8\"], [0.3333333333333333, \"#9c179e\"], [0.4444444444444444, \"#bd3786\"], [0.5555555555555556, \"#d8576b\"], [0.6666666666666666, \"#ed7953\"], [0.7777777777777778, \"#fb9f3a\"], [0.8888888888888888, \"#fdca26\"], [1.0, \"#f0f921\"]], \"type\": \"contour\"}], \"contourcarpet\": [{\"colorbar\": {\"outlinewidth\": 0, \"ticks\": \"\"}, \"type\": \"contourcarpet\"}], \"heatmap\": [{\"colorbar\": {\"outlinewidth\": 0, \"ticks\": \"\"}, \"colorscale\": [[0.0, \"#0d0887\"], [0.1111111111111111, \"#46039f\"], [0.2222222222222222, \"#7201a8\"], [0.3333333333333333, \"#9c179e\"], [0.4444444444444444, \"#bd3786\"], [0.5555555555555556, \"#d8576b\"], [0.6666666666666666, \"#ed7953\"], [0.7777777777777778, \"#fb9f3a\"], [0.8888888888888888, \"#fdca26\"], [1.0, \"#f0f921\"]], \"type\": \"heatmap\"}], \"heatmapgl\": [{\"colorbar\": {\"outlinewidth\": 0, \"ticks\": \"\"}, \"colorscale\": [[0.0, \"#0d0887\"], [0.1111111111111111, \"#46039f\"], [0.2222222222222222, \"#7201a8\"], [0.3333333333333333, \"#9c179e\"], [0.4444444444444444, \"#bd3786\"], [0.5555555555555556, \"#d8576b\"], [0.6666666666666666, \"#ed7953\"], [0.7777777777777778, \"#fb9f3a\"], [0.8888888888888888, \"#fdca26\"], [1.0, \"#f0f921\"]], \"type\": \"heatmapgl\"}], \"histogram\": [{\"marker\": {\"colorbar\": {\"outlinewidth\": 0, \"ticks\": \"\"}}, \"type\": \"histogram\"}], \"histogram2d\": [{\"colorbar\": {\"outlinewidth\": 0, \"ticks\": \"\"}, \"colorscale\": [[0.0, \"#0d0887\"], [0.1111111111111111, \"#46039f\"], [0.2222222222222222, \"#7201a8\"], [0.3333333333333333, \"#9c179e\"], [0.4444444444444444, \"#bd3786\"], [0.5555555555555556, \"#d8576b\"], [0.6666666666666666, \"#ed7953\"], [0.7777777777777778, \"#fb9f3a\"], [0.8888888888888888, \"#fdca26\"], [1.0, \"#f0f921\"]], \"type\": \"histogram2d\"}], \"histogram2dcontour\": [{\"colorbar\": {\"outlinewidth\": 0, \"ticks\": \"\"}, \"colorscale\": [[0.0, \"#0d0887\"], [0.1111111111111111, \"#46039f\"], [0.2222222222222222, \"#7201a8\"], [0.3333333333333333, \"#9c179e\"], [0.4444444444444444, \"#bd3786\"], [0.5555555555555556, \"#d8576b\"], [0.6666666666666666, \"#ed7953\"], [0.7777777777777778, \"#fb9f3a\"], [0.8888888888888888, \"#fdca26\"], [1.0, \"#f0f921\"]], \"type\": \"histogram2dcontour\"}], \"mesh3d\": [{\"colorbar\": {\"outlinewidth\": 0, \"ticks\": \"\"}, \"type\": \"mesh3d\"}], \"parcoords\": [{\"line\": {\"colorbar\": {\"outlinewidth\": 0, \"ticks\": \"\"}}, \"type\": \"parcoords\"}], \"pie\": [{\"automargin\": true, \"type\": \"pie\"}], \"scatter\": [{\"marker\": {\"colorbar\": {\"outlinewidth\": 0, \"ticks\": \"\"}}, \"type\": \"scatter\"}], \"scatter3d\": [{\"line\": {\"colorbar\": {\"outlinewidth\": 0, \"ticks\": \"\"}}, \"marker\": {\"colorbar\": {\"outlinewidth\": 0, \"ticks\": \"\"}}, \"type\": \"scatter3d\"}], \"scattercarpet\": [{\"marker\": {\"colorbar\": {\"outlinewidth\": 0, \"ticks\": \"\"}}, \"type\": \"scattercarpet\"}], \"scattergeo\": [{\"marker\": {\"colorbar\": {\"outlinewidth\": 0, \"ticks\": \"\"}}, \"type\": \"scattergeo\"}], \"scattergl\": [{\"marker\": {\"colorbar\": {\"outlinewidth\": 0, \"ticks\": \"\"}}, \"type\": \"scattergl\"}], \"scattermapbox\": [{\"marker\": {\"colorbar\": {\"outlinewidth\": 0, \"ticks\": \"\"}}, \"type\": \"scattermapbox\"}], \"scatterpolar\": [{\"marker\": {\"colorbar\": {\"outlinewidth\": 0, \"ticks\": \"\"}}, \"type\": \"scatterpolar\"}], \"scatterpolargl\": [{\"marker\": {\"colorbar\": {\"outlinewidth\": 0, \"ticks\": \"\"}}, \"type\": \"scatterpolargl\"}], \"scatterternary\": [{\"marker\": {\"colorbar\": {\"outlinewidth\": 0, \"ticks\": \"\"}}, \"type\": \"scatterternary\"}], \"surface\": [{\"colorbar\": {\"outlinewidth\": 0, \"ticks\": \"\"}, \"colorscale\": [[0.0, \"#0d0887\"], [0.1111111111111111, \"#46039f\"], [0.2222222222222222, \"#7201a8\"], [0.3333333333333333, \"#9c179e\"], [0.4444444444444444, \"#bd3786\"], [0.5555555555555556, \"#d8576b\"], [0.6666666666666666, \"#ed7953\"], [0.7777777777777778, \"#fb9f3a\"], [0.8888888888888888, \"#fdca26\"], [1.0, \"#f0f921\"]], \"type\": \"surface\"}], \"table\": [{\"cells\": {\"fill\": {\"color\": \"#EBF0F8\"}, \"line\": {\"color\": \"white\"}}, \"header\": {\"fill\": {\"color\": \"#C8D4E3\"}, \"line\": {\"color\": \"white\"}}, \"type\": \"table\"}]}, \"layout\": {\"annotationdefaults\": {\"arrowcolor\": \"#2a3f5f\", \"arrowhead\": 0, \"arrowwidth\": 1}, \"coloraxis\": {\"colorbar\": {\"outlinewidth\": 0, \"ticks\": \"\"}}, \"colorscale\": {\"diverging\": [[0, \"#8e0152\"], [0.1, \"#c51b7d\"], [0.2, \"#de77ae\"], [0.3, \"#f1b6da\"], [0.4, \"#fde0ef\"], [0.5, \"#f7f7f7\"], [0.6, \"#e6f5d0\"], [0.7, \"#b8e186\"], [0.8, \"#7fbc41\"], [0.9, \"#4d9221\"], [1, \"#276419\"]], \"sequential\": [[0.0, \"#0d0887\"], [0.1111111111111111, \"#46039f\"], [0.2222222222222222, \"#7201a8\"], [0.3333333333333333, \"#9c179e\"], [0.4444444444444444, \"#bd3786\"], [0.5555555555555556, \"#d8576b\"], [0.6666666666666666, \"#ed7953\"], [0.7777777777777778, \"#fb9f3a\"], [0.8888888888888888, \"#fdca26\"], [1.0, \"#f0f921\"]], \"sequentialminus\": [[0.0, \"#0d0887\"], [0.1111111111111111, \"#46039f\"], [0.2222222222222222, \"#7201a8\"], [0.3333333333333333, \"#9c179e\"], [0.4444444444444444, \"#bd3786\"], [0.5555555555555556, \"#d8576b\"], [0.6666666666666666, \"#ed7953\"], [0.7777777777777778, \"#fb9f3a\"], [0.8888888888888888, \"#fdca26\"], [1.0, \"#f0f921\"]]}, \"colorway\": [\"#636efa\", \"#EF553B\", \"#00cc96\", \"#ab63fa\", \"#FFA15A\", \"#19d3f3\", \"#FF6692\", \"#B6E880\", \"#FF97FF\", \"#FECB52\"], \"font\": {\"color\": \"#2a3f5f\"}, \"geo\": {\"bgcolor\": \"white\", \"lakecolor\": \"white\", \"landcolor\": \"#E5ECF6\", \"showlakes\": true, \"showland\": true, \"subunitcolor\": \"white\"}, \"hoverlabel\": {\"align\": \"left\"}, \"hovermode\": \"closest\", \"mapbox\": {\"style\": \"light\"}, \"paper_bgcolor\": \"white\", \"plot_bgcolor\": \"#E5ECF6\", \"polar\": {\"angularaxis\": {\"gridcolor\": \"white\", \"linecolor\": \"white\", \"ticks\": \"\"}, \"bgcolor\": \"#E5ECF6\", \"radialaxis\": {\"gridcolor\": \"white\", \"linecolor\": \"white\", \"ticks\": \"\"}}, \"scene\": {\"xaxis\": {\"backgroundcolor\": \"#E5ECF6\", \"gridcolor\": \"white\", \"gridwidth\": 2, \"linecolor\": \"white\", \"showbackground\": true, \"ticks\": \"\", \"zerolinecolor\": \"white\"}, \"yaxis\": {\"backgroundcolor\": \"#E5ECF6\", \"gridcolor\": \"white\", \"gridwidth\": 2, \"linecolor\": \"white\", \"showbackground\": true, \"ticks\": \"\", \"zerolinecolor\": \"white\"}, \"zaxis\": {\"backgroundcolor\": \"#E5ECF6\", \"gridcolor\": \"white\", \"gridwidth\": 2, \"linecolor\": \"white\", \"showbackground\": true, \"ticks\": \"\", \"zerolinecolor\": \"white\"}}, \"shapedefaults\": {\"line\": {\"color\": \"#2a3f5f\"}}, \"ternary\": {\"aaxis\": {\"gridcolor\": \"white\", \"linecolor\": \"white\", \"ticks\": \"\"}, \"baxis\": {\"gridcolor\": \"white\", \"linecolor\": \"white\", \"ticks\": \"\"}, \"bgcolor\": \"#E5ECF6\", \"caxis\": {\"gridcolor\": \"white\", \"linecolor\": \"white\", \"ticks\": \"\"}}, \"title\": {\"x\": 0.05}, \"xaxis\": {\"automargin\": true, \"gridcolor\": \"white\", \"linecolor\": \"white\", \"ticks\": \"\", \"title\": {\"standoff\": 15}, \"zerolinecolor\": \"white\", \"zerolinewidth\": 2}, \"yaxis\": {\"automargin\": true, \"gridcolor\": \"white\", \"linecolor\": \"white\", \"ticks\": \"\", \"title\": {\"standoff\": 15}, \"zerolinecolor\": \"white\", \"zerolinewidth\": 2}}}, \"title\": {\"text\": \"Wydane paszporty wg. p\\u0142ci\"}},\n",
              "                        {\"responsive\": true}\n",
              "                    ).then(function(){\n",
              "                            \n",
              "var gd = document.getElementById('dfa0f254-d3b4-41c4-9a22-5e605c3d5978');\n",
              "var x = new MutationObserver(function (mutations, observer) {{\n",
              "        var display = window.getComputedStyle(gd).display;\n",
              "        if (!display || display === 'none') {{\n",
              "            console.log([gd, 'removed!']);\n",
              "            Plotly.purge(gd);\n",
              "            observer.disconnect();\n",
              "        }}\n",
              "}});\n",
              "\n",
              "// Listen for the removal of the full notebook cells\n",
              "var notebookContainer = gd.closest('#notebook-container');\n",
              "if (notebookContainer) {{\n",
              "    x.observe(notebookContainer, {childList: true});\n",
              "}}\n",
              "\n",
              "// Listen for the clearing of the current output cell\n",
              "var outputEl = gd.closest('.output');\n",
              "if (outputEl) {{\n",
              "    x.observe(outputEl, {childList: true});\n",
              "}}\n",
              "\n",
              "                        })\n",
              "                };\n",
              "                \n",
              "            </script>\n",
              "        </div>\n",
              "</body>\n",
              "</html>"
            ]
          },
          "metadata": {
            "tags": []
          }
        }
      ]
    },
    {
      "cell_type": "code",
      "metadata": {
        "colab": {
          "base_uri": "https://localhost:8080/",
          "height": 206
        },
        "id": "Sf4ei5cHhB4i",
        "outputId": "420bd51a-9625-4a6c-fbf9-720d25903e1c"
      },
      "source": [
        "dane1 = dane.groupby([\"WOJEWODZTWO\"])[\"LICZBA\"].sum().reset_index()\r\n",
        "dane1.head()"
      ],
      "execution_count": null,
      "outputs": [
        {
          "output_type": "execute_result",
          "data": {
            "text/html": [
              "<div>\n",
              "<style scoped>\n",
              "    .dataframe tbody tr th:only-of-type {\n",
              "        vertical-align: middle;\n",
              "    }\n",
              "\n",
              "    .dataframe tbody tr th {\n",
              "        vertical-align: top;\n",
              "    }\n",
              "\n",
              "    .dataframe thead th {\n",
              "        text-align: right;\n",
              "    }\n",
              "</style>\n",
              "<table border=\"1\" class=\"dataframe\">\n",
              "  <thead>\n",
              "    <tr style=\"text-align: right;\">\n",
              "      <th></th>\n",
              "      <th>WOJEWODZTWO</th>\n",
              "      <th>LICZBA</th>\n",
              "    </tr>\n",
              "  </thead>\n",
              "  <tbody>\n",
              "    <tr>\n",
              "      <th>0</th>\n",
              "      <td>WOJ. DOLNOL¥SKIE</td>\n",
              "      <td>6596</td>\n",
              "    </tr>\n",
              "    <tr>\n",
              "      <th>1</th>\n",
              "      <td>WOJ. KUJAWSKO-POMORSKIE</td>\n",
              "      <td>4349</td>\n",
              "    </tr>\n",
              "    <tr>\n",
              "      <th>2</th>\n",
              "      <td>WOJ. LUBELSKIE</td>\n",
              "      <td>4969</td>\n",
              "    </tr>\n",
              "    <tr>\n",
              "      <th>3</th>\n",
              "      <td>WOJ. LUBUSKIE</td>\n",
              "      <td>2408</td>\n",
              "    </tr>\n",
              "    <tr>\n",
              "      <th>4</th>\n",
              "      <td>WOJ. MAZOWIECKIE</td>\n",
              "      <td>11408</td>\n",
              "    </tr>\n",
              "  </tbody>\n",
              "</table>\n",
              "</div>"
            ],
            "text/plain": [
              "               WOJEWODZTWO  LICZBA\n",
              "0        WOJ. DOLNOL¥SKIE    6596\n",
              "1  WOJ. KUJAWSKO-POMORSKIE    4349\n",
              "2           WOJ. LUBELSKIE    4969\n",
              "3            WOJ. LUBUSKIE    2408\n",
              "4         WOJ. MAZOWIECKIE   11408"
            ]
          },
          "metadata": {
            "tags": []
          },
          "execution_count": 65
        }
      ]
    },
    {
      "cell_type": "code",
      "metadata": {
        "colab": {
          "base_uri": "https://localhost:8080/"
        },
        "id": "Z4HSCiIwj36a",
        "outputId": "1c76eb8f-0fd9-471a-d93c-6c4525b1d1f0"
      },
      "source": [
        "dane1['LICZBA'].sum()"
      ],
      "execution_count": null,
      "outputs": [
        {
          "output_type": "execute_result",
          "data": {
            "text/plain": [
              "78387"
            ]
          },
          "metadata": {
            "tags": []
          },
          "execution_count": 71
        }
      ]
    },
    {
      "cell_type": "code",
      "metadata": {
        "colab": {
          "base_uri": "https://localhost:8080/"
        },
        "id": "Eh11BZNdkEJS",
        "outputId": "759eb4d4-8496-4cf3-ad35-599f0a6f628a"
      },
      "source": [
        "dane4 = dane1[dane1['WOJEWODZTWO'] == 'WOJ. MAZOWIECKIE']\r\n",
        "dane4['LICZBA'].sum()"
      ],
      "execution_count": null,
      "outputs": [
        {
          "output_type": "execute_result",
          "data": {
            "text/plain": [
              "11408"
            ]
          },
          "metadata": {
            "tags": []
          },
          "execution_count": 76
        }
      ]
    },
    {
      "cell_type": "code",
      "metadata": {
        "colab": {
          "base_uri": "https://localhost:8080/"
        },
        "id": "BF4Hiqo3kDMF",
        "outputId": "46480efe-9cc0-4a8b-fff3-4b8f04b1a59c"
      },
      "source": [
        "dane4['LICZBA'].sum() / dane1['LICZBA'].sum() * 100"
      ],
      "execution_count": null,
      "outputs": [
        {
          "output_type": "execute_result",
          "data": {
            "text/plain": [
              "14.553433605062063"
            ]
          },
          "metadata": {
            "tags": []
          },
          "execution_count": 79
        }
      ]
    }
  ]
}
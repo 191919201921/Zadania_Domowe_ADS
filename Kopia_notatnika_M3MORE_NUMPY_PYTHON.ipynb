{
  "nbformat": 4,
  "nbformat_minor": 0,
  "metadata": {
    "colab": {
      "name": "Kopia notatnika M3MORE-NUMPY-PYTHON.ipynb",
      "provenance": [],
      "collapsed_sections": [
        "X5svsRlc8V7w",
        "0dG-lOop8z3Q",
        "XTMbJ4iKAA52",
        "SD1CD8YRBtU0",
        "EUojHss_EYVO",
        "8ELTRoYPFHry",
        "GVDj07ZKMh7e",
        "xvIdu1NmMmQ5",
        "gwDux0tmPXaj",
        "CjOoKj7BQafT",
        "YYBO21UuJO46",
        "g8YFAxS7JWXO",
        "CQJ3gkUdN75p",
        "apYFKFGvOAj4",
        "gaDYxhC_SC55",
        "ollIx6-XSC59",
        "VrnKa4RgSFCb",
        "yQvjyXP6SFCf",
        "wsrBaBpBWklg",
        "CUCXm0LUWklm",
        "7oGlwbOeWlUQ",
        "ZSeJW8I6WlUU",
        "ipCB6h2aWwsB",
        "B7WgLT1lWwsF",
        "uvWGk_AWWyzJ",
        "-s23LSR9WyzN"
      ],
      "include_colab_link": true
    },
    "kernelspec": {
      "name": "python3",
      "display_name": "Python 3"
    }
  },
  "cells": [
    {
      "cell_type": "markdown",
      "metadata": {
        "id": "view-in-github",
        "colab_type": "text"
      },
      "source": [
        "<a href=\"https://colab.research.google.com/github/191919201921/Zadania_Domowe_ADS/blob/main/Kopia_notatnika_M3MORE_NUMPY_PYTHON.ipynb\" target=\"_parent\"><img src=\"https://colab.research.google.com/assets/colab-badge.svg\" alt=\"Open In Colab\"/></a>"
      ]
    },
    {
      "cell_type": "markdown",
      "metadata": {
        "id": "NKvwJ-9J8KMV"
      },
      "source": [
        "**Praktyczne zadania - Podstawy Numpy w Python**"
      ]
    },
    {
      "cell_type": "markdown",
      "metadata": {
        "id": "O4Ni4oos8Kyo"
      },
      "source": [
        "# Zadanie 1\n"
      ]
    },
    {
      "cell_type": "markdown",
      "metadata": {
        "id": "_8iNHBPU8Z_A"
      },
      "source": [
        "1. Do zmiennych x,y przypisz dwie dowolne, różne liczby. \n",
        "\n",
        "2. Wyświetl je.\n",
        "\n",
        "3. Zamień je wartościami i wyświetl rezultat po zamianie."
      ]
    },
    {
      "cell_type": "code",
      "metadata": {
        "id": "JpbWO6CQ8rSc",
        "colab": {
          "base_uri": "https://localhost:8080/"
        },
        "outputId": "6d5f4ea9-a119-4d9f-bf2f-23d4634f198b"
      },
      "source": [
        "import numpy as np\r\n",
        "\r\n",
        "x,y = 1,2\r\n",
        "x"
      ],
      "execution_count": null,
      "outputs": [
        {
          "output_type": "execute_result",
          "data": {
            "text/plain": [
              "1"
            ]
          },
          "metadata": {
            "tags": []
          },
          "execution_count": 11
        }
      ]
    },
    {
      "cell_type": "code",
      "metadata": {
        "colab": {
          "base_uri": "https://localhost:8080/"
        },
        "id": "pzIsGmW7Dzvf",
        "outputId": "153da84f-bb29-4f24-a688-d4093ecd8d21"
      },
      "source": [
        "x,y = y,x\r\n",
        "x"
      ],
      "execution_count": null,
      "outputs": [
        {
          "output_type": "execute_result",
          "data": {
            "text/plain": [
              "1"
            ]
          },
          "metadata": {
            "tags": []
          },
          "execution_count": 13
        }
      ]
    },
    {
      "cell_type": "markdown",
      "metadata": {
        "id": "X5svsRlc8V7w"
      },
      "source": [
        "## Podpowiedzi\n"
      ]
    },
    {
      "cell_type": "code",
      "metadata": {
        "id": "1zmk1Msu75hF"
      },
      "source": [
        "# Python przyjmuje szereg zmiennych po przecinku. Przykład: x,y,z = funkcja(a,b), \n",
        "# przy założeniu, że funkcja zwraca 3 wartości, będą one przypisane kolejno do zmiennych x, y, z.\n",
        "# W tym przypadku do zamiany wartości można wykorzystać zapis x,y = y,x"
      ],
      "execution_count": null,
      "outputs": []
    },
    {
      "cell_type": "markdown",
      "metadata": {
        "id": "0dG-lOop8z3Q"
      },
      "source": [
        "## Podpowiedzi + rozwiązanie"
      ]
    },
    {
      "cell_type": "code",
      "metadata": {
        "id": "Bx3Orjtl87MU",
        "colab": {
          "base_uri": "https://localhost:8080/"
        },
        "outputId": "a5592fa8-c140-4548-863c-2ae6050d05c6"
      },
      "source": [
        "x = 24\n",
        "y = 20\n",
        "print(\"x:\", x, \"y:\", y)\n",
        "\n",
        "# Python przyjmuje szereg zmiennych po przecinku. Przykład: x,y,z = funkcja(a,b), \n",
        "# przy założeniu, że funkcja zwraca 3 wartości, będą one przypisane kolejno do zmiennych x, y, z.\n",
        "# W tym przypadku do zamiany wartości można wykorzystać zapis x,y = y,x\n",
        "\n",
        "x, y = y, x\n",
        "print(\"x:\", x, \"y:\", y)"
      ],
      "execution_count": null,
      "outputs": [
        {
          "output_type": "stream",
          "text": [
            "x: 24 y: 20\n",
            "x: 20 y: 24\n"
          ],
          "name": "stdout"
        }
      ]
    },
    {
      "cell_type": "markdown",
      "metadata": {
        "id": "r75hDuVh_VVL"
      },
      "source": [
        "#Zadanie 2"
      ]
    },
    {
      "cell_type": "markdown",
      "metadata": {
        "id": "3AsIJHUe_Yqu"
      },
      "source": [
        "1. Stwórz zmienną typu string o wartości \"12345\".\n",
        "\n",
        "2. Wyświetl pierwszy i ostatni element.\n",
        "\n",
        "3. Wyświetl długość elementu.\n",
        "\n",
        "4. Wyświetl typ zmiennej.\n",
        "\n",
        "5. Zmień typ zmiennej na integer.\n",
        "\n",
        "6. Wyświetl typ zmiennej po zmianie typu."
      ]
    },
    {
      "cell_type": "code",
      "metadata": {
        "id": "I1LhTtK0__e5",
        "colab": {
          "base_uri": "https://localhost:8080/"
        },
        "outputId": "991f0a49-023c-4dc5-85f6-314cad63f7a7"
      },
      "source": [
        "zmienna = '12345'\r\n",
        "print(zmienna[0])\r\n",
        "print(zmienna[-1])\r\n",
        "print(len(zmienna))\r\n",
        "print(type(zmienna))\r\n"
      ],
      "execution_count": null,
      "outputs": [
        {
          "output_type": "stream",
          "text": [
            "1\n",
            "5\n",
            "5\n",
            "<class 'str'>\n"
          ],
          "name": "stdout"
        }
      ]
    },
    {
      "cell_type": "code",
      "metadata": {
        "colab": {
          "base_uri": "https://localhost:8080/"
        },
        "id": "zTAE4T6WEddH",
        "outputId": "e14651d7-639d-43f0-c3d5-6bf2ae3bc6d7"
      },
      "source": [
        "zmienna = int(zmienna)\r\n",
        "type(zmienna)"
      ],
      "execution_count": null,
      "outputs": [
        {
          "output_type": "execute_result",
          "data": {
            "text/plain": [
              "int"
            ]
          },
          "metadata": {
            "tags": []
          },
          "execution_count": 18
        }
      ]
    },
    {
      "cell_type": "markdown",
      "metadata": {
        "id": "XTMbJ4iKAA52"
      },
      "source": [
        "##Podpowiedzi"
      ]
    },
    {
      "cell_type": "code",
      "metadata": {
        "id": "tcQtG67JAELG"
      },
      "source": [
        "# Stringi w Python można adresować również od końca. Wtedy należy wykorzystać zapis string[-1], który zwraca ostatni znak.\n",
        "# Typ zmiennej można wyświetlić za pomocą funkcji type(zmienna)"
      ],
      "execution_count": null,
      "outputs": []
    },
    {
      "cell_type": "markdown",
      "metadata": {
        "id": "SD1CD8YRBtU0"
      },
      "source": [
        "##Podpowiedzi + rozwiązanie"
      ]
    },
    {
      "cell_type": "code",
      "metadata": {
        "id": "jWFIVeUkBzNO",
        "colab": {
          "base_uri": "https://localhost:8080/"
        },
        "outputId": "1e5e7ee7-d0dd-4c07-d485-0a74b6296bbe"
      },
      "source": [
        "# Stringi w Python można adresować również od końca. Wtedy należy wykorzystać zapis string[-1], który zwraca ostatni znak.\n",
        "# Typ zmiennej można wyświetlić za pomocą funkcji type(zmienna)\n",
        "\n",
        "numbers = \"12345\"\n",
        "print(\"Pierwszy element:\",numbers[0], \"\\nOstatni element:\", numbers[-1])\n",
        "print(\"Długość:\", len(numbers))\n",
        "print(\"Typ: \", type(numbers))\n",
        "\n",
        "numbers = int(numbers)\n",
        "print(\"Typ po zmianie: \", type(numbers))"
      ],
      "execution_count": null,
      "outputs": [
        {
          "output_type": "stream",
          "text": [
            "Pierwszy element: 1 \n",
            "Ostatni element: 5\n",
            "Długość: 5\n",
            "Typ:  <class 'str'>\n",
            "Typ po zmianie:  <class 'int'>\n"
          ],
          "name": "stdout"
        }
      ]
    },
    {
      "cell_type": "markdown",
      "metadata": {
        "id": "lJ33sgcxEI6c"
      },
      "source": [
        "#Zadanie 3"
      ]
    },
    {
      "cell_type": "markdown",
      "metadata": {
        "id": "WdrxzfOwELK9"
      },
      "source": [
        "1. Stwórz funkcję **znajdz_sume** przyjmującą 2 parametry - **a** i **b**, i zwracającą ich sumę.\n",
        "\n",
        "2. Niech **a** ma domyślną wartość **5**, a **b** domyślną wartość **2**.\n",
        "\n",
        "3. Wywołaj funkcję bez podawania żadnych parametrów. Jaki będzie wynik?\n",
        "\n",
        "4. Wywołaj funkcję podając jej 2 parametry : a=9, b= 3.\n",
        "\n",
        "5. Wywołaj funkcję podając tylko jeden z argumentów. Przykładowo: **znajdz_sume(3)**\n",
        "\n",
        "6. Zaobserwuj jak funkcja reaguje na różne sposoby podawania parametrów.\n"
      ]
    },
    {
      "cell_type": "code",
      "metadata": {
        "id": "23t8r0zgEYps"
      },
      "source": [
        "def znajdz_sume(a=5,b=2):\r\n",
        "  return a+b\r\n",
        "  "
      ],
      "execution_count": null,
      "outputs": []
    },
    {
      "cell_type": "code",
      "metadata": {
        "colab": {
          "base_uri": "https://localhost:8080/"
        },
        "id": "bUnIg_ZEE39T",
        "outputId": "dbad966c-e303-4d15-d321-e20667d3f8b8"
      },
      "source": [
        "znajdz_sume()"
      ],
      "execution_count": null,
      "outputs": [
        {
          "output_type": "execute_result",
          "data": {
            "text/plain": [
              "7"
            ]
          },
          "metadata": {
            "tags": []
          },
          "execution_count": 22
        }
      ]
    },
    {
      "cell_type": "code",
      "metadata": {
        "colab": {
          "base_uri": "https://localhost:8080/"
        },
        "id": "LykAHTx4E78w",
        "outputId": "c18ac116-df23-4e8e-a0f3-292e51d3ea77"
      },
      "source": [
        "znajdz_sume(9,3)"
      ],
      "execution_count": null,
      "outputs": [
        {
          "output_type": "execute_result",
          "data": {
            "text/plain": [
              "12"
            ]
          },
          "metadata": {
            "tags": []
          },
          "execution_count": 24
        }
      ]
    },
    {
      "cell_type": "code",
      "metadata": {
        "colab": {
          "base_uri": "https://localhost:8080/"
        },
        "id": "xMwG9oogE92-",
        "outputId": "5be11f83-0162-4ed7-8a92-a651be48e000"
      },
      "source": [
        "znajdz_sume(b=4)"
      ],
      "execution_count": null,
      "outputs": [
        {
          "output_type": "execute_result",
          "data": {
            "text/plain": [
              "9"
            ]
          },
          "metadata": {
            "tags": []
          },
          "execution_count": 28
        }
      ]
    },
    {
      "cell_type": "markdown",
      "metadata": {
        "id": "EUojHss_EYVO"
      },
      "source": [
        "##Podpowiedzi"
      ]
    },
    {
      "cell_type": "code",
      "metadata": {
        "id": "h6Wqicg5EaqM"
      },
      "source": [
        "# Domyślny parametr funkcji można zadeklarować w momencie jej definiowania, \n",
        "# przy wykorzystaniu przykładowego zapisu def funkcja(a=2, b=True, c=\"color\")"
      ],
      "execution_count": null,
      "outputs": []
    },
    {
      "cell_type": "markdown",
      "metadata": {
        "id": "8ELTRoYPFHry"
      },
      "source": [
        "##Podpowiedzi + rozwiązanie"
      ]
    },
    {
      "cell_type": "code",
      "metadata": {
        "id": "pm8xuBQcFM78",
        "colab": {
          "base_uri": "https://localhost:8080/"
        },
        "outputId": "5e16b604-dcef-40f0-a191-f48552e39b33"
      },
      "source": [
        "# Domyślny parametr funkcji można zadeklarować w momencie jej definiowania, \n",
        "# przy wykorzystaniu przykładowego zapisu def funkcja(a=2, b=True, c=\"color\")\n",
        "\n",
        "def znajdz_sume(a=5, b=2):\n",
        "    return a + b\n",
        "\n",
        "print(znajdz_sume())\n",
        "print(znajdz_sume(9,3))\n",
        "print(znajdz_sume(3))"
      ],
      "execution_count": null,
      "outputs": [
        {
          "output_type": "stream",
          "text": [
            "7\n",
            "12\n",
            "5\n"
          ],
          "name": "stdout"
        }
      ]
    },
    {
      "cell_type": "markdown",
      "metadata": {
        "id": "6Udv7WjAHbd5"
      },
      "source": [
        "#Zadanie 4"
      ]
    },
    {
      "cell_type": "markdown",
      "metadata": {
        "id": "WUW_2yOvHeZ3"
      },
      "source": [
        "Stwórz anonimową funkcję **lambda**, która zwraca odwrócony string podany przez użytkownika."
      ]
    },
    {
      "cell_type": "code",
      "metadata": {
        "id": "hO66pZkEMifS",
        "colab": {
          "base_uri": "https://localhost:8080/"
        },
        "outputId": "ca1595af-049c-4826-ca9a-1c95fa4053a3"
      },
      "source": [
        "xlambda = lambda x: x[::-1]\r\n",
        "print(xlambda(input(\"podaj string: \")))"
      ],
      "execution_count": null,
      "outputs": [
        {
          "output_type": "stream",
          "text": [
            "podaj string: kacper\n",
            "repcak\n"
          ],
          "name": "stdout"
        }
      ]
    },
    {
      "cell_type": "markdown",
      "metadata": {
        "id": "GVDj07ZKMh7e"
      },
      "source": [
        "##Podpowiedzi"
      ]
    },
    {
      "cell_type": "code",
      "metadata": {
        "id": "gEp_0LycMld8"
      },
      "source": [
        "# Funkcje anonimowe (typu lambda) tworzy się na przykład wewnątrz definicji zmiennej. \n",
        "# Nie jest to zalecany przez literaturę sposób programowania (kod jest mniej czytelny), niemniej tego typu funkcje można spotkać.\n",
        "# Definiuje się je za pomocą zapisu : zmienna = lambda x: x*3\n",
        "# Powyższy zapis przypisze do obiektu \"zmienna\" wartość równą x razy 3.\n",
        "# Spróbuj wykorzystać ten zapis funkcji aby odwrócić string."
      ],
      "execution_count": null,
      "outputs": []
    },
    {
      "cell_type": "markdown",
      "metadata": {
        "id": "xvIdu1NmMmQ5"
      },
      "source": [
        "##Podpowiedzi + rozwiązanie"
      ]
    },
    {
      "cell_type": "code",
      "metadata": {
        "id": "LB3k2XlwMtIh",
        "colab": {
          "base_uri": "https://localhost:8080/"
        },
        "outputId": "8bcdbd9b-aba0-4546-f886-648a0827e4a2"
      },
      "source": [
        "# Funkcje anonimowe (typu lambda) tworzy się na przykład wewnątrz definicji zmiennej. \n",
        "# Nie jest to zalecany przez literaturę sposób programowania (kod jest mniej czytelny), niemniej tego typu funkcje można spotkać.\n",
        "# Definiuje się je za pomocą zapisu : zmienna = lambda x: x*3\n",
        "# Powyższy zapis przypisze do obiektu \"zmienna\" wartość równą x razy 3.\n",
        "# Spróbuj wykorzystać ten zapis funkcji aby odwrócić string.\n",
        "\n",
        "palindrom = lambda v: v[::-1]\n",
        "print(palindrom(input(\"Podaj string do odwrócenia: \")))"
      ],
      "execution_count": null,
      "outputs": [
        {
          "output_type": "stream",
          "text": [
            "Podaj string do odwrócenia: nice\n",
            "ecin\n"
          ],
          "name": "stdout"
        }
      ]
    },
    {
      "cell_type": "markdown",
      "metadata": {
        "id": "ZdZuXqnOOrPp"
      },
      "source": [
        "#Zadanie 5"
      ]
    },
    {
      "cell_type": "markdown",
      "metadata": {
        "id": "glt0uYZtOtfi"
      },
      "source": [
        "1. Zaimportuj numpy jako np.\n",
        "\n",
        "2. Stwórz array z 25 liczb pomiędzy 1 a 100 (włącznie z 100) i zapisz jako zmienna **ar1**.\n",
        "\n",
        "3. Wyświetl typ zmiennej **ar1** oraz typ danych przez nią przechowywanych."
      ]
    },
    {
      "cell_type": "code",
      "metadata": {
        "id": "xF1LNr4ePW8_",
        "colab": {
          "base_uri": "https://localhost:8080/"
        },
        "outputId": "6465ca22-eab1-4494-f181-e17dfe8256c2"
      },
      "source": [
        "np.linspace(1,100,num=25)"
      ],
      "execution_count": null,
      "outputs": [
        {
          "output_type": "execute_result",
          "data": {
            "text/plain": [
              "array([  1.   ,   5.125,   9.25 ,  13.375,  17.5  ,  21.625,  25.75 ,\n",
              "        29.875,  34.   ,  38.125,  42.25 ,  46.375,  50.5  ,  54.625,\n",
              "        58.75 ,  62.875,  67.   ,  71.125,  75.25 ,  79.375,  83.5  ,\n",
              "        87.625,  91.75 ,  95.875, 100.   ])"
            ]
          },
          "metadata": {
            "tags": []
          },
          "execution_count": 40
        }
      ]
    },
    {
      "cell_type": "code",
      "metadata": {
        "colab": {
          "base_uri": "https://localhost:8080/"
        },
        "id": "RTcCeAyaPQDZ",
        "outputId": "9687f007-153f-4bf3-edb0-427a197c06ae"
      },
      "source": [
        "ar = np.linspace(1,100,num=25)\r\n",
        "type(ar)"
      ],
      "execution_count": null,
      "outputs": [
        {
          "output_type": "execute_result",
          "data": {
            "text/plain": [
              "numpy.ndarray"
            ]
          },
          "metadata": {
            "tags": []
          },
          "execution_count": 43
        }
      ]
    },
    {
      "cell_type": "code",
      "metadata": {
        "colab": {
          "base_uri": "https://localhost:8080/"
        },
        "id": "Zcf6OW06PZlD",
        "outputId": "86f8fecb-f2c3-4510-98fc-54587cdd045b"
      },
      "source": [
        "ar.dtype"
      ],
      "execution_count": null,
      "outputs": [
        {
          "output_type": "execute_result",
          "data": {
            "text/plain": [
              "dtype('float64')"
            ]
          },
          "metadata": {
            "tags": []
          },
          "execution_count": 44
        }
      ]
    },
    {
      "cell_type": "markdown",
      "metadata": {
        "id": "gwDux0tmPXaj"
      },
      "source": [
        "##Podpowiedzi\n"
      ]
    },
    {
      "cell_type": "code",
      "metadata": {
        "id": "8JkZXE2jPZR9"
      },
      "source": [
        "# Zwyczajowy zapis importu biblioteki numpy to: import numpy as np\n",
        "# Do stworzenia array wykorzystaj funkcję np.linspace(a,b,c), gdzie a to wartość początkowa, b to wartość końcowa a c to ilość liczb w array.\n",
        "# Do wyświetlenia typu danych zawartych wewnątrz array/tabeli itp. wykorzystaj zapis zmienna.dtype . \n",
        "# Warto zapamiętać rozróżnienie pomiędzy typem zmiennej a typem danych - w przyszłości będziesz tego dużo używać.\n",
        "# Funkcja np.linspace tworzy liniowy rozkład pomiędzy wartościami parametru \"od\" (większe lub równe) oraz \"do\"(mniejsze lub równe), następnie zapisuje żadaną ilość liczb w równych odstępach."
      ],
      "execution_count": null,
      "outputs": []
    },
    {
      "cell_type": "markdown",
      "metadata": {
        "id": "CjOoKj7BQafT"
      },
      "source": [
        "##Podpowiedzi + rozwiązanie\n"
      ]
    },
    {
      "cell_type": "code",
      "metadata": {
        "id": "shuORwtAQczR",
        "colab": {
          "base_uri": "https://localhost:8080/"
        },
        "outputId": "8b0b0cbe-3f42-41e7-e769-9c5548e07410"
      },
      "source": [
        "# Zwyczajowy zapis importu biblioteki numpy to: import numpy as np\n",
        "# Do stworzenia array wykorzystaj funkcję np.linspace(a,b,c), gdzie a to wartość początkowa, b to wartość końcowa a c to ilość liczb w array.\n",
        "# Do wyświetlenia typu danych zawartych wewnątrz array/tabeli itp. wykorzystaj zapis zmienna.dtype . \n",
        "# Warto zapamiętać rozróżnienie pomiędzy typem zmiennej a typem danych - w przyszłości będziesz tego dużo używać.\n",
        "# Funkcja np.linspace tworzy liniowy rozkład pomiędzy wartościami parametru \"od\" (większe lub równe) oraz \"do\"(mniejsze lub równe), następnie zapisuje żadaną ilość liczb w równych odstępach.\n",
        "\n",
        "import numpy as np\n",
        "ar1= np.linspace(1,100,25)\n",
        "\n",
        "print(ar1)\n",
        "print(\"Typ zmiennej ar1: \", type(ar1))\n",
        "print(\"Typ zmiennych wewnątrz ar1: \", ar1.dtype)"
      ],
      "execution_count": null,
      "outputs": [
        {
          "output_type": "stream",
          "text": [
            "[  1.      5.125   9.25   13.375  17.5    21.625  25.75   29.875  34.\n",
            "  38.125  42.25   46.375  50.5    54.625  58.75   62.875  67.     71.125\n",
            "  75.25   79.375  83.5    87.625  91.75   95.875 100.   ]\n",
            "Typ zmiennej ar1:  <class 'numpy.ndarray'>\n",
            "Typ zmiennych wewnątrz ar1:  float64\n"
          ],
          "name": "stdout"
        }
      ]
    },
    {
      "cell_type": "markdown",
      "metadata": {
        "id": "iBjoEjZqJHK_"
      },
      "source": [
        "#Zadanie 6\n"
      ]
    },
    {
      "cell_type": "markdown",
      "metadata": {
        "id": "oSA1UroqJaJ1"
      },
      "source": [
        "1. Zaimportuj numpy jako np.\n",
        "\n",
        "2. Stwórz array 20 liczb od 30 do 50 (z wyłączeniem 50) za pomocą funkcji **np.arange**\n",
        "\n",
        "3. Zapisz go jako zmienna **ar2**.\n",
        "\n",
        "4. Porównaj różnice w działaniu funkcji **linspace** i **arange**."
      ]
    },
    {
      "cell_type": "code",
      "metadata": {
        "id": "WZ2FcmjTJLY5",
        "colab": {
          "base_uri": "https://localhost:8080/"
        },
        "outputId": "742e1fe8-1b88-481f-db5a-2394b2ebf97d"
      },
      "source": [
        "ar2 = np.arange(30,50)\r\n",
        "ar2"
      ],
      "execution_count": null,
      "outputs": [
        {
          "output_type": "execute_result",
          "data": {
            "text/plain": [
              "array([30, 31, 32, 33, 34, 35, 36, 37, 38, 39, 40, 41, 42, 43, 44, 45, 46,\n",
              "       47, 48, 49])"
            ]
          },
          "metadata": {
            "tags": []
          },
          "execution_count": 46
        }
      ]
    },
    {
      "cell_type": "markdown",
      "metadata": {
        "id": "YYBO21UuJO46"
      },
      "source": [
        "##Podpowiedzi"
      ]
    },
    {
      "cell_type": "code",
      "metadata": {
        "id": "rJTKswt3JVQz"
      },
      "source": [
        "# Funkcja np.arange tworzy array liczb całkowitych od-do, \n",
        "# na zasadzie większe lub równe parametru \"od\", mniejsze od parametru \"do\""
      ],
      "execution_count": null,
      "outputs": []
    },
    {
      "cell_type": "markdown",
      "metadata": {
        "id": "g8YFAxS7JWXO"
      },
      "source": [
        "##Podpowiedzi + rozwiązanie"
      ]
    },
    {
      "cell_type": "code",
      "metadata": {
        "id": "fB3EZc3JJYYB",
        "colab": {
          "base_uri": "https://localhost:8080/"
        },
        "outputId": "eb26d0f1-8ad3-4541-97dd-18c70ad8a081"
      },
      "source": [
        "# Funkcja np.arange tworzy array liczb całkowitych od-do, \n",
        "# na zasadzie większe lub równe parametru \"od\", mniejsze od parametru \"do\"\n",
        "\n",
        "ar2 = np.arange(30,50)\n",
        "print(ar2)"
      ],
      "execution_count": null,
      "outputs": [
        {
          "output_type": "stream",
          "text": [
            "[30 31 32 33 34 35 36 37 38 39 40 41 42 43 44 45 46 47 48 49]\n"
          ],
          "name": "stdout"
        }
      ]
    },
    {
      "cell_type": "markdown",
      "metadata": {
        "id": "TFX8x0aNN5nc"
      },
      "source": [
        "#Zadanie 7"
      ]
    },
    {
      "cell_type": "markdown",
      "metadata": {
        "id": "1SRwhVG_N9sP"
      },
      "source": [
        "Stwórz i wyświetl trzy array:\n",
        "\n",
        "1. Array wszystkich parzystych liczb od 20 do 68, za wyjątkiem 68.\n",
        "2. Array wszystkich liczb od 0 do 100 (włącznie), z rozmiarem kroku 20.\n",
        "3. Array 14 liczb od -7 do 7 z równymi odstępami."
      ]
    },
    {
      "cell_type": "code",
      "metadata": {
        "id": "YJWZeMvHN8X2",
        "colab": {
          "base_uri": "https://localhost:8080/"
        },
        "outputId": "ebc308c7-1c9b-4d64-f8d3-c9359f038354"
      },
      "source": [
        "ar3 = np.arange(20,68,2)\r\n",
        "ar3"
      ],
      "execution_count": null,
      "outputs": [
        {
          "output_type": "execute_result",
          "data": {
            "text/plain": [
              "array([20, 22, 24, 26, 28, 30, 32, 34, 36, 38, 40, 42, 44, 46, 48, 50, 52,\n",
              "       54, 56, 58, 60, 62, 64, 66])"
            ]
          },
          "metadata": {
            "tags": []
          },
          "execution_count": 48
        }
      ]
    },
    {
      "cell_type": "code",
      "metadata": {
        "colab": {
          "base_uri": "https://localhost:8080/"
        },
        "id": "uNJo-iQsQIkv",
        "outputId": "835e48b8-83b4-42ba-a79c-7d9937521d3c"
      },
      "source": [
        "ar4 = np.arange(0,101,20)\r\n",
        "ar4"
      ],
      "execution_count": null,
      "outputs": [
        {
          "output_type": "execute_result",
          "data": {
            "text/plain": [
              "array([  0,  20,  40,  60,  80, 100])"
            ]
          },
          "metadata": {
            "tags": []
          },
          "execution_count": 55
        }
      ]
    },
    {
      "cell_type": "code",
      "metadata": {
        "colab": {
          "base_uri": "https://localhost:8080/"
        },
        "id": "wch2g-twQWNG",
        "outputId": "e8d6ae56-b16c-415a-8640-cc8006ea702f"
      },
      "source": [
        "ar5 = np.linspace(-7,7,14)\r\n",
        "ar5"
      ],
      "execution_count": null,
      "outputs": [
        {
          "output_type": "execute_result",
          "data": {
            "text/plain": [
              "array([-7.        , -5.92307692, -4.84615385, -3.76923077, -2.69230769,\n",
              "       -1.61538462, -0.53846154,  0.53846154,  1.61538462,  2.69230769,\n",
              "        3.76923077,  4.84615385,  5.92307692,  7.        ])"
            ]
          },
          "metadata": {
            "tags": []
          },
          "execution_count": 54
        }
      ]
    },
    {
      "cell_type": "markdown",
      "metadata": {
        "id": "CQJ3gkUdN75p"
      },
      "source": [
        "##Podpowiedzi"
      ]
    },
    {
      "cell_type": "code",
      "metadata": {
        "id": "1WxvqtD0ODZh"
      },
      "source": [
        "# Do tworzenia array z określonym krokiem wykorzystaj funkcję np.arange\n",
        "# Do tworzenia array z określoną liczbą wpisów wykorzystaj funkcję np.linspace\n",
        "# Zwróć uwagę na interpretację parametrów przez te funkcje - jedna traktuje podane wartości jako od-do na zasadzie większe lub równe, mniejsze lub równe a druga większe lub równe i mniejsze"
      ],
      "execution_count": null,
      "outputs": []
    },
    {
      "cell_type": "markdown",
      "metadata": {
        "id": "apYFKFGvOAj4"
      },
      "source": [
        "##Podpowiedzi + rozwiązanie"
      ]
    },
    {
      "cell_type": "code",
      "metadata": {
        "id": "FzM7mP14Xeml",
        "colab": {
          "base_uri": "https://localhost:8080/"
        },
        "outputId": "c996184a-154e-461b-a5ba-76570fe4bf83"
      },
      "source": [
        "# Do tworzenia array z określonym krokiem wykorzystaj funkcję np.arange\n",
        "# Do tworzenia array z określoną liczbą wpisów wykorzystaj funkcję np.linspace\n",
        "# Zwróć uwagę na interpretację parametrów przez te funkcje - jedna traktuje podane wartości jako od-do na zasadzie większe lub równe, mniejsze lub równe a druga większe lub równe i mniejsze\n",
        "\n",
        "a = np.arange(20,68,2)\n",
        "b = np.arange(0,101,20)\n",
        "c = np.linspace(-7,7,14)\n",
        "\n",
        "print(a)\n",
        "print(b)\n",
        "print(c)"
      ],
      "execution_count": null,
      "outputs": [
        {
          "output_type": "stream",
          "text": [
            "[20 22 24 26 28 30 32 34 36 38 40 42 44 46 48 50 52 54 56 58 60 62 64 66]\n",
            "[  0  20  40  60  80 100]\n",
            "[-7.         -5.92307692 -4.84615385 -3.76923077 -2.69230769 -1.61538462\n",
            " -0.53846154  0.53846154  1.61538462  2.69230769  3.76923077  4.84615385\n",
            "  5.92307692  7.        ]\n"
          ],
          "name": "stdout"
        }
      ]
    },
    {
      "cell_type": "markdown",
      "metadata": {
        "id": "r64-AX5oSC5y"
      },
      "source": [
        "#Zadanie 8"
      ]
    },
    {
      "cell_type": "markdown",
      "metadata": {
        "id": "4Jj6e3VPSC50"
      },
      "source": [
        "1. Stwórz array z 10 liczb od 0 do 20 i przypisz go do zmiennej **ar3**.<br>\n",
        "2. Użyj funkcji **np.linspace**<br>\n",
        "3. Znajdź max, min i sumę array."
      ]
    },
    {
      "cell_type": "code",
      "metadata": {
        "id": "Y9ZzyIheYyw9"
      },
      "source": [
        "ar6 = np.linspace(0,20,10)"
      ],
      "execution_count": null,
      "outputs": []
    },
    {
      "cell_type": "code",
      "metadata": {
        "colab": {
          "base_uri": "https://localhost:8080/"
        },
        "id": "k-93pM-hRChZ",
        "outputId": "b17b90a0-1f09-41e4-9b63-3c2dca0db31c"
      },
      "source": [
        "print(ar6)\r\n",
        "print(ar6.max())\r\n",
        "print(ar6.min())\r\n",
        "print(ar6.sum())"
      ],
      "execution_count": null,
      "outputs": [
        {
          "output_type": "stream",
          "text": [
            "[ 0.          2.22222222  4.44444444  6.66666667  8.88888889 11.11111111\n",
            " 13.33333333 15.55555556 17.77777778 20.        ]\n",
            "20.0\n",
            "0.0\n",
            "100.0\n"
          ],
          "name": "stdout"
        }
      ]
    },
    {
      "cell_type": "markdown",
      "metadata": {
        "id": "gaDYxhC_SC55"
      },
      "source": [
        "##Podpowiedzi"
      ]
    },
    {
      "cell_type": "code",
      "metadata": {
        "id": "wFhdosgCSC56"
      },
      "source": [
        "# Do znajdywania wartości minimalnych i maksymalnych w array wykorzystaj funkcje np.amin() oraz np.amax()\n",
        "# Sumę array możesz łatwo policzyć wykorzystując funkcję np.sum()"
      ],
      "execution_count": null,
      "outputs": []
    },
    {
      "cell_type": "markdown",
      "metadata": {
        "id": "ollIx6-XSC59"
      },
      "source": [
        "##Podpowiedzi + rozwiązanie"
      ]
    },
    {
      "cell_type": "code",
      "metadata": {
        "id": "CxNn_1p1SC5-",
        "colab": {
          "base_uri": "https://localhost:8080/"
        },
        "outputId": "f6595f08-e9a6-4d16-96bb-9fc7cc889233"
      },
      "source": [
        "# Do znajdywania wartości minimalnych i maksymalnych w array wykorzystaj funkcje np.amin() oraz np.amax()\n",
        "# Sumę array możesz łatwo policzyć wykorzystując funkcję np.sum()\n",
        "\n",
        "ar3 = np.linspace(0,20,10)\n",
        "print(ar3)\n",
        "print(np.amin(ar3))\n",
        "print(np.amax(ar3))\n",
        "print(np.sum(ar3))"
      ],
      "execution_count": null,
      "outputs": [
        {
          "output_type": "stream",
          "text": [
            "[ 0.          2.22222222  4.44444444  6.66666667  8.88888889 11.11111111\n",
            " 13.33333333 15.55555556 17.77777778 20.        ]\n",
            "0.0\n",
            "20.0\n",
            "100.0\n"
          ],
          "name": "stdout"
        }
      ]
    },
    {
      "cell_type": "markdown",
      "metadata": {
        "id": "oif1b95zSFCU"
      },
      "source": [
        "#Zadanie 9"
      ]
    },
    {
      "cell_type": "markdown",
      "metadata": {
        "id": "58YFIs4LSFCV"
      },
      "source": [
        "1. Stwórz dwa array o wielkości 4, z numerami 2,3,4,5 w **array1** oraz 6,8,10,12 w **array2**.\n",
        "\n",
        "2. Znajdź sumę, iloczyn, różnicę oraz iloraz.\n",
        "\n",
        "3. Wyświetl wyniki."
      ]
    },
    {
      "cell_type": "code",
      "metadata": {
        "id": "HGCvPAGvSFCW",
        "colab": {
          "base_uri": "https://localhost:8080/"
        },
        "outputId": "63a69af2-af0b-4ae4-f4b5-38ed06751fde"
      },
      "source": [
        "ar7 = np.arange(2,6,1)\r\n",
        "ar8 = np.arange(6,13,2)\r\n",
        "print(ar7)\r\n",
        "print(ar8)"
      ],
      "execution_count": null,
      "outputs": [
        {
          "output_type": "stream",
          "text": [
            "[2 3 4 5]\n",
            "[ 6  8 10 12]\n"
          ],
          "name": "stdout"
        }
      ]
    },
    {
      "cell_type": "code",
      "metadata": {
        "colab": {
          "base_uri": "https://localhost:8080/"
        },
        "id": "U8hyG7nmR-on",
        "outputId": "2e2b92c0-c1a0-4a5e-ce7f-3510e6979df8"
      },
      "source": [
        "ar7 + ar8"
      ],
      "execution_count": null,
      "outputs": [
        {
          "output_type": "execute_result",
          "data": {
            "text/plain": [
              "array([ 8, 11, 14, 17])"
            ]
          },
          "metadata": {
            "tags": []
          },
          "execution_count": 72
        }
      ]
    },
    {
      "cell_type": "code",
      "metadata": {
        "colab": {
          "base_uri": "https://localhost:8080/"
        },
        "id": "tD3GQAnqSBEh",
        "outputId": "44285a3b-7b29-4e9c-e754-31887a9a4e06"
      },
      "source": [
        "ar7*ar8"
      ],
      "execution_count": null,
      "outputs": [
        {
          "output_type": "execute_result",
          "data": {
            "text/plain": [
              "array([12, 24, 40, 60])"
            ]
          },
          "metadata": {
            "tags": []
          },
          "execution_count": 74
        }
      ]
    },
    {
      "cell_type": "code",
      "metadata": {
        "colab": {
          "base_uri": "https://localhost:8080/"
        },
        "id": "4q18I70ESErl",
        "outputId": "7794da59-af9a-424a-c877-21d8f141237d"
      },
      "source": [
        "ar7-ar8"
      ],
      "execution_count": null,
      "outputs": [
        {
          "output_type": "execute_result",
          "data": {
            "text/plain": [
              "array([-4, -5, -6, -7])"
            ]
          },
          "metadata": {
            "tags": []
          },
          "execution_count": 75
        }
      ]
    },
    {
      "cell_type": "code",
      "metadata": {
        "colab": {
          "base_uri": "https://localhost:8080/"
        },
        "id": "QdFv5TWlSGOb",
        "outputId": "7d9d4e92-ef73-4dbd-b09e-c71a9f93a32f"
      },
      "source": [
        "ar7/ar8"
      ],
      "execution_count": null,
      "outputs": [
        {
          "output_type": "execute_result",
          "data": {
            "text/plain": [
              "array([0.33333333, 0.375     , 0.4       , 0.41666667])"
            ]
          },
          "metadata": {
            "tags": []
          },
          "execution_count": 77
        }
      ]
    },
    {
      "cell_type": "code",
      "metadata": {
        "colab": {
          "base_uri": "https://localhost:8080/",
          "height": 194
        },
        "id": "MQNQAqj_STNe",
        "outputId": "f610850d-d766-4105-e56c-777be18d47fd"
      },
      "source": [
        "ar9 = np.array([2,3,4,5,6])\r\n",
        "ar7/ar9"
      ],
      "execution_count": null,
      "outputs": [
        {
          "output_type": "error",
          "ename": "ValueError",
          "evalue": "ignored",
          "traceback": [
            "\u001b[0;31m---------------------------------------------------------------------------\u001b[0m",
            "\u001b[0;31mValueError\u001b[0m                                Traceback (most recent call last)",
            "\u001b[0;32m<ipython-input-79-52c8a08ba276>\u001b[0m in \u001b[0;36m<module>\u001b[0;34m()\u001b[0m\n\u001b[1;32m      1\u001b[0m \u001b[0mar9\u001b[0m \u001b[0;34m=\u001b[0m \u001b[0mnp\u001b[0m\u001b[0;34m.\u001b[0m\u001b[0marray\u001b[0m\u001b[0;34m(\u001b[0m\u001b[0;34m[\u001b[0m\u001b[0;36m2\u001b[0m\u001b[0;34m,\u001b[0m\u001b[0;36m3\u001b[0m\u001b[0;34m,\u001b[0m\u001b[0;36m4\u001b[0m\u001b[0;34m,\u001b[0m\u001b[0;36m5\u001b[0m\u001b[0;34m,\u001b[0m\u001b[0;36m6\u001b[0m\u001b[0;34m]\u001b[0m\u001b[0;34m)\u001b[0m\u001b[0;34m\u001b[0m\u001b[0;34m\u001b[0m\u001b[0m\n\u001b[0;32m----> 2\u001b[0;31m \u001b[0mar7\u001b[0m\u001b[0;34m/\u001b[0m\u001b[0mar9\u001b[0m\u001b[0;34m\u001b[0m\u001b[0;34m\u001b[0m\u001b[0m\n\u001b[0m",
            "\u001b[0;31mValueError\u001b[0m: operands could not be broadcast together with shapes (4,) (5,) "
          ]
        }
      ]
    },
    {
      "cell_type": "markdown",
      "metadata": {
        "id": "VrnKa4RgSFCb"
      },
      "source": [
        "##Podpowiedzi"
      ]
    },
    {
      "cell_type": "code",
      "metadata": {
        "id": "qsQPLMr4SFCb"
      },
      "source": [
        "# Array \"ręcznie\" można definiować za pomocą zapisu array1 = np.array([2,3,4,5])\n",
        "# Działania matematyczne na array można przeprowadzać, jak na normalnych zmiennych.\n",
        "# Zaobserwuj co się stanie, jak arrays będą miały różne wielkości (długości)."
      ],
      "execution_count": null,
      "outputs": []
    },
    {
      "cell_type": "markdown",
      "metadata": {
        "id": "yQvjyXP6SFCf"
      },
      "source": [
        "##Podpowiedzi + rozwiązanie"
      ]
    },
    {
      "cell_type": "code",
      "metadata": {
        "id": "ABtbHz3lSFCf",
        "colab": {
          "base_uri": "https://localhost:8080/"
        },
        "outputId": "3f840dbe-1ef3-4b4c-e37a-208adc469dbc"
      },
      "source": [
        "# Array \"ręcznie\" można definiować za pomocą zapisu array1 = np.array([2,3,4,5])\n",
        "# Działania matematyczne na array można przeprowadzać, jak na normalnych zmiennych.\n",
        "# Zaobserwuj co się stanie, jak arrays będą miały różne wielkości (długości).\n",
        "\n",
        "array1 = np.array([2, 3, 4, 5])\n",
        "array2 = np.array([6, 8, 10, 12])\n",
        "\n",
        "array_sum = array1 + array2\n",
        "print(\"Suma: \", array_sum)\n",
        "product = array1 * array2\n",
        "print(\"Iloczyn: \",product)\n",
        "difference = array1 - array2\n",
        "print(\"Różnica: \", difference)\n",
        "quotient = array1 / array2\n",
        "print(\"Iloraz: \", quotient)"
      ],
      "execution_count": null,
      "outputs": [
        {
          "output_type": "stream",
          "text": [
            "Suma:  [ 8 11 14 17]\n",
            "Iloczyn:  [12 24 40 60]\n",
            "Różnica:  [-4 -5 -6 -7]\n",
            "Iloraz:  [0.33333333 0.375      0.4        0.41666667]\n"
          ],
          "name": "stdout"
        }
      ]
    },
    {
      "cell_type": "markdown",
      "metadata": {
        "id": "fHuoh-08WklT"
      },
      "source": [
        "#Zadanie 10"
      ]
    },
    {
      "cell_type": "markdown",
      "metadata": {
        "id": "DWn3h2APWklU"
      },
      "source": [
        "1. Stwórz manualnie array z wartościami [ -5, -69, -26, 5, 12, 99].\n",
        "\n",
        "2. Na jego podstawie stwórz array o nazwie **abs_values** zawierający wartości bezwzględne z powyższego array.\n",
        "\n",
        "3. Wyświetl wszystkie wartości w array **abs_values** będące większe lub równe 26.\n",
        "\n"
      ]
    },
    {
      "cell_type": "code",
      "metadata": {
        "id": "jI4ayGofWklW"
      },
      "source": [
        "ar10 = np.array([-5, -69, -26, 5, 12, 99])"
      ],
      "execution_count": null,
      "outputs": []
    },
    {
      "cell_type": "code",
      "metadata": {
        "colab": {
          "base_uri": "https://localhost:8080/"
        },
        "id": "aTKd3U_qT5nF",
        "outputId": "e46661b8-8c43-4ed8-ee8b-f6814dd39fc7"
      },
      "source": [
        "ar11 = abs(ar10)\r\n",
        "ar11"
      ],
      "execution_count": null,
      "outputs": [
        {
          "output_type": "execute_result",
          "data": {
            "text/plain": [
              "array([ 5, 69, 26,  5, 12, 99])"
            ]
          },
          "metadata": {
            "tags": []
          },
          "execution_count": 83
        }
      ]
    },
    {
      "cell_type": "code",
      "metadata": {
        "colab": {
          "base_uri": "https://localhost:8080/"
        },
        "id": "bFJaLP3RUQNJ",
        "outputId": "4467cd1d-6a4c-406b-c94d-9373b684b5bd"
      },
      "source": [
        "ar11[ar11>=26]"
      ],
      "execution_count": null,
      "outputs": [
        {
          "output_type": "execute_result",
          "data": {
            "text/plain": [
              "array([69, 26, 99])"
            ]
          },
          "metadata": {
            "tags": []
          },
          "execution_count": 84
        }
      ]
    },
    {
      "cell_type": "markdown",
      "metadata": {
        "id": "wsrBaBpBWklg"
      },
      "source": [
        "##Podpowiedzi"
      ]
    },
    {
      "cell_type": "code",
      "metadata": {
        "id": "rkYJ3epdWkli"
      },
      "source": [
        "# Aby znaleźć wartości bezwzględne wykorzystaj funkcję abs().\n",
        "# Najskuteczniejszą metodą filtrowania danych (najszybszą pod względem czasu obliczeń) jest filtrowanie dataframe \n",
        "# lub array przez ich własną instancję z zadanym warunkiem logicznym.\n",
        "# Przykładowe zadanie: wyświetl elementy array ar3 mniejsze od 12. \n",
        "# Zapis ar3[ar3<12], który z Pythona na nasze oznacza mniej więcej: weź całość ar3 (część zapisu poza []), \n",
        "# ale tylko te elementy ar3, które są mniejsze od 12 (wewnątrz []).\n",
        "# Będziesz tego typu zapisów używać bardzo dużo - i dla danych typu array i pandas dataframe. "
      ],
      "execution_count": null,
      "outputs": []
    },
    {
      "cell_type": "markdown",
      "metadata": {
        "id": "CUCXm0LUWklm"
      },
      "source": [
        "##Podpowiedzi + rozwiązanie"
      ]
    },
    {
      "cell_type": "code",
      "metadata": {
        "id": "IX_H2y9qghIi",
        "colab": {
          "base_uri": "https://localhost:8080/"
        },
        "outputId": "b7414488-b6ca-4d02-c763-a6b4ec0c7733"
      },
      "source": [
        "# Aby znaleźć wartości bezwzględne wykorzystaj funkcję abs().\n",
        "# Najskuteczniejszą metodą filtrowania danych (najszybszą pod względem czasu obliczeń) jest filtrowanie dataframe \n",
        "# lub array przez ich własną instancję z zadanym warunkiem logicznym.\n",
        "# Przykładowe zadanie: wyświetl elementy array ar3 mniejsze od 12. \n",
        "# Zapis ar3[ar3<12], który z Pythona na nasze oznacza mniej więcej: weź całość ar3 (część zapisu poza []), \n",
        "# ale tylko te elementy ar3, które są mniejsze od 12 (wewnątrz []).\n",
        "# Będziesz tego typu zapisów używać bardzo dużo - i dla danych typu array i pandas dataframe. \n",
        "\n",
        "abs_values = abs(np.array( [-5, -69, -26, 5, 12, 99] ))\n",
        "print(abs_values[abs_values >= 26])"
      ],
      "execution_count": null,
      "outputs": [
        {
          "output_type": "stream",
          "text": [
            "[69 26 99]\n"
          ],
          "name": "stdout"
        }
      ]
    },
    {
      "cell_type": "markdown",
      "metadata": {
        "id": "e1kkY9TcWlUJ"
      },
      "source": [
        "#Zadanie 11"
      ]
    },
    {
      "cell_type": "markdown",
      "metadata": {
        "id": "7tJhUx_iWuYm"
      },
      "source": [
        "1. Stwórz macierz z 3 wierszami i przypisz ją do zmiennej **mat1**.\n",
        "\n",
        "> [1,2,3]<br>\n",
        "> [4,5,6]<br>\n",
        "> [7,8,9]<br>\n",
        "\n",
        "2. Wyświetl kształt macierzy."
      ]
    },
    {
      "cell_type": "code",
      "metadata": {
        "id": "w6a4p4XPWlUL",
        "colab": {
          "base_uri": "https://localhost:8080/"
        },
        "outputId": "19688a12-1b5b-4998-b9e7-9542b4f97614"
      },
      "source": [
        "matrix = np.matrix('1,2,3;3,5,6;7,8,9')\r\n",
        "matrix"
      ],
      "execution_count": null,
      "outputs": [
        {
          "output_type": "execute_result",
          "data": {
            "text/plain": [
              "matrix([[1, 2, 3],\n",
              "        [3, 5, 6],\n",
              "        [7, 8, 9]])"
            ]
          },
          "metadata": {
            "tags": []
          },
          "execution_count": 87
        }
      ]
    },
    {
      "cell_type": "code",
      "metadata": {
        "colab": {
          "base_uri": "https://localhost:8080/"
        },
        "id": "S-p2ueYGVBpO",
        "outputId": "be35c887-8c72-4243-974c-9e75bb45f4bf"
      },
      "source": [
        "matrix.shape"
      ],
      "execution_count": null,
      "outputs": [
        {
          "output_type": "execute_result",
          "data": {
            "text/plain": [
              "(3, 3)"
            ]
          },
          "metadata": {
            "tags": []
          },
          "execution_count": 88
        }
      ]
    },
    {
      "cell_type": "markdown",
      "metadata": {
        "id": "7oGlwbOeWlUQ"
      },
      "source": [
        "##Podpowiedzi"
      ]
    },
    {
      "cell_type": "code",
      "metadata": {
        "id": "nK1qYectWlUQ"
      },
      "source": [
        "# Według interpretacji numpy, macierz to nic innego jak zbiór równych wierszy będących listami lub arrays.\n",
        "# Można ją zdefiniować za pomocą funkcji np.array(), podając po przecinku pożądane wiersze jako arrays lub listy.\n",
        "# Kształt macierzy lub tablicy można poznać za pomocą mat1.shape"
      ],
      "execution_count": null,
      "outputs": []
    },
    {
      "cell_type": "markdown",
      "metadata": {
        "id": "ZSeJW8I6WlUU"
      },
      "source": [
        "##Podpowiedzi + rozwiązanie"
      ]
    },
    {
      "cell_type": "code",
      "metadata": {
        "id": "c-fGneyEWlUW",
        "colab": {
          "base_uri": "https://localhost:8080/"
        },
        "outputId": "c3aa0303-8b56-4355-a671-0dc301bc88f8"
      },
      "source": [
        "# Według interpretacji numpy, macierz to nic innego jak zbiór równych wierszy będących listami lub arrays.\n",
        "# Można ją zdefiniować za pomocą funkcji np.array(), podając po przecinku pożądane wiersze jako arrays lub listy.\n",
        "# Kształt macierzy lub tablicy można poznać za pomocą mat1.shape\n",
        "\n",
        "mat1 = np.array([[1, 2, 3], [4, 5, 6], [7, 8, 9]])\n",
        "print(mat1)\n",
        "print(\"Kształt macierzy: \", mat1.shape)"
      ],
      "execution_count": null,
      "outputs": [
        {
          "output_type": "stream",
          "text": [
            "[[1 2 3]\n",
            " [4 5 6]\n",
            " [7 8 9]]\n",
            "Kształt macierzy:  (3, 3)\n"
          ],
          "name": "stdout"
        }
      ]
    },
    {
      "cell_type": "markdown",
      "metadata": {
        "id": "7gmiNIv8Wwr5"
      },
      "source": [
        "#Zadanie 12"
      ]
    },
    {
      "cell_type": "markdown",
      "metadata": {
        "id": "oKfSABtbWwr7"
      },
      "source": [
        "1. Przefiltruj oraz wyświetl elementy **mat1** większe od 5.\n",
        "\n",
        "2. Użyj sposobu filtrowania z zadania 10.\n",
        "\n",
        "3. Wartościom mniejszym lub równym 5 przypisz wartość 0.\n",
        "\n",
        "4. Wyświetl wynik."
      ]
    },
    {
      "cell_type": "code",
      "metadata": {
        "id": "x7CWz2R_Wwr7",
        "colab": {
          "base_uri": "https://localhost:8080/"
        },
        "outputId": "e6c65216-59ed-4917-c01a-c9cd0fc2fa0b"
      },
      "source": [
        "matrix[matrix>5]"
      ],
      "execution_count": null,
      "outputs": [
        {
          "output_type": "execute_result",
          "data": {
            "text/plain": [
              "matrix([[6, 7, 8, 9]])"
            ]
          },
          "metadata": {
            "tags": []
          },
          "execution_count": 90
        }
      ]
    },
    {
      "cell_type": "code",
      "metadata": {
        "colab": {
          "base_uri": "https://localhost:8080/"
        },
        "id": "WzeTsJ6aVbBj",
        "outputId": "11f8ee39-55b9-4d3b-de28-c11cd44d5e72"
      },
      "source": [
        "matrix[matrix<=5] = 0\r\n",
        "matrix"
      ],
      "execution_count": null,
      "outputs": [
        {
          "output_type": "execute_result",
          "data": {
            "text/plain": [
              "matrix([[0, 0, 0],\n",
              "        [0, 0, 6],\n",
              "        [7, 8, 9]])"
            ]
          },
          "metadata": {
            "tags": []
          },
          "execution_count": 93
        }
      ]
    },
    {
      "cell_type": "code",
      "metadata": {
        "id": "d3CglddmVjSY"
      },
      "source": [
        ""
      ],
      "execution_count": null,
      "outputs": []
    },
    {
      "cell_type": "markdown",
      "metadata": {
        "id": "ipCB6h2aWwsB"
      },
      "source": [
        "##Podpowiedzi"
      ]
    },
    {
      "cell_type": "code",
      "metadata": {
        "id": "pdvYXfoJWwsB"
      },
      "source": [
        "# Filtrowanie zbiorów danych przez nie same, ale z warunkiem logicznym można wykorzystać również do zmiany wartości wewnątrz zbiorów danych.\n",
        "# Przykładowo - zapis mat1[mat1 > 3] = 66 oznacza: weź zbiór mat1 i wszystkim jego elementom większym od 3 przypisz wartość 66.\n",
        "# W miejsce przypisania wartości (tu 66) można też stosować na przykład funkcje."
      ],
      "execution_count": null,
      "outputs": []
    },
    {
      "cell_type": "markdown",
      "metadata": {
        "id": "B7WgLT1lWwsF"
      },
      "source": [
        "##Podpowiedzi + rozwiązanie"
      ]
    },
    {
      "cell_type": "code",
      "metadata": {
        "id": "BuH1oDhgWwsH",
        "colab": {
          "base_uri": "https://localhost:8080/"
        },
        "outputId": "34332026-076e-43a1-a903-76a5190ab503"
      },
      "source": [
        "# Filtrowanie zbiorów danych przez nie same, ale z warunkiem logicznym można wykorzystać również do zmiany wartości wewnątrz zbiorów danych.\n",
        "# Przykładowo - zapis mat1[mat1 > 3] = 66 oznacza: weź zbiór mat1 i wszystkim jego elementom większym od 3 przypisz wartość 66.\n",
        "# W miejsce przypisania wartości (tu 66) można też stosować na przykład funkcje.\n",
        "\n",
        "print(mat1[mat1 > 5])\n",
        "mat1[mat1 <= 5] = 0\n",
        "print(mat1)"
      ],
      "execution_count": null,
      "outputs": [
        {
          "output_type": "stream",
          "text": [
            "[6 7 8 9]\n",
            "[[0 0 0]\n",
            " [0 0 6]\n",
            " [7 8 9]]\n"
          ],
          "name": "stdout"
        }
      ]
    },
    {
      "cell_type": "markdown",
      "metadata": {
        "id": "UpiyMqDSWyzF"
      },
      "source": [
        "#Zadanie 13"
      ]
    },
    {
      "cell_type": "markdown",
      "metadata": {
        "id": "vfmNFEBEWyzG"
      },
      "source": [
        "1. Stwórz np.array składający się z 16 liczb od 20 do 35 włącznie, i opisz go zmienną **ar4**. Użyj funkcji **linspace**.\n",
        "\n",
        "2. Przekształć **ar4** w macierzy o kształcie (4,4) i wyświetl ją.\n",
        "\n",
        "3. Przekształć **ar4** w macierz o 8 kolumnach i zmuś Python do domyślenia się (policzenia), ile wierszy potrzeba. Wyświetl wynik.\n",
        "\n",
        "4. Przekształć **ar4** w macierz o 8 wierszach i zmuś Python do domyślenia się (policzenia), ile kolumn potrzeba. Wyświetl wynik.\n",
        "\n",
        "5. Zobacz co się stanie, jeśli zmusisz Python do przekształcenia macierzy np w rozmiar (4,5) - tj. niemożliwe będzie zapełnienie go 16 elementami zawartymi w **ar4**.\n"
      ]
    },
    {
      "cell_type": "code",
      "metadata": {
        "id": "QA2rAiirWyzH",
        "colab": {
          "base_uri": "https://localhost:8080/"
        },
        "outputId": "f7b76777-3da5-46e1-cba6-0a3b44d7c227"
      },
      "source": [
        "ar11 = np.linspace(20,35,16)\r\n",
        "ar11"
      ],
      "execution_count": null,
      "outputs": [
        {
          "output_type": "execute_result",
          "data": {
            "text/plain": [
              "array([20., 21., 22., 23., 24., 25., 26., 27., 28., 29., 30., 31., 32.,\n",
              "       33., 34., 35.])"
            ]
          },
          "metadata": {
            "tags": []
          },
          "execution_count": 94
        }
      ]
    },
    {
      "cell_type": "code",
      "metadata": {
        "colab": {
          "base_uri": "https://localhost:8080/"
        },
        "id": "zXURBZgSV24t",
        "outputId": "88fee596-66ec-48ed-aedd-9060f5f19b18"
      },
      "source": [
        "ar11.reshape(4,4)"
      ],
      "execution_count": null,
      "outputs": [
        {
          "output_type": "execute_result",
          "data": {
            "text/plain": [
              "array([[20., 21., 22., 23.],\n",
              "       [24., 25., 26., 27.],\n",
              "       [28., 29., 30., 31.],\n",
              "       [32., 33., 34., 35.]])"
            ]
          },
          "metadata": {
            "tags": []
          },
          "execution_count": 98
        }
      ]
    },
    {
      "cell_type": "code",
      "metadata": {
        "colab": {
          "base_uri": "https://localhost:8080/"
        },
        "id": "vMObgePCWZd3",
        "outputId": "cf9492bd-91d7-4979-c3af-6c3c8530dccd"
      },
      "source": [
        "ar11.reshape(8,-1)"
      ],
      "execution_count": null,
      "outputs": [
        {
          "output_type": "execute_result",
          "data": {
            "text/plain": [
              "array([[20., 21.],\n",
              "       [22., 23.],\n",
              "       [24., 25.],\n",
              "       [26., 27.],\n",
              "       [28., 29.],\n",
              "       [30., 31.],\n",
              "       [32., 33.],\n",
              "       [34., 35.]])"
            ]
          },
          "metadata": {
            "tags": []
          },
          "execution_count": 101
        }
      ]
    },
    {
      "cell_type": "code",
      "metadata": {
        "colab": {
          "base_uri": "https://localhost:8080/"
        },
        "id": "OmCr8p9hgAzw",
        "outputId": "b2c4baa0-19e0-4959-fe22-a15e84622ec0"
      },
      "source": [
        "ar11.reshape(-1,8)"
      ],
      "execution_count": null,
      "outputs": [
        {
          "output_type": "execute_result",
          "data": {
            "text/plain": [
              "array([[20., 21., 22., 23., 24., 25., 26., 27.],\n",
              "       [28., 29., 30., 31., 32., 33., 34., 35.]])"
            ]
          },
          "metadata": {
            "tags": []
          },
          "execution_count": 103
        }
      ]
    },
    {
      "cell_type": "code",
      "metadata": {
        "id": "4p6wEpyMgFeE",
        "colab": {
          "base_uri": "https://localhost:8080/",
          "height": 175
        },
        "outputId": "9d761d3a-a1a1-4691-f7e8-342ed6829a01"
      },
      "source": [
        "ar11.reshape(4,5)"
      ],
      "execution_count": null,
      "outputs": [
        {
          "output_type": "error",
          "ename": "ValueError",
          "evalue": "ignored",
          "traceback": [
            "\u001b[0;31m---------------------------------------------------------------------------\u001b[0m",
            "\u001b[0;31mValueError\u001b[0m                                Traceback (most recent call last)",
            "\u001b[0;32m<ipython-input-104-cc12f73dc0d0>\u001b[0m in \u001b[0;36m<module>\u001b[0;34m()\u001b[0m\n\u001b[0;32m----> 1\u001b[0;31m \u001b[0mar11\u001b[0m\u001b[0;34m.\u001b[0m\u001b[0mreshape\u001b[0m\u001b[0;34m(\u001b[0m\u001b[0;36m4\u001b[0m\u001b[0;34m,\u001b[0m\u001b[0;36m5\u001b[0m\u001b[0;34m)\u001b[0m\u001b[0;34m\u001b[0m\u001b[0;34m\u001b[0m\u001b[0m\n\u001b[0m",
            "\u001b[0;31mValueError\u001b[0m: cannot reshape array of size 16 into shape (4,5)"
          ]
        }
      ]
    },
    {
      "cell_type": "markdown",
      "metadata": {
        "id": "uvWGk_AWWyzJ"
      },
      "source": [
        "##Podpowiedzi"
      ]
    },
    {
      "cell_type": "code",
      "metadata": {
        "id": "sZaLZ2vjWyzJ"
      },
      "source": [
        "# Do przekształcenia array w matrycę wykorzystaj funkcję .reshape()\n",
        "# Podając jeden z parametrów (dowolny) jako docelowa ilość wierszy/kolumn, a drugi jako -1 mówisz algorytmowi: \"Chcę mieć X wierszy/kolumn i wynikową ilość kolumn/wierszy\""
      ],
      "execution_count": null,
      "outputs": []
    },
    {
      "cell_type": "markdown",
      "metadata": {
        "id": "-s23LSR9WyzN"
      },
      "source": [
        "##Podpowiedzi + rozwiązanie"
      ]
    },
    {
      "cell_type": "code",
      "metadata": {
        "id": "kI9ZtjVrWyzO",
        "colab": {
          "base_uri": "https://localhost:8080/",
          "height": 418
        },
        "outputId": "87d0badd-c926-473d-8628-ff93ea750131"
      },
      "source": [
        "# Do przekształcenia array w matrycę wykorzystaj funkcję .reshape()\n",
        "# Podając jeden z parametrów (dowolny) jako docelowa ilość wierszy/kolumn, a drugi jako -1 mówisz algorytmowi: \"Chcę mieć X wierszy/kolumn i wynikową ilość kolumn/wierszy\"\n",
        "\n",
        "ar4 = np.linspace(20,35,16)\n",
        "print(ar4.reshape(4,4))\n",
        "print(ar4.reshape(8,-1))\n",
        "print(ar4.reshape(-1,8))\n",
        "print(ar4.reshape(4,5))"
      ],
      "execution_count": null,
      "outputs": [
        {
          "output_type": "stream",
          "text": [
            "[[20. 21. 22. 23.]\n",
            " [24. 25. 26. 27.]\n",
            " [28. 29. 30. 31.]\n",
            " [32. 33. 34. 35.]]\n",
            "[[20. 21.]\n",
            " [22. 23.]\n",
            " [24. 25.]\n",
            " [26. 27.]\n",
            " [28. 29.]\n",
            " [30. 31.]\n",
            " [32. 33.]\n",
            " [34. 35.]]\n",
            "[[20. 21. 22. 23. 24. 25. 26. 27.]\n",
            " [28. 29. 30. 31. 32. 33. 34. 35.]]\n"
          ],
          "name": "stdout"
        },
        {
          "output_type": "error",
          "ename": "ValueError",
          "evalue": "ignored",
          "traceback": [
            "\u001b[0;31m---------------------------------------------------------------------------\u001b[0m",
            "\u001b[0;31mValueError\u001b[0m                                Traceback (most recent call last)",
            "\u001b[0;32m<ipython-input-7-5eac8f9fda30>\u001b[0m in \u001b[0;36m<module>\u001b[0;34m()\u001b[0m\n\u001b[1;32m      6\u001b[0m \u001b[0mprint\u001b[0m\u001b[0;34m(\u001b[0m\u001b[0mar4\u001b[0m\u001b[0;34m.\u001b[0m\u001b[0mreshape\u001b[0m\u001b[0;34m(\u001b[0m\u001b[0;36m8\u001b[0m\u001b[0;34m,\u001b[0m\u001b[0;34m-\u001b[0m\u001b[0;36m1\u001b[0m\u001b[0;34m)\u001b[0m\u001b[0;34m)\u001b[0m\u001b[0;34m\u001b[0m\u001b[0;34m\u001b[0m\u001b[0m\n\u001b[1;32m      7\u001b[0m \u001b[0mprint\u001b[0m\u001b[0;34m(\u001b[0m\u001b[0mar4\u001b[0m\u001b[0;34m.\u001b[0m\u001b[0mreshape\u001b[0m\u001b[0;34m(\u001b[0m\u001b[0;34m-\u001b[0m\u001b[0;36m1\u001b[0m\u001b[0;34m,\u001b[0m\u001b[0;36m8\u001b[0m\u001b[0;34m)\u001b[0m\u001b[0;34m)\u001b[0m\u001b[0;34m\u001b[0m\u001b[0;34m\u001b[0m\u001b[0m\n\u001b[0;32m----> 8\u001b[0;31m \u001b[0mprint\u001b[0m\u001b[0;34m(\u001b[0m\u001b[0mar4\u001b[0m\u001b[0;34m.\u001b[0m\u001b[0mreshape\u001b[0m\u001b[0;34m(\u001b[0m\u001b[0;36m4\u001b[0m\u001b[0;34m,\u001b[0m\u001b[0;36m5\u001b[0m\u001b[0;34m)\u001b[0m\u001b[0;34m)\u001b[0m\u001b[0;34m\u001b[0m\u001b[0;34m\u001b[0m\u001b[0m\n\u001b[0m",
            "\u001b[0;31mValueError\u001b[0m: cannot reshape array of size 16 into shape (4,5)"
          ]
        }
      ]
    }
  ]
}
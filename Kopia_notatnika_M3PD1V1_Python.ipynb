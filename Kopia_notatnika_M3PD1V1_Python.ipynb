{
  "nbformat": 4,
  "nbformat_minor": 0,
  "metadata": {
    "colab": {
      "name": "Kopia notatnika M3PD1V1-Python.ipynb",
      "provenance": [],
      "collapsed_sections": [],
      "include_colab_link": true
    },
    "kernelspec": {
      "name": "python3",
      "display_name": "Python 3"
    }
  },
  "cells": [
    {
      "cell_type": "markdown",
      "metadata": {
        "id": "view-in-github",
        "colab_type": "text"
      },
      "source": [
        "<a href=\"https://colab.research.google.com/github/191919201921/Zadania_Domowe_ADS/blob/main/Kopia_notatnika_M3PD1V1_Python.ipynb\" target=\"_parent\"><img src=\"https://colab.research.google.com/assets/colab-badge.svg\" alt=\"Open In Colab\"/></a>"
      ]
    },
    {
      "cell_type": "markdown",
      "metadata": {
        "id": "OE8V528-EIjp"
      },
      "source": [
        "# Modul 3 - Praca domowa - Python"
      ]
    },
    {
      "cell_type": "markdown",
      "metadata": {
        "id": "WDVcAsVjGrUD"
      },
      "source": [
        "Zwykle istnieje wiele sposobów, żeby rozwiązać zadanie w Python. Także czasami warto spróbować opracować kod na 1-2 sposoby :)"
      ]
    },
    {
      "cell_type": "markdown",
      "metadata": {
        "id": "CreP0LsfEBiC"
      },
      "source": [
        "## Zadanie - 1"
      ]
    },
    {
      "cell_type": "markdown",
      "metadata": {
        "id": "0Xwa10oADLFd"
      },
      "source": [
        "Zadanie opiera się na danych z informacją o wyjściu statków z portu Gdańsk w okresie 2005-06.2020 ([Więcej o Danych](https://bit.ly/30HkRgS)).<br> Kroki:\n",
        "* Wczytać zbiór danych w formacie `.csv`\n",
        "* Wyświetlić listę kolumn ze zbioru\n",
        "* Wyświetlić pierwsze 10 wierszy z wczytanego zbioru danych<br>\n",
        "<br>![statek](https://media.giphy.com/media/o0eOCNkn7cSD6/giphy.gif)<br>\n",
        "---\n",
        "Wskazówka: uważaj na kodowanie plików. Zalecane wykorzystywanie `UTF-8`. Plik źródłowy ma błędne kodowanie, dlatego został ponownie zapisany w formacie `.csv` z separatorem \";\"."
      ]
    },
    {
      "cell_type": "markdown",
      "metadata": {
        "id": "IbWL2egGWjkh"
      },
      "source": [
        "---"
      ]
    },
    {
      "cell_type": "markdown",
      "metadata": {
        "id": "sP1xprQfWpM-"
      },
      "source": [
        "Wczytaj dane w formacie `.csv` z separatorem `;` wykorzystując link: <br>https://akademiadatascience.s3-eu-west-1.amazonaws.com/materialy/sds/modul3/statki.csv"
      ]
    },
    {
      "cell_type": "code",
      "metadata": {
        "id": "KDIlLv2xWrIF",
        "colab": {
          "base_uri": "https://localhost:8080/",
          "height": 554
        },
        "outputId": "372435f4-b1b3-424d-d3a9-18b09130d703"
      },
      "source": [
        "import pandas as pd\r\n",
        "\r\n",
        "bd = pd.read_csv(\"https://akademiadatascience.s3-eu-west-1.amazonaws.com/materialy/sds/modul3/statki.csv\",sep=';')\r\n",
        "\r\n",
        "bd.head(10)\r\n"
      ],
      "execution_count": null,
      "outputs": [
        {
          "output_type": "execute_result",
          "data": {
            "text/html": [
              "<div>\n",
              "<style scoped>\n",
              "    .dataframe tbody tr th:only-of-type {\n",
              "        vertical-align: middle;\n",
              "    }\n",
              "\n",
              "    .dataframe tbody tr th {\n",
              "        vertical-align: top;\n",
              "    }\n",
              "\n",
              "    .dataframe thead th {\n",
              "        text-align: right;\n",
              "    }\n",
              "</style>\n",
              "<table border=\"1\" class=\"dataframe\">\n",
              "  <thead>\n",
              "    <tr style=\"text-align: right;\">\n",
              "      <th></th>\n",
              "      <th>Kod portu \\n</th>\n",
              "      <th>Data wyjścia (rrrr-mm-dd)</th>\n",
              "      <th>Godzina wyjścia\\n(hh:mm)</th>\n",
              "      <th>Kod portu, \\nprzeznaczenia</th>\n",
              "      <th>Nazwa statku</th>\n",
              "      <th>Bandera</th>\n",
              "      <th>nr IMO</th>\n",
              "      <th>Sygnał wywoławczy</th>\n",
              "      <th>Pojemność brutto \\n(tony)</th>\n",
              "      <th>Długość (metry)</th>\n",
              "      <th>Agent</th>\n",
              "      <th>Nabrzeże (miejsce zacumowania)</th>\n",
              "    </tr>\n",
              "  </thead>\n",
              "  <tbody>\n",
              "    <tr>\n",
              "      <th>0</th>\n",
              "      <td>PLGDN</td>\n",
              "      <td>04.01.2005</td>\n",
              "      <td>12:00:00</td>\n",
              "      <td>RULED</td>\n",
              "      <td>PETSAMO</td>\n",
              "      <td>Finland</td>\n",
              "      <td>7517545</td>\n",
              "      <td>OIZH</td>\n",
              "      <td>2356</td>\n",
              "      <td>84.00</td>\n",
              "      <td>Cargo Service Co. Ltd Gdańsk</td>\n",
              "      <td>NAB. SZCZECIŃSKIE GTK</td>\n",
              "    </tr>\n",
              "    <tr>\n",
              "      <th>1</th>\n",
              "      <td>PLGDN</td>\n",
              "      <td>04.01.2005</td>\n",
              "      <td>09:00:00</td>\n",
              "      <td>DKCPH</td>\n",
              "      <td>TANGO</td>\n",
              "      <td>Romania</td>\n",
              "      <td>8306589</td>\n",
              "      <td>YQOA</td>\n",
              "      <td>9983</td>\n",
              "      <td>140.12</td>\n",
              "      <td>DFDS SEAWAYS Sp. z o. o.</td>\n",
              "      <td>WESTERPLATTE</td>\n",
              "    </tr>\n",
              "    <tr>\n",
              "      <th>2</th>\n",
              "      <td>PLGDN</td>\n",
              "      <td>05.01.2005</td>\n",
              "      <td>17:00:00</td>\n",
              "      <td>SEOTT</td>\n",
              "      <td>ALLORA</td>\n",
              "      <td>Honduras</td>\n",
              "      <td>6505600</td>\n",
              "      <td>HQRN2</td>\n",
              "      <td>517</td>\n",
              "      <td>47.85</td>\n",
              "      <td>Polfracht Shipping Agency Ltd.</td>\n",
              "      <td>PRZEMYSŁOWE / WIŚLANE</td>\n",
              "    </tr>\n",
              "    <tr>\n",
              "      <th>3</th>\n",
              "      <td>PLGDN</td>\n",
              "      <td>06.01.2005</td>\n",
              "      <td>10:00:00</td>\n",
              "      <td>BEANR</td>\n",
              "      <td>CT SUN</td>\n",
              "      <td>Malta</td>\n",
              "      <td>7816484</td>\n",
              "      <td>9HZC7</td>\n",
              "      <td>4382</td>\n",
              "      <td>118.36</td>\n",
              "      <td>Polfracht Shipping Agency Ltd.</td>\n",
              "      <td>OBROŃCÓW POCZTY POLSKIEJ</td>\n",
              "    </tr>\n",
              "    <tr>\n",
              "      <th>4</th>\n",
              "      <td>PLGDN</td>\n",
              "      <td>07.01.2005</td>\n",
              "      <td>20:00:00</td>\n",
              "      <td>SEGOT</td>\n",
              "      <td>TANGO</td>\n",
              "      <td>Romania</td>\n",
              "      <td>8306589</td>\n",
              "      <td>YQOA</td>\n",
              "      <td>9983</td>\n",
              "      <td>140.00</td>\n",
              "      <td>DFDS SEAWAYS Sp. z o. o.</td>\n",
              "      <td>WESTERPLATTE</td>\n",
              "    </tr>\n",
              "    <tr>\n",
              "      <th>5</th>\n",
              "      <td>PLGDN</td>\n",
              "      <td>08.01.2005</td>\n",
              "      <td>10:00:00</td>\n",
              "      <td>LVVNT</td>\n",
              "      <td>MARELD</td>\n",
              "      <td>Norway</td>\n",
              "      <td>9297204</td>\n",
              "      <td>LADI6</td>\n",
              "      <td>4745</td>\n",
              "      <td>119.10</td>\n",
              "      <td>Polfracht Shipping Agency Ltd.</td>\n",
              "      <td>OBROŃCÓW POCZTY POLSKIEJ</td>\n",
              "    </tr>\n",
              "    <tr>\n",
              "      <th>6</th>\n",
              "      <td>PLGDN</td>\n",
              "      <td>09.01.2005</td>\n",
              "      <td>16:00:00</td>\n",
              "      <td>PLWLA</td>\n",
              "      <td>ICARUS III</td>\n",
              "      <td>Cyprus</td>\n",
              "      <td>9145413</td>\n",
              "      <td>P3WM9</td>\n",
              "      <td>21605</td>\n",
              "      <td>182.14</td>\n",
              "      <td>Polfracht Shipping Agency Ltd.</td>\n",
              "      <td>BPPP JETTY \" R \"</td>\n",
              "    </tr>\n",
              "    <tr>\n",
              "      <th>7</th>\n",
              "      <td>PLGDN</td>\n",
              "      <td>10.01.2005</td>\n",
              "      <td>22:00:00</td>\n",
              "      <td>DEEME</td>\n",
              "      <td>CAPE EGMONT</td>\n",
              "      <td>Marshall Islands</td>\n",
              "      <td>9262819</td>\n",
              "      <td>V7EU8</td>\n",
              "      <td>8351</td>\n",
              "      <td>127.20</td>\n",
              "      <td>Polfracht Shipping Agency Ltd.</td>\n",
              "      <td>CHEMIKÓW</td>\n",
              "    </tr>\n",
              "    <tr>\n",
              "      <th>8</th>\n",
              "      <td>PLGDN</td>\n",
              "      <td>11.01.2005</td>\n",
              "      <td>15:30:00</td>\n",
              "      <td>DKCPH</td>\n",
              "      <td>TANGO</td>\n",
              "      <td>Romania</td>\n",
              "      <td>8306589</td>\n",
              "      <td>YQOA</td>\n",
              "      <td>9983</td>\n",
              "      <td>140.12</td>\n",
              "      <td>DFDS SEAWAYS Sp. z o. o.</td>\n",
              "      <td>WESTERPLATTE</td>\n",
              "    </tr>\n",
              "    <tr>\n",
              "      <th>9</th>\n",
              "      <td>PLGDN</td>\n",
              "      <td>12.01.2005</td>\n",
              "      <td>12:00:00</td>\n",
              "      <td>RULED</td>\n",
              "      <td>PETSAMO</td>\n",
              "      <td>Finland</td>\n",
              "      <td>7517545</td>\n",
              "      <td>OIZH</td>\n",
              "      <td>2356</td>\n",
              "      <td>84.00</td>\n",
              "      <td>Cargo Service Co. Ltd Gdańsk</td>\n",
              "      <td>NAB SZCZECIŃSKIE GTK</td>\n",
              "    </tr>\n",
              "  </tbody>\n",
              "</table>\n",
              "</div>"
            ],
            "text/plain": [
              "  Kod portu \\n  ... Nabrzeże (miejsce zacumowania)\n",
              "0        PLGDN  ...          NAB. SZCZECIŃSKIE GTK\n",
              "1        PLGDN  ...                   WESTERPLATTE\n",
              "2        PLGDN  ...          PRZEMYSŁOWE / WIŚLANE\n",
              "3        PLGDN  ...       OBROŃCÓW POCZTY POLSKIEJ\n",
              "4        PLGDN  ...                   WESTERPLATTE\n",
              "5        PLGDN  ...       OBROŃCÓW POCZTY POLSKIEJ\n",
              "6        PLGDN  ...               BPPP JETTY \" R \"\n",
              "7        PLGDN  ...                       CHEMIKÓW\n",
              "8        PLGDN  ...                   WESTERPLATTE\n",
              "9        PLGDN  ...           NAB SZCZECIŃSKIE GTK\n",
              "\n",
              "[10 rows x 12 columns]"
            ]
          },
          "metadata": {
            "tags": []
          },
          "execution_count": 117
        }
      ]
    },
    {
      "cell_type": "markdown",
      "metadata": {
        "id": "yP0L5BZImehv"
      },
      "source": [
        "Usuń tabulatory w nazwach kolumn, bazując na wcześniej wczytanej tabeli."
      ]
    },
    {
      "cell_type": "code",
      "metadata": {
        "id": "KyGtTW8vmc8y",
        "colab": {
          "base_uri": "https://localhost:8080/"
        },
        "outputId": "533d12d9-7a73-4e48-d594-3105caa87474"
      },
      "source": [
        "kol1 = bd.columns.str.replace('\\n','')\r\n",
        "kol1 #usuwam tabulatory\r\n",
        "kol2 = kol1.str.strip()\r\n",
        "kol2 #usuwam spacje"
      ],
      "execution_count": null,
      "outputs": [
        {
          "output_type": "execute_result",
          "data": {
            "text/plain": [
              "Index(['Kod portu', 'Data wyjścia (rrrr-mm-dd)', 'Godzina wyjścia(hh:mm)',\n",
              "       'Kod portu, przeznaczenia', 'Nazwa statku', 'Bandera', 'nr IMO',\n",
              "       'Sygnał wywoławczy', 'Pojemność brutto (tony)', 'Długość (metry)',\n",
              "       'Agent', 'Nabrzeże (miejsce zacumowania)'],\n",
              "      dtype='object')"
            ]
          },
          "metadata": {
            "tags": []
          },
          "execution_count": 118
        }
      ]
    },
    {
      "cell_type": "markdown",
      "metadata": {
        "id": "nECf-_7gRWxa"
      },
      "source": [
        "## Zadanie - 2"
      ]
    },
    {
      "cell_type": "markdown",
      "metadata": {
        "id": "4SIvSOD20N7A"
      },
      "source": [
        "Sprawdź rozmiar tabeli oraz typy danych wg. kolumn."
      ]
    },
    {
      "cell_type": "code",
      "metadata": {
        "id": "uZ64Yl5I0V4t",
        "colab": {
          "base_uri": "https://localhost:8080/"
        },
        "outputId": "7370c127-b26f-41a4-df33-22b6e2e90a8b"
      },
      "source": [
        "bd2.shape"
      ],
      "execution_count": null,
      "outputs": [
        {
          "output_type": "execute_result",
          "data": {
            "text/plain": [
              "(11490, 12)"
            ]
          },
          "metadata": {
            "tags": []
          },
          "execution_count": 120
        }
      ]
    },
    {
      "cell_type": "code",
      "metadata": {
        "id": "bouTLPU7N12j",
        "colab": {
          "base_uri": "https://localhost:8080/"
        },
        "outputId": "ff0f3b1b-c8e4-45ac-e144-a65b4ee85bf1"
      },
      "source": [
        "bd2.dtypes"
      ],
      "execution_count": null,
      "outputs": [
        {
          "output_type": "execute_result",
          "data": {
            "text/plain": [
              "Kod portu                         object\n",
              "Data wyjścia (rrrr-mm-dd)         object\n",
              "Godzina wyjścia(hh:mm)            object\n",
              "Kod portu, przeznaczenia          object\n",
              "Nazwa statku                      object\n",
              "Bandera                           object\n",
              "nr IMO                            object\n",
              "Sygnał wywoławczy                 object\n",
              "Pojemność brutto (tony)            int64\n",
              "Długość (metry)                   object\n",
              "Agent                             object\n",
              "Nabrzeże (miejsce zacumowania)    object\n",
              "dtype: object"
            ]
          },
          "metadata": {
            "tags": []
          },
          "execution_count": 121
        }
      ]
    },
    {
      "cell_type": "markdown",
      "metadata": {
        "id": "rG3PrtmJm1sH"
      },
      "source": [
        "## Zadanie - 3"
      ]
    },
    {
      "cell_type": "markdown",
      "metadata": {
        "id": "23iIXEIy2rZF"
      },
      "source": [
        "Wyświetl nazwę kolumny oraz pierwszą wartość z tej kolumny, przy czym połączenie nazwa kolumny - pierwsza wartość ma być wyświetlone w nowym wierszu odpowiednio."
      ]
    },
    {
      "cell_type": "code",
      "metadata": {
        "id": "sVRKy1xD2Mm6",
        "colab": {
          "base_uri": "https://localhost:8080/"
        },
        "outputId": "59f8ed8d-afde-482a-cf89-c348cbcfc96f"
      },
      "source": [
        "bd2.loc[0]"
      ],
      "execution_count": null,
      "outputs": [
        {
          "output_type": "execute_result",
          "data": {
            "text/plain": [
              "Kod portu                                                PLGDN\n",
              "Data wyjścia (rrrr-mm-dd)                           04.01.2005\n",
              "Godzina wyjścia(hh:mm)                                12:00:00\n",
              "Kod portu, przeznaczenia                                 RULED\n",
              "Nazwa statku                                           PETSAMO\n",
              "Bandera                                                Finland\n",
              "nr IMO                                                 7517545\n",
              "Sygnał wywoławczy                                         OIZH\n",
              "Pojemność brutto (tony)                                   2356\n",
              "Długość (metry)                                          84.00\n",
              "Agent                             Cargo Service Co. Ltd Gdańsk\n",
              "Nabrzeże (miejsce zacumowania)           NAB. SZCZECIŃSKIE GTK\n",
              "Name: 0, dtype: object"
            ]
          },
          "metadata": {
            "tags": []
          },
          "execution_count": 122
        }
      ]
    },
    {
      "cell_type": "markdown",
      "metadata": {
        "id": "cO94GVsn3l3f"
      },
      "source": [
        "## Zadanie - 4"
      ]
    },
    {
      "cell_type": "markdown",
      "metadata": {
        "id": "EFqDtOfp10H6"
      },
      "source": [
        "Zmień typ danych dla kolumn:<br><br>\n",
        "* `Data wyjścia (rrrr-mm-dd)` na `date` uzywając funkcji: `pd.to_datetime(data, format = \"%d.%m.%Y\")`<br><br>\n",
        "\n",
        "Na wartości numeryczne używając funkcji: `pd.to_numeric(liczba, errors = \"coerce\")` <br>gdzie `coerce` wymusza zamianę nieprawidłowych wartości na NaN:<br>\n",
        "* `nr IMO` \n",
        "* `Długość (metry)`"
      ]
    },
    {
      "cell_type": "code",
      "metadata": {
        "id": "TLg1ID-L4ssQ",
        "colab": {
          "base_uri": "https://localhost:8080/"
        },
        "outputId": "00c0f984-68c2-4272-92c7-658088cf349a"
      },
      "source": [
        "bd2['Data wyjścia (rrrr-mm-dd)'] = bd2['Data wyjścia (rrrr-mm-dd)'].astype('datetime64[ns]')\r\n",
        "bd2.dtypes\r\n",
        "\r\n"
      ],
      "execution_count": null,
      "outputs": [
        {
          "output_type": "execute_result",
          "data": {
            "text/plain": [
              "Kod portu                                 object\n",
              "Data wyjścia (rrrr-mm-dd)         datetime64[ns]\n",
              "Godzina wyjścia(hh:mm)                    object\n",
              "Kod portu, przeznaczenia                  object\n",
              "Nazwa statku                              object\n",
              "Bandera                                   object\n",
              "nr IMO                                    object\n",
              "Sygnał wywoławczy                         object\n",
              "Pojemność brutto (tony)                    int64\n",
              "Długość (metry)                           object\n",
              "Agent                                     object\n",
              "Nabrzeże (miejsce zacumowania)            object\n",
              "dtype: object"
            ]
          },
          "metadata": {
            "tags": []
          },
          "execution_count": 123
        }
      ]
    },
    {
      "cell_type": "code",
      "metadata": {
        "colab": {
          "base_uri": "https://localhost:8080/"
        },
        "id": "w-mYq1HbeSi6",
        "outputId": "ee40f726-cad0-413f-ec0c-b8ddbdae29c2"
      },
      "source": [
        "bd2['nr IMO'] = pd.to_numeric(bd2['nr IMO'], errors='coerce')\r\n",
        "bd2['Długość (metry)'] = pd.to_numeric(bd2['Długość (metry)'], errors = 'coerce')\r\n",
        "bd2.dtypes"
      ],
      "execution_count": null,
      "outputs": [
        {
          "output_type": "execute_result",
          "data": {
            "text/plain": [
              "Kod portu                                 object\n",
              "Data wyjścia (rrrr-mm-dd)         datetime64[ns]\n",
              "Godzina wyjścia(hh:mm)                    object\n",
              "Kod portu, przeznaczenia                  object\n",
              "Nazwa statku                              object\n",
              "Bandera                                   object\n",
              "nr IMO                                   float64\n",
              "Sygnał wywoławczy                         object\n",
              "Pojemność brutto (tony)                    int64\n",
              "Długość (metry)                          float64\n",
              "Agent                                     object\n",
              "Nabrzeże (miejsce zacumowania)            object\n",
              "dtype: object"
            ]
          },
          "metadata": {
            "tags": []
          },
          "execution_count": 124
        }
      ]
    },
    {
      "cell_type": "markdown",
      "metadata": {
        "id": "QcbVqote-fQh"
      },
      "source": [
        "Sprawdź jaki jest efekt zmian:"
      ]
    },
    {
      "cell_type": "code",
      "metadata": {
        "id": "JbMmNSd_-e50",
        "colab": {
          "base_uri": "https://localhost:8080/",
          "height": 597
        },
        "outputId": "84fb3fc2-715c-4bc2-d082-f494dadece04"
      },
      "source": [
        "bd2"
      ],
      "execution_count": null,
      "outputs": [
        {
          "output_type": "execute_result",
          "data": {
            "text/html": [
              "<div>\n",
              "<style scoped>\n",
              "    .dataframe tbody tr th:only-of-type {\n",
              "        vertical-align: middle;\n",
              "    }\n",
              "\n",
              "    .dataframe tbody tr th {\n",
              "        vertical-align: top;\n",
              "    }\n",
              "\n",
              "    .dataframe thead th {\n",
              "        text-align: right;\n",
              "    }\n",
              "</style>\n",
              "<table border=\"1\" class=\"dataframe\">\n",
              "  <thead>\n",
              "    <tr style=\"text-align: right;\">\n",
              "      <th></th>\n",
              "      <th>Kod portu</th>\n",
              "      <th>Data wyjścia (rrrr-mm-dd)</th>\n",
              "      <th>Godzina wyjścia(hh:mm)</th>\n",
              "      <th>Kod portu, przeznaczenia</th>\n",
              "      <th>Nazwa statku</th>\n",
              "      <th>Bandera</th>\n",
              "      <th>nr IMO</th>\n",
              "      <th>Sygnał wywoławczy</th>\n",
              "      <th>Pojemność brutto (tony)</th>\n",
              "      <th>Długość (metry)</th>\n",
              "      <th>Agent</th>\n",
              "      <th>Nabrzeże (miejsce zacumowania)</th>\n",
              "    </tr>\n",
              "  </thead>\n",
              "  <tbody>\n",
              "    <tr>\n",
              "      <th>0</th>\n",
              "      <td>PLGDN</td>\n",
              "      <td>2005-04-01</td>\n",
              "      <td>12:00:00</td>\n",
              "      <td>RULED</td>\n",
              "      <td>PETSAMO</td>\n",
              "      <td>Finland</td>\n",
              "      <td>7517545.0</td>\n",
              "      <td>OIZH</td>\n",
              "      <td>2356</td>\n",
              "      <td>84.00</td>\n",
              "      <td>Cargo Service Co. Ltd Gdańsk</td>\n",
              "      <td>NAB. SZCZECIŃSKIE GTK</td>\n",
              "    </tr>\n",
              "    <tr>\n",
              "      <th>1</th>\n",
              "      <td>PLGDN</td>\n",
              "      <td>2005-04-01</td>\n",
              "      <td>09:00:00</td>\n",
              "      <td>DKCPH</td>\n",
              "      <td>TANGO</td>\n",
              "      <td>Romania</td>\n",
              "      <td>8306589.0</td>\n",
              "      <td>YQOA</td>\n",
              "      <td>9983</td>\n",
              "      <td>140.12</td>\n",
              "      <td>DFDS SEAWAYS Sp. z o. o.</td>\n",
              "      <td>WESTERPLATTE</td>\n",
              "    </tr>\n",
              "    <tr>\n",
              "      <th>2</th>\n",
              "      <td>PLGDN</td>\n",
              "      <td>2005-05-01</td>\n",
              "      <td>17:00:00</td>\n",
              "      <td>SEOTT</td>\n",
              "      <td>ALLORA</td>\n",
              "      <td>Honduras</td>\n",
              "      <td>6505600.0</td>\n",
              "      <td>HQRN2</td>\n",
              "      <td>517</td>\n",
              "      <td>47.85</td>\n",
              "      <td>Polfracht Shipping Agency Ltd.</td>\n",
              "      <td>PRZEMYSŁOWE / WIŚLANE</td>\n",
              "    </tr>\n",
              "    <tr>\n",
              "      <th>3</th>\n",
              "      <td>PLGDN</td>\n",
              "      <td>2005-06-01</td>\n",
              "      <td>10:00:00</td>\n",
              "      <td>BEANR</td>\n",
              "      <td>CT SUN</td>\n",
              "      <td>Malta</td>\n",
              "      <td>7816484.0</td>\n",
              "      <td>9HZC7</td>\n",
              "      <td>4382</td>\n",
              "      <td>118.36</td>\n",
              "      <td>Polfracht Shipping Agency Ltd.</td>\n",
              "      <td>OBROŃCÓW POCZTY POLSKIEJ</td>\n",
              "    </tr>\n",
              "    <tr>\n",
              "      <th>4</th>\n",
              "      <td>PLGDN</td>\n",
              "      <td>2005-07-01</td>\n",
              "      <td>20:00:00</td>\n",
              "      <td>SEGOT</td>\n",
              "      <td>TANGO</td>\n",
              "      <td>Romania</td>\n",
              "      <td>8306589.0</td>\n",
              "      <td>YQOA</td>\n",
              "      <td>9983</td>\n",
              "      <td>140.00</td>\n",
              "      <td>DFDS SEAWAYS Sp. z o. o.</td>\n",
              "      <td>WESTERPLATTE</td>\n",
              "    </tr>\n",
              "    <tr>\n",
              "      <th>...</th>\n",
              "      <td>...</td>\n",
              "      <td>...</td>\n",
              "      <td>...</td>\n",
              "      <td>...</td>\n",
              "      <td>...</td>\n",
              "      <td>...</td>\n",
              "      <td>...</td>\n",
              "      <td>...</td>\n",
              "      <td>...</td>\n",
              "      <td>...</td>\n",
              "      <td>...</td>\n",
              "      <td>...</td>\n",
              "    </tr>\n",
              "    <tr>\n",
              "      <th>11485</th>\n",
              "      <td>PLGDN</td>\n",
              "      <td>2020-06-29</td>\n",
              "      <td>01:45:00</td>\n",
              "      <td>DERSK</td>\n",
              "      <td>FURE VEN</td>\n",
              "      <td>Sweden</td>\n",
              "      <td>9818278.0</td>\n",
              "      <td>SGVI</td>\n",
              "      <td>12770</td>\n",
              "      <td>149.90</td>\n",
              "      <td>POLSTEAM SHIPPING AGENCY Gdynia</td>\n",
              "      <td>BPPP Stanowisko T-1</td>\n",
              "    </tr>\n",
              "    <tr>\n",
              "      <th>11486</th>\n",
              "      <td>PLGDN</td>\n",
              "      <td>2020-06-29</td>\n",
              "      <td>08:15:00</td>\n",
              "      <td>DEBRV</td>\n",
              "      <td>BOMAR VALOUR</td>\n",
              "      <td>Marshall Islands</td>\n",
              "      <td>9242637.0</td>\n",
              "      <td>V7EG8</td>\n",
              "      <td>17189</td>\n",
              "      <td>178.50</td>\n",
              "      <td>Maersk Polska Sp. z o. o.</td>\n",
              "      <td>DCT -Przeładunkowe</td>\n",
              "    </tr>\n",
              "    <tr>\n",
              "      <th>11487</th>\n",
              "      <td>PLGDN</td>\n",
              "      <td>2020-06-30</td>\n",
              "      <td>06:00:00</td>\n",
              "      <td>PLGDY</td>\n",
              "      <td>ARA LIVERPOOL</td>\n",
              "      <td>Gibraltar</td>\n",
              "      <td>9365984.0</td>\n",
              "      <td>ZDPT4</td>\n",
              "      <td>7702</td>\n",
              "      <td>141.60</td>\n",
              "      <td>UNIFEEDER A/S S.A. O. W POLSCE</td>\n",
              "      <td>DCT -Przeładunkowe</td>\n",
              "    </tr>\n",
              "    <tr>\n",
              "      <th>11488</th>\n",
              "      <td>PLGDN</td>\n",
              "      <td>2020-06-30</td>\n",
              "      <td>02:30:00</td>\n",
              "      <td>LTKLJ</td>\n",
              "      <td>VOLGA MAERSK</td>\n",
              "      <td>Denmark</td>\n",
              "      <td>9775749.0</td>\n",
              "      <td>OWJV2</td>\n",
              "      <td>34882</td>\n",
              "      <td>200.00</td>\n",
              "      <td>Maersk Polska Sp. z o. o.</td>\n",
              "      <td>DCT -Przeładunkowe</td>\n",
              "    </tr>\n",
              "    <tr>\n",
              "      <th>11489</th>\n",
              "      <td>PLGDN</td>\n",
              "      <td>2020-06-30</td>\n",
              "      <td>15:30:00</td>\n",
              "      <td>RUBLT</td>\n",
              "      <td>ANNABA</td>\n",
              "      <td>Liberia</td>\n",
              "      <td>9306201.0</td>\n",
              "      <td>A8JJ8</td>\n",
              "      <td>15487</td>\n",
              "      <td>168.00</td>\n",
              "      <td>Maersk Polska Sp. z o. o.</td>\n",
              "      <td>DCT -Przeładunkowe</td>\n",
              "    </tr>\n",
              "  </tbody>\n",
              "</table>\n",
              "<p>11490 rows × 12 columns</p>\n",
              "</div>"
            ],
            "text/plain": [
              "      Kod portu  ... Nabrzeże (miejsce zacumowania)\n",
              "0         PLGDN  ...          NAB. SZCZECIŃSKIE GTK\n",
              "1         PLGDN  ...                   WESTERPLATTE\n",
              "2         PLGDN  ...          PRZEMYSŁOWE / WIŚLANE\n",
              "3         PLGDN  ...       OBROŃCÓW POCZTY POLSKIEJ\n",
              "4         PLGDN  ...                   WESTERPLATTE\n",
              "...         ...  ...                            ...\n",
              "11485     PLGDN  ...            BPPP Stanowisko T-1\n",
              "11486     PLGDN  ...             DCT -Przeładunkowe\n",
              "11487     PLGDN  ...             DCT -Przeładunkowe\n",
              "11488     PLGDN  ...             DCT -Przeładunkowe\n",
              "11489     PLGDN  ...             DCT -Przeładunkowe\n",
              "\n",
              "[11490 rows x 12 columns]"
            ]
          },
          "metadata": {
            "tags": []
          },
          "execution_count": 125
        }
      ]
    },
    {
      "cell_type": "markdown",
      "metadata": {
        "id": "wVUVqTAuAAGU"
      },
      "source": [
        "## Zadanie - 5 "
      ]
    },
    {
      "cell_type": "markdown",
      "metadata": {
        "id": "clANEzmEFwMl"
      },
      "source": [
        "Obetnij zbiór do 10000 wierszy:"
      ]
    },
    {
      "cell_type": "code",
      "metadata": {
        "id": "AhWUwY_aGRBU",
        "colab": {
          "base_uri": "https://localhost:8080/",
          "height": 615
        },
        "outputId": "c821b198-731d-437c-ee09-19dba2d2cfcd"
      },
      "source": [
        "bd2 = bd2.truncate(after=9999)\r\n",
        "bd2"
      ],
      "execution_count": null,
      "outputs": [
        {
          "output_type": "execute_result",
          "data": {
            "text/html": [
              "<div>\n",
              "<style scoped>\n",
              "    .dataframe tbody tr th:only-of-type {\n",
              "        vertical-align: middle;\n",
              "    }\n",
              "\n",
              "    .dataframe tbody tr th {\n",
              "        vertical-align: top;\n",
              "    }\n",
              "\n",
              "    .dataframe thead th {\n",
              "        text-align: right;\n",
              "    }\n",
              "</style>\n",
              "<table border=\"1\" class=\"dataframe\">\n",
              "  <thead>\n",
              "    <tr style=\"text-align: right;\">\n",
              "      <th></th>\n",
              "      <th>Kod portu</th>\n",
              "      <th>Data wyjścia (rrrr-mm-dd)</th>\n",
              "      <th>Godzina wyjścia(hh:mm)</th>\n",
              "      <th>Kod portu, przeznaczenia</th>\n",
              "      <th>Nazwa statku</th>\n",
              "      <th>Bandera</th>\n",
              "      <th>nr IMO</th>\n",
              "      <th>Sygnał wywoławczy</th>\n",
              "      <th>Pojemność brutto (tony)</th>\n",
              "      <th>Długość (metry)</th>\n",
              "      <th>Agent</th>\n",
              "      <th>Nabrzeże (miejsce zacumowania)</th>\n",
              "    </tr>\n",
              "  </thead>\n",
              "  <tbody>\n",
              "    <tr>\n",
              "      <th>0</th>\n",
              "      <td>PLGDN</td>\n",
              "      <td>2005-04-01</td>\n",
              "      <td>12:00:00</td>\n",
              "      <td>RULED</td>\n",
              "      <td>PETSAMO</td>\n",
              "      <td>Finland</td>\n",
              "      <td>7517545.0</td>\n",
              "      <td>OIZH</td>\n",
              "      <td>2356</td>\n",
              "      <td>84.00</td>\n",
              "      <td>Cargo Service Co. Ltd Gdańsk</td>\n",
              "      <td>NAB. SZCZECIŃSKIE GTK</td>\n",
              "    </tr>\n",
              "    <tr>\n",
              "      <th>1</th>\n",
              "      <td>PLGDN</td>\n",
              "      <td>2005-04-01</td>\n",
              "      <td>09:00:00</td>\n",
              "      <td>DKCPH</td>\n",
              "      <td>TANGO</td>\n",
              "      <td>Romania</td>\n",
              "      <td>8306589.0</td>\n",
              "      <td>YQOA</td>\n",
              "      <td>9983</td>\n",
              "      <td>140.12</td>\n",
              "      <td>DFDS SEAWAYS Sp. z o. o.</td>\n",
              "      <td>WESTERPLATTE</td>\n",
              "    </tr>\n",
              "    <tr>\n",
              "      <th>2</th>\n",
              "      <td>PLGDN</td>\n",
              "      <td>2005-05-01</td>\n",
              "      <td>17:00:00</td>\n",
              "      <td>SEOTT</td>\n",
              "      <td>ALLORA</td>\n",
              "      <td>Honduras</td>\n",
              "      <td>6505600.0</td>\n",
              "      <td>HQRN2</td>\n",
              "      <td>517</td>\n",
              "      <td>47.85</td>\n",
              "      <td>Polfracht Shipping Agency Ltd.</td>\n",
              "      <td>PRZEMYSŁOWE / WIŚLANE</td>\n",
              "    </tr>\n",
              "    <tr>\n",
              "      <th>3</th>\n",
              "      <td>PLGDN</td>\n",
              "      <td>2005-06-01</td>\n",
              "      <td>10:00:00</td>\n",
              "      <td>BEANR</td>\n",
              "      <td>CT SUN</td>\n",
              "      <td>Malta</td>\n",
              "      <td>7816484.0</td>\n",
              "      <td>9HZC7</td>\n",
              "      <td>4382</td>\n",
              "      <td>118.36</td>\n",
              "      <td>Polfracht Shipping Agency Ltd.</td>\n",
              "      <td>OBROŃCÓW POCZTY POLSKIEJ</td>\n",
              "    </tr>\n",
              "    <tr>\n",
              "      <th>4</th>\n",
              "      <td>PLGDN</td>\n",
              "      <td>2005-07-01</td>\n",
              "      <td>20:00:00</td>\n",
              "      <td>SEGOT</td>\n",
              "      <td>TANGO</td>\n",
              "      <td>Romania</td>\n",
              "      <td>8306589.0</td>\n",
              "      <td>YQOA</td>\n",
              "      <td>9983</td>\n",
              "      <td>140.00</td>\n",
              "      <td>DFDS SEAWAYS Sp. z o. o.</td>\n",
              "      <td>WESTERPLATTE</td>\n",
              "    </tr>\n",
              "    <tr>\n",
              "      <th>...</th>\n",
              "      <td>...</td>\n",
              "      <td>...</td>\n",
              "      <td>...</td>\n",
              "      <td>...</td>\n",
              "      <td>...</td>\n",
              "      <td>...</td>\n",
              "      <td>...</td>\n",
              "      <td>...</td>\n",
              "      <td>...</td>\n",
              "      <td>...</td>\n",
              "      <td>...</td>\n",
              "      <td>...</td>\n",
              "    </tr>\n",
              "    <tr>\n",
              "      <th>9995</th>\n",
              "      <td>PLGDN</td>\n",
              "      <td>2019-12-04</td>\n",
              "      <td>15:45:00</td>\n",
              "      <td>DEWHV</td>\n",
              "      <td>CSCL PACIFIC OCEAN</td>\n",
              "      <td>Hong Kong</td>\n",
              "      <td>9695133.0</td>\n",
              "      <td>VRNV5</td>\n",
              "      <td>187541</td>\n",
              "      <td>399.67</td>\n",
              "      <td>Cosco Shipping Lines (Poland) Sp. z o.o.</td>\n",
              "      <td>DCT -Przeładunkowe</td>\n",
              "    </tr>\n",
              "    <tr>\n",
              "      <th>9996</th>\n",
              "      <td>PLGDN</td>\n",
              "      <td>2019-12-04</td>\n",
              "      <td>05:00:00</td>\n",
              "      <td>ZZUKN</td>\n",
              "      <td>ENDURANCE</td>\n",
              "      <td>United States</td>\n",
              "      <td>9121273.0</td>\n",
              "      <td>WDE9586</td>\n",
              "      <td>72708</td>\n",
              "      <td>264.60</td>\n",
              "      <td>Wilhelmsen Ships Service Polska Sp. z o.o.</td>\n",
              "      <td>DCT -Przeładunkowe</td>\n",
              "    </tr>\n",
              "    <tr>\n",
              "      <th>9997</th>\n",
              "      <td>PLGDN</td>\n",
              "      <td>2019-12-04</td>\n",
              "      <td>12:00:00</td>\n",
              "      <td>ZZUKN</td>\n",
              "      <td>ADVANTAGE SUMMER</td>\n",
              "      <td>Marshall Islands</td>\n",
              "      <td>9419890.0</td>\n",
              "      <td>V7EW8</td>\n",
              "      <td>83805</td>\n",
              "      <td>274.00</td>\n",
              "      <td>OKMARIT Ltd</td>\n",
              "      <td>BPPP Stanowisko T</td>\n",
              "    </tr>\n",
              "    <tr>\n",
              "      <th>9998</th>\n",
              "      <td>PLGDN</td>\n",
              "      <td>2019-04-13</td>\n",
              "      <td>12:15:00</td>\n",
              "      <td>LVRIX</td>\n",
              "      <td>BALTIC SHEARWATER</td>\n",
              "      <td>Cyprus</td>\n",
              "      <td>9313228.0</td>\n",
              "      <td>5BSD4</td>\n",
              "      <td>16324</td>\n",
              "      <td>169.00</td>\n",
              "      <td>Cosco Shipping Lines (Poland) Sp. z o.o.</td>\n",
              "      <td>DCT -Przeładunkowe</td>\n",
              "    </tr>\n",
              "    <tr>\n",
              "      <th>9999</th>\n",
              "      <td>PLGDN</td>\n",
              "      <td>2019-04-13</td>\n",
              "      <td>08:30:00</td>\n",
              "      <td>PLGDY</td>\n",
              "      <td>EXPANSA</td>\n",
              "      <td>Antigua and Barbuda</td>\n",
              "      <td>9429261.0</td>\n",
              "      <td>V2QJ7</td>\n",
              "      <td>9983</td>\n",
              "      <td>140.70</td>\n",
              "      <td>UNIFEEDER A/S S.A. O. W POLSCE</td>\n",
              "      <td>DCT -Przeładunkowe</td>\n",
              "    </tr>\n",
              "  </tbody>\n",
              "</table>\n",
              "<p>10000 rows × 12 columns</p>\n",
              "</div>"
            ],
            "text/plain": [
              "     Kod portu  ... Nabrzeże (miejsce zacumowania)\n",
              "0        PLGDN  ...          NAB. SZCZECIŃSKIE GTK\n",
              "1        PLGDN  ...                   WESTERPLATTE\n",
              "2        PLGDN  ...          PRZEMYSŁOWE / WIŚLANE\n",
              "3        PLGDN  ...       OBROŃCÓW POCZTY POLSKIEJ\n",
              "4        PLGDN  ...                   WESTERPLATTE\n",
              "...        ...  ...                            ...\n",
              "9995     PLGDN  ...             DCT -Przeładunkowe\n",
              "9996     PLGDN  ...             DCT -Przeładunkowe\n",
              "9997     PLGDN  ...              BPPP Stanowisko T\n",
              "9998     PLGDN  ...             DCT -Przeładunkowe\n",
              "9999     PLGDN  ...             DCT -Przeładunkowe\n",
              "\n",
              "[10000 rows x 12 columns]"
            ]
          },
          "metadata": {
            "tags": []
          },
          "execution_count": 126
        }
      ]
    },
    {
      "cell_type": "markdown",
      "metadata": {
        "id": "T3LYFYey1x0a"
      },
      "source": [
        "Sprawdź podstawowe statystyki co do długości statków dodatkowo agregując wynik wg. kolumny Bandera (*przynależność państwowa statku*). "
      ]
    },
    {
      "cell_type": "code",
      "metadata": {
        "id": "9CwMsIDvHMz4",
        "colab": {
          "base_uri": "https://localhost:8080/"
        },
        "outputId": "9c7f3b99-a42a-482d-ccab-f851d10b4eeb"
      },
      "source": [
        "bd2.groupby(['Bandera'])['Długość (metry)'].mean()"
      ],
      "execution_count": null,
      "outputs": [
        {
          "output_type": "execute_result",
          "data": {
            "text/plain": [
              "Bandera\n",
              "Anguilla                73.660000\n",
              "Antigua and Barbuda    174.439076\n",
              "Bahamas                204.697237\n",
              "Barbados                79.752000\n",
              "Belgium                133.642500\n",
              "                          ...    \n",
              "Sweden                 197.705595\n",
              "Turkey                 164.421667\n",
              "United Kingdom         160.785890\n",
              "United States          185.374118\n",
              "Vanuatu                172.504286\n",
              "Name: Długość (metry), Length: 61, dtype: float64"
            ]
          },
          "metadata": {
            "tags": []
          },
          "execution_count": 127
        }
      ]
    },
    {
      "cell_type": "code",
      "metadata": {
        "id": "wDTFiszKC2H-"
      },
      "source": [
        ""
      ],
      "execution_count": null,
      "outputs": []
    },
    {
      "cell_type": "markdown",
      "metadata": {
        "id": "jwYDPq1zHah-"
      },
      "source": [
        "Wg. przynależności państwowej statków, skąd są **średnio** **najdłuższe statki**, które wychodzą z portu Gdańsk? (Top 10)"
      ]
    },
    {
      "cell_type": "code",
      "metadata": {
        "id": "FQnAY5VlHxPs",
        "colab": {
          "base_uri": "https://localhost:8080/"
        },
        "outputId": "b4647e2a-2ef0-41da-f5e4-065f20b6ad42"
      },
      "source": [
        "dlugosci = bd2.groupby(['Bandera'])['Długość (metry)'].mean()\r\n",
        "dlugosci.sort_values(ascending=False).head(10)\r\n"
      ],
      "execution_count": null,
      "outputs": [
        {
          "output_type": "execute_result",
          "data": {
            "text/plain": [
              "Bandera\n",
              "Isle of Man                 379.749410\n",
              "Denmark                     369.096494\n",
              "Kuwait                      333.583333\n",
              "Liberia                     327.549186\n",
              "Hong Kong                   322.034526\n",
              "Japan                       291.970000\n",
              "Bermuda                     288.500000\n",
              "Iran Islamic Republic of    274.000000\n",
              "India                       254.778571\n",
              "Cyprus                      254.252619\n",
              "Name: Długość (metry), dtype: float64"
            ]
          },
          "metadata": {
            "tags": []
          },
          "execution_count": 128
        }
      ]
    },
    {
      "cell_type": "markdown",
      "metadata": {
        "id": "FyXErevNIePN"
      },
      "source": [
        "Wg. przynależności państwowej statków, jaka jest **średnia największa** ich **pojemność brutto** (tony)? (Top 10)"
      ]
    },
    {
      "cell_type": "code",
      "metadata": {
        "id": "EN1y1A3hAvNp",
        "colab": {
          "base_uri": "https://localhost:8080/"
        },
        "outputId": "2823437d-f3aa-4052-bf20-068239933427"
      },
      "source": [
        "pojemnosci = bd2.groupby(['Bandera'])['Pojemność brutto (tony)'].mean().sort_values(ascending=False).head(10)\r\n",
        "pojemnosci\r\n"
      ],
      "execution_count": null,
      "outputs": [
        {
          "output_type": "execute_result",
          "data": {
            "text/plain": [
              "Bandera\n",
              "Kuwait                      160243.000000\n",
              "Hong Kong                   132319.726316\n",
              "Denmark                     103773.544693\n",
              "Japan                        93182.000000\n",
              "Bermuda                      88539.000000\n",
              "Iran Islamic Republic of     81479.000000\n",
              "Hong Kong                    81119.792857\n",
              "India                        65479.714286\n",
              "Greece                       64022.824885\n",
              "Cayman Islands               61371.000000\n",
              "Name: Pojemność brutto (tony), dtype: float64"
            ]
          },
          "metadata": {
            "tags": []
          },
          "execution_count": 129
        }
      ]
    },
    {
      "cell_type": "code",
      "metadata": {
        "colab": {
          "base_uri": "https://localhost:8080/",
          "height": 615
        },
        "id": "x0TBfwlnta_o",
        "outputId": "b3a3d6ab-c170-464b-eca4-947d60051097"
      },
      "source": [
        "bd2"
      ],
      "execution_count": null,
      "outputs": [
        {
          "output_type": "execute_result",
          "data": {
            "text/html": [
              "<div>\n",
              "<style scoped>\n",
              "    .dataframe tbody tr th:only-of-type {\n",
              "        vertical-align: middle;\n",
              "    }\n",
              "\n",
              "    .dataframe tbody tr th {\n",
              "        vertical-align: top;\n",
              "    }\n",
              "\n",
              "    .dataframe thead th {\n",
              "        text-align: right;\n",
              "    }\n",
              "</style>\n",
              "<table border=\"1\" class=\"dataframe\">\n",
              "  <thead>\n",
              "    <tr style=\"text-align: right;\">\n",
              "      <th></th>\n",
              "      <th>Kod portu</th>\n",
              "      <th>Data wyjścia (rrrr-mm-dd)</th>\n",
              "      <th>Godzina wyjścia(hh:mm)</th>\n",
              "      <th>Kod portu, przeznaczenia</th>\n",
              "      <th>Nazwa statku</th>\n",
              "      <th>Bandera</th>\n",
              "      <th>nr IMO</th>\n",
              "      <th>Sygnał wywoławczy</th>\n",
              "      <th>Pojemność brutto (tony)</th>\n",
              "      <th>Długość (metry)</th>\n",
              "      <th>Agent</th>\n",
              "      <th>Nabrzeże (miejsce zacumowania)</th>\n",
              "    </tr>\n",
              "  </thead>\n",
              "  <tbody>\n",
              "    <tr>\n",
              "      <th>0</th>\n",
              "      <td>PLGDN</td>\n",
              "      <td>2005-04-01</td>\n",
              "      <td>12:00:00</td>\n",
              "      <td>RULED</td>\n",
              "      <td>PETSAMO</td>\n",
              "      <td>Finland</td>\n",
              "      <td>7517545.0</td>\n",
              "      <td>OIZH</td>\n",
              "      <td>2356</td>\n",
              "      <td>84.00</td>\n",
              "      <td>Cargo Service Co. Ltd Gdańsk</td>\n",
              "      <td>NAB. SZCZECIŃSKIE GTK</td>\n",
              "    </tr>\n",
              "    <tr>\n",
              "      <th>1</th>\n",
              "      <td>PLGDN</td>\n",
              "      <td>2005-04-01</td>\n",
              "      <td>09:00:00</td>\n",
              "      <td>DKCPH</td>\n",
              "      <td>TANGO</td>\n",
              "      <td>Romania</td>\n",
              "      <td>8306589.0</td>\n",
              "      <td>YQOA</td>\n",
              "      <td>9983</td>\n",
              "      <td>140.12</td>\n",
              "      <td>DFDS SEAWAYS Sp. z o. o.</td>\n",
              "      <td>WESTERPLATTE</td>\n",
              "    </tr>\n",
              "    <tr>\n",
              "      <th>2</th>\n",
              "      <td>PLGDN</td>\n",
              "      <td>2005-05-01</td>\n",
              "      <td>17:00:00</td>\n",
              "      <td>SEOTT</td>\n",
              "      <td>ALLORA</td>\n",
              "      <td>Honduras</td>\n",
              "      <td>6505600.0</td>\n",
              "      <td>HQRN2</td>\n",
              "      <td>517</td>\n",
              "      <td>47.85</td>\n",
              "      <td>Polfracht Shipping Agency Ltd.</td>\n",
              "      <td>PRZEMYSŁOWE / WIŚLANE</td>\n",
              "    </tr>\n",
              "    <tr>\n",
              "      <th>3</th>\n",
              "      <td>PLGDN</td>\n",
              "      <td>2005-06-01</td>\n",
              "      <td>10:00:00</td>\n",
              "      <td>BEANR</td>\n",
              "      <td>CT SUN</td>\n",
              "      <td>Malta</td>\n",
              "      <td>7816484.0</td>\n",
              "      <td>9HZC7</td>\n",
              "      <td>4382</td>\n",
              "      <td>118.36</td>\n",
              "      <td>Polfracht Shipping Agency Ltd.</td>\n",
              "      <td>OBROŃCÓW POCZTY POLSKIEJ</td>\n",
              "    </tr>\n",
              "    <tr>\n",
              "      <th>4</th>\n",
              "      <td>PLGDN</td>\n",
              "      <td>2005-07-01</td>\n",
              "      <td>20:00:00</td>\n",
              "      <td>SEGOT</td>\n",
              "      <td>TANGO</td>\n",
              "      <td>Romania</td>\n",
              "      <td>8306589.0</td>\n",
              "      <td>YQOA</td>\n",
              "      <td>9983</td>\n",
              "      <td>140.00</td>\n",
              "      <td>DFDS SEAWAYS Sp. z o. o.</td>\n",
              "      <td>WESTERPLATTE</td>\n",
              "    </tr>\n",
              "    <tr>\n",
              "      <th>...</th>\n",
              "      <td>...</td>\n",
              "      <td>...</td>\n",
              "      <td>...</td>\n",
              "      <td>...</td>\n",
              "      <td>...</td>\n",
              "      <td>...</td>\n",
              "      <td>...</td>\n",
              "      <td>...</td>\n",
              "      <td>...</td>\n",
              "      <td>...</td>\n",
              "      <td>...</td>\n",
              "      <td>...</td>\n",
              "    </tr>\n",
              "    <tr>\n",
              "      <th>9995</th>\n",
              "      <td>PLGDN</td>\n",
              "      <td>2019-12-04</td>\n",
              "      <td>15:45:00</td>\n",
              "      <td>DEWHV</td>\n",
              "      <td>CSCL PACIFIC OCEAN</td>\n",
              "      <td>Hong Kong</td>\n",
              "      <td>9695133.0</td>\n",
              "      <td>VRNV5</td>\n",
              "      <td>187541</td>\n",
              "      <td>399.67</td>\n",
              "      <td>Cosco Shipping Lines (Poland) Sp. z o.o.</td>\n",
              "      <td>DCT -Przeładunkowe</td>\n",
              "    </tr>\n",
              "    <tr>\n",
              "      <th>9996</th>\n",
              "      <td>PLGDN</td>\n",
              "      <td>2019-12-04</td>\n",
              "      <td>05:00:00</td>\n",
              "      <td>ZZUKN</td>\n",
              "      <td>ENDURANCE</td>\n",
              "      <td>United States</td>\n",
              "      <td>9121273.0</td>\n",
              "      <td>WDE9586</td>\n",
              "      <td>72708</td>\n",
              "      <td>264.60</td>\n",
              "      <td>Wilhelmsen Ships Service Polska Sp. z o.o.</td>\n",
              "      <td>DCT -Przeładunkowe</td>\n",
              "    </tr>\n",
              "    <tr>\n",
              "      <th>9997</th>\n",
              "      <td>PLGDN</td>\n",
              "      <td>2019-12-04</td>\n",
              "      <td>12:00:00</td>\n",
              "      <td>ZZUKN</td>\n",
              "      <td>ADVANTAGE SUMMER</td>\n",
              "      <td>Marshall Islands</td>\n",
              "      <td>9419890.0</td>\n",
              "      <td>V7EW8</td>\n",
              "      <td>83805</td>\n",
              "      <td>274.00</td>\n",
              "      <td>OKMARIT Ltd</td>\n",
              "      <td>BPPP Stanowisko T</td>\n",
              "    </tr>\n",
              "    <tr>\n",
              "      <th>9998</th>\n",
              "      <td>PLGDN</td>\n",
              "      <td>2019-04-13</td>\n",
              "      <td>12:15:00</td>\n",
              "      <td>LVRIX</td>\n",
              "      <td>BALTIC SHEARWATER</td>\n",
              "      <td>Cyprus</td>\n",
              "      <td>9313228.0</td>\n",
              "      <td>5BSD4</td>\n",
              "      <td>16324</td>\n",
              "      <td>169.00</td>\n",
              "      <td>Cosco Shipping Lines (Poland) Sp. z o.o.</td>\n",
              "      <td>DCT -Przeładunkowe</td>\n",
              "    </tr>\n",
              "    <tr>\n",
              "      <th>9999</th>\n",
              "      <td>PLGDN</td>\n",
              "      <td>2019-04-13</td>\n",
              "      <td>08:30:00</td>\n",
              "      <td>PLGDY</td>\n",
              "      <td>EXPANSA</td>\n",
              "      <td>Antigua and Barbuda</td>\n",
              "      <td>9429261.0</td>\n",
              "      <td>V2QJ7</td>\n",
              "      <td>9983</td>\n",
              "      <td>140.70</td>\n",
              "      <td>UNIFEEDER A/S S.A. O. W POLSCE</td>\n",
              "      <td>DCT -Przeładunkowe</td>\n",
              "    </tr>\n",
              "  </tbody>\n",
              "</table>\n",
              "<p>10000 rows × 12 columns</p>\n",
              "</div>"
            ],
            "text/plain": [
              "     Kod portu  ... Nabrzeże (miejsce zacumowania)\n",
              "0        PLGDN  ...          NAB. SZCZECIŃSKIE GTK\n",
              "1        PLGDN  ...                   WESTERPLATTE\n",
              "2        PLGDN  ...          PRZEMYSŁOWE / WIŚLANE\n",
              "3        PLGDN  ...       OBROŃCÓW POCZTY POLSKIEJ\n",
              "4        PLGDN  ...                   WESTERPLATTE\n",
              "...        ...  ...                            ...\n",
              "9995     PLGDN  ...             DCT -Przeładunkowe\n",
              "9996     PLGDN  ...             DCT -Przeładunkowe\n",
              "9997     PLGDN  ...              BPPP Stanowisko T\n",
              "9998     PLGDN  ...             DCT -Przeładunkowe\n",
              "9999     PLGDN  ...             DCT -Przeładunkowe\n",
              "\n",
              "[10000 rows x 12 columns]"
            ]
          },
          "metadata": {
            "tags": []
          },
          "execution_count": 130
        }
      ]
    },
    {
      "cell_type": "markdown",
      "metadata": {
        "id": "EnZotHoEu5zN"
      },
      "source": [
        "## Zadanie - 6 (dodatkowe)"
      ]
    },
    {
      "cell_type": "markdown",
      "metadata": {
        "id": "9-Af-n2aMocw"
      },
      "source": [
        "Opracuj to zadanie wg. kroków:\n",
        "* Stwórz bazę `SQLite`\n",
        "* Wczytaj dane do stworzonej bazy wykorzystując Data Frame obcięty do 10K wierszy z zadania N5\n",
        "* Opracuj zapytania SQL, które pozwolą odpowiedzieć na pytania:\n",
        "> 1) Wg. przynależności państwowej statków, skąd są średnio **najkrótsze statki**, które wychodzą z portu Gdańsk? (Top 10 - bander z średnio najkrótszymi statkami)<br><br>\n",
        "> 2) Wg. przynależności państwowej statków, jaka jest **średnia** ich **pojemność brutto** (tony)? (Top 10 - bander z średnio najemniejszą pojemnością statków)"
      ]
    },
    {
      "cell_type": "markdown",
      "metadata": {
        "id": "zMU2Ovs0M-nm"
      },
      "source": [
        "![database](https://media.giphy.com/media/4FQMuOKR6zQRO/giphy.gif)"
      ]
    },
    {
      "cell_type": "code",
      "metadata": {
        "id": "m9YqByfhNEmd"
      },
      "source": [
        "import sqlite3\r\n",
        "import pandas as pd"
      ],
      "execution_count": null,
      "outputs": []
    },
    {
      "cell_type": "code",
      "metadata": {
        "id": "CafC_aD-rnzF"
      },
      "source": [
        "bdsql = sqlite3.connect(\"SQL\")"
      ],
      "execution_count": null,
      "outputs": []
    },
    {
      "cell_type": "code",
      "metadata": {
        "id": "dZ_Z6T9Ir1XV"
      },
      "source": [
        "bd_kursor = bdsql.cursor()"
      ],
      "execution_count": null,
      "outputs": []
    },
    {
      "cell_type": "code",
      "metadata": {
        "colab": {
          "base_uri": "https://localhost:8080/"
        },
        "id": "uAC9ydhlr9lG",
        "outputId": "ea4252c8-c028-4abc-d4e9-eb8c0c4569cf"
      },
      "source": [
        "bd2 = bd2.rename(columns={'Długość (metry)': \"dlugosc\"})\r\n",
        "bd2 = bd2.rename(columns={'Pojemność brutto (tony)': \"pojemnosc_brutto\"})\r\n",
        "bd3 = bd2.to_sql('bd3', bdsql, if_exists='replace')\r\n"
      ],
      "execution_count": null,
      "outputs": [
        {
          "output_type": "stream",
          "text": [
            "/usr/local/lib/python3.6/dist-packages/pandas/core/generic.py:2615: UserWarning: The spaces in these column names will not be changed. In pandas versions < 0.14, spaces were converted to underscores.\n",
            "  method=method,\n"
          ],
          "name": "stderr"
        }
      ]
    },
    {
      "cell_type": "code",
      "metadata": {
        "colab": {
          "base_uri": "https://localhost:8080/",
          "height": 632
        },
        "id": "Bvuvt3sktUd5",
        "outputId": "373b5f47-cf73-4b25-d5f9-0d8f34b5fbbc"
      },
      "source": [
        "tabela = pd.read_sql(\"select * from bd3\",bdsql)\r\n",
        "tabela"
      ],
      "execution_count": null,
      "outputs": [
        {
          "output_type": "execute_result",
          "data": {
            "text/html": [
              "<div>\n",
              "<style scoped>\n",
              "    .dataframe tbody tr th:only-of-type {\n",
              "        vertical-align: middle;\n",
              "    }\n",
              "\n",
              "    .dataframe tbody tr th {\n",
              "        vertical-align: top;\n",
              "    }\n",
              "\n",
              "    .dataframe thead th {\n",
              "        text-align: right;\n",
              "    }\n",
              "</style>\n",
              "<table border=\"1\" class=\"dataframe\">\n",
              "  <thead>\n",
              "    <tr style=\"text-align: right;\">\n",
              "      <th></th>\n",
              "      <th>index</th>\n",
              "      <th>Kod portu</th>\n",
              "      <th>Data wyjścia (rrrr-mm-dd)</th>\n",
              "      <th>Godzina wyjścia(hh:mm)</th>\n",
              "      <th>Kod portu, przeznaczenia</th>\n",
              "      <th>Nazwa statku</th>\n",
              "      <th>Bandera</th>\n",
              "      <th>nr IMO</th>\n",
              "      <th>Sygnał wywoławczy</th>\n",
              "      <th>pojemnosc_brutto</th>\n",
              "      <th>dlugosc</th>\n",
              "      <th>Agent</th>\n",
              "      <th>Nabrzeże (miejsce zacumowania)</th>\n",
              "    </tr>\n",
              "  </thead>\n",
              "  <tbody>\n",
              "    <tr>\n",
              "      <th>0</th>\n",
              "      <td>0</td>\n",
              "      <td>PLGDN</td>\n",
              "      <td>2005-04-01 00:00:00</td>\n",
              "      <td>12:00:00</td>\n",
              "      <td>RULED</td>\n",
              "      <td>PETSAMO</td>\n",
              "      <td>Finland</td>\n",
              "      <td>7517545.0</td>\n",
              "      <td>OIZH</td>\n",
              "      <td>2356</td>\n",
              "      <td>84.00</td>\n",
              "      <td>Cargo Service Co. Ltd Gdańsk</td>\n",
              "      <td>NAB. SZCZECIŃSKIE GTK</td>\n",
              "    </tr>\n",
              "    <tr>\n",
              "      <th>1</th>\n",
              "      <td>1</td>\n",
              "      <td>PLGDN</td>\n",
              "      <td>2005-04-01 00:00:00</td>\n",
              "      <td>09:00:00</td>\n",
              "      <td>DKCPH</td>\n",
              "      <td>TANGO</td>\n",
              "      <td>Romania</td>\n",
              "      <td>8306589.0</td>\n",
              "      <td>YQOA</td>\n",
              "      <td>9983</td>\n",
              "      <td>140.12</td>\n",
              "      <td>DFDS SEAWAYS Sp. z o. o.</td>\n",
              "      <td>WESTERPLATTE</td>\n",
              "    </tr>\n",
              "    <tr>\n",
              "      <th>2</th>\n",
              "      <td>2</td>\n",
              "      <td>PLGDN</td>\n",
              "      <td>2005-05-01 00:00:00</td>\n",
              "      <td>17:00:00</td>\n",
              "      <td>SEOTT</td>\n",
              "      <td>ALLORA</td>\n",
              "      <td>Honduras</td>\n",
              "      <td>6505600.0</td>\n",
              "      <td>HQRN2</td>\n",
              "      <td>517</td>\n",
              "      <td>47.85</td>\n",
              "      <td>Polfracht Shipping Agency Ltd.</td>\n",
              "      <td>PRZEMYSŁOWE / WIŚLANE</td>\n",
              "    </tr>\n",
              "    <tr>\n",
              "      <th>3</th>\n",
              "      <td>3</td>\n",
              "      <td>PLGDN</td>\n",
              "      <td>2005-06-01 00:00:00</td>\n",
              "      <td>10:00:00</td>\n",
              "      <td>BEANR</td>\n",
              "      <td>CT SUN</td>\n",
              "      <td>Malta</td>\n",
              "      <td>7816484.0</td>\n",
              "      <td>9HZC7</td>\n",
              "      <td>4382</td>\n",
              "      <td>118.36</td>\n",
              "      <td>Polfracht Shipping Agency Ltd.</td>\n",
              "      <td>OBROŃCÓW POCZTY POLSKIEJ</td>\n",
              "    </tr>\n",
              "    <tr>\n",
              "      <th>4</th>\n",
              "      <td>4</td>\n",
              "      <td>PLGDN</td>\n",
              "      <td>2005-07-01 00:00:00</td>\n",
              "      <td>20:00:00</td>\n",
              "      <td>SEGOT</td>\n",
              "      <td>TANGO</td>\n",
              "      <td>Romania</td>\n",
              "      <td>8306589.0</td>\n",
              "      <td>YQOA</td>\n",
              "      <td>9983</td>\n",
              "      <td>140.00</td>\n",
              "      <td>DFDS SEAWAYS Sp. z o. o.</td>\n",
              "      <td>WESTERPLATTE</td>\n",
              "    </tr>\n",
              "    <tr>\n",
              "      <th>...</th>\n",
              "      <td>...</td>\n",
              "      <td>...</td>\n",
              "      <td>...</td>\n",
              "      <td>...</td>\n",
              "      <td>...</td>\n",
              "      <td>...</td>\n",
              "      <td>...</td>\n",
              "      <td>...</td>\n",
              "      <td>...</td>\n",
              "      <td>...</td>\n",
              "      <td>...</td>\n",
              "      <td>...</td>\n",
              "      <td>...</td>\n",
              "    </tr>\n",
              "    <tr>\n",
              "      <th>9995</th>\n",
              "      <td>9995</td>\n",
              "      <td>PLGDN</td>\n",
              "      <td>2019-12-04 00:00:00</td>\n",
              "      <td>15:45:00</td>\n",
              "      <td>DEWHV</td>\n",
              "      <td>CSCL PACIFIC OCEAN</td>\n",
              "      <td>Hong Kong</td>\n",
              "      <td>9695133.0</td>\n",
              "      <td>VRNV5</td>\n",
              "      <td>187541</td>\n",
              "      <td>399.67</td>\n",
              "      <td>Cosco Shipping Lines (Poland) Sp. z o.o.</td>\n",
              "      <td>DCT -Przeładunkowe</td>\n",
              "    </tr>\n",
              "    <tr>\n",
              "      <th>9996</th>\n",
              "      <td>9996</td>\n",
              "      <td>PLGDN</td>\n",
              "      <td>2019-12-04 00:00:00</td>\n",
              "      <td>05:00:00</td>\n",
              "      <td>ZZUKN</td>\n",
              "      <td>ENDURANCE</td>\n",
              "      <td>United States</td>\n",
              "      <td>9121273.0</td>\n",
              "      <td>WDE9586</td>\n",
              "      <td>72708</td>\n",
              "      <td>264.60</td>\n",
              "      <td>Wilhelmsen Ships Service Polska Sp. z o.o.</td>\n",
              "      <td>DCT -Przeładunkowe</td>\n",
              "    </tr>\n",
              "    <tr>\n",
              "      <th>9997</th>\n",
              "      <td>9997</td>\n",
              "      <td>PLGDN</td>\n",
              "      <td>2019-12-04 00:00:00</td>\n",
              "      <td>12:00:00</td>\n",
              "      <td>ZZUKN</td>\n",
              "      <td>ADVANTAGE SUMMER</td>\n",
              "      <td>Marshall Islands</td>\n",
              "      <td>9419890.0</td>\n",
              "      <td>V7EW8</td>\n",
              "      <td>83805</td>\n",
              "      <td>274.00</td>\n",
              "      <td>OKMARIT Ltd</td>\n",
              "      <td>BPPP Stanowisko T</td>\n",
              "    </tr>\n",
              "    <tr>\n",
              "      <th>9998</th>\n",
              "      <td>9998</td>\n",
              "      <td>PLGDN</td>\n",
              "      <td>2019-04-13 00:00:00</td>\n",
              "      <td>12:15:00</td>\n",
              "      <td>LVRIX</td>\n",
              "      <td>BALTIC SHEARWATER</td>\n",
              "      <td>Cyprus</td>\n",
              "      <td>9313228.0</td>\n",
              "      <td>5BSD4</td>\n",
              "      <td>16324</td>\n",
              "      <td>169.00</td>\n",
              "      <td>Cosco Shipping Lines (Poland) Sp. z o.o.</td>\n",
              "      <td>DCT -Przeładunkowe</td>\n",
              "    </tr>\n",
              "    <tr>\n",
              "      <th>9999</th>\n",
              "      <td>9999</td>\n",
              "      <td>PLGDN</td>\n",
              "      <td>2019-04-13 00:00:00</td>\n",
              "      <td>08:30:00</td>\n",
              "      <td>PLGDY</td>\n",
              "      <td>EXPANSA</td>\n",
              "      <td>Antigua and Barbuda</td>\n",
              "      <td>9429261.0</td>\n",
              "      <td>V2QJ7</td>\n",
              "      <td>9983</td>\n",
              "      <td>140.70</td>\n",
              "      <td>UNIFEEDER A/S S.A. O. W POLSCE</td>\n",
              "      <td>DCT -Przeładunkowe</td>\n",
              "    </tr>\n",
              "  </tbody>\n",
              "</table>\n",
              "<p>10000 rows × 13 columns</p>\n",
              "</div>"
            ],
            "text/plain": [
              "      index  ... Nabrzeże (miejsce zacumowania)\n",
              "0         0  ...          NAB. SZCZECIŃSKIE GTK\n",
              "1         1  ...                   WESTERPLATTE\n",
              "2         2  ...          PRZEMYSŁOWE / WIŚLANE\n",
              "3         3  ...       OBROŃCÓW POCZTY POLSKIEJ\n",
              "4         4  ...                   WESTERPLATTE\n",
              "...     ...  ...                            ...\n",
              "9995   9995  ...             DCT -Przeładunkowe\n",
              "9996   9996  ...             DCT -Przeładunkowe\n",
              "9997   9997  ...              BPPP Stanowisko T\n",
              "9998   9998  ...             DCT -Przeładunkowe\n",
              "9999   9999  ...             DCT -Przeładunkowe\n",
              "\n",
              "[10000 rows x 13 columns]"
            ]
          },
          "metadata": {
            "tags": []
          },
          "execution_count": 135
        }
      ]
    },
    {
      "cell_type": "code",
      "metadata": {
        "id": "zERBKMv84CIs"
      },
      "source": [
        "najkrotsze = pd.read_sql(\"SELECT Bandera, AVG(dlugosc) AS avg_dl FROM bd3 GROUP BY Bandera ORDER BY avg_dl  LIMIT 10\",bdsql)\r\n"
      ],
      "execution_count": null,
      "outputs": []
    },
    {
      "cell_type": "code",
      "metadata": {
        "colab": {
          "base_uri": "https://localhost:8080/",
          "height": 363
        },
        "id": "Artp2RoL7O87",
        "outputId": "d1b9bea2-40b6-497c-ef31-3ad78cdcb09a"
      },
      "source": [
        "najkrotsze"
      ],
      "execution_count": null,
      "outputs": [
        {
          "output_type": "execute_result",
          "data": {
            "text/html": [
              "<div>\n",
              "<style scoped>\n",
              "    .dataframe tbody tr th:only-of-type {\n",
              "        vertical-align: middle;\n",
              "    }\n",
              "\n",
              "    .dataframe tbody tr th {\n",
              "        vertical-align: top;\n",
              "    }\n",
              "\n",
              "    .dataframe thead th {\n",
              "        text-align: right;\n",
              "    }\n",
              "</style>\n",
              "<table border=\"1\" class=\"dataframe\">\n",
              "  <thead>\n",
              "    <tr style=\"text-align: right;\">\n",
              "      <th></th>\n",
              "      <th>Bandera</th>\n",
              "      <th>avg_dl</th>\n",
              "    </tr>\n",
              "  </thead>\n",
              "  <tbody>\n",
              "    <tr>\n",
              "      <th>0</th>\n",
              "      <td>Cook Islands</td>\n",
              "      <td>28.000000</td>\n",
              "    </tr>\n",
              "    <tr>\n",
              "      <th>1</th>\n",
              "      <td>Cambodia</td>\n",
              "      <td>38.910000</td>\n",
              "    </tr>\n",
              "    <tr>\n",
              "      <th>2</th>\n",
              "      <td>Honduras</td>\n",
              "      <td>52.152000</td>\n",
              "    </tr>\n",
              "    <tr>\n",
              "      <th>3</th>\n",
              "      <td>Poland</td>\n",
              "      <td>56.125216</td>\n",
              "    </tr>\n",
              "    <tr>\n",
              "      <th>4</th>\n",
              "      <td>Anguilla</td>\n",
              "      <td>73.660000</td>\n",
              "    </tr>\n",
              "    <tr>\n",
              "      <th>5</th>\n",
              "      <td>Barbados</td>\n",
              "      <td>79.752000</td>\n",
              "    </tr>\n",
              "    <tr>\n",
              "      <th>6</th>\n",
              "      <td>Saint Vincent and the Grenadines</td>\n",
              "      <td>86.727500</td>\n",
              "    </tr>\n",
              "    <tr>\n",
              "      <th>7</th>\n",
              "      <td>Belize</td>\n",
              "      <td>87.082500</td>\n",
              "    </tr>\n",
              "    <tr>\n",
              "      <th>8</th>\n",
              "      <td>Latvia</td>\n",
              "      <td>94.474000</td>\n",
              "    </tr>\n",
              "    <tr>\n",
              "      <th>9</th>\n",
              "      <td>Georgia</td>\n",
              "      <td>100.350000</td>\n",
              "    </tr>\n",
              "  </tbody>\n",
              "</table>\n",
              "</div>"
            ],
            "text/plain": [
              "                            Bandera      avg_dl\n",
              "0                      Cook Islands   28.000000\n",
              "1                          Cambodia   38.910000\n",
              "2                          Honduras   52.152000\n",
              "3                            Poland   56.125216\n",
              "4                          Anguilla   73.660000\n",
              "5                          Barbados   79.752000\n",
              "6  Saint Vincent and the Grenadines   86.727500\n",
              "7                            Belize   87.082500\n",
              "8                            Latvia   94.474000\n",
              "9                           Georgia  100.350000"
            ]
          },
          "metadata": {
            "tags": []
          },
          "execution_count": 137
        }
      ]
    },
    {
      "cell_type": "code",
      "metadata": {
        "colab": {
          "base_uri": "https://localhost:8080/",
          "height": 363
        },
        "id": "vFkZPNvZ7slt",
        "outputId": "355cadbc-a995-4a5f-e23c-3fba209c1c64"
      },
      "source": [
        "pojemnosc = pd.read_sql(\"SELECT Bandera, AVG(pojemnosc_brutto)AS avg_poj FROM bd3 GROUP BY Bandera ORDER BY avg_poj LIMIT 10 \",bdsql)\r\n",
        "pojemnosc"
      ],
      "execution_count": null,
      "outputs": [
        {
          "output_type": "execute_result",
          "data": {
            "text/html": [
              "<div>\n",
              "<style scoped>\n",
              "    .dataframe tbody tr th:only-of-type {\n",
              "        vertical-align: middle;\n",
              "    }\n",
              "\n",
              "    .dataframe tbody tr th {\n",
              "        vertical-align: top;\n",
              "    }\n",
              "\n",
              "    .dataframe thead th {\n",
              "        text-align: right;\n",
              "    }\n",
              "</style>\n",
              "<table border=\"1\" class=\"dataframe\">\n",
              "  <thead>\n",
              "    <tr style=\"text-align: right;\">\n",
              "      <th></th>\n",
              "      <th>Bandera</th>\n",
              "      <th>avg_poj</th>\n",
              "    </tr>\n",
              "  </thead>\n",
              "  <tbody>\n",
              "    <tr>\n",
              "      <th>0</th>\n",
              "      <td>Cook Islands</td>\n",
              "      <td>186.000000</td>\n",
              "    </tr>\n",
              "    <tr>\n",
              "      <th>1</th>\n",
              "      <td>Cambodia</td>\n",
              "      <td>518.000000</td>\n",
              "    </tr>\n",
              "    <tr>\n",
              "      <th>2</th>\n",
              "      <td>Honduras</td>\n",
              "      <td>661.000000</td>\n",
              "    </tr>\n",
              "    <tr>\n",
              "      <th>3</th>\n",
              "      <td>Anguilla</td>\n",
              "      <td>1162.000000</td>\n",
              "    </tr>\n",
              "    <tr>\n",
              "      <th>4</th>\n",
              "      <td>Barbados</td>\n",
              "      <td>1247.000000</td>\n",
              "    </tr>\n",
              "    <tr>\n",
              "      <th>5</th>\n",
              "      <td>Georgia</td>\n",
              "      <td>2077.000000</td>\n",
              "    </tr>\n",
              "    <tr>\n",
              "      <th>6</th>\n",
              "      <td>Belize</td>\n",
              "      <td>2814.916667</td>\n",
              "    </tr>\n",
              "    <tr>\n",
              "      <th>7</th>\n",
              "      <td>Poland</td>\n",
              "      <td>3039.984375</td>\n",
              "    </tr>\n",
              "    <tr>\n",
              "      <th>8</th>\n",
              "      <td>Saint Vincent and the Grenadines</td>\n",
              "      <td>3054.781250</td>\n",
              "    </tr>\n",
              "    <tr>\n",
              "      <th>9</th>\n",
              "      <td>Latvia</td>\n",
              "      <td>5167.200000</td>\n",
              "    </tr>\n",
              "  </tbody>\n",
              "</table>\n",
              "</div>"
            ],
            "text/plain": [
              "                            Bandera      avg_poj\n",
              "0                      Cook Islands   186.000000\n",
              "1                          Cambodia   518.000000\n",
              "2                          Honduras   661.000000\n",
              "3                          Anguilla  1162.000000\n",
              "4                          Barbados  1247.000000\n",
              "5                           Georgia  2077.000000\n",
              "6                            Belize  2814.916667\n",
              "7                            Poland  3039.984375\n",
              "8  Saint Vincent and the Grenadines  3054.781250\n",
              "9                            Latvia  5167.200000"
            ]
          },
          "metadata": {
            "tags": []
          },
          "execution_count": 138
        }
      ]
    },
    {
      "cell_type": "code",
      "metadata": {
        "id": "CxLffx91_lTg"
      },
      "source": [
        ""
      ],
      "execution_count": null,
      "outputs": []
    }
  ]
}
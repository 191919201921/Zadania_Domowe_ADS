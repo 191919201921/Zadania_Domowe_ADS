{
  "nbformat": 4,
  "nbformat_minor": 0,
  "metadata": {
    "colab": {
      "name": "Kopia notatnika M4MORE-WIZUALIZACJA-PYTHON.ipynb",
      "provenance": [],
      "collapsed_sections": [
        "X5svsRlc8V7w",
        "0dG-lOop8z3Q",
        "XTMbJ4iKAA52",
        "SD1CD8YRBtU0",
        "EUojHss_EYVO",
        "8ELTRoYPFHry",
        "GVDj07ZKMh7e",
        "gwDux0tmPXaj",
        "CjOoKj7BQafT",
        "YYBO21UuJO46",
        "g8YFAxS7JWXO",
        "YtFCOT4h-tv0",
        "4lQ7KeUGCRRt",
        "rqCFO1SQCNd-",
        "MD-8qWlJCNd-",
        "JqCKdwjHCWaA",
        "jnPPvmuhCWaA"
      ],
      "toc_visible": true,
      "include_colab_link": true
    },
    "kernelspec": {
      "name": "python3",
      "display_name": "Python 3"
    }
  },
  "cells": [
    {
      "cell_type": "markdown",
      "metadata": {
        "id": "view-in-github",
        "colab_type": "text"
      },
      "source": [
        "<a href=\"https://colab.research.google.com/github/191919201921/Zadania_Domowe_ADS/blob/main/Kopia_notatnika_M4MORE_WIZUALIZACJA_PYTHON.ipynb\" target=\"_parent\"><img src=\"https://colab.research.google.com/assets/colab-badge.svg\" alt=\"Open In Colab\"/></a>"
      ]
    },
    {
      "cell_type": "markdown",
      "metadata": {
        "id": "NKvwJ-9J8KMV"
      },
      "source": [
        "**Praktyczne zadania - Podstawy wizualizacji danych w Python**\n"
      ]
    },
    {
      "cell_type": "markdown",
      "metadata": {
        "id": "O4Ni4oos8Kyo"
      },
      "source": [
        "# Zadanie 1\n"
      ]
    },
    {
      "cell_type": "markdown",
      "metadata": {
        "id": "_8iNHBPU8Z_A"
      },
      "source": [
        "Stwórz wykres liniowy przedstawiający PKB (oś y) w latach (oś x) z danych wypisanych poniżej.\n",
        "\n",
        "1. Wykorzystaj matplotlib.\n",
        "\n",
        "2. Dodaj tytuł wykresu.\n",
        "\n",
        "3. Dodaj tytuł osi y."
      ]
    },
    {
      "cell_type": "code",
      "metadata": {
        "id": "JpbWO6CQ8rSc"
      },
      "source": [
        "import matplotlib.pyplot as plt\n",
        "lata = [1960, 1970, 1980, 1990, 2000, 2010]\n",
        "PKB = [300.2, 543.3, 1075.9, 2862.5, 5979.6, 14958.3]"
      ],
      "execution_count": null,
      "outputs": []
    },
    {
      "cell_type": "code",
      "metadata": {
        "colab": {
          "base_uri": "https://localhost:8080/",
          "height": 299
        },
        "id": "YyV_kin-WSth",
        "outputId": "1b6f4e4f-73a2-4362-9d73-63d6cbea36d2"
      },
      "source": [
        "plt.plot(lata,PKB)\r\n",
        "plt.title(\"PKB na rok\")\r\n",
        "plt.ylabel(\"Wysokość PKB\")"
      ],
      "execution_count": null,
      "outputs": [
        {
          "output_type": "execute_result",
          "data": {
            "text/plain": [
              "Text(0, 0.5, 'Wysokość PKB')"
            ]
          },
          "metadata": {
            "tags": []
          },
          "execution_count": 4
        },
        {
          "output_type": "display_data",
          "data": {
            "image/png": "[encoded data removed]",
            "text/plain": [
              "<Figure size 432x288 with 1 Axes>"
            ]
          },
          "metadata": {
            "tags": [],
            "needs_background": "light"
          }
        }
      ]
    },
    {
      "cell_type": "markdown",
      "metadata": {
        "id": "X5svsRlc8V7w"
      },
      "source": [
        "## Podpowiedzi\n"
      ]
    },
    {
      "cell_type": "code",
      "metadata": {
        "id": "1zmk1Msu75hF"
      },
      "source": [
        "#każdy wykres wymaga zadefiniowania danych do wizualizacji\n",
        "lata = [1960, 1970, 1980, 1990, 2000, 2010]\n",
        "PKB = [300.2, 543.3, 1075.9, 2862.5, 5979.6, 14958.3]\n",
        "#w matplotlib.pyplot instancję wykresu tworzy się za pomocą plt.plot . Jako parametry podaje się dane do osi x, y, kolor, styl linii, marker itd.\n",
        "#tytuł wykresu nadaje się za pomocą funkcji plt.title()\n",
        "#tytuł poszczególnych osi nadaje się za pomocą funkcji plt.ylabel()\n",
        "#wyświetlenie wykresu następuje za pomocą funkcji plt.show()"
      ],
      "execution_count": null,
      "outputs": []
    },
    {
      "cell_type": "markdown",
      "metadata": {
        "id": "0dG-lOop8z3Q"
      },
      "source": [
        "## Podpowiedzi + rozwiązanie"
      ]
    },
    {
      "cell_type": "code",
      "metadata": {
        "id": "Bx3Orjtl87MU",
        "colab": {
          "base_uri": "https://localhost:8080/",
          "height": 281
        },
        "outputId": "e63db0ff-a839-4c3b-dca7-78c55bcd1f18"
      },
      "source": [
        "import matplotlib.pyplot as plt\n",
        "\n",
        "#każdy wykres wymaga zadefiniowania danych do wizualizacji\n",
        "lata = [1960, 1970, 1980, 1990, 2000, 2010]\n",
        "PKB = [300.2, 543.3, 1075.9, 2862.5, 5979.6, 14958.3]\n",
        "\n",
        "#w matplotlib.pyplot instancję wykresu tworzy się za pomocą plt.plot . Jako parametry podaje się dane do osi x, y, kolor, styl linii, marker itd.\n",
        "plt.plot(lata, PKB, color = \"blue\", marker = \"o\", linestyle = \"solid\")\n",
        "\n",
        "#tytuł wykresu nadaje się za pomocą funkcji plt.title()\n",
        "plt.title(\"PKB\")\n",
        "\n",
        "#tytuł poszczególnych osi nadaje się za pomocą funkcji plt.ylabel()\n",
        "plt.ylabel(\"Mld USD\")\n",
        "\n",
        "#wyświetlenie wykresu następuje za pomocą funkcji plt.show()\n",
        "plt.show()"
      ],
      "execution_count": null,
      "outputs": [
        {
          "output_type": "display_data",
          "data": {
            "image/png": "[encoded data removed]",
            "text/plain": [
              "<Figure size 432x288 with 1 Axes>"
            ]
          },
          "metadata": {
            "tags": [],
            "needs_background": "light"
          }
        }
      ]
    },
    {
      "cell_type": "markdown",
      "metadata": {
        "id": "r75hDuVh_VVL"
      },
      "source": [
        "#Zadanie 2"
      ]
    },
    {
      "cell_type": "markdown",
      "metadata": {
        "id": "3AsIJHUe_Yqu"
      },
      "source": [
        "Wykres słupkowy nadaje się do pokazywania różnic pomiędzy wielkością charakteryzującą kilka elementów. \n",
        "\n",
        "1. Stwórz wykres słupkowy pokazujący liczbę Oskarów przez wypisane filmy. \n",
        "\n",
        "2. Stwórz słupki o współrzędnych x [0,1,2,3,4] i wysokości ilosc_oskarow. Dodaj tytuł wykresu.\n",
        "\n",
        "3. Na osi x umieść etykietę w postaci tytułów filmów i je wyśrodkuj."
      ]
    },
    {
      "cell_type": "code",
      "metadata": {
        "id": "I1LhTtK0__e5"
      },
      "source": [
        "filmy = [\"Annie Hall\", \"Ben-Hur\", \"Casablanca\", \"Gandhi\", \"West Side Story\"]\n",
        "ilosc_oskarow = [5, 11, 3, 8, 10]"
      ],
      "execution_count": null,
      "outputs": []
    },
    {
      "cell_type": "code",
      "metadata": {
        "colab": {
          "base_uri": "https://localhost:8080/",
          "height": 298
        },
        "id": "whOutaTMXZKS",
        "outputId": "e2ef4494-36e5-451d-dd7a-174938b66580"
      },
      "source": [
        "plt.bar(filmy,ilosc_oskarow)\r\n",
        "plt.xlabel(\"Tytuły filmów\",)\r\n"
      ],
      "execution_count": null,
      "outputs": [
        {
          "output_type": "execute_result",
          "data": {
            "text/plain": [
              "Text(0.5, 0, 'Tytuły filmów')"
            ]
          },
          "metadata": {
            "tags": []
          },
          "execution_count": 7
        },
        {
          "output_type": "display_data",
          "data": {
            "image/png": "[encoded data removed]",
            "text/plain": [
              "<Figure size 432x288 with 1 Axes>"
            ]
          },
          "metadata": {
            "tags": [],
            "needs_background": "light"
          }
        }
      ]
    },
    {
      "cell_type": "markdown",
      "metadata": {
        "id": "XTMbJ4iKAA52"
      },
      "source": [
        "##Podpowiedzi"
      ]
    },
    {
      "cell_type": "code",
      "metadata": {
        "id": "tcQtG67JAELG"
      },
      "source": [
        "filmy = [\"Annie Hall\", \"Ben-Hur\", \"Casablanca\", \"Gandhi\", \"West Side Story\"]\n",
        "ilosc_oskarow = [5, 11, 3, 8, 10]\n",
        "#Wykres słupkowy tworzy się za pomocą funkcji plt.bar(). Przyjmuje ona parametry takie jak numer słupka (najczęściej w formie listy) oraz wartości\n",
        "#Etykiety do elementów osi oznacza się przez wykorzystanie funkcji plt.xticks() "
      ],
      "execution_count": null,
      "outputs": []
    },
    {
      "cell_type": "markdown",
      "metadata": {
        "id": "SD1CD8YRBtU0"
      },
      "source": [
        "##Podpowiedzi + rozwiązanie"
      ]
    },
    {
      "cell_type": "code",
      "metadata": {
        "id": "jWFIVeUkBzNO",
        "colab": {
          "base_uri": "https://localhost:8080/",
          "height": 281
        },
        "outputId": "dd93225c-b163-4dcf-a080-5b1b3ee36482"
      },
      "source": [
        "filmy = [\"Annie Hall\", \"Ben-Hur\", \"Casablanca\", \"Gandhi\", \"West Side Story\"]\n",
        "ilosc_oskarow = [5, 11, 3, 8, 10]\n",
        "\n",
        "#Wykres słupkowy tworzy się za pomocą funkcji plt.bar(). Przyjmuje ona parametry takie jak numer słupka (najczęściej w formie listy) oraz wartości\n",
        "plt.bar(range(len(filmy)), ilosc_oskarow)\n",
        "plt.ylabel(\"Liczba nagrod\")\n",
        "plt.title(\"Filmy\")\n",
        "\n",
        "#Etykiety do elementów osi oznacza się przez wykorzystanie funkcji plt.xticks() \n",
        "plt.xticks(range(len(filmy)), filmy)\n",
        "plt.show()"
      ],
      "execution_count": null,
      "outputs": [
        {
          "output_type": "display_data",
          "data": {
            "image/png": "[encoded data removed]",
            "text/plain": [
              "<Figure size 432x288 with 1 Axes>"
            ]
          },
          "metadata": {
            "tags": [],
            "needs_background": "light"
          }
        }
      ]
    },
    {
      "cell_type": "markdown",
      "metadata": {
        "id": "lJ33sgcxEI6c"
      },
      "source": [
        "#Zadanie 3"
      ]
    },
    {
      "cell_type": "markdown",
      "metadata": {
        "id": "WdrxzfOwELK9"
      },
      "source": [
        "Za złą praktykę uważa się tworzenie wykresów z osią Y zaczynającą się od innej wartości niż od 0. Stwórz wykres słupkowy zawierający słupki przedstawiające ilość sprzedaży towaru w latach 2018 i 2019. Wykres skonstruuj tak, aby oś Y zaczynała się od 499.\n",
        "\n",
        "\n"
      ]
    },
    {
      "cell_type": "code",
      "metadata": {
        "id": "23t8r0zgEYps"
      },
      "source": [
        "sprzedaz = [500, 506]\n",
        "lata = [2018, 2019]"
      ],
      "execution_count": null,
      "outputs": []
    },
    {
      "cell_type": "code",
      "metadata": {
        "colab": {
          "base_uri": "https://localhost:8080/",
          "height": 269
        },
        "id": "hY_CaYQ4dy0B",
        "outputId": "6b2a26c0-783a-4d38-ff6c-47a2d06c377f"
      },
      "source": [
        "plt.bar(lata,sprzedaz)\r\n",
        "plt.xticks(lata)\r\n",
        "plt.ticklabel_format(useOffset= False)\r\n",
        "plt.axis([2018,2019,499,508])\r\n",
        "plt.ylabel(\"Sprzedaż\")\r\n",
        "plt.show()"
      ],
      "execution_count": null,
      "outputs": [
        {
          "output_type": "display_data",
          "data": {
            "image/png": "[encoded data removed]",
            "text/plain": [
              "<Figure size 432x288 with 1 Axes>"
            ]
          },
          "metadata": {
            "tags": [],
            "needs_background": "light"
          }
        }
      ]
    },
    {
      "cell_type": "markdown",
      "metadata": {
        "id": "EUojHss_EYVO"
      },
      "source": [
        "##Podpowiedzi"
      ]
    },
    {
      "cell_type": "code",
      "metadata": {
        "id": "h6Wqicg5EaqM",
        "colab": {
          "base_uri": "https://localhost:8080/"
        },
        "outputId": "d54f926e-21d1-4888-b3ef-ca26438c0616"
      },
      "source": [
        "sprzedaz = [500, 506]\n",
        "lata = [2018, 2019]\n",
        "#aby zmienić formatowanie ticklabel musisz wykorzystać zapis : plt.ticklabel_format(useOffset = False)\n",
        "plt.ticklabel_format(useOffset = False)\n",
        "#wtedy obszar na którym będzie pokazywany wykres przedstawisz za pomocą podania listy [xmin, xmax, ymin, ymax] jako parametr do funkcji plt.axis()"
      ],
      "execution_count": null,
      "outputs": [
        {
          "output_type": "display_data",
          "data": {
            "image/png": "[encoded data removed]",
            "text/plain": [
              "<Figure size 432x288 with 1 Axes>"
            ]
          },
          "metadata": {
            "tags": [],
            "needs_background": "light"
          }
        }
      ]
    },
    {
      "cell_type": "markdown",
      "metadata": {
        "id": "8ELTRoYPFHry"
      },
      "source": [
        "##Podpowiedzi + rozwiązanie"
      ]
    },
    {
      "cell_type": "code",
      "metadata": {
        "id": "pm8xuBQcFM78",
        "colab": {
          "base_uri": "https://localhost:8080/",
          "height": 281
        },
        "outputId": "91747e45-93d5-4215-e917-42a8642475dc"
      },
      "source": [
        "sprzedaz = [500, 506]\n",
        "lata = [2018, 2019]\n",
        "\n",
        "#budowanie wykresu\n",
        "plt.bar(lata, sprzedaz)\n",
        "\n",
        "#ustalenie tekstowych etykiet\n",
        "plt.xticks(lata)\n",
        "\n",
        "#dodanie tytułu osi Y\n",
        "plt.ylabel(\"Wielkość sprzedaży\")\n",
        "\n",
        "#aby zmienić formatowanie ticklabel musisz wykorzystać zapis : plt.ticklabel_format(useOffset = False)\n",
        "plt.ticklabel_format(useOffset = False)\n",
        "\n",
        "#wtedy obszar na którym będzie pokazywany wykres przedstawisz za pomocą podania listy [xmin, xmax, ymin, ymax] jako parametr do funkcji plt.axis()\n",
        "plt.axis([2017.5, 2019.5, 499, 507])\n",
        "plt.title(\"Ten ogromny wzrost!\")\n",
        "plt.show()"
      ],
      "execution_count": null,
      "outputs": [
        {
          "output_type": "display_data",
          "data": {
            "image/png": "[encoded data removed]",
            "text/plain": [
              "<Figure size 432x288 with 1 Axes>"
            ]
          },
          "metadata": {
            "tags": [],
            "needs_background": "light"
          }
        }
      ]
    },
    {
      "cell_type": "markdown",
      "metadata": {
        "id": "6Udv7WjAHbd5"
      },
      "source": [
        "#Zadanie 4"
      ]
    },
    {
      "cell_type": "markdown",
      "metadata": {
        "id": "WUW_2yOvHeZ3"
      },
      "source": [
        "1. Stwórz wykres punktowy przedstawiający zależność pomiędzy liczbą znajomych użytkownika a czasem, który spędza codziennie w internecie.\n",
        "\n",
        "2. Nadaj etykiety wszystkim punktom na wykresie.\n",
        "\n",
        "\n",
        "\n",
        "\n"
      ]
    },
    {
      "cell_type": "code",
      "metadata": {
        "id": "hO66pZkEMifS"
      },
      "source": [
        "znajomi = [70, 65, 72, 63, 71, 64, 60, 64, 67]\n",
        "minuty = [175,170,205,120,220,130,105,145,190]\n",
        "etykiety = [\"a\", \"b\", \"c\", \"d\", \"e\", \"f\", \"g\", \"h\", \"i\"]"
      ],
      "execution_count": null,
      "outputs": []
    },
    {
      "cell_type": "code",
      "metadata": {
        "colab": {
          "base_uri": "https://localhost:8080/",
          "height": 313
        },
        "id": "xolxye6Bftj2",
        "outputId": "eadd4b14-d491-4dc4-d024-c8e3a99128b8"
      },
      "source": [
        "plt.scatter(znajomi,minuty,marker=\"p\")\r\n",
        "\r\n",
        "n=0\r\n",
        "for etykieta in etykiety:\r\n",
        "  \r\n",
        "  plt.annotate(etykieta,\r\n",
        "              xy = (znajomi[n],minuty[n]),\r\n",
        "              xytext = (5,-5),\r\n",
        "              textcoords = 'offset points')\r\n",
        "  n= n+1\r\n",
        "\r\n",
        "plt.title(\"Czas spedzony w necie vs liczba znajomych\")\r\n",
        "plt.ylabel(\"Czas\")\r\n",
        "plt.xlabel(\"Znajomi\")"
      ],
      "execution_count": null,
      "outputs": [
        {
          "output_type": "execute_result",
          "data": {
            "text/plain": [
              "Text(0.5, 0, 'Znajomi')"
            ]
          },
          "metadata": {
            "tags": []
          },
          "execution_count": 41
        },
        {
          "output_type": "display_data",
          "data": {
            "image/png": "[encoded data removed]",
            "text/plain": [
              "<Figure size 432x288 with 1 Axes>"
            ]
          },
          "metadata": {
            "tags": [],
            "needs_background": "light"
          }
        }
      ]
    },
    {
      "cell_type": "markdown",
      "metadata": {
        "id": "GVDj07ZKMh7e"
      },
      "source": [
        "##Podpowiedzi"
      ]
    },
    {
      "cell_type": "code",
      "metadata": {
        "id": "gEp_0LycMld8",
        "colab": {
          "base_uri": "https://localhost:8080/"
        },
        "outputId": "ffc1dc92-0ad8-4960-8ca7-8fbd5c8ee062"
      },
      "source": [
        "#budowanie wykresu\n",
        "#nadanie etykiet za pomocą pętli for i z wykorzystaniem funkcji zip(etykiety, znajomi, minuty):\n",
        "#Do naniesienia etykiet wykorzystaj funkcję annotate() z parametrami:\n",
        "\"\"\"\n",
        "  plt.annotate(etykieta,\n",
        "               xy=(znajomy, minuta),\n",
        "               xytext= (5, -5), #lekkie przesunięcie\n",
        "               textcoords = 'offset points')\n",
        "\"\"\""
      ],
      "execution_count": null,
      "outputs": [
        {
          "output_type": "execute_result",
          "data": {
            "application/vnd.google.colaboratory.intrinsic+json": {
              "type": "string"
            },
            "text/plain": [
              "\"\\n  plt.annotate(etykieta,\\n               xy=(znajomy, minuta),\\n               xytext= (5, -5), #lekkie przesunięcie\\n               textcoords = 'offset points')\\n\""
            ]
          },
          "metadata": {
            "tags": []
          },
          "execution_count": 12
        }
      ]
    },
    {
      "cell_type": "markdown",
      "metadata": {
        "id": "xvIdu1NmMmQ5"
      },
      "source": [
        "##Podpowiedzi + rozwiązanie"
      ]
    },
    {
      "cell_type": "code",
      "metadata": {
        "id": "LB3k2XlwMtIh",
        "colab": {
          "base_uri": "https://localhost:8080/",
          "height": 296
        },
        "outputId": "7a3b910e-dca4-4f33-a03b-10243d081181"
      },
      "source": [
        "znajomi = [70, 65, 72, 63, 71, 64, 60, 64, 67]\n",
        "minuty = [175,170,205,120,220,130,105,145,190]\n",
        "etykiety = [\"a\", \"b\", \"c\", \"d\", \"e\", \"f\", \"g\", \"h\", \"i\"]\n",
        "\n",
        "#budowanie wykresu\n",
        "plt.scatter(znajomi, minuty)\n",
        "\n",
        "#nadanie etykiet za pomocą pętli for i z wykorzystaniem funkcji zip(etykiety, znajomi, minuty):\n",
        "for etykieta, znajomy, minuta in zip(etykiety, znajomi, minuty):\n",
        "  plt.annotate(etykieta,\n",
        "               xy=(znajomy, minuta),\n",
        "               xytext=(5, -5), #lekkie przesunięcie etykiet na wykresie\n",
        "               textcoords=\"offset points\")\n",
        "plt.title(\"Czas spedzony w internecie na podstawie ilośći znajomych\")\n",
        "plt.xlabel(\"Ilość znajomych\")\n",
        "plt.ylabel(\"Dzienny czas spędzony w internecie\")\n",
        "plt.show()"
      ],
      "execution_count": null,
      "outputs": [
        {
          "output_type": "display_data",
          "data": {
            "image/png": "[encoded data removed]",
            "text/plain": [
              "<Figure size 432x288 with 1 Axes>"
            ]
          },
          "metadata": {
            "tags": [],
            "needs_background": "light"
          }
        }
      ]
    },
    {
      "cell_type": "markdown",
      "metadata": {
        "id": "Sp7X-fK4Rcos"
      },
      "source": [
        ""
      ]
    },
    {
      "cell_type": "markdown",
      "metadata": {
        "id": "ZdZuXqnOOrPp"
      },
      "source": [
        "#Zadanie 5"
      ]
    },
    {
      "cell_type": "markdown",
      "metadata": {
        "id": "glt0uYZtOtfi"
      },
      "source": [
        "1. Wczytaj plik zawierający dane o szkołach publicznych w Chicago. \n",
        "\n",
        "2. Zaimportuj pakiety pandas oraz folium.\n",
        "\n",
        "3. Przeanalizuj plik z danymi.\n",
        "\n",
        "4. Przefiltruj DataFrame : \n",
        "  - po zawartości kolumny [\"Elementary, Middle, or High School\"] == \"HS\" (liceum) \n",
        "  - po kolumnie [\"SAFETY_SCORE\"]. Interesuje Cię top 10 najbezpieczniejszych szkół\n",
        "\n",
        "5. Ustaw centrum mapy na centrum Chicago (USA) oraz parametr zoom_start na 11.\n",
        "\n",
        "6. Stwórz pętlę zaznaczającą na mapie pinezki z wytypowanymi podczas filtrowania DataFrame punktami. Wzbogać pętlę o popup, który po najechaniu myszką na marker pokaże nazwę oraz ID szkoły.\n",
        "\n"
      ]
    },
    {
      "cell_type": "code",
      "metadata": {
        "id": "xF1LNr4ePW8_"
      },
      "source": [
        "import pandas as pd\n",
        "import folium\n",
        "\n",
        "URL = \"https://akademiadatascience.s3-eu-west-1.amazonaws.com/materialy/sds/modul4/Chicago_Public_Schools_-_Progress_Report_Cards__2011-2012-v3.csv\""
      ],
      "execution_count": null,
      "outputs": []
    },
    {
      "cell_type": "code",
      "metadata": {
        "id": "M_zomAFOmKHt"
      },
      "source": [
        "dane = pd.read_csv(URL)\r\n",
        "dane.head()"
      ],
      "execution_count": null,
      "outputs": []
    },
    {
      "cell_type": "code",
      "metadata": {
        "id": "LQVzQZwqmxo7"
      },
      "source": [
        "dane1 = dane[(dane[\"Elementary, Middle, or High School\"] == \"HS\")]\r\n",
        "dane1.head()"
      ],
      "execution_count": null,
      "outputs": []
    },
    {
      "cell_type": "code",
      "metadata": {
        "id": "jNmyy3-Ap2f6",
        "colab": {
          "base_uri": "https://localhost:8080/",
          "height": 240
        },
        "outputId": "44d12680-feb2-4e54-9ed8-6ff183dd575d"
      },
      "source": [
        "dane2 = dane1.sort_values(\"SAFETY_SCORE\",ascending=False)\r\n",
        "safe_schools = dane2.head(10).reset_index()\r\n",
        "safe_schools.head(1)"
      ],
      "execution_count": null,
      "outputs": [
        {
          "output_type": "execute_result",
          "data": {
            "text/html": [
              "<div>\n",
              "<style scoped>\n",
              "    .dataframe tbody tr th:only-of-type {\n",
              "        vertical-align: middle;\n",
              "    }\n",
              "\n",
              "    .dataframe tbody tr th {\n",
              "        vertical-align: top;\n",
              "    }\n",
              "\n",
              "    .dataframe thead th {\n",
              "        text-align: right;\n",
              "    }\n",
              "</style>\n",
              "<table border=\"1\" class=\"dataframe\">\n",
              "  <thead>\n",
              "    <tr style=\"text-align: right;\">\n",
              "      <th></th>\n",
              "      <th>index</th>\n",
              "      <th>School ID</th>\n",
              "      <th>NAME_OF_SCHOOL</th>\n",
              "      <th>Elementary, Middle, or High School</th>\n",
              "      <th>Street Address</th>\n",
              "      <th>City</th>\n",
              "      <th>State</th>\n",
              "      <th>ZIP Code</th>\n",
              "      <th>Phone Number</th>\n",
              "      <th>Link</th>\n",
              "      <th>Network Manager</th>\n",
              "      <th>Collaborative Name</th>\n",
              "      <th>Adequate Yearly Progress Made?</th>\n",
              "      <th>Track Schedule</th>\n",
              "      <th>CPS Performance Policy Status</th>\n",
              "      <th>CPS Performance Policy Level</th>\n",
              "      <th>HEALTHY_SCHOOL_CERTIFIED</th>\n",
              "      <th>Safety Icon</th>\n",
              "      <th>SAFETY_SCORE</th>\n",
              "      <th>Family Involvement Icon</th>\n",
              "      <th>Family Involvement Score</th>\n",
              "      <th>Environment Icon</th>\n",
              "      <th>Environment Score</th>\n",
              "      <th>Instruction Icon</th>\n",
              "      <th>Instruction Score</th>\n",
              "      <th>Leaders Icon</th>\n",
              "      <th>Leaders Score</th>\n",
              "      <th>Teachers Icon</th>\n",
              "      <th>Teachers Score</th>\n",
              "      <th>Parent Engagement Icon</th>\n",
              "      <th>Parent Engagement Score</th>\n",
              "      <th>Parent Environment Icon</th>\n",
              "      <th>Parent Environment Score</th>\n",
              "      <th>AVERAGE_STUDENT_ATTENDANCE</th>\n",
              "      <th>Rate of Misconducts (per 100 students)</th>\n",
              "      <th>Average Teacher Attendance</th>\n",
              "      <th>Individualized Education Program Compliance Rate</th>\n",
              "      <th>Pk-2 Literacy %</th>\n",
              "      <th>Pk-2 Math %</th>\n",
              "      <th>Gr3-5 Grade Level Math %</th>\n",
              "      <th>Gr3-5 Grade Level Read %</th>\n",
              "      <th>Gr3-5 Keep Pace Read %</th>\n",
              "      <th>Gr3-5 Keep Pace Math %</th>\n",
              "      <th>Gr6-8 Grade Level Math %</th>\n",
              "      <th>Gr6-8 Grade Level Read %</th>\n",
              "      <th>Gr6-8 Keep Pace Math%</th>\n",
              "      <th>Gr6-8 Keep Pace Read %</th>\n",
              "      <th>Gr-8 Explore Math %</th>\n",
              "      <th>Gr-8 Explore Read %</th>\n",
              "      <th>ISAT Exceeding Math %</th>\n",
              "      <th>ISAT Exceeding Reading %</th>\n",
              "      <th>ISAT Value Add Math</th>\n",
              "      <th>ISAT Value Add Read</th>\n",
              "      <th>ISAT Value Add Color Math</th>\n",
              "      <th>ISAT Value Add Color Read</th>\n",
              "      <th>Students Taking  Algebra %</th>\n",
              "      <th>Students Passing  Algebra %</th>\n",
              "      <th>9th Grade EXPLORE (2009)</th>\n",
              "      <th>9th Grade EXPLORE (2010)</th>\n",
              "      <th>10th Grade PLAN (2009)</th>\n",
              "      <th>10th Grade PLAN (2010)</th>\n",
              "      <th>Net Change EXPLORE and PLAN</th>\n",
              "      <th>11th Grade Average ACT (2011)</th>\n",
              "      <th>Net Change PLAN and ACT</th>\n",
              "      <th>College Eligibility %</th>\n",
              "      <th>Graduation Rate %</th>\n",
              "      <th>College Enrollment Rate %</th>\n",
              "      <th>COLLEGE_ENROLLMENT</th>\n",
              "      <th>General Services Route</th>\n",
              "      <th>Freshman on Track Rate %</th>\n",
              "      <th>X_COORDINATE</th>\n",
              "      <th>Y_COORDINATE</th>\n",
              "      <th>Latitude</th>\n",
              "      <th>Longitude</th>\n",
              "      <th>COMMUNITY_AREA_NUMBER</th>\n",
              "      <th>COMMUNITY_AREA_NAME</th>\n",
              "      <th>Ward</th>\n",
              "      <th>Police District</th>\n",
              "      <th>Location</th>\n",
              "    </tr>\n",
              "  </thead>\n",
              "  <tbody>\n",
              "    <tr>\n",
              "      <th>0</th>\n",
              "      <td>408</td>\n",
              "      <td>609749</td>\n",
              "      <td>Northside College Preparatory High School</td>\n",
              "      <td>HS</td>\n",
              "      <td>5501 N Kedzie Ave</td>\n",
              "      <td>Chicago</td>\n",
              "      <td>IL</td>\n",
              "      <td>60625</td>\n",
              "      <td>(773) 534-3954</td>\n",
              "      <td>http://schoolreports.cps.edu/SchoolProgressRep...</td>\n",
              "      <td>North-Northwest Side High School Network</td>\n",
              "      <td>NORTH-NORTHWEST SIDE COLLABORATIVE</td>\n",
              "      <td>Yes</td>\n",
              "      <td>Standard</td>\n",
              "      <td>Not on Probation</td>\n",
              "      <td>Level 1</td>\n",
              "      <td>No</td>\n",
              "      <td>Very Strong</td>\n",
              "      <td>99.0</td>\n",
              "      <td>NDA</td>\n",
              "      <td>NDA</td>\n",
              "      <td>Very Strong</td>\n",
              "      <td>99.0</td>\n",
              "      <td>Very Strong</td>\n",
              "      <td>88.0</td>\n",
              "      <td>NDA</td>\n",
              "      <td>NDA</td>\n",
              "      <td>NDA</td>\n",
              "      <td>NDA</td>\n",
              "      <td>Strong</td>\n",
              "      <td>57</td>\n",
              "      <td>Strong</td>\n",
              "      <td>62</td>\n",
              "      <td>95.70%</td>\n",
              "      <td>2.8</td>\n",
              "      <td>96.80%</td>\n",
              "      <td>98.40%</td>\n",
              "      <td>NDA</td>\n",
              "      <td>NDA</td>\n",
              "      <td>NDA</td>\n",
              "      <td>NDA</td>\n",
              "      <td>NDA</td>\n",
              "      <td>NDA</td>\n",
              "      <td>NDA</td>\n",
              "      <td>NDA</td>\n",
              "      <td>NDA</td>\n",
              "      <td>NDA</td>\n",
              "      <td>NDA</td>\n",
              "      <td>NDA</td>\n",
              "      <td>NaN</td>\n",
              "      <td>NaN</td>\n",
              "      <td>NaN</td>\n",
              "      <td>NaN</td>\n",
              "      <td>NDA</td>\n",
              "      <td>NDA</td>\n",
              "      <td>NDA</td>\n",
              "      <td>NDA</td>\n",
              "      <td>22.4</td>\n",
              "      <td>22.2</td>\n",
              "      <td>24.5</td>\n",
              "      <td>24.7</td>\n",
              "      <td>2.3</td>\n",
              "      <td>28.8</td>\n",
              "      <td>4.3</td>\n",
              "      <td>98</td>\n",
              "      <td>97.6</td>\n",
              "      <td>90.7</td>\n",
              "      <td>1053</td>\n",
              "      <td>31</td>\n",
              "      <td>95.9</td>\n",
              "      <td>1154090.859</td>\n",
              "      <td>1936413.866</td>\n",
              "      <td>41.981352</td>\n",
              "      <td>-87.708672</td>\n",
              "      <td>13</td>\n",
              "      <td>NORTH PARK</td>\n",
              "      <td>40</td>\n",
              "      <td>17</td>\n",
              "      <td>(41.98135196, -87.70867192)</td>\n",
              "    </tr>\n",
              "  </tbody>\n",
              "</table>\n",
              "</div>"
            ],
            "text/plain": [
              "   index  School ID  ... Police District                     Location\n",
              "0    408     609749  ...              17  (41.98135196, -87.70867192)\n",
              "\n",
              "[1 rows x 79 columns]"
            ]
          },
          "metadata": {
            "tags": []
          },
          "execution_count": 110
        }
      ]
    },
    {
      "cell_type": "code",
      "metadata": {
        "colab": {
          "base_uri": "https://localhost:8080/",
          "height": 36
        },
        "id": "-FGYCUqh4FNy",
        "outputId": "4cda1dd1-e372-4b76-96f4-d8cd78969cbb"
      },
      "source": [
        "safe_schools['NAME_OF_SCHOOL'][0]"
      ],
      "execution_count": null,
      "outputs": [
        {
          "output_type": "execute_result",
          "data": {
            "application/vnd.google.colaboratory.intrinsic+json": {
              "type": "string"
            },
            "text/plain": [
              "'Northside College Preparatory High School'"
            ]
          },
          "metadata": {
            "tags": []
          },
          "execution_count": 105
        }
      ]
    },
    {
      "cell_type": "code",
      "metadata": {
        "id": "4KnNj3vUwJ-h"
      },
      "source": [
        "chicago_szkoly = folium.Map([41.878699088218596,-87.63581458474437], zoom_start=11)"
      ],
      "execution_count": null,
      "outputs": []
    },
    {
      "cell_type": "code",
      "metadata": {
        "id": "S45BpMOYximx"
      },
      "source": [
        "for x in range(0,len(safe_schools)):\r\n",
        "  folium.Marker([safe_schools[\"Latitude\"][x],safe_schools['Longitude'][x]],\r\n",
        "                tooltip = safe_schools[\"NAME_OF_SCHOOL\"][x],\r\n",
        "                popup = str(\"School ID: \" + str(safe_schools[\"School ID\"][x]))\r\n",
        "                ).add_to(chicago_szkoly)\r\n",
        "                "
      ],
      "execution_count": null,
      "outputs": []
    },
    {
      "cell_type": "code",
      "metadata": {
        "id": "J8UXD2HlyLl3"
      },
      "source": [
        "chicago_szkoly"
      ],
      "execution_count": null,
      "outputs": []
    },
    {
      "cell_type": "markdown",
      "metadata": {
        "id": "gwDux0tmPXaj"
      },
      "source": [
        "##Podpowiedzi\n"
      ]
    },
    {
      "cell_type": "code",
      "metadata": {
        "id": "8JkZXE2jPZR9"
      },
      "source": [
        "import pandas as pd\n",
        "import folium\n",
        "\n",
        "URL = \"https://akademiadatascience.s3-eu-west-1.amazonaws.com/materialy/sds/modul4/Chicago_Public_Schools_-_Progress_Report_Cards__2011-2012-v3.csv\"\n",
        "#wydobycie niezbędnych danych - wykorzystaj filtrowanie DataFrame przez samą siebie (z warunkami logicznymi)\n",
        "#poszukiwanie szkoły średniej\n",
        "\n",
        "#Aby wyświetlić top10, wykorzystaj filtrowanie DataFrame jak wyżej oraz funkcje sort_values(parametr ascending zależnie czy chcesz mieć top10 czy bottom10) oraz funkcję head(x), gdzie x to ilość wpisów które chcesz zachować. \n",
        "#nie zapomnij zresetować indeksu\n",
        "\n",
        "#Stworzenie mapy Chicago + centrowanie na danej lokalizacji. \n",
        "\n",
        "#Skończona ilość punktów - warto więc wykorzystać pętlę for\n",
        "#Warto aby brzmiała: dla każdego punktu w moim top10 DataFrame : opisz tooltip, następnie stwórz folium.Marker, którego parametrami (argumentami) są : koordynaty geograficzne Latitude i Longitude dla konkretnego wiersza DataFrame\n",
        "#A każdy Marker powinien zawierać popup, który w formacie string ma pokazać nazwę szkoły (dla konkretnego wiersza DataFrame) oraz jej ID (również dla konkretnego wiersza). Pętlę zakończ .add_to(map) . na samym końcu ją wywołaj - wystarczy wpisać w nową linijkę\n",
        "#map"
      ],
      "execution_count": null,
      "outputs": []
    },
    {
      "cell_type": "markdown",
      "metadata": {
        "id": "CjOoKj7BQafT"
      },
      "source": [
        "##Podpowiedzi + rozwiązanie\n"
      ]
    },
    {
      "cell_type": "code",
      "metadata": {
        "id": "shuORwtAQczR",
        "colab": {
          "base_uri": "https://localhost:8080/",
          "height": 843
        },
        "outputId": "34ad0643-fd84-4cbd-e9e6-0ae2d3a67ca1"
      },
      "source": [
        "import pandas as pd\n",
        "import folium\n",
        "\n",
        "URL = \"https://akademiadatascience.s3-eu-west-1.amazonaws.com/materialy/sds/modul4/Chicago_Public_Schools_-_Progress_Report_Cards__2011-2012-v3.csv\"\n",
        "df = pd.read_csv(URL)\n",
        "\n",
        "#wydobycie niezbędnych danych - wykorzystaj filtrowanie DataFrame przez samą siebie (z warunkami logicznymi)\n",
        "#poszukiwanie szkoły średniej\n",
        "df_grouped = df[df[\"Elementary, Middle, or High School\"] == \"HS\"].reset_index()\n",
        "\n",
        "#Aby wyświetlić top10, wykorzystaj filtrowanie DataFrame jak wyżej oraz funkcje sort_values(parametr ascending zależnie czy chcesz mieć top10 czy bottom10) oraz funkcję head(x), gdzie x to ilość wpisów które chcesz zachować. \n",
        "#nie zapomnij zresetować indeksu\n",
        "df_top10 = df_grouped.sort_values(by = \"SAFETY_SCORE\", ascending = False).head(10).reset_index()\n",
        "\n",
        "#Stworzenie mapy Chicago + centrowanie na danej lokalizacji. \n",
        "map = folium.Map(location = [41.861327, -87.686891], zoom_start = 11) \n",
        "\n",
        "#Skończona ilość punktów - warto więc wykorzystać pętlę for\n",
        "#Warto aby brzmiała: dla każdego punktu w moim top10 DataFrame : opisz tooltip, następnie stwórz folium.Marker, którego parametrami (argumentami) są : koordynaty geograficzne Latitude i Longitude dla konkretnego wiersza DataFrame\n",
        "#A każdy Marker powinien zawierać popup, który w formacie string ma pokazać nazwę szkoły (dla konkretnego wiersza DataFrame) oraz jej ID (również dla konkretnego wiersza). Pętlę zakończ .add_to(map) . na samym końcu ją wywołaj - wystarczy wpisać w nową linijkę\n",
        "#map\n",
        "for point in range(0, len(df_top10)):\n",
        "    tooltip = df_top10[\"NAME_OF_SCHOOL\"][point]\n",
        "    folium.Marker([df_top10[\"Latitude\"][point], df_top10[\"Longitude\"][point]], \n",
        "              popup = str(df_top10[\"NAME_OF_SCHOOL\"][point]) + \", SCHOOL ID: \" + str(df_top10[\"School ID\"][point]), \n",
        "              tooltip = tooltip).add_to(map)\n",
        "map\n"
      ],
      "execution_count": null,
      "outputs": [
        {
          "output_type": "execute_result",
          "data": {
            "text/html": [
              "<div style=\"width:100%;\"><div style=\"position:relative;width:100%;height:0;padding-bottom:60%;\"><span style=\"color:#565656\">Make this Notebook Trusted to load map: File -> Trust Notebook</span><iframe src=\"about:blank\" style=\"position:absolute;width:100%;height:100%;left:0;top:0;border:none !important;\" data-html=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 onload=\"this.contentDocument.open();this.contentDocument.write(atob(this.getAttribute('data-html')));this.contentDocument.close();\" allowfullscreen webkitallowfullscreen mozallowfullscreen></iframe></div></div>"
            ],
            "text/plain": [
              "<folium.folium.Map at 0x7f1a0d8f0198>"
            ]
          },
          "metadata": {
            "tags": []
          },
          "execution_count": 16
        }
      ]
    },
    {
      "cell_type": "markdown",
      "metadata": {
        "id": "63ZsxNUT-kGW"
      },
      "source": [
        "#Zadanie 6\n"
      ]
    },
    {
      "cell_type": "markdown",
      "metadata": {
        "id": "EG_VF5gE-kGW"
      },
      "source": [
        "1. Zaimportuj dane z podanego linka - wskaźniki socjoekonomiczne Chicago.\n",
        "\n",
        "2. Napisz pętlę, która automatycznie stworzy histogramy dla poszczególnych kolumn, za wyjątkiem kolumny \"COMMUNITY_AREA_NAME\" wraz z dodatkowymi opcjami:\n",
        "\n",
        "  - tytuł wykresu zawierający tytuł kolumny oraz string \"Distribution histogram\"\n",
        "  - tytuł osi y: \"Community area count\"\n",
        "  - tytuł osi x: *tytuł kolumny*"
      ]
    },
    {
      "cell_type": "code",
      "metadata": {
        "id": "9EZZ3p7V-kGW"
      },
      "source": [
        "URL = \"https://akademiadatascience.s3-eu-west-1.amazonaws.com/materialy/sds/modul4/Census_Data_-_Selected_socioeconomic_indicators_in_Chicago__2008___2012-v2.csv\""
      ],
      "execution_count": null,
      "outputs": []
    },
    {
      "cell_type": "code",
      "metadata": {
        "colab": {
          "base_uri": "https://localhost:8080/",
          "height": 224
        },
        "id": "7TQt5oFV_KAp",
        "outputId": "bd4ec163-0566-4423-9132-628f19e4c23e"
      },
      "source": [
        "data = pd.read_csv(URL)\r\n",
        "data.head(5)"
      ],
      "execution_count": null,
      "outputs": [
        {
          "output_type": "execute_result",
          "data": {
            "text/html": [
              "<div>\n",
              "<style scoped>\n",
              "    .dataframe tbody tr th:only-of-type {\n",
              "        vertical-align: middle;\n",
              "    }\n",
              "\n",
              "    .dataframe tbody tr th {\n",
              "        vertical-align: top;\n",
              "    }\n",
              "\n",
              "    .dataframe thead th {\n",
              "        text-align: right;\n",
              "    }\n",
              "</style>\n",
              "<table border=\"1\" class=\"dataframe\">\n",
              "  <thead>\n",
              "    <tr style=\"text-align: right;\">\n",
              "      <th></th>\n",
              "      <th>COMMUNITY_AREA_NUMBER</th>\n",
              "      <th>COMMUNITY_AREA_NAME</th>\n",
              "      <th>PERCENT OF HOUSING CROWDED</th>\n",
              "      <th>PERCENT HOUSEHOLDS BELOW POVERTY</th>\n",
              "      <th>PERCENT AGED 16+ UNEMPLOYED</th>\n",
              "      <th>PERCENT AGED 25+ WITHOUT HIGH SCHOOL DIPLOMA</th>\n",
              "      <th>PERCENT AGED UNDER 18 OR OVER 64</th>\n",
              "      <th>PER_CAPITA_INCOME</th>\n",
              "      <th>HARDSHIP_INDEX</th>\n",
              "    </tr>\n",
              "  </thead>\n",
              "  <tbody>\n",
              "    <tr>\n",
              "      <th>0</th>\n",
              "      <td>1.0</td>\n",
              "      <td>Rogers Park</td>\n",
              "      <td>7.7</td>\n",
              "      <td>23.6</td>\n",
              "      <td>8.7</td>\n",
              "      <td>18.2</td>\n",
              "      <td>27.5</td>\n",
              "      <td>23939</td>\n",
              "      <td>39.0</td>\n",
              "    </tr>\n",
              "    <tr>\n",
              "      <th>1</th>\n",
              "      <td>2.0</td>\n",
              "      <td>West Ridge</td>\n",
              "      <td>7.8</td>\n",
              "      <td>17.2</td>\n",
              "      <td>8.8</td>\n",
              "      <td>20.8</td>\n",
              "      <td>38.5</td>\n",
              "      <td>23040</td>\n",
              "      <td>46.0</td>\n",
              "    </tr>\n",
              "    <tr>\n",
              "      <th>2</th>\n",
              "      <td>3.0</td>\n",
              "      <td>Uptown</td>\n",
              "      <td>3.8</td>\n",
              "      <td>24.0</td>\n",
              "      <td>8.9</td>\n",
              "      <td>11.8</td>\n",
              "      <td>22.2</td>\n",
              "      <td>35787</td>\n",
              "      <td>20.0</td>\n",
              "    </tr>\n",
              "    <tr>\n",
              "      <th>3</th>\n",
              "      <td>4.0</td>\n",
              "      <td>Lincoln Square</td>\n",
              "      <td>3.4</td>\n",
              "      <td>10.9</td>\n",
              "      <td>8.2</td>\n",
              "      <td>13.4</td>\n",
              "      <td>25.5</td>\n",
              "      <td>37524</td>\n",
              "      <td>17.0</td>\n",
              "    </tr>\n",
              "    <tr>\n",
              "      <th>4</th>\n",
              "      <td>5.0</td>\n",
              "      <td>North Center</td>\n",
              "      <td>0.3</td>\n",
              "      <td>7.5</td>\n",
              "      <td>5.2</td>\n",
              "      <td>4.5</td>\n",
              "      <td>26.2</td>\n",
              "      <td>57123</td>\n",
              "      <td>6.0</td>\n",
              "    </tr>\n",
              "  </tbody>\n",
              "</table>\n",
              "</div>"
            ],
            "text/plain": [
              "   COMMUNITY_AREA_NUMBER  ... HARDSHIP_INDEX\n",
              "0                    1.0  ...           39.0\n",
              "1                    2.0  ...           46.0\n",
              "2                    3.0  ...           20.0\n",
              "3                    4.0  ...           17.0\n",
              "4                    5.0  ...            6.0\n",
              "\n",
              "[5 rows x 9 columns]"
            ]
          },
          "metadata": {
            "tags": []
          },
          "execution_count": 129
        }
      ]
    },
    {
      "cell_type": "code",
      "metadata": {
        "colab": {
          "base_uri": "https://localhost:8080/"
        },
        "id": "SxEL8VJF_q_q",
        "outputId": "b46dbe24-d7f3-4b5d-fb3e-cd8ba48413d5"
      },
      "source": [
        "for x in data:\r\n",
        "  print(x)"
      ],
      "execution_count": null,
      "outputs": [
        {
          "output_type": "stream",
          "text": [
            "COMMUNITY_AREA_NUMBER\n",
            "COMMUNITY_AREA_NAME\n",
            "PERCENT OF HOUSING CROWDED\n",
            "PERCENT HOUSEHOLDS BELOW POVERTY\n",
            "PERCENT AGED 16+ UNEMPLOYED\n",
            "PERCENT AGED 25+ WITHOUT HIGH SCHOOL DIPLOMA\n",
            "PERCENT AGED UNDER 18 OR OVER 64\n",
            "PER_CAPITA_INCOME \n",
            "HARDSHIP_INDEX\n"
          ],
          "name": "stdout"
        }
      ]
    },
    {
      "cell_type": "code",
      "metadata": {
        "colab": {
          "base_uri": "https://localhost:8080/"
        },
        "id": "jpVlzgdxAWNJ",
        "outputId": "e8766b1d-e771-461c-8a47-cd9d369ad5ce"
      },
      "source": [
        "data['COMMUNITY_AREA_NUMBER']"
      ],
      "execution_count": null,
      "outputs": [
        {
          "output_type": "execute_result",
          "data": {
            "text/plain": [
              "0      1.0\n",
              "1      2.0\n",
              "2      3.0\n",
              "3      4.0\n",
              "4      5.0\n",
              "      ... \n",
              "73    74.0\n",
              "74    75.0\n",
              "75    76.0\n",
              "76    77.0\n",
              "77     NaN\n",
              "Name: COMMUNITY_AREA_NUMBER, Length: 78, dtype: float64"
            ]
          },
          "metadata": {
            "tags": []
          },
          "execution_count": 137
        }
      ]
    },
    {
      "cell_type": "code",
      "metadata": {
        "id": "jJLaHqBMBbHT"
      },
      "source": [
        "plt.hist(data['COMMUNITY_AREA_NUMBER'])\r\n",
        "plt.title('xd')"
      ],
      "execution_count": null,
      "outputs": []
    },
    {
      "cell_type": "code",
      "metadata": {
        "colab": {
          "base_uri": "https://localhost:8080/",
          "height": 441
        },
        "id": "H5vQaSG6GfYe",
        "outputId": "6a01de22-7eff-4eca-c355-be99ea3f4c3c"
      },
      "source": [
        "#pozbywam się kolumny z nazwą\r\n",
        "data2 = data.drop(columns= 'COMMUNITY_AREA_NAME')\r\n",
        "data2"
      ],
      "execution_count": null,
      "outputs": [
        {
          "output_type": "execute_result",
          "data": {
            "text/html": [
              "<div>\n",
              "<style scoped>\n",
              "    .dataframe tbody tr th:only-of-type {\n",
              "        vertical-align: middle;\n",
              "    }\n",
              "\n",
              "    .dataframe tbody tr th {\n",
              "        vertical-align: top;\n",
              "    }\n",
              "\n",
              "    .dataframe thead th {\n",
              "        text-align: right;\n",
              "    }\n",
              "</style>\n",
              "<table border=\"1\" class=\"dataframe\">\n",
              "  <thead>\n",
              "    <tr style=\"text-align: right;\">\n",
              "      <th></th>\n",
              "      <th>COMMUNITY_AREA_NUMBER</th>\n",
              "      <th>PERCENT OF HOUSING CROWDED</th>\n",
              "      <th>PERCENT HOUSEHOLDS BELOW POVERTY</th>\n",
              "      <th>PERCENT AGED 16+ UNEMPLOYED</th>\n",
              "      <th>PERCENT AGED 25+ WITHOUT HIGH SCHOOL DIPLOMA</th>\n",
              "      <th>PERCENT AGED UNDER 18 OR OVER 64</th>\n",
              "      <th>PER_CAPITA_INCOME</th>\n",
              "      <th>HARDSHIP_INDEX</th>\n",
              "    </tr>\n",
              "  </thead>\n",
              "  <tbody>\n",
              "    <tr>\n",
              "      <th>0</th>\n",
              "      <td>1.0</td>\n",
              "      <td>7.7</td>\n",
              "      <td>23.6</td>\n",
              "      <td>8.7</td>\n",
              "      <td>18.2</td>\n",
              "      <td>27.5</td>\n",
              "      <td>23939</td>\n",
              "      <td>39.0</td>\n",
              "    </tr>\n",
              "    <tr>\n",
              "      <th>1</th>\n",
              "      <td>2.0</td>\n",
              "      <td>7.8</td>\n",
              "      <td>17.2</td>\n",
              "      <td>8.8</td>\n",
              "      <td>20.8</td>\n",
              "      <td>38.5</td>\n",
              "      <td>23040</td>\n",
              "      <td>46.0</td>\n",
              "    </tr>\n",
              "    <tr>\n",
              "      <th>2</th>\n",
              "      <td>3.0</td>\n",
              "      <td>3.8</td>\n",
              "      <td>24.0</td>\n",
              "      <td>8.9</td>\n",
              "      <td>11.8</td>\n",
              "      <td>22.2</td>\n",
              "      <td>35787</td>\n",
              "      <td>20.0</td>\n",
              "    </tr>\n",
              "    <tr>\n",
              "      <th>3</th>\n",
              "      <td>4.0</td>\n",
              "      <td>3.4</td>\n",
              "      <td>10.9</td>\n",
              "      <td>8.2</td>\n",
              "      <td>13.4</td>\n",
              "      <td>25.5</td>\n",
              "      <td>37524</td>\n",
              "      <td>17.0</td>\n",
              "    </tr>\n",
              "    <tr>\n",
              "      <th>4</th>\n",
              "      <td>5.0</td>\n",
              "      <td>0.3</td>\n",
              "      <td>7.5</td>\n",
              "      <td>5.2</td>\n",
              "      <td>4.5</td>\n",
              "      <td>26.2</td>\n",
              "      <td>57123</td>\n",
              "      <td>6.0</td>\n",
              "    </tr>\n",
              "    <tr>\n",
              "      <th>...</th>\n",
              "      <td>...</td>\n",
              "      <td>...</td>\n",
              "      <td>...</td>\n",
              "      <td>...</td>\n",
              "      <td>...</td>\n",
              "      <td>...</td>\n",
              "      <td>...</td>\n",
              "      <td>...</td>\n",
              "    </tr>\n",
              "    <tr>\n",
              "      <th>73</th>\n",
              "      <td>74.0</td>\n",
              "      <td>1.0</td>\n",
              "      <td>3.4</td>\n",
              "      <td>8.7</td>\n",
              "      <td>4.3</td>\n",
              "      <td>36.8</td>\n",
              "      <td>34381</td>\n",
              "      <td>16.0</td>\n",
              "    </tr>\n",
              "    <tr>\n",
              "      <th>74</th>\n",
              "      <td>75.0</td>\n",
              "      <td>0.8</td>\n",
              "      <td>13.2</td>\n",
              "      <td>15.0</td>\n",
              "      <td>10.8</td>\n",
              "      <td>40.3</td>\n",
              "      <td>27149</td>\n",
              "      <td>30.0</td>\n",
              "    </tr>\n",
              "    <tr>\n",
              "      <th>75</th>\n",
              "      <td>76.0</td>\n",
              "      <td>3.6</td>\n",
              "      <td>15.4</td>\n",
              "      <td>7.1</td>\n",
              "      <td>10.9</td>\n",
              "      <td>30.3</td>\n",
              "      <td>25828</td>\n",
              "      <td>24.0</td>\n",
              "    </tr>\n",
              "    <tr>\n",
              "      <th>76</th>\n",
              "      <td>77.0</td>\n",
              "      <td>4.1</td>\n",
              "      <td>18.2</td>\n",
              "      <td>9.2</td>\n",
              "      <td>9.7</td>\n",
              "      <td>23.8</td>\n",
              "      <td>33385</td>\n",
              "      <td>19.0</td>\n",
              "    </tr>\n",
              "    <tr>\n",
              "      <th>77</th>\n",
              "      <td>NaN</td>\n",
              "      <td>4.7</td>\n",
              "      <td>19.7</td>\n",
              "      <td>12.9</td>\n",
              "      <td>19.5</td>\n",
              "      <td>33.5</td>\n",
              "      <td>28202</td>\n",
              "      <td>NaN</td>\n",
              "    </tr>\n",
              "  </tbody>\n",
              "</table>\n",
              "<p>78 rows × 8 columns</p>\n",
              "</div>"
            ],
            "text/plain": [
              "    COMMUNITY_AREA_NUMBER  ...  HARDSHIP_INDEX\n",
              "0                     1.0  ...            39.0\n",
              "1                     2.0  ...            46.0\n",
              "2                     3.0  ...            20.0\n",
              "3                     4.0  ...            17.0\n",
              "4                     5.0  ...             6.0\n",
              "..                    ...  ...             ...\n",
              "73                   74.0  ...            16.0\n",
              "74                   75.0  ...            30.0\n",
              "75                   76.0  ...            24.0\n",
              "76                   77.0  ...            19.0\n",
              "77                    NaN  ...             NaN\n",
              "\n",
              "[78 rows x 8 columns]"
            ]
          },
          "metadata": {
            "tags": []
          },
          "execution_count": 149
        }
      ]
    },
    {
      "cell_type": "code",
      "metadata": {
        "colab": {
          "base_uri": "https://localhost:8080/",
          "height": 1000
        },
        "id": "qyIyr4ID_sgB",
        "outputId": "bfecb665-1829-471a-8007-98d4010185c8"
      },
      "source": [
        "'''\r\n",
        "    tytuł wykresu zawierający tytuł kolumny oraz string \"Distribution histogram\"\r\n",
        "    tytuł osi y: \"Community area count\"\r\n",
        "    tytuł osi x: tytuł kolumny\r\n",
        "'''\r\n",
        "\r\n",
        "for column in data2.columns:\r\n",
        "  plt.hist(column, data = data2)\r\n",
        "  plt.title(column + \" Distribution histogram\")\r\n",
        "  plt.ylabel(\"Community area count\"),\r\n",
        "  plt.xlabel(column)\r\n",
        "  plt.show()"
      ],
      "execution_count": null,
      "outputs": [
        {
          "output_type": "display_data",
          "data": {
            "image/png": "[encoded data removed]",
            "text/plain": [
              "<Figure size 432x288 with 1 Axes>"
            ]
          },
          "metadata": {
            "tags": [],
            "needs_background": "light"
          }
        },
        {
          "output_type": "display_data",
          "data": {
            "image/png": "[encoded data removed]",
            "text/plain": [
              "<Figure size 432x288 with 1 Axes>"
            ]
          },
          "metadata": {
            "tags": [],
            "needs_background": "light"
          }
        },
        {
          "output_type": "display_data",
          "data": {
            "image/png": "[encoded data removed]",
            "text/plain": [
              "<Figure size 432x288 with 1 Axes>"
            ]
          },
          "metadata": {
            "tags": [],
            "needs_background": "light"
          }
        },
        {
          "output_type": "display_data",
          "data": {
            "image/png": "[encoded data removed]",
            "text/plain": [
              "<Figure size 432x288 with 1 Axes>"
            ]
          },
          "metadata": {
            "tags": [],
            "needs_background": "light"
          }
        },
        {
          "output_type": "display_data",
          "data": {
            "image/png": "[encoded data removed]",
            "text/plain": [
              "<Figure size 432x288 with 1 Axes>"
            ]
          },
          "metadata": {
            "tags": [],
            "needs_background": "light"
          }
        },
        {
          "output_type": "display_data",
          "data": {
            "image/png": "[encoded data removed]",
            "text/plain": [
              "<Figure size 432x288 with 1 Axes>"
            ]
          },
          "metadata": {
            "tags": [],
            "needs_background": "light"
          }
        },
        {
          "output_type": "display_data",
          "data": {
            "image/png": "[encoded data removed]",
            "text/plain": [
              "<Figure size 432x288 with 1 Axes>"
            ]
          },
          "metadata": {
            "tags": [],
            "needs_background": "light"
          }
        },
        {
          "output_type": "display_data",
          "data": {
            "image/png": "[encoded data removed]",
            "text/plain": [
              "<Figure size 432x288 with 1 Axes>"
            ]
          },
          "metadata": {
            "tags": [],
            "needs_background": "light"
          }
        }
      ]
    },
    {
      "cell_type": "markdown",
      "metadata": {
        "id": "YYBO21UuJO46"
      },
      "source": [
        "##Podpowiedzi"
      ]
    },
    {
      "cell_type": "code",
      "metadata": {
        "id": "rJTKswt3JVQz",
        "colab": {
          "base_uri": "https://localhost:8080/"
        },
        "outputId": "64f2b2e5-47f5-4342-a6c2-c690b4049c5f"
      },
      "source": [
        "URL = \"https://akademiadatascience.s3-eu-west-1.amazonaws.com/materialy/sds/modul4/Census_Data_-_Selected_socioeconomic_indicators_in_Chicago__2008___2012-v2.csv\"\n",
        "\n",
        "#zastosuj pętlę for, brzmiącą : dla każdej kolumny w liście .columns ,  stwórz osobny histogram z osobnym tytułem oraz opisem osi (w miejscu gdzie chcesz się odnieść do konkretnej kolumny, na przykład tej, którą właśnie wykorzystujesz do rysowania)\n",
        "#wykorzystaj zapis\n",
        "\"\"\"\n",
        "for column in df.columns:\n",
        "  plt.hist(column, data=df)\n",
        "  plt.title(label = column)\n",
        "  plt.show()\n",
        "\"\"\""
      ],
      "execution_count": null,
      "outputs": [
        {
          "output_type": "execute_result",
          "data": {
            "application/vnd.google.colaboratory.intrinsic+json": {
              "type": "string"
            },
            "text/plain": [
              "'\\nfor column in df.columns:\\n  plt.hist(column, data=df)\\n  plt.title(label = column)\\n  plt.show()\\n'"
            ]
          },
          "metadata": {
            "tags": []
          },
          "execution_count": 18
        }
      ]
    },
    {
      "cell_type": "markdown",
      "metadata": {
        "id": "g8YFAxS7JWXO"
      },
      "source": [
        "##Podpowiedzi + rozwiązanie"
      ]
    },
    {
      "cell_type": "code",
      "metadata": {
        "id": "fB3EZc3JJYYB",
        "colab": {
          "base_uri": "https://localhost:8080/",
          "height": 1000
        },
        "outputId": "56200759-1812-4350-859d-f6b7f878fb3b"
      },
      "source": [
        "URL = \"https://akademiadatascience.s3-eu-west-1.amazonaws.com/materialy/sds/modul4/Census_Data_-_Selected_socioeconomic_indicators_in_Chicago__2008___2012-v2.csv\"\n",
        "df = pd.read_csv(URL)\n",
        "\n",
        "df.drop(columns = \"COMMUNITY_AREA_NAME\", axis = 1, inplace = True)\n",
        "\n",
        "for column in df.columns:\n",
        "  plt.hist(column, data = df)\n",
        "  plt.title(label = column + \" - Distribution histogram\")\n",
        "  plt.ylabel(ylabel = \"Community area count\")\n",
        "  plt.xlabel(xlabel = column)\n",
        "  plt.show()"
      ],
      "execution_count": null,
      "outputs": [
        {
          "output_type": "stream",
          "text": [
            "/usr/local/lib/python3.6/dist-packages/numpy/lib/histograms.py:839: RuntimeWarning: invalid value encountered in greater_equal\n",
            "  keep = (tmp_a >= first_edge)\n",
            "/usr/local/lib/python3.6/dist-packages/numpy/lib/histograms.py:840: RuntimeWarning: invalid value encountered in less_equal\n",
            "  keep &= (tmp_a <= last_edge)\n"
          ],
          "name": "stderr"
        },
        {
          "output_type": "display_data",
          "data": {
            "image/png": "[encoded data removed]",
            "text/plain": [
              "<Figure size 432x288 with 1 Axes>"
            ]
          },
          "metadata": {
            "tags": [],
            "needs_background": "light"
          }
        },
        {
          "output_type": "display_data",
          "data": {
            "image/png": "[encoded data removed]",
            "text/plain": [
              "<Figure size 432x288 with 1 Axes>"
            ]
          },
          "metadata": {
            "tags": [],
            "needs_background": "light"
          }
        },
        {
          "output_type": "display_data",
          "data": {
            "image/png": "[encoded data removed]",
            "text/plain": [
              "<Figure size 432x288 with 1 Axes>"
            ]
          },
          "metadata": {
            "tags": [],
            "needs_background": "light"
          }
        },
        {
          "output_type": "display_data",
          "data": {
            "image/png": "[encoded data removed]",
            "text/plain": [
              "<Figure size 432x288 with 1 Axes>"
            ]
          },
          "metadata": {
            "tags": [],
            "needs_background": "light"
          }
        },
        {
          "output_type": "display_data",
          "data": {
            "image/png": "[encoded data removed]",
            "text/plain": [
              "<Figure size 432x288 with 1 Axes>"
            ]
          },
          "metadata": {
            "tags": [],
            "needs_background": "light"
          }
        },
        {
          "output_type": "display_data",
          "data": {
            "image/png": "[encoded data removed]",
            "text/plain": [
              "<Figure size 432x288 with 1 Axes>"
            ]
          },
          "metadata": {
            "tags": [],
            "needs_background": "light"
          }
        },
        {
          "output_type": "display_data",
          "data": {
            "image/png": "[encoded data removed]",
            "text/plain": [
              "<Figure size 432x288 with 1 Axes>"
            ]
          },
          "metadata": {
            "tags": [],
            "needs_background": "light"
          }
        },
        {
          "output_type": "display_data",
          "data": {
            "image/png": "[encoded data removed]",
            "text/plain": [
              "<Figure size 432x288 with 1 Axes>"
            ]
          },
          "metadata": {
            "tags": [],
            "needs_background": "light"
          }
        }
      ]
    },
    {
      "cell_type": "markdown",
      "metadata": {
        "id": "iBjoEjZqJHK_"
      },
      "source": [
        "#Zadanie 7\n"
      ]
    },
    {
      "cell_type": "markdown",
      "metadata": {
        "id": "oSA1UroqJaJ1"
      },
      "source": [
        "1. Zaimportuj dane z podanego linka - college majors.\n",
        "\n",
        "2. Zbadaj ilość pustych wartości i narysuj ich heatmapę."
      ]
    },
    {
      "cell_type": "code",
      "metadata": {
        "id": "WZ2FcmjTJLY5"
      },
      "source": [
        "import pandas as pd\n",
        "import seaborn as sns\n",
        "\n",
        "URL = \"https://akademiadatascience.s3-eu-west-1.amazonaws.com/materialy/sds/modul4/recent-grads.csv\""
      ],
      "execution_count": null,
      "outputs": []
    },
    {
      "cell_type": "code",
      "metadata": {
        "colab": {
          "base_uri": "https://localhost:8080/",
          "height": 184
        },
        "id": "md7L_S0UJC2r",
        "outputId": "423a7c28-1a49-44f8-c328-69ecb4b1c724"
      },
      "source": [
        "college_majors = pd.read_csv(URL)\r\n",
        "college_majors.head(2)"
      ],
      "execution_count": null,
      "outputs": [
        {
          "output_type": "execute_result",
          "data": {
            "text/html": [
              "<div>\n",
              "<style scoped>\n",
              "    .dataframe tbody tr th:only-of-type {\n",
              "        vertical-align: middle;\n",
              "    }\n",
              "\n",
              "    .dataframe tbody tr th {\n",
              "        vertical-align: top;\n",
              "    }\n",
              "\n",
              "    .dataframe thead th {\n",
              "        text-align: right;\n",
              "    }\n",
              "</style>\n",
              "<table border=\"1\" class=\"dataframe\">\n",
              "  <thead>\n",
              "    <tr style=\"text-align: right;\">\n",
              "      <th></th>\n",
              "      <th>Rank</th>\n",
              "      <th>Major_code</th>\n",
              "      <th>Major</th>\n",
              "      <th>Total</th>\n",
              "      <th>Men</th>\n",
              "      <th>Women</th>\n",
              "      <th>Major_category</th>\n",
              "      <th>ShareWomen</th>\n",
              "      <th>Sample_size</th>\n",
              "      <th>Employed</th>\n",
              "      <th>Full_time</th>\n",
              "      <th>Part_time</th>\n",
              "      <th>Full_time_year_round</th>\n",
              "      <th>Unemployed</th>\n",
              "      <th>Unemployment_rate</th>\n",
              "      <th>Median</th>\n",
              "      <th>P25th</th>\n",
              "      <th>P75th</th>\n",
              "      <th>College_jobs</th>\n",
              "      <th>Non_college_jobs</th>\n",
              "      <th>Low_wage_jobs</th>\n",
              "    </tr>\n",
              "  </thead>\n",
              "  <tbody>\n",
              "    <tr>\n",
              "      <th>0</th>\n",
              "      <td>1</td>\n",
              "      <td>2419</td>\n",
              "      <td>PETROLEUM ENGINEERING</td>\n",
              "      <td>2339.0</td>\n",
              "      <td>2057.0</td>\n",
              "      <td>282.0</td>\n",
              "      <td>Engineering</td>\n",
              "      <td>0.120564</td>\n",
              "      <td>36</td>\n",
              "      <td>1976</td>\n",
              "      <td>1849</td>\n",
              "      <td>270</td>\n",
              "      <td>1207</td>\n",
              "      <td>37</td>\n",
              "      <td>0.018381</td>\n",
              "      <td>110000</td>\n",
              "      <td>95000</td>\n",
              "      <td>125000</td>\n",
              "      <td>1534</td>\n",
              "      <td>364</td>\n",
              "      <td>193</td>\n",
              "    </tr>\n",
              "    <tr>\n",
              "      <th>1</th>\n",
              "      <td>2</td>\n",
              "      <td>2416</td>\n",
              "      <td>MINING AND MINERAL ENGINEERING</td>\n",
              "      <td>756.0</td>\n",
              "      <td>679.0</td>\n",
              "      <td>77.0</td>\n",
              "      <td>Engineering</td>\n",
              "      <td>0.101852</td>\n",
              "      <td>7</td>\n",
              "      <td>640</td>\n",
              "      <td>556</td>\n",
              "      <td>170</td>\n",
              "      <td>388</td>\n",
              "      <td>85</td>\n",
              "      <td>0.117241</td>\n",
              "      <td>75000</td>\n",
              "      <td>55000</td>\n",
              "      <td>90000</td>\n",
              "      <td>350</td>\n",
              "      <td>257</td>\n",
              "      <td>50</td>\n",
              "    </tr>\n",
              "  </tbody>\n",
              "</table>\n",
              "</div>"
            ],
            "text/plain": [
              "   Rank  Major_code  ... Non_college_jobs  Low_wage_jobs\n",
              "0     1        2419  ...              364            193\n",
              "1     2        2416  ...              257             50\n",
              "\n",
              "[2 rows x 21 columns]"
            ]
          },
          "metadata": {
            "tags": []
          },
          "execution_count": 2
        }
      ]
    },
    {
      "cell_type": "code",
      "metadata": {
        "colab": {
          "base_uri": "https://localhost:8080/",
          "height": 444
        },
        "id": "eqcYnSxpJSUv",
        "outputId": "680febe9-b45f-4141-b5e5-91f6bf3ca5a1"
      },
      "source": [
        "college_isna = college_majors.isna()\r\n",
        "college_isna"
      ],
      "execution_count": null,
      "outputs": [
        {
          "output_type": "execute_result",
          "data": {
            "text/html": [
              "<div>\n",
              "<style scoped>\n",
              "    .dataframe tbody tr th:only-of-type {\n",
              "        vertical-align: middle;\n",
              "    }\n",
              "\n",
              "    .dataframe tbody tr th {\n",
              "        vertical-align: top;\n",
              "    }\n",
              "\n",
              "    .dataframe thead th {\n",
              "        text-align: right;\n",
              "    }\n",
              "</style>\n",
              "<table border=\"1\" class=\"dataframe\">\n",
              "  <thead>\n",
              "    <tr style=\"text-align: right;\">\n",
              "      <th></th>\n",
              "      <th>Rank</th>\n",
              "      <th>Major_code</th>\n",
              "      <th>Major</th>\n",
              "      <th>Total</th>\n",
              "      <th>Men</th>\n",
              "      <th>Women</th>\n",
              "      <th>Major_category</th>\n",
              "      <th>ShareWomen</th>\n",
              "      <th>Sample_size</th>\n",
              "      <th>Employed</th>\n",
              "      <th>Full_time</th>\n",
              "      <th>Part_time</th>\n",
              "      <th>Full_time_year_round</th>\n",
              "      <th>Unemployed</th>\n",
              "      <th>Unemployment_rate</th>\n",
              "      <th>Median</th>\n",
              "      <th>P25th</th>\n",
              "      <th>P75th</th>\n",
              "      <th>College_jobs</th>\n",
              "      <th>Non_college_jobs</th>\n",
              "      <th>Low_wage_jobs</th>\n",
              "    </tr>\n",
              "  </thead>\n",
              "  <tbody>\n",
              "    <tr>\n",
              "      <th>0</th>\n",
              "      <td>False</td>\n",
              "      <td>False</td>\n",
              "      <td>False</td>\n",
              "      <td>False</td>\n",
              "      <td>False</td>\n",
              "      <td>False</td>\n",
              "      <td>False</td>\n",
              "      <td>False</td>\n",
              "      <td>False</td>\n",
              "      <td>False</td>\n",
              "      <td>False</td>\n",
              "      <td>False</td>\n",
              "      <td>False</td>\n",
              "      <td>False</td>\n",
              "      <td>False</td>\n",
              "      <td>False</td>\n",
              "      <td>False</td>\n",
              "      <td>False</td>\n",
              "      <td>False</td>\n",
              "      <td>False</td>\n",
              "      <td>False</td>\n",
              "    </tr>\n",
              "    <tr>\n",
              "      <th>1</th>\n",
              "      <td>False</td>\n",
              "      <td>False</td>\n",
              "      <td>False</td>\n",
              "      <td>False</td>\n",
              "      <td>False</td>\n",
              "      <td>False</td>\n",
              "      <td>False</td>\n",
              "      <td>False</td>\n",
              "      <td>False</td>\n",
              "      <td>False</td>\n",
              "      <td>False</td>\n",
              "      <td>False</td>\n",
              "      <td>False</td>\n",
              "      <td>False</td>\n",
              "      <td>False</td>\n",
              "      <td>False</td>\n",
              "      <td>False</td>\n",
              "      <td>False</td>\n",
              "      <td>False</td>\n",
              "      <td>False</td>\n",
              "      <td>False</td>\n",
              "    </tr>\n",
              "    <tr>\n",
              "      <th>2</th>\n",
              "      <td>False</td>\n",
              "      <td>False</td>\n",
              "      <td>False</td>\n",
              "      <td>False</td>\n",
              "      <td>False</td>\n",
              "      <td>False</td>\n",
              "      <td>False</td>\n",
              "      <td>False</td>\n",
              "      <td>False</td>\n",
              "      <td>False</td>\n",
              "      <td>False</td>\n",
              "      <td>False</td>\n",
              "      <td>False</td>\n",
              "      <td>False</td>\n",
              "      <td>False</td>\n",
              "      <td>False</td>\n",
              "      <td>False</td>\n",
              "      <td>False</td>\n",
              "      <td>False</td>\n",
              "      <td>False</td>\n",
              "      <td>False</td>\n",
              "    </tr>\n",
              "    <tr>\n",
              "      <th>3</th>\n",
              "      <td>False</td>\n",
              "      <td>False</td>\n",
              "      <td>False</td>\n",
              "      <td>False</td>\n",
              "      <td>False</td>\n",
              "      <td>False</td>\n",
              "      <td>False</td>\n",
              "      <td>False</td>\n",
              "      <td>False</td>\n",
              "      <td>False</td>\n",
              "      <td>False</td>\n",
              "      <td>False</td>\n",
              "      <td>False</td>\n",
              "      <td>False</td>\n",
              "      <td>False</td>\n",
              "      <td>False</td>\n",
              "      <td>False</td>\n",
              "      <td>False</td>\n",
              "      <td>False</td>\n",
              "      <td>False</td>\n",
              "      <td>False</td>\n",
              "    </tr>\n",
              "    <tr>\n",
              "      <th>4</th>\n",
              "      <td>False</td>\n",
              "      <td>False</td>\n",
              "      <td>False</td>\n",
              "      <td>False</td>\n",
              "      <td>False</td>\n",
              "      <td>False</td>\n",
              "      <td>False</td>\n",
              "      <td>False</td>\n",
              "      <td>False</td>\n",
              "      <td>False</td>\n",
              "      <td>False</td>\n",
              "      <td>False</td>\n",
              "      <td>False</td>\n",
              "      <td>False</td>\n",
              "      <td>False</td>\n",
              "      <td>False</td>\n",
              "      <td>False</td>\n",
              "      <td>False</td>\n",
              "      <td>False</td>\n",
              "      <td>False</td>\n",
              "      <td>False</td>\n",
              "    </tr>\n",
              "    <tr>\n",
              "      <th>...</th>\n",
              "      <td>...</td>\n",
              "      <td>...</td>\n",
              "      <td>...</td>\n",
              "      <td>...</td>\n",
              "      <td>...</td>\n",
              "      <td>...</td>\n",
              "      <td>...</td>\n",
              "      <td>...</td>\n",
              "      <td>...</td>\n",
              "      <td>...</td>\n",
              "      <td>...</td>\n",
              "      <td>...</td>\n",
              "      <td>...</td>\n",
              "      <td>...</td>\n",
              "      <td>...</td>\n",
              "      <td>...</td>\n",
              "      <td>...</td>\n",
              "      <td>...</td>\n",
              "      <td>...</td>\n",
              "      <td>...</td>\n",
              "      <td>...</td>\n",
              "    </tr>\n",
              "    <tr>\n",
              "      <th>168</th>\n",
              "      <td>False</td>\n",
              "      <td>False</td>\n",
              "      <td>False</td>\n",
              "      <td>False</td>\n",
              "      <td>False</td>\n",
              "      <td>False</td>\n",
              "      <td>False</td>\n",
              "      <td>False</td>\n",
              "      <td>False</td>\n",
              "      <td>False</td>\n",
              "      <td>False</td>\n",
              "      <td>False</td>\n",
              "      <td>False</td>\n",
              "      <td>False</td>\n",
              "      <td>False</td>\n",
              "      <td>False</td>\n",
              "      <td>False</td>\n",
              "      <td>False</td>\n",
              "      <td>False</td>\n",
              "      <td>False</td>\n",
              "      <td>False</td>\n",
              "    </tr>\n",
              "    <tr>\n",
              "      <th>169</th>\n",
              "      <td>False</td>\n",
              "      <td>False</td>\n",
              "      <td>False</td>\n",
              "      <td>False</td>\n",
              "      <td>False</td>\n",
              "      <td>False</td>\n",
              "      <td>False</td>\n",
              "      <td>False</td>\n",
              "      <td>False</td>\n",
              "      <td>False</td>\n",
              "      <td>False</td>\n",
              "      <td>False</td>\n",
              "      <td>False</td>\n",
              "      <td>False</td>\n",
              "      <td>False</td>\n",
              "      <td>False</td>\n",
              "      <td>False</td>\n",
              "      <td>False</td>\n",
              "      <td>False</td>\n",
              "      <td>False</td>\n",
              "      <td>False</td>\n",
              "    </tr>\n",
              "    <tr>\n",
              "      <th>170</th>\n",
              "      <td>False</td>\n",
              "      <td>False</td>\n",
              "      <td>False</td>\n",
              "      <td>False</td>\n",
              "      <td>False</td>\n",
              "      <td>False</td>\n",
              "      <td>False</td>\n",
              "      <td>False</td>\n",
              "      <td>False</td>\n",
              "      <td>False</td>\n",
              "      <td>False</td>\n",
              "      <td>False</td>\n",
              "      <td>False</td>\n",
              "      <td>False</td>\n",
              "      <td>False</td>\n",
              "      <td>False</td>\n",
              "      <td>False</td>\n",
              "      <td>False</td>\n",
              "      <td>False</td>\n",
              "      <td>False</td>\n",
              "      <td>False</td>\n",
              "    </tr>\n",
              "    <tr>\n",
              "      <th>171</th>\n",
              "      <td>False</td>\n",
              "      <td>False</td>\n",
              "      <td>False</td>\n",
              "      <td>False</td>\n",
              "      <td>False</td>\n",
              "      <td>False</td>\n",
              "      <td>False</td>\n",
              "      <td>False</td>\n",
              "      <td>False</td>\n",
              "      <td>False</td>\n",
              "      <td>False</td>\n",
              "      <td>False</td>\n",
              "      <td>False</td>\n",
              "      <td>False</td>\n",
              "      <td>False</td>\n",
              "      <td>False</td>\n",
              "      <td>False</td>\n",
              "      <td>False</td>\n",
              "      <td>False</td>\n",
              "      <td>False</td>\n",
              "      <td>False</td>\n",
              "    </tr>\n",
              "    <tr>\n",
              "      <th>172</th>\n",
              "      <td>False</td>\n",
              "      <td>False</td>\n",
              "      <td>False</td>\n",
              "      <td>False</td>\n",
              "      <td>False</td>\n",
              "      <td>False</td>\n",
              "      <td>False</td>\n",
              "      <td>False</td>\n",
              "      <td>False</td>\n",
              "      <td>False</td>\n",
              "      <td>False</td>\n",
              "      <td>False</td>\n",
              "      <td>False</td>\n",
              "      <td>False</td>\n",
              "      <td>False</td>\n",
              "      <td>False</td>\n",
              "      <td>False</td>\n",
              "      <td>False</td>\n",
              "      <td>False</td>\n",
              "      <td>False</td>\n",
              "      <td>False</td>\n",
              "    </tr>\n",
              "  </tbody>\n",
              "</table>\n",
              "<p>173 rows × 21 columns</p>\n",
              "</div>"
            ],
            "text/plain": [
              "      Rank  Major_code  Major  ...  College_jobs  Non_college_jobs  Low_wage_jobs\n",
              "0    False       False  False  ...         False             False          False\n",
              "1    False       False  False  ...         False             False          False\n",
              "2    False       False  False  ...         False             False          False\n",
              "3    False       False  False  ...         False             False          False\n",
              "4    False       False  False  ...         False             False          False\n",
              "..     ...         ...    ...  ...           ...               ...            ...\n",
              "168  False       False  False  ...         False             False          False\n",
              "169  False       False  False  ...         False             False          False\n",
              "170  False       False  False  ...         False             False          False\n",
              "171  False       False  False  ...         False             False          False\n",
              "172  False       False  False  ...         False             False          False\n",
              "\n",
              "[173 rows x 21 columns]"
            ]
          },
          "metadata": {
            "tags": []
          },
          "execution_count": 163
        }
      ]
    },
    {
      "cell_type": "code",
      "metadata": {
        "colab": {
          "base_uri": "https://localhost:8080/",
          "height": 444
        },
        "id": "WNIoal6-KuA4",
        "outputId": "d540f741-ab76-42a4-9714-8581f9e8e66c"
      },
      "source": [
        "#zastepuje sprawdzenie liczbami\r\n",
        "college_isna_numbers = college_isna.replace([False,True],[0,1])\r\n",
        "college_isna_numbers"
      ],
      "execution_count": null,
      "outputs": [
        {
          "output_type": "execute_result",
          "data": {
            "text/html": [
              "<div>\n",
              "<style scoped>\n",
              "    .dataframe tbody tr th:only-of-type {\n",
              "        vertical-align: middle;\n",
              "    }\n",
              "\n",
              "    .dataframe tbody tr th {\n",
              "        vertical-align: top;\n",
              "    }\n",
              "\n",
              "    .dataframe thead th {\n",
              "        text-align: right;\n",
              "    }\n",
              "</style>\n",
              "<table border=\"1\" class=\"dataframe\">\n",
              "  <thead>\n",
              "    <tr style=\"text-align: right;\">\n",
              "      <th></th>\n",
              "      <th>Rank</th>\n",
              "      <th>Major_code</th>\n",
              "      <th>Major</th>\n",
              "      <th>Total</th>\n",
              "      <th>Men</th>\n",
              "      <th>Women</th>\n",
              "      <th>Major_category</th>\n",
              "      <th>ShareWomen</th>\n",
              "      <th>Sample_size</th>\n",
              "      <th>Employed</th>\n",
              "      <th>Full_time</th>\n",
              "      <th>Part_time</th>\n",
              "      <th>Full_time_year_round</th>\n",
              "      <th>Unemployed</th>\n",
              "      <th>Unemployment_rate</th>\n",
              "      <th>Median</th>\n",
              "      <th>P25th</th>\n",
              "      <th>P75th</th>\n",
              "      <th>College_jobs</th>\n",
              "      <th>Non_college_jobs</th>\n",
              "      <th>Low_wage_jobs</th>\n",
              "    </tr>\n",
              "  </thead>\n",
              "  <tbody>\n",
              "    <tr>\n",
              "      <th>0</th>\n",
              "      <td>0</td>\n",
              "      <td>0</td>\n",
              "      <td>0</td>\n",
              "      <td>0</td>\n",
              "      <td>0</td>\n",
              "      <td>0</td>\n",
              "      <td>0</td>\n",
              "      <td>0</td>\n",
              "      <td>0</td>\n",
              "      <td>0</td>\n",
              "      <td>0</td>\n",
              "      <td>0</td>\n",
              "      <td>0</td>\n",
              "      <td>0</td>\n",
              "      <td>0</td>\n",
              "      <td>0</td>\n",
              "      <td>0</td>\n",
              "      <td>0</td>\n",
              "      <td>0</td>\n",
              "      <td>0</td>\n",
              "      <td>0</td>\n",
              "    </tr>\n",
              "    <tr>\n",
              "      <th>1</th>\n",
              "      <td>0</td>\n",
              "      <td>0</td>\n",
              "      <td>0</td>\n",
              "      <td>0</td>\n",
              "      <td>0</td>\n",
              "      <td>0</td>\n",
              "      <td>0</td>\n",
              "      <td>0</td>\n",
              "      <td>0</td>\n",
              "      <td>0</td>\n",
              "      <td>0</td>\n",
              "      <td>0</td>\n",
              "      <td>0</td>\n",
              "      <td>0</td>\n",
              "      <td>0</td>\n",
              "      <td>0</td>\n",
              "      <td>0</td>\n",
              "      <td>0</td>\n",
              "      <td>0</td>\n",
              "      <td>0</td>\n",
              "      <td>0</td>\n",
              "    </tr>\n",
              "    <tr>\n",
              "      <th>2</th>\n",
              "      <td>0</td>\n",
              "      <td>0</td>\n",
              "      <td>0</td>\n",
              "      <td>0</td>\n",
              "      <td>0</td>\n",
              "      <td>0</td>\n",
              "      <td>0</td>\n",
              "      <td>0</td>\n",
              "      <td>0</td>\n",
              "      <td>0</td>\n",
              "      <td>0</td>\n",
              "      <td>0</td>\n",
              "      <td>0</td>\n",
              "      <td>0</td>\n",
              "      <td>0</td>\n",
              "      <td>0</td>\n",
              "      <td>0</td>\n",
              "      <td>0</td>\n",
              "      <td>0</td>\n",
              "      <td>0</td>\n",
              "      <td>0</td>\n",
              "    </tr>\n",
              "    <tr>\n",
              "      <th>3</th>\n",
              "      <td>0</td>\n",
              "      <td>0</td>\n",
              "      <td>0</td>\n",
              "      <td>0</td>\n",
              "      <td>0</td>\n",
              "      <td>0</td>\n",
              "      <td>0</td>\n",
              "      <td>0</td>\n",
              "      <td>0</td>\n",
              "      <td>0</td>\n",
              "      <td>0</td>\n",
              "      <td>0</td>\n",
              "      <td>0</td>\n",
              "      <td>0</td>\n",
              "      <td>0</td>\n",
              "      <td>0</td>\n",
              "      <td>0</td>\n",
              "      <td>0</td>\n",
              "      <td>0</td>\n",
              "      <td>0</td>\n",
              "      <td>0</td>\n",
              "    </tr>\n",
              "    <tr>\n",
              "      <th>4</th>\n",
              "      <td>0</td>\n",
              "      <td>0</td>\n",
              "      <td>0</td>\n",
              "      <td>0</td>\n",
              "      <td>0</td>\n",
              "      <td>0</td>\n",
              "      <td>0</td>\n",
              "      <td>0</td>\n",
              "      <td>0</td>\n",
              "      <td>0</td>\n",
              "      <td>0</td>\n",
              "      <td>0</td>\n",
              "      <td>0</td>\n",
              "      <td>0</td>\n",
              "      <td>0</td>\n",
              "      <td>0</td>\n",
              "      <td>0</td>\n",
              "      <td>0</td>\n",
              "      <td>0</td>\n",
              "      <td>0</td>\n",
              "      <td>0</td>\n",
              "    </tr>\n",
              "    <tr>\n",
              "      <th>...</th>\n",
              "      <td>...</td>\n",
              "      <td>...</td>\n",
              "      <td>...</td>\n",
              "      <td>...</td>\n",
              "      <td>...</td>\n",
              "      <td>...</td>\n",
              "      <td>...</td>\n",
              "      <td>...</td>\n",
              "      <td>...</td>\n",
              "      <td>...</td>\n",
              "      <td>...</td>\n",
              "      <td>...</td>\n",
              "      <td>...</td>\n",
              "      <td>...</td>\n",
              "      <td>...</td>\n",
              "      <td>...</td>\n",
              "      <td>...</td>\n",
              "      <td>...</td>\n",
              "      <td>...</td>\n",
              "      <td>...</td>\n",
              "      <td>...</td>\n",
              "    </tr>\n",
              "    <tr>\n",
              "      <th>168</th>\n",
              "      <td>0</td>\n",
              "      <td>0</td>\n",
              "      <td>0</td>\n",
              "      <td>0</td>\n",
              "      <td>0</td>\n",
              "      <td>0</td>\n",
              "      <td>0</td>\n",
              "      <td>0</td>\n",
              "      <td>0</td>\n",
              "      <td>0</td>\n",
              "      <td>0</td>\n",
              "      <td>0</td>\n",
              "      <td>0</td>\n",
              "      <td>0</td>\n",
              "      <td>0</td>\n",
              "      <td>0</td>\n",
              "      <td>0</td>\n",
              "      <td>0</td>\n",
              "      <td>0</td>\n",
              "      <td>0</td>\n",
              "      <td>0</td>\n",
              "    </tr>\n",
              "    <tr>\n",
              "      <th>169</th>\n",
              "      <td>0</td>\n",
              "      <td>0</td>\n",
              "      <td>0</td>\n",
              "      <td>0</td>\n",
              "      <td>0</td>\n",
              "      <td>0</td>\n",
              "      <td>0</td>\n",
              "      <td>0</td>\n",
              "      <td>0</td>\n",
              "      <td>0</td>\n",
              "      <td>0</td>\n",
              "      <td>0</td>\n",
              "      <td>0</td>\n",
              "      <td>0</td>\n",
              "      <td>0</td>\n",
              "      <td>0</td>\n",
              "      <td>0</td>\n",
              "      <td>0</td>\n",
              "      <td>0</td>\n",
              "      <td>0</td>\n",
              "      <td>0</td>\n",
              "    </tr>\n",
              "    <tr>\n",
              "      <th>170</th>\n",
              "      <td>0</td>\n",
              "      <td>0</td>\n",
              "      <td>0</td>\n",
              "      <td>0</td>\n",
              "      <td>0</td>\n",
              "      <td>0</td>\n",
              "      <td>0</td>\n",
              "      <td>0</td>\n",
              "      <td>0</td>\n",
              "      <td>0</td>\n",
              "      <td>0</td>\n",
              "      <td>0</td>\n",
              "      <td>0</td>\n",
              "      <td>0</td>\n",
              "      <td>0</td>\n",
              "      <td>0</td>\n",
              "      <td>0</td>\n",
              "      <td>0</td>\n",
              "      <td>0</td>\n",
              "      <td>0</td>\n",
              "      <td>0</td>\n",
              "    </tr>\n",
              "    <tr>\n",
              "      <th>171</th>\n",
              "      <td>0</td>\n",
              "      <td>0</td>\n",
              "      <td>0</td>\n",
              "      <td>0</td>\n",
              "      <td>0</td>\n",
              "      <td>0</td>\n",
              "      <td>0</td>\n",
              "      <td>0</td>\n",
              "      <td>0</td>\n",
              "      <td>0</td>\n",
              "      <td>0</td>\n",
              "      <td>0</td>\n",
              "      <td>0</td>\n",
              "      <td>0</td>\n",
              "      <td>0</td>\n",
              "      <td>0</td>\n",
              "      <td>0</td>\n",
              "      <td>0</td>\n",
              "      <td>0</td>\n",
              "      <td>0</td>\n",
              "      <td>0</td>\n",
              "    </tr>\n",
              "    <tr>\n",
              "      <th>172</th>\n",
              "      <td>0</td>\n",
              "      <td>0</td>\n",
              "      <td>0</td>\n",
              "      <td>0</td>\n",
              "      <td>0</td>\n",
              "      <td>0</td>\n",
              "      <td>0</td>\n",
              "      <td>0</td>\n",
              "      <td>0</td>\n",
              "      <td>0</td>\n",
              "      <td>0</td>\n",
              "      <td>0</td>\n",
              "      <td>0</td>\n",
              "      <td>0</td>\n",
              "      <td>0</td>\n",
              "      <td>0</td>\n",
              "      <td>0</td>\n",
              "      <td>0</td>\n",
              "      <td>0</td>\n",
              "      <td>0</td>\n",
              "      <td>0</td>\n",
              "    </tr>\n",
              "  </tbody>\n",
              "</table>\n",
              "<p>173 rows × 21 columns</p>\n",
              "</div>"
            ],
            "text/plain": [
              "     Rank  Major_code  Major  ...  College_jobs  Non_college_jobs  Low_wage_jobs\n",
              "0       0           0      0  ...             0                 0              0\n",
              "1       0           0      0  ...             0                 0              0\n",
              "2       0           0      0  ...             0                 0              0\n",
              "3       0           0      0  ...             0                 0              0\n",
              "4       0           0      0  ...             0                 0              0\n",
              "..    ...         ...    ...  ...           ...               ...            ...\n",
              "168     0           0      0  ...             0                 0              0\n",
              "169     0           0      0  ...             0                 0              0\n",
              "170     0           0      0  ...             0                 0              0\n",
              "171     0           0      0  ...             0                 0              0\n",
              "172     0           0      0  ...             0                 0              0\n",
              "\n",
              "[173 rows x 21 columns]"
            ]
          },
          "metadata": {
            "tags": []
          },
          "execution_count": 166
        }
      ]
    },
    {
      "cell_type": "code",
      "metadata": {
        "colab": {
          "base_uri": "https://localhost:8080/",
          "height": 383
        },
        "id": "TXQG5Eh_J_43",
        "outputId": "2ab493ae-a78b-497e-c7d0-d3d00e3d08a8"
      },
      "source": [
        "sns.heatmap(college_isna_numbers)"
      ],
      "execution_count": null,
      "outputs": [
        {
          "output_type": "execute_result",
          "data": {
            "text/plain": [
              "<matplotlib.axes._subplots.AxesSubplot at 0x7f1f04e00a58>"
            ]
          },
          "metadata": {
            "tags": []
          },
          "execution_count": 167
        },
        {
          "output_type": "display_data",
          "data": {
            "image/png": "[encoded data removed]",
            "text/plain": [
              "<Figure size 432x288 with 2 Axes>"
            ]
          },
          "metadata": {
            "tags": [],
            "needs_background": "light"
          }
        }
      ]
    },
    {
      "cell_type": "markdown",
      "metadata": {
        "id": "YtFCOT4h-tv0"
      },
      "source": [
        "##Podpowiedzi"
      ]
    },
    {
      "cell_type": "code",
      "metadata": {
        "id": "zvrCrwZf-tv1"
      },
      "source": [
        "import pandas as pd\n",
        "import seaborn as sns\n",
        "URL = \"https://akademiadatascience.s3-eu-west-1.amazonaws.com/materialy/sds/modul4/recent-grads.csv\"\n",
        "#Heatmapę tworzy się za pomocą funkcji sns.heatmap(). Jako, że szukasz w nich tylko wartości pustych, warto zamiast całego DataFrame wrzucić DataFrame.isnull() - takie filtrowanie na wejściu. \n",
        "#Tego typu heatmapa to dość niestandardowe użycie tej funkcji, za to bardzo przydatne. Na pierwszy rzut oka pozwala ocenić które kolumny zawierają najwięcej wartości brakujących."
      ],
      "execution_count": null,
      "outputs": []
    },
    {
      "cell_type": "markdown",
      "metadata": {
        "id": "tto3Jn7Y-tv1"
      },
      "source": [
        "##Podpowiedzi + rozwiązanie"
      ]
    },
    {
      "cell_type": "code",
      "metadata": {
        "colab": {
          "base_uri": "https://localhost:8080/",
          "height": 361
        },
        "id": "f2PmPRTc-tv1",
        "outputId": "6ced5f57-abe7-458c-f568-8f1c662ab743"
      },
      "source": [
        "import pandas as pd\n",
        "import seaborn as sns\n",
        "URL = \"https://akademiadatascience.s3-eu-west-1.amazonaws.com/materialy/sds/modul4/recent-grads.csv\"\n",
        "#Heatmapę tworzy się za pomocą funkcji sns.heatmap(). Jako, że szukasz w nich tylko wartości pustych, warto zamiast całego DataFrame wrzucić DataFrame.isnull() - takie filtrowanie na wejściu. \n",
        "#Tego typu heatmapa to dość niestandardowe użycie tej funkcji, za to bardzo przydatne. Na pierwszy rzut oka pozwala ocenić które kolumny zawierają najwięcej wartości brakujących.\n",
        "#Pozwala też określić rozkład nulli pomiędzy wierszami.\n",
        "df = pd.read_csv(URL)\n",
        "sns.heatmap(df.isnull(), yticklabels = False, cbar = False);"
      ],
      "execution_count": null,
      "outputs": [
        {
          "output_type": "display_data",
          "data": {
            "image/png": "[encoded data removed]",
            "text/plain": [
              "<Figure size 432x288 with 1 Axes>"
            ]
          },
          "metadata": {
            "tags": [],
            "needs_background": "light"
          }
        }
      ]
    },
    {
      "cell_type": "markdown",
      "metadata": {
        "id": "QVRWmO94CRRr"
      },
      "source": [
        "#Zadanie 8\n"
      ]
    },
    {
      "cell_type": "markdown",
      "metadata": {
        "id": "GrbuyyoZCRRs"
      },
      "source": [
        "1. Przyjmij dataset college majors z zadania 7.\n",
        "\n",
        "2. Stwórz drugi DataFrame o nazwie \"puste\", pomagający podliczyć ilość brakujących wartości w poszczególnych kolumnach.\n",
        "\n",
        "3. Usuń z głównego DataFrame wiersze w których znajdują się wartości brakujące.\n",
        "\n",
        "4. Ponownie narysuj heatmapę wartości brakujących."
      ]
    },
    {
      "cell_type": "code",
      "metadata": {
        "id": "NaRC_MicCRRs"
      },
      "source": [
        "import pandas as pd\n",
        "import seaborn as sns\n",
        "\n",
        "URL = \"https://akademiadatascience.s3-eu-west-1.amazonaws.com/materialy/sds/modul4/recent-grads.csv\""
      ],
      "execution_count": null,
      "outputs": []
    },
    {
      "cell_type": "code",
      "metadata": {
        "colab": {
          "base_uri": "https://localhost:8080/",
          "height": 184
        },
        "id": "Yk81wFqpL3Gk",
        "outputId": "65b5c943-b52d-490e-84ff-674c71ccd6b0"
      },
      "source": [
        "college_majors.head(2)"
      ],
      "execution_count": null,
      "outputs": [
        {
          "output_type": "execute_result",
          "data": {
            "text/html": [
              "<div>\n",
              "<style scoped>\n",
              "    .dataframe tbody tr th:only-of-type {\n",
              "        vertical-align: middle;\n",
              "    }\n",
              "\n",
              "    .dataframe tbody tr th {\n",
              "        vertical-align: top;\n",
              "    }\n",
              "\n",
              "    .dataframe thead th {\n",
              "        text-align: right;\n",
              "    }\n",
              "</style>\n",
              "<table border=\"1\" class=\"dataframe\">\n",
              "  <thead>\n",
              "    <tr style=\"text-align: right;\">\n",
              "      <th></th>\n",
              "      <th>Rank</th>\n",
              "      <th>Major_code</th>\n",
              "      <th>Major</th>\n",
              "      <th>Total</th>\n",
              "      <th>Men</th>\n",
              "      <th>Women</th>\n",
              "      <th>Major_category</th>\n",
              "      <th>ShareWomen</th>\n",
              "      <th>Sample_size</th>\n",
              "      <th>Employed</th>\n",
              "      <th>Full_time</th>\n",
              "      <th>Part_time</th>\n",
              "      <th>Full_time_year_round</th>\n",
              "      <th>Unemployed</th>\n",
              "      <th>Unemployment_rate</th>\n",
              "      <th>Median</th>\n",
              "      <th>P25th</th>\n",
              "      <th>P75th</th>\n",
              "      <th>College_jobs</th>\n",
              "      <th>Non_college_jobs</th>\n",
              "      <th>Low_wage_jobs</th>\n",
              "    </tr>\n",
              "  </thead>\n",
              "  <tbody>\n",
              "    <tr>\n",
              "      <th>0</th>\n",
              "      <td>1</td>\n",
              "      <td>2419</td>\n",
              "      <td>PETROLEUM ENGINEERING</td>\n",
              "      <td>2339.0</td>\n",
              "      <td>2057.0</td>\n",
              "      <td>282.0</td>\n",
              "      <td>Engineering</td>\n",
              "      <td>0.120564</td>\n",
              "      <td>36</td>\n",
              "      <td>1976</td>\n",
              "      <td>1849</td>\n",
              "      <td>270</td>\n",
              "      <td>1207</td>\n",
              "      <td>37</td>\n",
              "      <td>0.018381</td>\n",
              "      <td>110000</td>\n",
              "      <td>95000</td>\n",
              "      <td>125000</td>\n",
              "      <td>1534</td>\n",
              "      <td>364</td>\n",
              "      <td>193</td>\n",
              "    </tr>\n",
              "    <tr>\n",
              "      <th>1</th>\n",
              "      <td>2</td>\n",
              "      <td>2416</td>\n",
              "      <td>MINING AND MINERAL ENGINEERING</td>\n",
              "      <td>756.0</td>\n",
              "      <td>679.0</td>\n",
              "      <td>77.0</td>\n",
              "      <td>Engineering</td>\n",
              "      <td>0.101852</td>\n",
              "      <td>7</td>\n",
              "      <td>640</td>\n",
              "      <td>556</td>\n",
              "      <td>170</td>\n",
              "      <td>388</td>\n",
              "      <td>85</td>\n",
              "      <td>0.117241</td>\n",
              "      <td>75000</td>\n",
              "      <td>55000</td>\n",
              "      <td>90000</td>\n",
              "      <td>350</td>\n",
              "      <td>257</td>\n",
              "      <td>50</td>\n",
              "    </tr>\n",
              "  </tbody>\n",
              "</table>\n",
              "</div>"
            ],
            "text/plain": [
              "   Rank  Major_code  ... Non_college_jobs  Low_wage_jobs\n",
              "0     1        2419  ...              364            193\n",
              "1     2        2416  ...              257             50\n",
              "\n",
              "[2 rows x 21 columns]"
            ]
          },
          "metadata": {
            "tags": []
          },
          "execution_count": 182
        }
      ]
    },
    {
      "cell_type": "code",
      "metadata": {
        "colab": {
          "base_uri": "https://localhost:8080/",
          "height": 132
        },
        "id": "sXOllQBCL3X_",
        "outputId": "0c11534d-487a-460e-af3e-dfc1ef8407d9"
      },
      "source": [
        "col_puste = college_majors.isnull()\r\n",
        "col_puste.head(2)"
      ],
      "execution_count": null,
      "outputs": [
        {
          "output_type": "execute_result",
          "data": {
            "text/html": [
              "<div>\n",
              "<style scoped>\n",
              "    .dataframe tbody tr th:only-of-type {\n",
              "        vertical-align: middle;\n",
              "    }\n",
              "\n",
              "    .dataframe tbody tr th {\n",
              "        vertical-align: top;\n",
              "    }\n",
              "\n",
              "    .dataframe thead th {\n",
              "        text-align: right;\n",
              "    }\n",
              "</style>\n",
              "<table border=\"1\" class=\"dataframe\">\n",
              "  <thead>\n",
              "    <tr style=\"text-align: right;\">\n",
              "      <th></th>\n",
              "      <th>Rank</th>\n",
              "      <th>Major_code</th>\n",
              "      <th>Major</th>\n",
              "      <th>Total</th>\n",
              "      <th>Men</th>\n",
              "      <th>Women</th>\n",
              "      <th>Major_category</th>\n",
              "      <th>ShareWomen</th>\n",
              "      <th>Sample_size</th>\n",
              "      <th>Employed</th>\n",
              "      <th>Full_time</th>\n",
              "      <th>Part_time</th>\n",
              "      <th>Full_time_year_round</th>\n",
              "      <th>Unemployed</th>\n",
              "      <th>Unemployment_rate</th>\n",
              "      <th>Median</th>\n",
              "      <th>P25th</th>\n",
              "      <th>P75th</th>\n",
              "      <th>College_jobs</th>\n",
              "      <th>Non_college_jobs</th>\n",
              "      <th>Low_wage_jobs</th>\n",
              "    </tr>\n",
              "  </thead>\n",
              "  <tbody>\n",
              "    <tr>\n",
              "      <th>0</th>\n",
              "      <td>False</td>\n",
              "      <td>False</td>\n",
              "      <td>False</td>\n",
              "      <td>False</td>\n",
              "      <td>False</td>\n",
              "      <td>False</td>\n",
              "      <td>False</td>\n",
              "      <td>False</td>\n",
              "      <td>False</td>\n",
              "      <td>False</td>\n",
              "      <td>False</td>\n",
              "      <td>False</td>\n",
              "      <td>False</td>\n",
              "      <td>False</td>\n",
              "      <td>False</td>\n",
              "      <td>False</td>\n",
              "      <td>False</td>\n",
              "      <td>False</td>\n",
              "      <td>False</td>\n",
              "      <td>False</td>\n",
              "      <td>False</td>\n",
              "    </tr>\n",
              "    <tr>\n",
              "      <th>1</th>\n",
              "      <td>False</td>\n",
              "      <td>False</td>\n",
              "      <td>False</td>\n",
              "      <td>False</td>\n",
              "      <td>False</td>\n",
              "      <td>False</td>\n",
              "      <td>False</td>\n",
              "      <td>False</td>\n",
              "      <td>False</td>\n",
              "      <td>False</td>\n",
              "      <td>False</td>\n",
              "      <td>False</td>\n",
              "      <td>False</td>\n",
              "      <td>False</td>\n",
              "      <td>False</td>\n",
              "      <td>False</td>\n",
              "      <td>False</td>\n",
              "      <td>False</td>\n",
              "      <td>False</td>\n",
              "      <td>False</td>\n",
              "      <td>False</td>\n",
              "    </tr>\n",
              "  </tbody>\n",
              "</table>\n",
              "</div>"
            ],
            "text/plain": [
              "    Rank  Major_code  Major  ...  College_jobs  Non_college_jobs  Low_wage_jobs\n",
              "0  False       False  False  ...         False             False          False\n",
              "1  False       False  False  ...         False             False          False\n",
              "\n",
              "[2 rows x 21 columns]"
            ]
          },
          "metadata": {
            "tags": []
          },
          "execution_count": 178
        }
      ]
    },
    {
      "cell_type": "code",
      "metadata": {
        "colab": {
          "base_uri": "https://localhost:8080/"
        },
        "id": "pn9WV8hyNWsu",
        "outputId": "b270a9fc-45ef-49f5-dcda-80f6073e7852"
      },
      "source": [
        "col_puste.value_counts()"
      ],
      "execution_count": null,
      "outputs": [
        {
          "output_type": "execute_result",
          "data": {
            "text/plain": [
              "Rank   Major_code  Major  Total  Men    Women  Major_category  ShareWomen  Sample_size  Employed  Full_time  Part_time  Full_time_year_round  Unemployed  Unemployment_rate  Median  P25th  P75th  College_jobs  Non_college_jobs  Low_wage_jobs\n",
              "False  False       False  False  False  False  False           False       False        False     False      False      False                 False       False              False   False  False  False         False             False            172\n",
              "                          True   True   True   False           True        False        False     False      False      False                 False       False              False   False  False  False         False             False              1\n",
              "dtype: int64"
            ]
          },
          "metadata": {
            "tags": []
          },
          "execution_count": 179
        }
      ]
    },
    {
      "cell_type": "code",
      "metadata": {
        "colab": {
          "base_uri": "https://localhost:8080/",
          "height": 670
        },
        "id": "Bud_0zjaNox_",
        "outputId": "56e1cee3-28c6-494a-dbdb-d1d46a391efc"
      },
      "source": [
        "colleges = college_majors.dropna()\r\n",
        "colleges"
      ],
      "execution_count": null,
      "outputs": [
        {
          "output_type": "execute_result",
          "data": {
            "text/html": [
              "<div>\n",
              "<style scoped>\n",
              "    .dataframe tbody tr th:only-of-type {\n",
              "        vertical-align: middle;\n",
              "    }\n",
              "\n",
              "    .dataframe tbody tr th {\n",
              "        vertical-align: top;\n",
              "    }\n",
              "\n",
              "    .dataframe thead th {\n",
              "        text-align: right;\n",
              "    }\n",
              "</style>\n",
              "<table border=\"1\" class=\"dataframe\">\n",
              "  <thead>\n",
              "    <tr style=\"text-align: right;\">\n",
              "      <th></th>\n",
              "      <th>Rank</th>\n",
              "      <th>Major_code</th>\n",
              "      <th>Major</th>\n",
              "      <th>Total</th>\n",
              "      <th>Men</th>\n",
              "      <th>Women</th>\n",
              "      <th>Major_category</th>\n",
              "      <th>ShareWomen</th>\n",
              "      <th>Sample_size</th>\n",
              "      <th>Employed</th>\n",
              "      <th>Full_time</th>\n",
              "      <th>Part_time</th>\n",
              "      <th>Full_time_year_round</th>\n",
              "      <th>Unemployed</th>\n",
              "      <th>Unemployment_rate</th>\n",
              "      <th>Median</th>\n",
              "      <th>P25th</th>\n",
              "      <th>P75th</th>\n",
              "      <th>College_jobs</th>\n",
              "      <th>Non_college_jobs</th>\n",
              "      <th>Low_wage_jobs</th>\n",
              "    </tr>\n",
              "  </thead>\n",
              "  <tbody>\n",
              "    <tr>\n",
              "      <th>0</th>\n",
              "      <td>1</td>\n",
              "      <td>2419</td>\n",
              "      <td>PETROLEUM ENGINEERING</td>\n",
              "      <td>2339.0</td>\n",
              "      <td>2057.0</td>\n",
              "      <td>282.0</td>\n",
              "      <td>Engineering</td>\n",
              "      <td>0.120564</td>\n",
              "      <td>36</td>\n",
              "      <td>1976</td>\n",
              "      <td>1849</td>\n",
              "      <td>270</td>\n",
              "      <td>1207</td>\n",
              "      <td>37</td>\n",
              "      <td>0.018381</td>\n",
              "      <td>110000</td>\n",
              "      <td>95000</td>\n",
              "      <td>125000</td>\n",
              "      <td>1534</td>\n",
              "      <td>364</td>\n",
              "      <td>193</td>\n",
              "    </tr>\n",
              "    <tr>\n",
              "      <th>1</th>\n",
              "      <td>2</td>\n",
              "      <td>2416</td>\n",
              "      <td>MINING AND MINERAL ENGINEERING</td>\n",
              "      <td>756.0</td>\n",
              "      <td>679.0</td>\n",
              "      <td>77.0</td>\n",
              "      <td>Engineering</td>\n",
              "      <td>0.101852</td>\n",
              "      <td>7</td>\n",
              "      <td>640</td>\n",
              "      <td>556</td>\n",
              "      <td>170</td>\n",
              "      <td>388</td>\n",
              "      <td>85</td>\n",
              "      <td>0.117241</td>\n",
              "      <td>75000</td>\n",
              "      <td>55000</td>\n",
              "      <td>90000</td>\n",
              "      <td>350</td>\n",
              "      <td>257</td>\n",
              "      <td>50</td>\n",
              "    </tr>\n",
              "    <tr>\n",
              "      <th>2</th>\n",
              "      <td>3</td>\n",
              "      <td>2415</td>\n",
              "      <td>METALLURGICAL ENGINEERING</td>\n",
              "      <td>856.0</td>\n",
              "      <td>725.0</td>\n",
              "      <td>131.0</td>\n",
              "      <td>Engineering</td>\n",
              "      <td>0.153037</td>\n",
              "      <td>3</td>\n",
              "      <td>648</td>\n",
              "      <td>558</td>\n",
              "      <td>133</td>\n",
              "      <td>340</td>\n",
              "      <td>16</td>\n",
              "      <td>0.024096</td>\n",
              "      <td>73000</td>\n",
              "      <td>50000</td>\n",
              "      <td>105000</td>\n",
              "      <td>456</td>\n",
              "      <td>176</td>\n",
              "      <td>0</td>\n",
              "    </tr>\n",
              "    <tr>\n",
              "      <th>3</th>\n",
              "      <td>4</td>\n",
              "      <td>2417</td>\n",
              "      <td>NAVAL ARCHITECTURE AND MARINE ENGINEERING</td>\n",
              "      <td>1258.0</td>\n",
              "      <td>1123.0</td>\n",
              "      <td>135.0</td>\n",
              "      <td>Engineering</td>\n",
              "      <td>0.107313</td>\n",
              "      <td>16</td>\n",
              "      <td>758</td>\n",
              "      <td>1069</td>\n",
              "      <td>150</td>\n",
              "      <td>692</td>\n",
              "      <td>40</td>\n",
              "      <td>0.050125</td>\n",
              "      <td>70000</td>\n",
              "      <td>43000</td>\n",
              "      <td>80000</td>\n",
              "      <td>529</td>\n",
              "      <td>102</td>\n",
              "      <td>0</td>\n",
              "    </tr>\n",
              "    <tr>\n",
              "      <th>4</th>\n",
              "      <td>5</td>\n",
              "      <td>2405</td>\n",
              "      <td>CHEMICAL ENGINEERING</td>\n",
              "      <td>32260.0</td>\n",
              "      <td>21239.0</td>\n",
              "      <td>11021.0</td>\n",
              "      <td>Engineering</td>\n",
              "      <td>0.341631</td>\n",
              "      <td>289</td>\n",
              "      <td>25694</td>\n",
              "      <td>23170</td>\n",
              "      <td>5180</td>\n",
              "      <td>16697</td>\n",
              "      <td>1672</td>\n",
              "      <td>0.061098</td>\n",
              "      <td>65000</td>\n",
              "      <td>50000</td>\n",
              "      <td>75000</td>\n",
              "      <td>18314</td>\n",
              "      <td>4440</td>\n",
              "      <td>972</td>\n",
              "    </tr>\n",
              "    <tr>\n",
              "      <th>...</th>\n",
              "      <td>...</td>\n",
              "      <td>...</td>\n",
              "      <td>...</td>\n",
              "      <td>...</td>\n",
              "      <td>...</td>\n",
              "      <td>...</td>\n",
              "      <td>...</td>\n",
              "      <td>...</td>\n",
              "      <td>...</td>\n",
              "      <td>...</td>\n",
              "      <td>...</td>\n",
              "      <td>...</td>\n",
              "      <td>...</td>\n",
              "      <td>...</td>\n",
              "      <td>...</td>\n",
              "      <td>...</td>\n",
              "      <td>...</td>\n",
              "      <td>...</td>\n",
              "      <td>...</td>\n",
              "      <td>...</td>\n",
              "      <td>...</td>\n",
              "    </tr>\n",
              "    <tr>\n",
              "      <th>168</th>\n",
              "      <td>169</td>\n",
              "      <td>3609</td>\n",
              "      <td>ZOOLOGY</td>\n",
              "      <td>8409.0</td>\n",
              "      <td>3050.0</td>\n",
              "      <td>5359.0</td>\n",
              "      <td>Biology &amp; Life Science</td>\n",
              "      <td>0.637293</td>\n",
              "      <td>47</td>\n",
              "      <td>6259</td>\n",
              "      <td>5043</td>\n",
              "      <td>2190</td>\n",
              "      <td>3602</td>\n",
              "      <td>304</td>\n",
              "      <td>0.046320</td>\n",
              "      <td>26000</td>\n",
              "      <td>20000</td>\n",
              "      <td>39000</td>\n",
              "      <td>2771</td>\n",
              "      <td>2947</td>\n",
              "      <td>743</td>\n",
              "    </tr>\n",
              "    <tr>\n",
              "      <th>169</th>\n",
              "      <td>170</td>\n",
              "      <td>5201</td>\n",
              "      <td>EDUCATIONAL PSYCHOLOGY</td>\n",
              "      <td>2854.0</td>\n",
              "      <td>522.0</td>\n",
              "      <td>2332.0</td>\n",
              "      <td>Psychology &amp; Social Work</td>\n",
              "      <td>0.817099</td>\n",
              "      <td>7</td>\n",
              "      <td>2125</td>\n",
              "      <td>1848</td>\n",
              "      <td>572</td>\n",
              "      <td>1211</td>\n",
              "      <td>148</td>\n",
              "      <td>0.065112</td>\n",
              "      <td>25000</td>\n",
              "      <td>24000</td>\n",
              "      <td>34000</td>\n",
              "      <td>1488</td>\n",
              "      <td>615</td>\n",
              "      <td>82</td>\n",
              "    </tr>\n",
              "    <tr>\n",
              "      <th>170</th>\n",
              "      <td>171</td>\n",
              "      <td>5202</td>\n",
              "      <td>CLINICAL PSYCHOLOGY</td>\n",
              "      <td>2838.0</td>\n",
              "      <td>568.0</td>\n",
              "      <td>2270.0</td>\n",
              "      <td>Psychology &amp; Social Work</td>\n",
              "      <td>0.799859</td>\n",
              "      <td>13</td>\n",
              "      <td>2101</td>\n",
              "      <td>1724</td>\n",
              "      <td>648</td>\n",
              "      <td>1293</td>\n",
              "      <td>368</td>\n",
              "      <td>0.149048</td>\n",
              "      <td>25000</td>\n",
              "      <td>25000</td>\n",
              "      <td>40000</td>\n",
              "      <td>986</td>\n",
              "      <td>870</td>\n",
              "      <td>622</td>\n",
              "    </tr>\n",
              "    <tr>\n",
              "      <th>171</th>\n",
              "      <td>172</td>\n",
              "      <td>5203</td>\n",
              "      <td>COUNSELING PSYCHOLOGY</td>\n",
              "      <td>4626.0</td>\n",
              "      <td>931.0</td>\n",
              "      <td>3695.0</td>\n",
              "      <td>Psychology &amp; Social Work</td>\n",
              "      <td>0.798746</td>\n",
              "      <td>21</td>\n",
              "      <td>3777</td>\n",
              "      <td>3154</td>\n",
              "      <td>965</td>\n",
              "      <td>2738</td>\n",
              "      <td>214</td>\n",
              "      <td>0.053621</td>\n",
              "      <td>23400</td>\n",
              "      <td>19200</td>\n",
              "      <td>26000</td>\n",
              "      <td>2403</td>\n",
              "      <td>1245</td>\n",
              "      <td>308</td>\n",
              "    </tr>\n",
              "    <tr>\n",
              "      <th>172</th>\n",
              "      <td>173</td>\n",
              "      <td>3501</td>\n",
              "      <td>LIBRARY SCIENCE</td>\n",
              "      <td>1098.0</td>\n",
              "      <td>134.0</td>\n",
              "      <td>964.0</td>\n",
              "      <td>Education</td>\n",
              "      <td>0.877960</td>\n",
              "      <td>2</td>\n",
              "      <td>742</td>\n",
              "      <td>593</td>\n",
              "      <td>237</td>\n",
              "      <td>410</td>\n",
              "      <td>87</td>\n",
              "      <td>0.104946</td>\n",
              "      <td>22000</td>\n",
              "      <td>20000</td>\n",
              "      <td>22000</td>\n",
              "      <td>288</td>\n",
              "      <td>338</td>\n",
              "      <td>192</td>\n",
              "    </tr>\n",
              "  </tbody>\n",
              "</table>\n",
              "<p>172 rows × 21 columns</p>\n",
              "</div>"
            ],
            "text/plain": [
              "     Rank  Major_code  ... Non_college_jobs  Low_wage_jobs\n",
              "0       1        2419  ...              364            193\n",
              "1       2        2416  ...              257             50\n",
              "2       3        2415  ...              176              0\n",
              "3       4        2417  ...              102              0\n",
              "4       5        2405  ...             4440            972\n",
              "..    ...         ...  ...              ...            ...\n",
              "168   169        3609  ...             2947            743\n",
              "169   170        5201  ...              615             82\n",
              "170   171        5202  ...              870            622\n",
              "171   172        5203  ...             1245            308\n",
              "172   173        3501  ...              338            192\n",
              "\n",
              "[172 rows x 21 columns]"
            ]
          },
          "metadata": {
            "tags": []
          },
          "execution_count": 183
        }
      ]
    },
    {
      "cell_type": "markdown",
      "metadata": {
        "id": "jA6RT3EHCRRs"
      },
      "source": [
        "##Podpowiedzi"
      ]
    },
    {
      "cell_type": "code",
      "metadata": {
        "id": "hVYkTTQOCRRs"
      },
      "source": [
        "import pandas as pd\n",
        "import seaborn as sns\n",
        "\n",
        "URL = \"https://akademiadatascience.s3-eu-west-1.amazonaws.com/materialy/sds/modul4/recent-grads.csv\"\n",
        "#Podczas zabawy danymi warto stworzyć sobie zapasowy DataFrame. \n",
        "#Może to uratować Cię przed kosztowną stratą załadowanych danych.\n",
        "#Linijka kodu sortująca kolumny po ilości wartości brakujących jest bardzo przydatna. Pozwala łatwo podjąć decyzję, czy warto dane uzupełniać czy lepiej je usunąć.\n",
        "#Do usuwania danych służy funkcja df.dropna() - nie zapomnij o parametrze inplace= True\n"
      ],
      "execution_count": null,
      "outputs": []
    },
    {
      "cell_type": "markdown",
      "metadata": {
        "id": "4lQ7KeUGCRRt"
      },
      "source": [
        "##Podpowiedzi + rozwiązanie"
      ]
    },
    {
      "cell_type": "code",
      "metadata": {
        "colab": {
          "base_uri": "https://localhost:8080/",
          "height": 361
        },
        "id": "spPGYDjjCRRt",
        "outputId": "9547c6e4-78f4-48b7-b6b7-0692cf7422de"
      },
      "source": [
        "import pandas as pd\n",
        "import seaborn as sns\n",
        "\n",
        "URL = \"https://akademiadatascience.s3-eu-west-1.amazonaws.com/materialy/sds/modul4/recent-grads.csv\"\n",
        "df = pd.read_csv(URL)\n",
        "\n",
        "#Podczas zabawy danymi warto stworzyć sobie zapasowy DataFrame. Może to uratować Cię przed kosztowną stratą załadowanych danych.\n",
        "#Linijka kodu sortująca kolumny po ilości wartości brakujących jest bardzo przydatna. \n",
        "#Pozwala łatwo podjąć decyzję, czy warto dane uzupełniać czy lepiej je usunąć.\n",
        "#Do usuwania danych służy funkcja df.dropna() - nie zapomnij o parametrze inplace = True\n",
        "#Wykorzystaj ten zapis aby wylistować kolumny wraz z ilością brakujących danych:\n",
        "#puste = df.isnull().sum().sort_values()\n",
        "#puste.tail()\n",
        "\n",
        "df.dropna(inplace = True)\n",
        "sns.heatmap(df.isnull(), yticklabels = False, cbar = False);\n"
      ],
      "execution_count": null,
      "outputs": [
        {
          "output_type": "display_data",
          "data": {
            "image/png": "[encoded data removed]",
            "text/plain": [
              "<Figure size 432x288 with 1 Axes>"
            ]
          },
          "metadata": {
            "tags": [],
            "needs_background": "light"
          }
        }
      ]
    },
    {
      "cell_type": "markdown",
      "metadata": {
        "id": "FVbIT-_QCNd9"
      },
      "source": [
        "#Zadanie 9\n"
      ]
    },
    {
      "cell_type": "markdown",
      "metadata": {
        "id": "Zg1eFjlgCNd-"
      },
      "source": [
        "1. Na podstawie datasetu z zadania 7 (college majors) sporządź następujące wykresy:\n",
        "\n",
        "  - Wykres słupkowy przedstawiający top 5 najlepiej zarabiających kierunków (pomiar wg kolumny \"Median\").\n",
        "\n",
        "  - Wykres słupkowy dla kierunków z medianą powyżej 60 000 $, zawierający dodatkowe słupki z wartościami P25th i P75th\n",
        "\n",
        "2. Wykorzystaj pandas plot"
      ]
    },
    {
      "cell_type": "code",
      "metadata": {
        "id": "H0mok5nPCNd-"
      },
      "source": [
        "import pandas as pd\n",
        "import seaborn as sns\n",
        "\n",
        "URL = \"https://akademiadatascience.s3-eu-west-1.amazonaws.com/materialy/sds/modul4/recent-grads.csv\""
      ],
      "execution_count": null,
      "outputs": []
    },
    {
      "cell_type": "code",
      "metadata": {
        "colab": {
          "base_uri": "https://localhost:8080/",
          "height": 365
        },
        "id": "vbi1bUWNQVvT",
        "outputId": "d1bb012c-8c65-419a-ec0b-dc35f3a3a37b"
      },
      "source": [
        "top_earning = college_majors.sort_values('Median', ascending=False).head(5)\r\n",
        "top_earning"
      ],
      "execution_count": null,
      "outputs": [
        {
          "output_type": "execute_result",
          "data": {
            "text/html": [
              "<div>\n",
              "<style scoped>\n",
              "    .dataframe tbody tr th:only-of-type {\n",
              "        vertical-align: middle;\n",
              "    }\n",
              "\n",
              "    .dataframe tbody tr th {\n",
              "        vertical-align: top;\n",
              "    }\n",
              "\n",
              "    .dataframe thead th {\n",
              "        text-align: right;\n",
              "    }\n",
              "</style>\n",
              "<table border=\"1\" class=\"dataframe\">\n",
              "  <thead>\n",
              "    <tr style=\"text-align: right;\">\n",
              "      <th></th>\n",
              "      <th>Rank</th>\n",
              "      <th>Major_code</th>\n",
              "      <th>Major</th>\n",
              "      <th>Total</th>\n",
              "      <th>Men</th>\n",
              "      <th>Women</th>\n",
              "      <th>Major_category</th>\n",
              "      <th>ShareWomen</th>\n",
              "      <th>Sample_size</th>\n",
              "      <th>Employed</th>\n",
              "      <th>Full_time</th>\n",
              "      <th>Part_time</th>\n",
              "      <th>Full_time_year_round</th>\n",
              "      <th>Unemployed</th>\n",
              "      <th>Unemployment_rate</th>\n",
              "      <th>Median</th>\n",
              "      <th>P25th</th>\n",
              "      <th>P75th</th>\n",
              "      <th>College_jobs</th>\n",
              "      <th>Non_college_jobs</th>\n",
              "      <th>Low_wage_jobs</th>\n",
              "    </tr>\n",
              "  </thead>\n",
              "  <tbody>\n",
              "    <tr>\n",
              "      <th>0</th>\n",
              "      <td>1</td>\n",
              "      <td>2419</td>\n",
              "      <td>PETROLEUM ENGINEERING</td>\n",
              "      <td>2339.0</td>\n",
              "      <td>2057.0</td>\n",
              "      <td>282.0</td>\n",
              "      <td>Engineering</td>\n",
              "      <td>0.120564</td>\n",
              "      <td>36</td>\n",
              "      <td>1976</td>\n",
              "      <td>1849</td>\n",
              "      <td>270</td>\n",
              "      <td>1207</td>\n",
              "      <td>37</td>\n",
              "      <td>0.018381</td>\n",
              "      <td>110000</td>\n",
              "      <td>95000</td>\n",
              "      <td>125000</td>\n",
              "      <td>1534</td>\n",
              "      <td>364</td>\n",
              "      <td>193</td>\n",
              "    </tr>\n",
              "    <tr>\n",
              "      <th>1</th>\n",
              "      <td>2</td>\n",
              "      <td>2416</td>\n",
              "      <td>MINING AND MINERAL ENGINEERING</td>\n",
              "      <td>756.0</td>\n",
              "      <td>679.0</td>\n",
              "      <td>77.0</td>\n",
              "      <td>Engineering</td>\n",
              "      <td>0.101852</td>\n",
              "      <td>7</td>\n",
              "      <td>640</td>\n",
              "      <td>556</td>\n",
              "      <td>170</td>\n",
              "      <td>388</td>\n",
              "      <td>85</td>\n",
              "      <td>0.117241</td>\n",
              "      <td>75000</td>\n",
              "      <td>55000</td>\n",
              "      <td>90000</td>\n",
              "      <td>350</td>\n",
              "      <td>257</td>\n",
              "      <td>50</td>\n",
              "    </tr>\n",
              "    <tr>\n",
              "      <th>2</th>\n",
              "      <td>3</td>\n",
              "      <td>2415</td>\n",
              "      <td>METALLURGICAL ENGINEERING</td>\n",
              "      <td>856.0</td>\n",
              "      <td>725.0</td>\n",
              "      <td>131.0</td>\n",
              "      <td>Engineering</td>\n",
              "      <td>0.153037</td>\n",
              "      <td>3</td>\n",
              "      <td>648</td>\n",
              "      <td>558</td>\n",
              "      <td>133</td>\n",
              "      <td>340</td>\n",
              "      <td>16</td>\n",
              "      <td>0.024096</td>\n",
              "      <td>73000</td>\n",
              "      <td>50000</td>\n",
              "      <td>105000</td>\n",
              "      <td>456</td>\n",
              "      <td>176</td>\n",
              "      <td>0</td>\n",
              "    </tr>\n",
              "    <tr>\n",
              "      <th>3</th>\n",
              "      <td>4</td>\n",
              "      <td>2417</td>\n",
              "      <td>NAVAL ARCHITECTURE AND MARINE ENGINEERING</td>\n",
              "      <td>1258.0</td>\n",
              "      <td>1123.0</td>\n",
              "      <td>135.0</td>\n",
              "      <td>Engineering</td>\n",
              "      <td>0.107313</td>\n",
              "      <td>16</td>\n",
              "      <td>758</td>\n",
              "      <td>1069</td>\n",
              "      <td>150</td>\n",
              "      <td>692</td>\n",
              "      <td>40</td>\n",
              "      <td>0.050125</td>\n",
              "      <td>70000</td>\n",
              "      <td>43000</td>\n",
              "      <td>80000</td>\n",
              "      <td>529</td>\n",
              "      <td>102</td>\n",
              "      <td>0</td>\n",
              "    </tr>\n",
              "    <tr>\n",
              "      <th>4</th>\n",
              "      <td>5</td>\n",
              "      <td>2405</td>\n",
              "      <td>CHEMICAL ENGINEERING</td>\n",
              "      <td>32260.0</td>\n",
              "      <td>21239.0</td>\n",
              "      <td>11021.0</td>\n",
              "      <td>Engineering</td>\n",
              "      <td>0.341631</td>\n",
              "      <td>289</td>\n",
              "      <td>25694</td>\n",
              "      <td>23170</td>\n",
              "      <td>5180</td>\n",
              "      <td>16697</td>\n",
              "      <td>1672</td>\n",
              "      <td>0.061098</td>\n",
              "      <td>65000</td>\n",
              "      <td>50000</td>\n",
              "      <td>75000</td>\n",
              "      <td>18314</td>\n",
              "      <td>4440</td>\n",
              "      <td>972</td>\n",
              "    </tr>\n",
              "  </tbody>\n",
              "</table>\n",
              "</div>"
            ],
            "text/plain": [
              "   Rank  Major_code  ... Non_college_jobs  Low_wage_jobs\n",
              "0     1        2419  ...              364            193\n",
              "1     2        2416  ...              257             50\n",
              "2     3        2415  ...              176              0\n",
              "3     4        2417  ...              102              0\n",
              "4     5        2405  ...             4440            972\n",
              "\n",
              "[5 rows x 21 columns]"
            ]
          },
          "metadata": {
            "tags": []
          },
          "execution_count": 3
        }
      ]
    },
    {
      "cell_type": "code",
      "metadata": {
        "colab": {
          "base_uri": "https://localhost:8080/",
          "height": 454
        },
        "id": "FQo6cIZ-RUH8",
        "outputId": "6933c319-f460-47b4-8f95-d833f5289288"
      },
      "source": [
        "best_earnings = sns.barplot(x= top_earning['Major'], y= top_earning['Median'])\r\n",
        "\r\n",
        "#to z stack overflow :) -> trzeba zmieniać nachylenie tick x pętlą.\r\n",
        "for item in best_earnings.get_xticklabels():\r\n",
        "    item.set_rotation(45)"
      ],
      "execution_count": null,
      "outputs": [
        {
          "output_type": "display_data",
          "data": {
            "image/png": "[encoded data removed]",
            "text/plain": [
              "<Figure size 432x288 with 1 Axes>"
            ]
          },
          "metadata": {
            "tags": [],
            "needs_background": "light"
          }
        }
      ]
    },
    {
      "cell_type": "code",
      "metadata": {
        "id": "4pKxHVGBK1Vz"
      },
      "source": [
        "import pandas as pd\r\n",
        "import plotly.express as plt\r\n",
        "import plotly.graph_objects as po"
      ],
      "execution_count": null,
      "outputs": []
    },
    {
      "cell_type": "code",
      "metadata": {
        "id": "5WvwaBjxLYhV"
      },
      "source": [
        "wykres_slup = po.Figure()\r\n"
      ],
      "execution_count": null,
      "outputs": []
    },
    {
      "cell_type": "code",
      "metadata": {
        "colab": {
          "base_uri": "https://localhost:8080/",
          "height": 542
        },
        "id": "l61_wH2fK6hN",
        "outputId": "243ba35f-25f5-4576-db67-c494046fbb73"
      },
      "source": [
        "wykres_slup.add_traces(po.Bar(\r\n",
        "    x = over6k['Major'],\r\n",
        "    y = over6k['Median'],\r\n",
        "    name =  'Median'\r\n",
        "))\r\n",
        "\r\n",
        "wykres_slup.add_traces(po.Bar(\r\n",
        "    x = over6k['Major'],\r\n",
        "    y = over6k['P25th'],\r\n",
        "    name= 'P25th'\r\n",
        "))\r\n",
        "\r\n",
        "wykres_slup.add_traces(po.Bar(\r\n",
        "    x = over6k['Major'],\r\n",
        "    y = over6k['P75th'],\r\n",
        "    name= 'P75th'\r\n",
        "))\r\n",
        "\r\n",
        "wykres_slup.update_layout(title = \"Statystyki zarobków wg kierunków\")"
      ],
      "execution_count": null,
      "outputs": [
        {
          "output_type": "display_data",
          "data": {
            "text/html": [
              "<html>\n",
              "<head><meta charset=\"utf-8\" /></head>\n",
              "<body>\n",
              "    <div>\n",
              "            <script src=\"https://cdnjs.cloudflare.com/ajax/libs/mathjax/2.7.5/MathJax.js?config=TeX-AMS-MML_SVG\"></script><script type=\"text/javascript\">if (window.MathJax) {MathJax.Hub.Config({SVG: {font: \"STIX-Web\"}});}</script>\n",
              "                <script type=\"text/javascript\">window.PlotlyConfig = {MathJaxConfig: 'local'};</script>\n",
              "        <script src=\"https://cdn.plot.ly/plotly-latest.min.js\"></script>    \n",
              "            <div id=\"14c81ec8-1c50-427d-9465-970cfb360c34\" class=\"plotly-graph-div\" style=\"height:525px; width:100%;\"></div>\n",
              "            <script type=\"text/javascript\">\n",
              "                \n",
              "                    window.PLOTLYENV=window.PLOTLYENV || {};\n",
              "                    \n",
              "                if (document.getElementById(\"14c81ec8-1c50-427d-9465-970cfb360c34\")) {\n",
              "                    Plotly.newPlot(\n",
              "                        '14c81ec8-1c50-427d-9465-970cfb360c34',\n",
              "                        [{\"name\": \"Median\", \"type\": \"bar\", \"x\": [\"PETROLEUM ENGINEERING\", \"MINING AND MINERAL ENGINEERING\", \"METALLURGICAL ENGINEERING\", \"NAVAL ARCHITECTURE AND MARINE ENGINEERING\", \"CHEMICAL ENGINEERING\", \"NUCLEAR ENGINEERING\", \"ACTUARIAL SCIENCE\", \"ASTRONOMY AND ASTROPHYSICS\"], \"y\": [110000, 75000, 73000, 70000, 65000, 65000, 62000, 62000]}, {\"name\": \"P25th\", \"type\": \"bar\", \"x\": [\"PETROLEUM ENGINEERING\", \"MINING AND MINERAL ENGINEERING\", \"METALLURGICAL ENGINEERING\", \"NAVAL ARCHITECTURE AND MARINE ENGINEERING\", \"CHEMICAL ENGINEERING\", \"NUCLEAR ENGINEERING\", \"ACTUARIAL SCIENCE\", \"ASTRONOMY AND ASTROPHYSICS\"], \"y\": [95000, 55000, 50000, 43000, 50000, 50000, 53000, 31500]}, {\"name\": \"P75th\", \"type\": \"bar\", \"x\": [\"PETROLEUM ENGINEERING\", \"MINING AND MINERAL ENGINEERING\", \"METALLURGICAL ENGINEERING\", \"NAVAL ARCHITECTURE AND MARINE ENGINEERING\", \"CHEMICAL ENGINEERING\", \"NUCLEAR ENGINEERING\", \"ACTUARIAL SCIENCE\", \"ASTRONOMY AND ASTROPHYSICS\"], \"y\": [125000, 90000, 105000, 80000, 75000, 102000, 72000, 109000]}],\n",
              "                        {\"template\": {\"data\": {\"bar\": [{\"error_x\": {\"color\": \"#2a3f5f\"}, \"error_y\": {\"color\": \"#2a3f5f\"}, \"marker\": {\"line\": {\"color\": \"#E5ECF6\", \"width\": 0.5}}, \"type\": \"bar\"}], \"barpolar\": [{\"marker\": {\"line\": {\"color\": \"#E5ECF6\", \"width\": 0.5}}, \"type\": \"barpolar\"}], \"carpet\": [{\"aaxis\": {\"endlinecolor\": \"#2a3f5f\", \"gridcolor\": \"white\", \"linecolor\": \"white\", \"minorgridcolor\": \"white\", \"startlinecolor\": \"#2a3f5f\"}, \"baxis\": {\"endlinecolor\": \"#2a3f5f\", \"gridcolor\": \"white\", \"linecolor\": \"white\", \"minorgridcolor\": \"white\", \"startlinecolor\": \"#2a3f5f\"}, \"type\": \"carpet\"}], \"choropleth\": [{\"colorbar\": {\"outlinewidth\": 0, \"ticks\": \"\"}, \"type\": \"choropleth\"}], \"contour\": [{\"colorbar\": {\"outlinewidth\": 0, \"ticks\": \"\"}, \"colorscale\": [[0.0, \"#0d0887\"], [0.1111111111111111, \"#46039f\"], [0.2222222222222222, \"#7201a8\"], [0.3333333333333333, \"#9c179e\"], [0.4444444444444444, \"#bd3786\"], [0.5555555555555556, \"#d8576b\"], [0.6666666666666666, \"#ed7953\"], [0.7777777777777778, \"#fb9f3a\"], [0.8888888888888888, \"#fdca26\"], [1.0, \"#f0f921\"]], \"type\": \"contour\"}], \"contourcarpet\": [{\"colorbar\": {\"outlinewidth\": 0, \"ticks\": \"\"}, \"type\": \"contourcarpet\"}], \"heatmap\": [{\"colorbar\": {\"outlinewidth\": 0, \"ticks\": \"\"}, \"colorscale\": [[0.0, \"#0d0887\"], [0.1111111111111111, \"#46039f\"], [0.2222222222222222, \"#7201a8\"], [0.3333333333333333, \"#9c179e\"], [0.4444444444444444, \"#bd3786\"], [0.5555555555555556, \"#d8576b\"], [0.6666666666666666, \"#ed7953\"], [0.7777777777777778, \"#fb9f3a\"], [0.8888888888888888, \"#fdca26\"], [1.0, \"#f0f921\"]], \"type\": \"heatmap\"}], \"heatmapgl\": [{\"colorbar\": {\"outlinewidth\": 0, \"ticks\": \"\"}, \"colorscale\": [[0.0, \"#0d0887\"], [0.1111111111111111, \"#46039f\"], [0.2222222222222222, \"#7201a8\"], [0.3333333333333333, \"#9c179e\"], [0.4444444444444444, \"#bd3786\"], [0.5555555555555556, \"#d8576b\"], [0.6666666666666666, \"#ed7953\"], [0.7777777777777778, \"#fb9f3a\"], [0.8888888888888888, \"#fdca26\"], [1.0, \"#f0f921\"]], \"type\": \"heatmapgl\"}], \"histogram\": [{\"marker\": {\"colorbar\": {\"outlinewidth\": 0, \"ticks\": \"\"}}, \"type\": \"histogram\"}], \"histogram2d\": [{\"colorbar\": {\"outlinewidth\": 0, \"ticks\": \"\"}, \"colorscale\": [[0.0, \"#0d0887\"], [0.1111111111111111, \"#46039f\"], [0.2222222222222222, \"#7201a8\"], [0.3333333333333333, \"#9c179e\"], [0.4444444444444444, \"#bd3786\"], [0.5555555555555556, \"#d8576b\"], [0.6666666666666666, \"#ed7953\"], [0.7777777777777778, \"#fb9f3a\"], [0.8888888888888888, \"#fdca26\"], [1.0, \"#f0f921\"]], \"type\": \"histogram2d\"}], \"histogram2dcontour\": [{\"colorbar\": {\"outlinewidth\": 0, \"ticks\": \"\"}, \"colorscale\": [[0.0, \"#0d0887\"], [0.1111111111111111, \"#46039f\"], [0.2222222222222222, \"#7201a8\"], [0.3333333333333333, \"#9c179e\"], [0.4444444444444444, \"#bd3786\"], [0.5555555555555556, \"#d8576b\"], [0.6666666666666666, \"#ed7953\"], [0.7777777777777778, \"#fb9f3a\"], [0.8888888888888888, \"#fdca26\"], [1.0, \"#f0f921\"]], \"type\": \"histogram2dcontour\"}], \"mesh3d\": [{\"colorbar\": {\"outlinewidth\": 0, \"ticks\": \"\"}, \"type\": \"mesh3d\"}], \"parcoords\": [{\"line\": {\"colorbar\": {\"outlinewidth\": 0, \"ticks\": \"\"}}, \"type\": \"parcoords\"}], \"pie\": [{\"automargin\": true, \"type\": \"pie\"}], \"scatter\": [{\"marker\": {\"colorbar\": {\"outlinewidth\": 0, \"ticks\": \"\"}}, \"type\": \"scatter\"}], \"scatter3d\": [{\"line\": {\"colorbar\": {\"outlinewidth\": 0, \"ticks\": \"\"}}, \"marker\": {\"colorbar\": {\"outlinewidth\": 0, \"ticks\": \"\"}}, \"type\": \"scatter3d\"}], \"scattercarpet\": [{\"marker\": {\"colorbar\": {\"outlinewidth\": 0, \"ticks\": \"\"}}, \"type\": \"scattercarpet\"}], \"scattergeo\": [{\"marker\": {\"colorbar\": {\"outlinewidth\": 0, \"ticks\": \"\"}}, \"type\": \"scattergeo\"}], \"scattergl\": [{\"marker\": {\"colorbar\": {\"outlinewidth\": 0, \"ticks\": \"\"}}, \"type\": \"scattergl\"}], \"scattermapbox\": [{\"marker\": {\"colorbar\": {\"outlinewidth\": 0, \"ticks\": \"\"}}, \"type\": \"scattermapbox\"}], \"scatterpolar\": [{\"marker\": {\"colorbar\": {\"outlinewidth\": 0, \"ticks\": \"\"}}, \"type\": \"scatterpolar\"}], \"scatterpolargl\": [{\"marker\": {\"colorbar\": {\"outlinewidth\": 0, \"ticks\": \"\"}}, \"type\": \"scatterpolargl\"}], \"scatterternary\": [{\"marker\": {\"colorbar\": {\"outlinewidth\": 0, \"ticks\": \"\"}}, \"type\": \"scatterternary\"}], \"surface\": [{\"colorbar\": {\"outlinewidth\": 0, \"ticks\": \"\"}, \"colorscale\": [[0.0, \"#0d0887\"], [0.1111111111111111, \"#46039f\"], [0.2222222222222222, \"#7201a8\"], [0.3333333333333333, \"#9c179e\"], [0.4444444444444444, \"#bd3786\"], [0.5555555555555556, \"#d8576b\"], [0.6666666666666666, \"#ed7953\"], [0.7777777777777778, \"#fb9f3a\"], [0.8888888888888888, \"#fdca26\"], [1.0, \"#f0f921\"]], \"type\": \"surface\"}], \"table\": [{\"cells\": {\"fill\": {\"color\": \"#EBF0F8\"}, \"line\": {\"color\": \"white\"}}, \"header\": {\"fill\": {\"color\": \"#C8D4E3\"}, \"line\": {\"color\": \"white\"}}, \"type\": \"table\"}]}, \"layout\": {\"annotationdefaults\": {\"arrowcolor\": \"#2a3f5f\", \"arrowhead\": 0, \"arrowwidth\": 1}, \"coloraxis\": {\"colorbar\": {\"outlinewidth\": 0, \"ticks\": \"\"}}, \"colorscale\": {\"diverging\": [[0, \"#8e0152\"], [0.1, \"#c51b7d\"], [0.2, \"#de77ae\"], [0.3, \"#f1b6da\"], [0.4, \"#fde0ef\"], [0.5, \"#f7f7f7\"], [0.6, \"#e6f5d0\"], [0.7, \"#b8e186\"], [0.8, \"#7fbc41\"], [0.9, \"#4d9221\"], [1, \"#276419\"]], \"sequential\": [[0.0, \"#0d0887\"], [0.1111111111111111, \"#46039f\"], [0.2222222222222222, \"#7201a8\"], [0.3333333333333333, \"#9c179e\"], [0.4444444444444444, \"#bd3786\"], [0.5555555555555556, \"#d8576b\"], [0.6666666666666666, \"#ed7953\"], [0.7777777777777778, \"#fb9f3a\"], [0.8888888888888888, \"#fdca26\"], [1.0, \"#f0f921\"]], \"sequentialminus\": [[0.0, \"#0d0887\"], [0.1111111111111111, \"#46039f\"], [0.2222222222222222, \"#7201a8\"], [0.3333333333333333, \"#9c179e\"], [0.4444444444444444, \"#bd3786\"], [0.5555555555555556, \"#d8576b\"], [0.6666666666666666, \"#ed7953\"], [0.7777777777777778, \"#fb9f3a\"], [0.8888888888888888, \"#fdca26\"], [1.0, \"#f0f921\"]]}, \"colorway\": [\"#636efa\", \"#EF553B\", \"#00cc96\", \"#ab63fa\", \"#FFA15A\", \"#19d3f3\", \"#FF6692\", \"#B6E880\", \"#FF97FF\", \"#FECB52\"], \"font\": {\"color\": \"#2a3f5f\"}, \"geo\": {\"bgcolor\": \"white\", \"lakecolor\": \"white\", \"landcolor\": \"#E5ECF6\", \"showlakes\": true, \"showland\": true, \"subunitcolor\": \"white\"}, \"hoverlabel\": {\"align\": \"left\"}, \"hovermode\": \"closest\", \"mapbox\": {\"style\": \"light\"}, \"paper_bgcolor\": \"white\", \"plot_bgcolor\": \"#E5ECF6\", \"polar\": {\"angularaxis\": {\"gridcolor\": \"white\", \"linecolor\": \"white\", \"ticks\": \"\"}, \"bgcolor\": \"#E5ECF6\", \"radialaxis\": {\"gridcolor\": \"white\", \"linecolor\": \"white\", \"ticks\": \"\"}}, \"scene\": {\"xaxis\": {\"backgroundcolor\": \"#E5ECF6\", \"gridcolor\": \"white\", \"gridwidth\": 2, \"linecolor\": \"white\", \"showbackground\": true, \"ticks\": \"\", \"zerolinecolor\": \"white\"}, \"yaxis\": {\"backgroundcolor\": \"#E5ECF6\", \"gridcolor\": \"white\", \"gridwidth\": 2, \"linecolor\": \"white\", \"showbackground\": true, \"ticks\": \"\", \"zerolinecolor\": \"white\"}, \"zaxis\": {\"backgroundcolor\": \"#E5ECF6\", \"gridcolor\": \"white\", \"gridwidth\": 2, \"linecolor\": \"white\", \"showbackground\": true, \"ticks\": \"\", \"zerolinecolor\": \"white\"}}, \"shapedefaults\": {\"line\": {\"color\": \"#2a3f5f\"}}, \"ternary\": {\"aaxis\": {\"gridcolor\": \"white\", \"linecolor\": \"white\", \"ticks\": \"\"}, \"baxis\": {\"gridcolor\": \"white\", \"linecolor\": \"white\", \"ticks\": \"\"}, \"bgcolor\": \"#E5ECF6\", \"caxis\": {\"gridcolor\": \"white\", \"linecolor\": \"white\", \"ticks\": \"\"}}, \"title\": {\"x\": 0.05}, \"xaxis\": {\"automargin\": true, \"gridcolor\": \"white\", \"linecolor\": \"white\", \"ticks\": \"\", \"title\": {\"standoff\": 15}, \"zerolinecolor\": \"white\", \"zerolinewidth\": 2}, \"yaxis\": {\"automargin\": true, \"gridcolor\": \"white\", \"linecolor\": \"white\", \"ticks\": \"\", \"title\": {\"standoff\": 15}, \"zerolinecolor\": \"white\", \"zerolinewidth\": 2}}}, \"title\": {\"text\": \"Statystyki zarobk\\u00f3w wg kierunk\\u00f3w\"}},\n",
              "                        {\"responsive\": true}\n",
              "                    ).then(function(){\n",
              "                            \n",
              "var gd = document.getElementById('14c81ec8-1c50-427d-9465-970cfb360c34');\n",
              "var x = new MutationObserver(function (mutations, observer) {{\n",
              "        var display = window.getComputedStyle(gd).display;\n",
              "        if (!display || display === 'none') {{\n",
              "            console.log([gd, 'removed!']);\n",
              "            Plotly.purge(gd);\n",
              "            observer.disconnect();\n",
              "        }}\n",
              "}});\n",
              "\n",
              "// Listen for the removal of the full notebook cells\n",
              "var notebookContainer = gd.closest('#notebook-container');\n",
              "if (notebookContainer) {{\n",
              "    x.observe(notebookContainer, {childList: true});\n",
              "}}\n",
              "\n",
              "// Listen for the clearing of the current output cell\n",
              "var outputEl = gd.closest('.output');\n",
              "if (outputEl) {{\n",
              "    x.observe(outputEl, {childList: true});\n",
              "}}\n",
              "\n",
              "                        })\n",
              "                };\n",
              "                \n",
              "            </script>\n",
              "        </div>\n",
              "</body>\n",
              "</html>"
            ]
          },
          "metadata": {
            "tags": []
          }
        }
      ]
    },
    {
      "cell_type": "markdown",
      "metadata": {
        "id": "rqCFO1SQCNd-"
      },
      "source": [
        "##Podpowiedzi"
      ]
    },
    {
      "cell_type": "code",
      "metadata": {
        "id": "9VSB4wR5CNd-"
      },
      "source": [
        "import pandas as pd\n",
        "import seaborn as sns\n",
        "\n",
        "URL = \"https://akademiadatascience.s3-eu-west-1.amazonaws.com/materialy/sds/modul4/recent-grads.csv\"\n",
        "#moduł pandas plot to kolejna alternatywa dla matplotlib lub plotly express\n",
        "#warto się z nią zapoznać, dokumentacja jest dostępna tutaj: https://realpython.com/pandas-plot-python/"
      ],
      "execution_count": null,
      "outputs": []
    },
    {
      "cell_type": "markdown",
      "metadata": {
        "id": "MD-8qWlJCNd-"
      },
      "source": [
        "##Podpowiedzi + rozwiązanie"
      ]
    },
    {
      "cell_type": "code",
      "metadata": {
        "colab": {
          "base_uri": "https://localhost:8080/",
          "height": 786
        },
        "id": "VnHGEPTeCNd-",
        "outputId": "f29e87e7-2772-44dc-8068-a7e66551b824"
      },
      "source": [
        "import pandas as pd\n",
        "import seaborn as sns\n",
        "\n",
        "URL = \"https://akademiadatascience.s3-eu-west-1.amazonaws.com/materialy/sds/modul4/recent-grads.csv\"\n",
        "df = pd.read_csv(URL)\n",
        "\n",
        "#moduł pandas plot to kolejna alternatywa dla matplotlib lub plotly express\n",
        "#warto się z nią zapoznać, dokumentacja jest dostępna tutaj: https://realpython.com/pandas-plot-python/\n",
        "top_5 = df.sort_values(by=\"Median\", ascending=False).head()\n",
        "top_5.plot(x=\"Major\", y=\"Median\", kind=\"bar\", rot=5, fontsize=4)\n",
        "top_medians = df[df[\"Median\"] > 60000].sort_values(\"Median\")\n",
        "top_medians.plot(x=\"Major\", y=[\"P25th\", \"Median\", \"P75th\"], kind=\"bar\");"
      ],
      "execution_count": null,
      "outputs": [
        {
          "output_type": "display_data",
          "data": {
            "image/png": "[encoded data removed]",
            "text/plain": [
              "<Figure size 432x288 with 1 Axes>"
            ]
          },
          "metadata": {
            "tags": [],
            "needs_background": "light"
          }
        },
        {
          "output_type": "display_data",
          "data": {
            "image/png": "[encoded data removed]",
            "text/plain": [
              "<Figure size 432x288 with 1 Axes>"
            ]
          },
          "metadata": {
            "tags": [],
            "needs_background": "light"
          }
        }
      ]
    },
    {
      "cell_type": "markdown",
      "metadata": {
        "id": "BxpgCYZICWaA"
      },
      "source": [
        "#Zadanie 10\n"
      ]
    },
    {
      "cell_type": "markdown",
      "metadata": {
        "id": "_PzZ2OzVCWaA"
      },
      "source": [
        "Na podstawie datasetu college majors wykorzystaj dowolny pakiet do wizualizacji aby stworzyć wykres kołowy (pie plot).\n",
        "\n",
        "1. Zgrupuj i zsumuj dane ilości studentów - \"Total\" na podstawie kolumny \"Major category\"\n",
        "2. Stwórz wykres kołowy udziału studentów w całkowitej populacji. Kategorie z <200 000 studentów zsumuj i oznacz na wykresie jako \"Other\""
      ]
    },
    {
      "cell_type": "code",
      "metadata": {
        "id": "osF0zqHCCWaA"
      },
      "source": [
        "import pandas as pd\n",
        "import seaborn as sns\n",
        "import plotly.express as plt\n",
        "URL = \"https://raw.githubusercontent.com/fivethirtyeight/data/master/college-majors/recent-grads.csv\""
      ],
      "execution_count": null,
      "outputs": []
    },
    {
      "cell_type": "code",
      "metadata": {
        "colab": {
          "base_uri": "https://localhost:8080/",
          "height": 184
        },
        "id": "Ok22C8gXcslp",
        "outputId": "6be3f75a-ae1e-4653-dcd5-b1387efa31f8"
      },
      "source": [
        "recent_grads = pd.read_csv(URL)\r\n",
        "recent_grads.head(2)"
      ],
      "execution_count": null,
      "outputs": [
        {
          "output_type": "execute_result",
          "data": {
            "text/html": [
              "<div>\n",
              "<style scoped>\n",
              "    .dataframe tbody tr th:only-of-type {\n",
              "        vertical-align: middle;\n",
              "    }\n",
              "\n",
              "    .dataframe tbody tr th {\n",
              "        vertical-align: top;\n",
              "    }\n",
              "\n",
              "    .dataframe thead th {\n",
              "        text-align: right;\n",
              "    }\n",
              "</style>\n",
              "<table border=\"1\" class=\"dataframe\">\n",
              "  <thead>\n",
              "    <tr style=\"text-align: right;\">\n",
              "      <th></th>\n",
              "      <th>Rank</th>\n",
              "      <th>Major_code</th>\n",
              "      <th>Major</th>\n",
              "      <th>Total</th>\n",
              "      <th>Men</th>\n",
              "      <th>Women</th>\n",
              "      <th>Major_category</th>\n",
              "      <th>ShareWomen</th>\n",
              "      <th>Sample_size</th>\n",
              "      <th>Employed</th>\n",
              "      <th>Full_time</th>\n",
              "      <th>Part_time</th>\n",
              "      <th>Full_time_year_round</th>\n",
              "      <th>Unemployed</th>\n",
              "      <th>Unemployment_rate</th>\n",
              "      <th>Median</th>\n",
              "      <th>P25th</th>\n",
              "      <th>P75th</th>\n",
              "      <th>College_jobs</th>\n",
              "      <th>Non_college_jobs</th>\n",
              "      <th>Low_wage_jobs</th>\n",
              "    </tr>\n",
              "  </thead>\n",
              "  <tbody>\n",
              "    <tr>\n",
              "      <th>0</th>\n",
              "      <td>1</td>\n",
              "      <td>2419</td>\n",
              "      <td>PETROLEUM ENGINEERING</td>\n",
              "      <td>2339.0</td>\n",
              "      <td>2057.0</td>\n",
              "      <td>282.0</td>\n",
              "      <td>Engineering</td>\n",
              "      <td>0.120564</td>\n",
              "      <td>36</td>\n",
              "      <td>1976</td>\n",
              "      <td>1849</td>\n",
              "      <td>270</td>\n",
              "      <td>1207</td>\n",
              "      <td>37</td>\n",
              "      <td>0.018381</td>\n",
              "      <td>110000</td>\n",
              "      <td>95000</td>\n",
              "      <td>125000</td>\n",
              "      <td>1534</td>\n",
              "      <td>364</td>\n",
              "      <td>193</td>\n",
              "    </tr>\n",
              "    <tr>\n",
              "      <th>1</th>\n",
              "      <td>2</td>\n",
              "      <td>2416</td>\n",
              "      <td>MINING AND MINERAL ENGINEERING</td>\n",
              "      <td>756.0</td>\n",
              "      <td>679.0</td>\n",
              "      <td>77.0</td>\n",
              "      <td>Engineering</td>\n",
              "      <td>0.101852</td>\n",
              "      <td>7</td>\n",
              "      <td>640</td>\n",
              "      <td>556</td>\n",
              "      <td>170</td>\n",
              "      <td>388</td>\n",
              "      <td>85</td>\n",
              "      <td>0.117241</td>\n",
              "      <td>75000</td>\n",
              "      <td>55000</td>\n",
              "      <td>90000</td>\n",
              "      <td>350</td>\n",
              "      <td>257</td>\n",
              "      <td>50</td>\n",
              "    </tr>\n",
              "  </tbody>\n",
              "</table>\n",
              "</div>"
            ],
            "text/plain": [
              "   Rank  Major_code  ... Non_college_jobs  Low_wage_jobs\n",
              "0     1        2419  ...              364            193\n",
              "1     2        2416  ...              257             50\n",
              "\n",
              "[2 rows x 21 columns]"
            ]
          },
          "metadata": {
            "tags": []
          },
          "execution_count": 80
        }
      ]
    },
    {
      "cell_type": "code",
      "metadata": {
        "colab": {
          "base_uri": "https://localhost:8080/",
          "height": 278
        },
        "id": "zhWfYKpzc9c-",
        "outputId": "52568dbc-acfa-4c52-a7fa-6c3d0d9d2bf6"
      },
      "source": [
        "recent_grads_major  = recent_grads.groupby(['Major_category']).sum()\r\n",
        "recent_grads_major.head(4)"
      ],
      "execution_count": null,
      "outputs": [
        {
          "output_type": "execute_result",
          "data": {
            "text/html": [
              "<div>\n",
              "<style scoped>\n",
              "    .dataframe tbody tr th:only-of-type {\n",
              "        vertical-align: middle;\n",
              "    }\n",
              "\n",
              "    .dataframe tbody tr th {\n",
              "        vertical-align: top;\n",
              "    }\n",
              "\n",
              "    .dataframe thead th {\n",
              "        text-align: right;\n",
              "    }\n",
              "</style>\n",
              "<table border=\"1\" class=\"dataframe\">\n",
              "  <thead>\n",
              "    <tr style=\"text-align: right;\">\n",
              "      <th></th>\n",
              "      <th>Rank</th>\n",
              "      <th>Major_code</th>\n",
              "      <th>Total</th>\n",
              "      <th>Men</th>\n",
              "      <th>Women</th>\n",
              "      <th>ShareWomen</th>\n",
              "      <th>Sample_size</th>\n",
              "      <th>Employed</th>\n",
              "      <th>Full_time</th>\n",
              "      <th>Part_time</th>\n",
              "      <th>Full_time_year_round</th>\n",
              "      <th>Unemployed</th>\n",
              "      <th>Unemployment_rate</th>\n",
              "      <th>Median</th>\n",
              "      <th>P25th</th>\n",
              "      <th>P75th</th>\n",
              "      <th>College_jobs</th>\n",
              "      <th>Non_college_jobs</th>\n",
              "      <th>Low_wage_jobs</th>\n",
              "    </tr>\n",
              "    <tr>\n",
              "      <th>Major_category</th>\n",
              "      <th></th>\n",
              "      <th></th>\n",
              "      <th></th>\n",
              "      <th></th>\n",
              "      <th></th>\n",
              "      <th></th>\n",
              "      <th></th>\n",
              "      <th></th>\n",
              "      <th></th>\n",
              "      <th></th>\n",
              "      <th></th>\n",
              "      <th></th>\n",
              "      <th></th>\n",
              "      <th></th>\n",
              "      <th></th>\n",
              "      <th></th>\n",
              "      <th></th>\n",
              "      <th></th>\n",
              "      <th></th>\n",
              "    </tr>\n",
              "  </thead>\n",
              "  <tbody>\n",
              "    <tr>\n",
              "      <th>Agriculture &amp; Natural Resources</th>\n",
              "      <td>1015</td>\n",
              "      <td>11525</td>\n",
              "      <td>75620.0</td>\n",
              "      <td>40357.0</td>\n",
              "      <td>35263.0</td>\n",
              "      <td>3.647407</td>\n",
              "      <td>1104</td>\n",
              "      <td>66943</td>\n",
              "      <td>58143</td>\n",
              "      <td>16591</td>\n",
              "      <td>43626</td>\n",
              "      <td>3824</td>\n",
              "      <td>0.563283</td>\n",
              "      <td>369000</td>\n",
              "      <td>254000</td>\n",
              "      <td>480100</td>\n",
              "      <td>19860</td>\n",
              "      <td>34491</td>\n",
              "      <td>7899</td>\n",
              "    </tr>\n",
              "    <tr>\n",
              "      <th>Arts</th>\n",
              "      <td>1049</td>\n",
              "      <td>48121</td>\n",
              "      <td>357130.0</td>\n",
              "      <td>134390.0</td>\n",
              "      <td>222740.0</td>\n",
              "      <td>4.829264</td>\n",
              "      <td>3260</td>\n",
              "      <td>288114</td>\n",
              "      <td>207773</td>\n",
              "      <td>114791</td>\n",
              "      <td>153111</td>\n",
              "      <td>28228</td>\n",
              "      <td>0.721382</td>\n",
              "      <td>264500</td>\n",
              "      <td>175700</td>\n",
              "      <td>349300</td>\n",
              "      <td>94785</td>\n",
              "      <td>163720</td>\n",
              "      <td>60116</td>\n",
              "    </tr>\n",
              "    <tr>\n",
              "      <th>Biology &amp; Life Science</th>\n",
              "      <td>1335</td>\n",
              "      <td>48662</td>\n",
              "      <td>453862.0</td>\n",
              "      <td>184919.0</td>\n",
              "      <td>268943.0</td>\n",
              "      <td>8.220700</td>\n",
              "      <td>2317</td>\n",
              "      <td>302797</td>\n",
              "      <td>240377</td>\n",
              "      <td>116736</td>\n",
              "      <td>165802</td>\n",
              "      <td>22854</td>\n",
              "      <td>0.852849</td>\n",
              "      <td>509900</td>\n",
              "      <td>372600</td>\n",
              "      <td>645200</td>\n",
              "      <td>151233</td>\n",
              "      <td>127182</td>\n",
              "      <td>42742</td>\n",
              "    </tr>\n",
              "    <tr>\n",
              "      <th>Business</th>\n",
              "      <td>726</td>\n",
              "      <td>80769</td>\n",
              "      <td>1302376.0</td>\n",
              "      <td>667852.0</td>\n",
              "      <td>634524.0</td>\n",
              "      <td>6.281573</td>\n",
              "      <td>15505</td>\n",
              "      <td>1088742</td>\n",
              "      <td>988870</td>\n",
              "      <td>196936</td>\n",
              "      <td>790425</td>\n",
              "      <td>79877</td>\n",
              "      <td>0.923826</td>\n",
              "      <td>566000</td>\n",
              "      <td>435000</td>\n",
              "      <td>713000</td>\n",
              "      <td>148538</td>\n",
              "      <td>496570</td>\n",
              "      <td>126788</td>\n",
              "    </tr>\n",
              "  </tbody>\n",
              "</table>\n",
              "</div>"
            ],
            "text/plain": [
              "                                 Rank  ...  Low_wage_jobs\n",
              "Major_category                         ...               \n",
              "Agriculture & Natural Resources  1015  ...           7899\n",
              "Arts                             1049  ...          60116\n",
              "Biology & Life Science           1335  ...          42742\n",
              "Business                          726  ...         126788\n",
              "\n",
              "[4 rows x 19 columns]"
            ]
          },
          "metadata": {
            "tags": []
          },
          "execution_count": 85
        }
      ]
    },
    {
      "cell_type": "code",
      "metadata": {
        "id": "bf6HFxKJdT37"
      },
      "source": [
        "big_schools = recent_grads_major[recent_grads_major[\"Total\"] > 200000]\r\n",
        "big_schools"
      ],
      "execution_count": null,
      "outputs": []
    },
    {
      "cell_type": "code",
      "metadata": {
        "colab": {
          "base_uri": "https://localhost:8080/",
          "height": 296
        },
        "id": "izwkM52fkMsX",
        "outputId": "501d03f3-a466-4cd4-954c-74ca834094f3"
      },
      "source": [
        "small_schools = recent_grads_major[recent_grads_major[\"Total\"] < 200000]\r\n",
        "small_schools"
      ],
      "execution_count": null,
      "outputs": [
        {
          "output_type": "execute_result",
          "data": {
            "text/html": [
              "<div>\n",
              "<style scoped>\n",
              "    .dataframe tbody tr th:only-of-type {\n",
              "        vertical-align: middle;\n",
              "    }\n",
              "\n",
              "    .dataframe tbody tr th {\n",
              "        vertical-align: top;\n",
              "    }\n",
              "\n",
              "    .dataframe thead th {\n",
              "        text-align: right;\n",
              "    }\n",
              "</style>\n",
              "<table border=\"1\" class=\"dataframe\">\n",
              "  <thead>\n",
              "    <tr style=\"text-align: right;\">\n",
              "      <th></th>\n",
              "      <th>Rank</th>\n",
              "      <th>Major_code</th>\n",
              "      <th>Total</th>\n",
              "      <th>Men</th>\n",
              "      <th>Women</th>\n",
              "      <th>ShareWomen</th>\n",
              "      <th>Sample_size</th>\n",
              "      <th>Employed</th>\n",
              "      <th>Full_time</th>\n",
              "      <th>Part_time</th>\n",
              "      <th>Full_time_year_round</th>\n",
              "      <th>Unemployed</th>\n",
              "      <th>Unemployment_rate</th>\n",
              "      <th>Median</th>\n",
              "      <th>P25th</th>\n",
              "      <th>P75th</th>\n",
              "      <th>College_jobs</th>\n",
              "      <th>Non_college_jobs</th>\n",
              "      <th>Low_wage_jobs</th>\n",
              "    </tr>\n",
              "    <tr>\n",
              "      <th>Major_category</th>\n",
              "      <th></th>\n",
              "      <th></th>\n",
              "      <th></th>\n",
              "      <th></th>\n",
              "      <th></th>\n",
              "      <th></th>\n",
              "      <th></th>\n",
              "      <th></th>\n",
              "      <th></th>\n",
              "      <th></th>\n",
              "      <th></th>\n",
              "      <th></th>\n",
              "      <th></th>\n",
              "      <th></th>\n",
              "      <th></th>\n",
              "      <th></th>\n",
              "      <th></th>\n",
              "      <th></th>\n",
              "      <th></th>\n",
              "    </tr>\n",
              "  </thead>\n",
              "  <tbody>\n",
              "    <tr>\n",
              "      <th>Agriculture &amp; Natural Resources</th>\n",
              "      <td>1015</td>\n",
              "      <td>11525</td>\n",
              "      <td>75620.0</td>\n",
              "      <td>40357.0</td>\n",
              "      <td>35263.0</td>\n",
              "      <td>3.647407</td>\n",
              "      <td>1104</td>\n",
              "      <td>66943</td>\n",
              "      <td>58143</td>\n",
              "      <td>16591</td>\n",
              "      <td>43626</td>\n",
              "      <td>3824</td>\n",
              "      <td>0.563283</td>\n",
              "      <td>369000</td>\n",
              "      <td>254000</td>\n",
              "      <td>480100</td>\n",
              "      <td>19860</td>\n",
              "      <td>34491</td>\n",
              "      <td>7899</td>\n",
              "    </tr>\n",
              "    <tr>\n",
              "      <th>Interdisciplinary</th>\n",
              "      <td>110</td>\n",
              "      <td>4000</td>\n",
              "      <td>12296.0</td>\n",
              "      <td>2817.0</td>\n",
              "      <td>9479.0</td>\n",
              "      <td>0.770901</td>\n",
              "      <td>128</td>\n",
              "      <td>9821</td>\n",
              "      <td>8032</td>\n",
              "      <td>3173</td>\n",
              "      <td>6234</td>\n",
              "      <td>749</td>\n",
              "      <td>0.070861</td>\n",
              "      <td>35000</td>\n",
              "      <td>25000</td>\n",
              "      <td>44000</td>\n",
              "      <td>5176</td>\n",
              "      <td>3903</td>\n",
              "      <td>1061</td>\n",
              "    </tr>\n",
              "    <tr>\n",
              "      <th>Law &amp; Public Policy</th>\n",
              "      <td>323</td>\n",
              "      <td>22507</td>\n",
              "      <td>179107.0</td>\n",
              "      <td>91129.0</td>\n",
              "      <td>87978.0</td>\n",
              "      <td>2.418244</td>\n",
              "      <td>1935</td>\n",
              "      <td>144790</td>\n",
              "      <td>126940</td>\n",
              "      <td>38213</td>\n",
              "      <td>100454</td>\n",
              "      <td>13495</td>\n",
              "      <td>0.454024</td>\n",
              "      <td>211000</td>\n",
              "      <td>163200</td>\n",
              "      <td>275000</td>\n",
              "      <td>29221</td>\n",
              "      <td>100024</td>\n",
              "      <td>20720</td>\n",
              "    </tr>\n",
              "    <tr>\n",
              "      <th>Physical Sciences</th>\n",
              "      <td>676</td>\n",
              "      <td>50228</td>\n",
              "      <td>185479.0</td>\n",
              "      <td>95390.0</td>\n",
              "      <td>90089.0</td>\n",
              "      <td>5.086834</td>\n",
              "      <td>1137</td>\n",
              "      <td>139231</td>\n",
              "      <td>112852</td>\n",
              "      <td>43444</td>\n",
              "      <td>85635</td>\n",
              "      <td>7880</td>\n",
              "      <td>0.465111</td>\n",
              "      <td>418900</td>\n",
              "      <td>283500</td>\n",
              "      <td>572900</td>\n",
              "      <td>76552</td>\n",
              "      <td>49469</td>\n",
              "      <td>14078</td>\n",
              "    </tr>\n",
              "  </tbody>\n",
              "</table>\n",
              "</div>"
            ],
            "text/plain": [
              "                                 Rank  ...  Low_wage_jobs\n",
              "Major_category                         ...               \n",
              "Agriculture & Natural Resources  1015  ...           7899\n",
              "Interdisciplinary                 110  ...           1061\n",
              "Law & Public Policy               323  ...          20720\n",
              "Physical Sciences                 676  ...          14078\n",
              "\n",
              "[4 rows x 19 columns]"
            ]
          },
          "metadata": {
            "tags": []
          },
          "execution_count": 97
        }
      ]
    },
    {
      "cell_type": "code",
      "metadata": {
        "id": "DgE21rDqmM-B"
      },
      "source": [
        "small_schools = pd.Series([small_schools.sum()], index=[\"Other\"])\r\n",
        "small_schools"
      ],
      "execution_count": null,
      "outputs": []
    },
    {
      "cell_type": "markdown",
      "metadata": {
        "id": "JqCKdwjHCWaA"
      },
      "source": [
        "##Podpowiedzi"
      ]
    },
    {
      "cell_type": "code",
      "metadata": {
        "id": "pl-gPSZvCWaA"
      },
      "source": [
        "import pandas as pd\n",
        "import seaborn as sns\n",
        "URL = \"https://raw.githubusercontent.com/fivethirtyeight/data/master/college-majors/recent-grads.csv\"\n",
        "#Stwórz nowy obiekt zawierający pogrupowane sumy \"Total\" wg kolumny \"Major_category\"\n",
        "#Stwórz listę z wartością >200 000 (\"duże\" kierunki)\n",
        "#Stwórz listę z wartością <200 000 (\"małe\" kierunki, do zsumowania)\n",
        "#Zsumuj kierunki z listy małych kierunków, nadaj im index=[\"Other\"]\n",
        "#Dopisz do listy \"dużych\" kierunków zsumowaną listę małych o indeksie \"Other\"\n",
        "#Wywołaj funkcję rysującą wykres kołowy"
      ],
      "execution_count": null,
      "outputs": []
    },
    {
      "cell_type": "markdown",
      "metadata": {
        "id": "jnPPvmuhCWaA"
      },
      "source": [
        "##Podpowiedzi + rozwiązanie"
      ]
    },
    {
      "cell_type": "code",
      "metadata": {
        "colab": {
          "base_uri": "https://localhost:8080/",
          "height": 247
        },
        "id": "EPH6OSa1CWaA",
        "outputId": "60c9dbef-05cc-41bf-ff39-989bbf16a48f"
      },
      "source": [
        "import pandas as pd\n",
        "import seaborn as sns\n",
        "\n",
        "URL = \"https://akademiadatascience.s3-eu-west-1.amazonaws.com/materialy/sds/modul4/recent-grads.csv\"\n",
        "df = pd.read_csv(URL)\n",
        "\n",
        "#Stwórz nowy obiekt zawierający pogrupowane sumy \"Total\" wg kolumny \"Major_category\"\n",
        "cat_totals = df.groupby(\"Major_category\")[\"Total\"].sum().sort_values()\n",
        "\n",
        "#Stwórz listę z wartością >200 000 (\"duże\" kierunki)\n",
        "#Stwórz listę z wartością <200 000 (\"małe\" kierunki, do zsumowania)\n",
        "small_cat_totals = cat_totals[cat_totals < 200000]\n",
        "big_cat_totals = cat_totals[cat_totals > 200000]\n",
        "\n",
        "#Zsumuj kierunki z listy małych kierunków, nadaj im index=[\"Other\"]\n",
        "small_sums = pd.Series([small_cat_totals.sum()], index=[\"Other\"])\n",
        "\n",
        "#Dopisz do listy \"dużych\" kierunków zsumowaną listę małych o indeksie \"Other\"\n",
        "big_cat_totals = big_cat_totals.append(small_sums)\n",
        "\n",
        "#Wywołaj funkcję rysującą wykres kołowy\n",
        "big_cat_totals.plot(kind=\"pie\", label=\"\");\n"
      ],
      "execution_count": null,
      "outputs": [
        {
          "output_type": "display_data",
          "data": {
            "image/png": "[encoded data removed]",
            "text/plain": [
              "<Figure size 432x288 with 1 Axes>"
            ]
          },
          "metadata": {
            "tags": []
          }
        }
      ]
    },
    {
      "cell_type": "code",
      "metadata": {
        "id": "vluNbcHhWrVr"
      },
      "source": [
        ""
      ],
      "execution_count": null,
      "outputs": []
    }
  ]
}
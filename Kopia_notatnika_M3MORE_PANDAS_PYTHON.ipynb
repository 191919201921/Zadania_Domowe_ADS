{
  "nbformat": 4,
  "nbformat_minor": 0,
  "metadata": {
    "colab": {
      "name": "Kopia notatnika M3MORE-PANDAS-PYTHON.ipynb",
      "provenance": [],
      "collapsed_sections": [
        "X5svsRlc8V7w",
        "0dG-lOop8z3Q",
        "XTMbJ4iKAA52",
        "SD1CD8YRBtU0",
        "EUojHss_EYVO",
        "8ELTRoYPFHry",
        "GVDj07ZKMh7e",
        "xvIdu1NmMmQ5",
        "gwDux0tmPXaj",
        "CjOoKj7BQafT",
        "YYBO21UuJO46",
        "g8YFAxS7JWXO",
        "CQJ3gkUdN75p",
        "apYFKFGvOAj4",
        "gaDYxhC_SC55",
        "ollIx6-XSC59",
        "VrnKa4RgSFCb",
        "yQvjyXP6SFCf",
        "wsrBaBpBWklg",
        "CUCXm0LUWklm",
        "FwG1fXpv5-Kj",
        "iew7zhLo5-Kj",
        "SoXpMo_x5_OU",
        "9ZGH009Q5_OV"
      ],
      "toc_visible": true,
      "include_colab_link": true
    },
    "kernelspec": {
      "name": "python3",
      "display_name": "Python 3"
    }
  },
  "cells": [
    {
      "cell_type": "markdown",
      "metadata": {
        "id": "view-in-github",
        "colab_type": "text"
      },
      "source": [
        "<a href=\"https://colab.research.google.com/github/191919201921/Zadania_Domowe_ADS/blob/main/Kopia_notatnika_M3MORE_PANDAS_PYTHON.ipynb\" target=\"_parent\"><img src=\"https://colab.research.google.com/assets/colab-badge.svg\" alt=\"Open In Colab\"/></a>"
      ]
    },
    {
      "cell_type": "markdown",
      "metadata": {
        "id": "NKvwJ-9J8KMV"
      },
      "source": [
        "**Praktyczne zadania - Podstawy Pandas w Python**"
      ]
    },
    {
      "cell_type": "markdown",
      "metadata": {
        "id": "O4Ni4oos8Kyo"
      },
      "source": [
        "# Zadanie 1\n"
      ]
    },
    {
      "cell_type": "markdown",
      "metadata": {
        "id": "_8iNHBPU8Z_A"
      },
      "source": [
        "1. Zaimportuj pandas jako pd<br>\n",
        "2. Zaimportuj numpy jako np\n",
        "\n",
        "3. Stwórz obiekt pandas Series z listy zakupów poniżej. Przypisz go do zmiennej **lista_zakupow** i wyświetl:\n",
        "  *   mleko\n",
        "  *   jajka\n",
        "  *   pieprz\n",
        "  *   ser\n",
        "  *   woda\n",
        "  *   piwo\n",
        "  *   pomidory\n",
        "\n",
        "4. Wyświetl tylko wartości (values) tego obiektu Series."
      ]
    },
    {
      "cell_type": "code",
      "metadata": {
        "id": "JpbWO6CQ8rSc"
      },
      "source": [
        "import pandas as pd\r\n",
        "import numpy as np"
      ],
      "execution_count": null,
      "outputs": []
    },
    {
      "cell_type": "code",
      "metadata": {
        "colab": {
          "base_uri": "https://localhost:8080/"
        },
        "id": "Np15MSv0gWd_",
        "outputId": "cd0390d0-3aed-4251-bc35-95b52fb5a94d"
      },
      "source": [
        "lista_zakupow = pd.Series(['mleko','jajka','pieprz','ser','woda','piwo','pomidory'])\r\n",
        "lista_zakupow.values\r\n"
      ],
      "execution_count": null,
      "outputs": [
        {
          "output_type": "execute_result",
          "data": {
            "text/plain": [
              "array(['mleko', 'jajka', 'pieprz', 'ser', 'woda', 'piwo', 'pomidory'],\n",
              "      dtype=object)"
            ]
          },
          "metadata": {
            "tags": []
          },
          "execution_count": 3
        }
      ]
    },
    {
      "cell_type": "code",
      "metadata": {
        "colab": {
          "base_uri": "https://localhost:8080/"
        },
        "id": "RUVQlyF1hSM9",
        "outputId": "45048d8d-9d5d-4838-bda3-929039372541"
      },
      "source": [
        "for x in lista_zakupow.values:\r\n",
        "  print(x)"
      ],
      "execution_count": null,
      "outputs": [
        {
          "output_type": "stream",
          "text": [
            "mleko\n",
            "jajka\n",
            "pieprz\n",
            "ser\n",
            "woda\n",
            "piwo\n",
            "pomidory\n"
          ],
          "name": "stdout"
        }
      ]
    },
    {
      "cell_type": "markdown",
      "metadata": {
        "id": "X5svsRlc8V7w"
      },
      "source": [
        "## Podpowiedzi\n"
      ]
    },
    {
      "cell_type": "code",
      "metadata": {
        "id": "1zmk1Msu75hF"
      },
      "source": [
        "# Obiekt typu Series w pandas generuje się za pomocą pd.Series\n",
        "# Series to jednowymiarowy, indeksowany szyk (array), będący w stanie przechowywać dane dowolnego typu.\n",
        "# Oś labeli jest nazywana jako index.\n",
        "# Oś z właściwą zawartością Series nazywana jest jako wartości (values)."
      ],
      "execution_count": null,
      "outputs": []
    },
    {
      "cell_type": "markdown",
      "metadata": {
        "id": "0dG-lOop8z3Q"
      },
      "source": [
        "## Podpowiedzi + rozwiązanie"
      ]
    },
    {
      "cell_type": "code",
      "metadata": {
        "id": "Bx3Orjtl87MU",
        "colab": {
          "base_uri": "https://localhost:8080/"
        },
        "outputId": "61767a54-d08a-403a-a6bf-be1b64768194"
      },
      "source": [
        "# Obiekt typu Series w pandas generuje się za pomocą pd.Series\n",
        "# Series to jednowymiarowy, indeksowany szyk (array), będący w stanie przechowywać dane dowolnego typu.\n",
        "# Oś labeli jest nazywana jako index.\n",
        "# Oś z właściwą zawartością Series nazywana jest jako wartości (values).\n",
        "\n",
        "import pandas as pd\n",
        "import numpy as np\n",
        "lista_zakupow = pd.Series([\"mleko\", \"jajka\", \"pieprz\", \"ser\", \"woda\", \"piwo\", \"pomidory\"])\n",
        "\n",
        "print(lista_zakupow)\n",
        "print(lista_zakupow.values)"
      ],
      "execution_count": null,
      "outputs": [
        {
          "output_type": "stream",
          "text": [
            "0       mleko\n",
            "1       jajka\n",
            "2      pieprz\n",
            "3         ser\n",
            "4        woda\n",
            "5        piwo\n",
            "6    pomidory\n",
            "dtype: object\n",
            "['mleko' 'jajka' 'pieprz' 'ser' 'woda' 'piwo' 'pomidory']\n"
          ],
          "name": "stdout"
        }
      ]
    },
    {
      "cell_type": "markdown",
      "metadata": {
        "id": "r75hDuVh_VVL"
      },
      "source": [
        "#Zadanie 2"
      ]
    },
    {
      "cell_type": "markdown",
      "metadata": {
        "id": "3AsIJHUe_Yqu"
      },
      "source": [
        "1. Stwórz obiekt pandas Date Series rozpoczynający się od 1 stycznia 2019r. i kończący na 1 stycznia 2020r. z krokiem miesięcznym. \n",
        "\n",
        "2. Zapisz jako **miesiace_series**. Wyświetl wynik.\n",
        "\n",
        "3. Stwórz kolejny obiekt pandas Date Series rozpoczynający się 1 stycznia 2019r. i pokrywający 12 okresów co miesiąc. \n",
        "\n",
        "4. Zapisz jako **miesiace_series_okres**. Wyświetl wynik.\n",
        "\n",
        "5. Czy te dwa obiekty są identyczne?"
      ]
    },
    {
      "cell_type": "code",
      "metadata": {
        "id": "sdAmjzy-Y-Og"
      },
      "source": [
        ""
      ],
      "execution_count": null,
      "outputs": []
    },
    {
      "cell_type": "code",
      "metadata": {
        "id": "I1LhTtK0__e5",
        "colab": {
          "base_uri": "https://localhost:8080/"
        },
        "outputId": "61dd5175-05bf-4870-c74c-2570bdb32f18"
      },
      "source": [
        "miesiace_series = pd.date_range(start='1/1/2019',end='1/1/2020',freq='M')\r\n",
        "miesiace_series"
      ],
      "execution_count": null,
      "outputs": [
        {
          "output_type": "execute_result",
          "data": {
            "text/plain": [
              "DatetimeIndex(['2019-01-31', '2019-02-28', '2019-03-31', '2019-04-30',\n",
              "               '2019-05-31', '2019-06-30', '2019-07-31', '2019-08-31',\n",
              "               '2019-09-30', '2019-10-31', '2019-11-30', '2019-12-31'],\n",
              "              dtype='datetime64[ns]', freq='M')"
            ]
          },
          "metadata": {
            "tags": []
          },
          "execution_count": 7
        }
      ]
    },
    {
      "cell_type": "code",
      "metadata": {
        "colab": {
          "base_uri": "https://localhost:8080/"
        },
        "id": "SOxStTz8i633",
        "outputId": "b281815e-9f53-4224-9301-f2a775e305f5"
      },
      "source": [
        "miesiace_series_okres = pd.date_range(start='1/1/2019',freq='M',periods=12)\r\n",
        "miesiace_series_okres"
      ],
      "execution_count": null,
      "outputs": [
        {
          "output_type": "execute_result",
          "data": {
            "text/plain": [
              "DatetimeIndex(['2019-01-31', '2019-02-28', '2019-03-31', '2019-04-30',\n",
              "               '2019-05-31', '2019-06-30', '2019-07-31', '2019-08-31',\n",
              "               '2019-09-30', '2019-10-31', '2019-11-30', '2019-12-31'],\n",
              "              dtype='datetime64[ns]', freq='M')"
            ]
          },
          "metadata": {
            "tags": []
          },
          "execution_count": 8
        }
      ]
    },
    {
      "cell_type": "markdown",
      "metadata": {
        "id": "XTMbJ4iKAA52"
      },
      "source": [
        "##Podpowiedzi"
      ]
    },
    {
      "cell_type": "code",
      "metadata": {
        "id": "tcQtG67JAELG"
      },
      "source": [
        "# Do tworzenia obiektu Date Series (dtype = 'datetime64[ns]') należy wykorzystać funkcję pd.date_range()\n",
        "# W jej dokumentacji znajdziesz opis parametru start, end, freq, periods - będą one niezbędne do zrealizowania zadania.\n",
        "# W pracy ze zbiorami danych znaczącą część czasu zabiera czyszczenie i transformacja danych związanych z czasem. Nie uciekniesz od tego."
      ],
      "execution_count": null,
      "outputs": []
    },
    {
      "cell_type": "markdown",
      "metadata": {
        "id": "SD1CD8YRBtU0"
      },
      "source": [
        "##Podpowiedzi + rozwiązanie"
      ]
    },
    {
      "cell_type": "code",
      "metadata": {
        "id": "jWFIVeUkBzNO",
        "colab": {
          "base_uri": "https://localhost:8080/"
        },
        "outputId": "82a2fe6d-2e0c-4c2b-9af7-ed2955405d32"
      },
      "source": [
        "# Do tworzenia obiektu Date Series (dtype = 'datetime64[ns]') należy wykorzystać funkcję pd.date_range()\n",
        "# W jej dokumentacji znajdziesz opis parametru start, end, freq, periods - będą one niezbędne do zrealizowania zadania.\n",
        "# W pracy ze zbiorami danych znaczącą część czasu zabiera czyszczenie i transformacja danych związanych z czasem. Nie uciekniesz od tego.\n",
        "\n",
        "miesiace_series = pd.date_range(start = '20190101', end = '20200101', freq = 'M')\n",
        "print(miesiace_series)\n",
        "\n",
        "miesiace_series_okres = pd.date_range(start = '20190101', freq = 'M', periods = 12)\n",
        "print(miesiace_series_okres)\n",
        "print(miesiace_series == miesiace_series_okres)"
      ],
      "execution_count": null,
      "outputs": [
        {
          "output_type": "stream",
          "text": [
            "DatetimeIndex(['2019-01-31', '2019-02-28', '2019-03-31', '2019-04-30',\n",
            "               '2019-05-31', '2019-06-30', '2019-07-31', '2019-08-31',\n",
            "               '2019-09-30', '2019-10-31', '2019-11-30', '2019-12-31'],\n",
            "              dtype='datetime64[ns]', freq='M')\n",
            "DatetimeIndex(['2019-01-31', '2019-02-28', '2019-03-31', '2019-04-30',\n",
            "               '2019-05-31', '2019-06-30', '2019-07-31', '2019-08-31',\n",
            "               '2019-09-30', '2019-10-31', '2019-11-30', '2019-12-31'],\n",
            "              dtype='datetime64[ns]', freq='M')\n",
            "[ True  True  True  True  True  True  True  True  True  True  True  True]\n"
          ],
          "name": "stdout"
        }
      ]
    },
    {
      "cell_type": "markdown",
      "metadata": {
        "id": "lJ33sgcxEI6c"
      },
      "source": [
        "#Zadanie 3"
      ]
    },
    {
      "cell_type": "markdown",
      "metadata": {
        "id": "WdrxzfOwELK9"
      },
      "source": [
        "1. Stwórz obiekt pandas Date Series rozpoczynający się od 1 stycznia 2019 a kończący na 3 stycznia 2019 z krokiem co godzinę.\n",
        "2. Zapisz jako **godziny_series**\n",
        "3. Wyświetl wynik.\n"
      ]
    },
    {
      "cell_type": "code",
      "metadata": {
        "id": "23t8r0zgEYps",
        "colab": {
          "base_uri": "https://localhost:8080/"
        },
        "outputId": "a3c723e8-b148-4a8b-bb1a-e8fa7d5a497d"
      },
      "source": [
        "godziny_series = pd.date_range('1/1/2019','3/1/2019',freq=\"h\")\r\n",
        "godziny_series"
      ],
      "execution_count": null,
      "outputs": [
        {
          "output_type": "execute_result",
          "data": {
            "text/plain": [
              "DatetimeIndex(['2019-01-01 00:00:00', '2019-01-01 01:00:00',\n",
              "               '2019-01-01 02:00:00', '2019-01-01 03:00:00',\n",
              "               '2019-01-01 04:00:00', '2019-01-01 05:00:00',\n",
              "               '2019-01-01 06:00:00', '2019-01-01 07:00:00',\n",
              "               '2019-01-01 08:00:00', '2019-01-01 09:00:00',\n",
              "               ...\n",
              "               '2019-02-28 15:00:00', '2019-02-28 16:00:00',\n",
              "               '2019-02-28 17:00:00', '2019-02-28 18:00:00',\n",
              "               '2019-02-28 19:00:00', '2019-02-28 20:00:00',\n",
              "               '2019-02-28 21:00:00', '2019-02-28 22:00:00',\n",
              "               '2019-02-28 23:00:00', '2019-03-01 00:00:00'],\n",
              "              dtype='datetime64[ns]', length=1417, freq='H')"
            ]
          },
          "metadata": {
            "tags": []
          },
          "execution_count": 11
        }
      ]
    },
    {
      "cell_type": "markdown",
      "metadata": {
        "id": "EUojHss_EYVO"
      },
      "source": [
        "##Podpowiedzi"
      ]
    },
    {
      "cell_type": "code",
      "metadata": {
        "id": "h6Wqicg5EaqM"
      },
      "source": [
        "# Aby otrzymać krok godzinowy, ustaw parametr freq='H' w funkcji pd.date_range()"
      ],
      "execution_count": null,
      "outputs": []
    },
    {
      "cell_type": "markdown",
      "metadata": {
        "id": "8ELTRoYPFHry"
      },
      "source": [
        "##Podpowiedzi + rozwiązanie"
      ]
    },
    {
      "cell_type": "code",
      "metadata": {
        "id": "pm8xuBQcFM78",
        "colab": {
          "base_uri": "https://localhost:8080/"
        },
        "outputId": "4676fe98-6de1-457a-e0cc-5c328afef9de"
      },
      "source": [
        "# Aby otrzymać krok godzinowy, ustaw parametr freq='H' w funkcji pd.date_range()\n",
        "\n",
        "godziny_series = pd.date_range(start='20190101', end='20190103', freq='H')\n",
        "print(godziny_series)"
      ],
      "execution_count": null,
      "outputs": [
        {
          "output_type": "stream",
          "text": [
            "DatetimeIndex(['2019-01-01 00:00:00', '2019-01-01 01:00:00',\n",
            "               '2019-01-01 02:00:00', '2019-01-01 03:00:00',\n",
            "               '2019-01-01 04:00:00', '2019-01-01 05:00:00',\n",
            "               '2019-01-01 06:00:00', '2019-01-01 07:00:00',\n",
            "               '2019-01-01 08:00:00', '2019-01-01 09:00:00',\n",
            "               '2019-01-01 10:00:00', '2019-01-01 11:00:00',\n",
            "               '2019-01-01 12:00:00', '2019-01-01 13:00:00',\n",
            "               '2019-01-01 14:00:00', '2019-01-01 15:00:00',\n",
            "               '2019-01-01 16:00:00', '2019-01-01 17:00:00',\n",
            "               '2019-01-01 18:00:00', '2019-01-01 19:00:00',\n",
            "               '2019-01-01 20:00:00', '2019-01-01 21:00:00',\n",
            "               '2019-01-01 22:00:00', '2019-01-01 23:00:00',\n",
            "               '2019-01-02 00:00:00', '2019-01-02 01:00:00',\n",
            "               '2019-01-02 02:00:00', '2019-01-02 03:00:00',\n",
            "               '2019-01-02 04:00:00', '2019-01-02 05:00:00',\n",
            "               '2019-01-02 06:00:00', '2019-01-02 07:00:00',\n",
            "               '2019-01-02 08:00:00', '2019-01-02 09:00:00',\n",
            "               '2019-01-02 10:00:00', '2019-01-02 11:00:00',\n",
            "               '2019-01-02 12:00:00', '2019-01-02 13:00:00',\n",
            "               '2019-01-02 14:00:00', '2019-01-02 15:00:00',\n",
            "               '2019-01-02 16:00:00', '2019-01-02 17:00:00',\n",
            "               '2019-01-02 18:00:00', '2019-01-02 19:00:00',\n",
            "               '2019-01-02 20:00:00', '2019-01-02 21:00:00',\n",
            "               '2019-01-02 22:00:00', '2019-01-02 23:00:00',\n",
            "               '2019-01-03 00:00:00'],\n",
            "              dtype='datetime64[ns]', freq='H')\n"
          ],
          "name": "stdout"
        }
      ]
    },
    {
      "cell_type": "markdown",
      "metadata": {
        "id": "6Udv7WjAHbd5"
      },
      "source": [
        "#Zadanie 4"
      ]
    },
    {
      "cell_type": "markdown",
      "metadata": {
        "id": "WUW_2yOvHeZ3"
      },
      "source": [
        "1. Stwórz obiekt numpy array z wartościami bezwzględnymi na podstawie [6, -23, 53, -2, 6]. Nazwij go **abs_wartosci**.\n",
        "\n",
        "2. Na jego podstawie stwórz obiekt pandas Series i zapisz jako **abs_series**.\n",
        "\n",
        "3. Wyświetl wynik i typ obiektu.\n",
        "4. Ponad to wyświetl:\n",
        "* kształt tego series;\n",
        "* wartość średnią;\n",
        "* medianę;\n",
        "* wypisz unikatowe wartości w tym series;\n",
        "* policz ilość unikalnych wartości w tym series.\n",
        "\n",
        "\n"
      ]
    },
    {
      "cell_type": "code",
      "metadata": {
        "id": "hO66pZkEMifS",
        "colab": {
          "base_uri": "https://localhost:8080/"
        },
        "outputId": "5dbb29f4-9005-411d-c64c-31d477cb55f8"
      },
      "source": [
        "ar = np.abs([6, -23, 53, -2, 6])\r\n",
        "abs_wartosci = abs(ar)\r\n",
        "abs_wartosci"
      ],
      "execution_count": null,
      "outputs": [
        {
          "output_type": "execute_result",
          "data": {
            "text/plain": [
              "array([ 6, 23, 53,  2,  6])"
            ]
          },
          "metadata": {
            "tags": []
          },
          "execution_count": 14
        }
      ]
    },
    {
      "cell_type": "code",
      "metadata": {
        "colab": {
          "base_uri": "https://localhost:8080/"
        },
        "id": "CuqRBBu3l2DQ",
        "outputId": "c25af9ba-f716-44f8-9818-8dd6ccf95387"
      },
      "source": [
        "abs_series = pd.Series(abs_wartosci)\r\n",
        "abs_series"
      ],
      "execution_count": null,
      "outputs": [
        {
          "output_type": "execute_result",
          "data": {
            "text/plain": [
              "0     6\n",
              "1    23\n",
              "2    53\n",
              "3     2\n",
              "4     6\n",
              "dtype: int64"
            ]
          },
          "metadata": {
            "tags": []
          },
          "execution_count": 15
        }
      ]
    },
    {
      "cell_type": "code",
      "metadata": {
        "colab": {
          "base_uri": "https://localhost:8080/"
        },
        "id": "wzt9pwtKmAlf",
        "outputId": "262d0cc0-b924-43e7-99a7-834f38209427"
      },
      "source": [
        "type(abs_series)"
      ],
      "execution_count": null,
      "outputs": [
        {
          "output_type": "execute_result",
          "data": {
            "text/plain": [
              "pandas.core.series.Series"
            ]
          },
          "metadata": {
            "tags": []
          },
          "execution_count": 16
        }
      ]
    },
    {
      "cell_type": "code",
      "metadata": {
        "colab": {
          "base_uri": "https://localhost:8080/"
        },
        "id": "kaJZT2brmEw_",
        "outputId": "c08d43fe-e703-468b-dfb7-2316787ab77d"
      },
      "source": [
        "abs_series.dtypes"
      ],
      "execution_count": null,
      "outputs": [
        {
          "output_type": "execute_result",
          "data": {
            "text/plain": [
              "dtype('int64')"
            ]
          },
          "metadata": {
            "tags": []
          },
          "execution_count": 17
        }
      ]
    },
    {
      "cell_type": "code",
      "metadata": {
        "colab": {
          "base_uri": "https://localhost:8080/"
        },
        "id": "B_oTH7WqmKfJ",
        "outputId": "39a53c7a-384e-4c6a-cf83-b98819b1592d"
      },
      "source": [
        "print(abs_series.shape)\r\n",
        "print(abs_series.median())\r\n",
        "print(abs_series.mean())\r\n",
        "print(abs_series.unique())\r\n",
        "print(abs_series.value_counts())"
      ],
      "execution_count": null,
      "outputs": [
        {
          "output_type": "stream",
          "text": [
            "(5,)\n",
            "6.0\n",
            "18.0\n",
            "[ 6 23 53  2]\n",
            "6     2\n",
            "23    1\n",
            "53    1\n",
            "2     1\n",
            "dtype: int64\n"
          ],
          "name": "stdout"
        }
      ]
    },
    {
      "cell_type": "markdown",
      "metadata": {
        "id": "GVDj07ZKMh7e"
      },
      "source": [
        "##Podpowiedzi"
      ]
    },
    {
      "cell_type": "code",
      "metadata": {
        "id": "gEp_0LycMld8"
      },
      "source": [
        "# Potraktuj to zadanie jako bardzo wstępny wstęp do analizy danych.\n",
        "# Do wyświetlenia pożądanych wartości wykorzystaj funkcje: \n",
        "# .shape, .dtype, .mean(), .median(), .unique(), value_counts()"
      ],
      "execution_count": null,
      "outputs": []
    },
    {
      "cell_type": "markdown",
      "metadata": {
        "id": "xvIdu1NmMmQ5"
      },
      "source": [
        "##Podpowiedzi + rozwiązanie"
      ]
    },
    {
      "cell_type": "code",
      "metadata": {
        "id": "LB3k2XlwMtIh",
        "colab": {
          "base_uri": "https://localhost:8080/"
        },
        "outputId": "328195f4-05ce-4b36-9ff3-94e6f4ffcd10"
      },
      "source": [
        "# Potraktuj to zadanie jako bardzo wstępny wstęp do analizy danych.\n",
        "# Do wyświetlenia pożądanych wartości wykorzystaj funkcje: \n",
        "# .shape, .dtype, .mean(), .median(), .unique(), value_counts()\n",
        "\n",
        "abs_wartosci = abs(np.array( [6, -23, 54, -2, 6] ))\n",
        "abs_series = pd.Series(abs_wartosci)\n",
        "\n",
        "print(abs_series)\n",
        "print(\"Kształt: \", abs_series.shape)\n",
        "print(\"Typ: \", abs_series.dtype)\n",
        "print(\"Średnia: \", abs_series.mean())\n",
        "print(\"Mediana: \", abs_series.median())\n",
        "print(\"Wartości unikalne: \", abs_series.unique())\n",
        "print(\"Wartości unikalne policzone: \", abs_series.value_counts())"
      ],
      "execution_count": null,
      "outputs": [
        {
          "output_type": "stream",
          "text": [
            "0     6\n",
            "1    23\n",
            "2    54\n",
            "3     2\n",
            "4     6\n",
            "dtype: int64\n",
            "Kształt:  (5,)\n",
            "Typ:  int64\n",
            "Średnia:  18.2\n",
            "Mediana:  6.0\n",
            "Wartości unikalne:  [ 6 23 54  2]\n",
            "Wartości unikalne policzone:  6     2\n",
            "23    1\n",
            "54    1\n",
            "2     1\n",
            "dtype: int64\n"
          ],
          "name": "stdout"
        }
      ]
    },
    {
      "cell_type": "markdown",
      "metadata": {
        "id": "ZdZuXqnOOrPp"
      },
      "source": [
        "#Zadanie 5"
      ]
    },
    {
      "cell_type": "markdown",
      "metadata": {
        "id": "glt0uYZtOtfi"
      },
      "source": [
        "Biorąc obiekt **abs_series** z zadania 4, wykonaj następujące operacje:\n",
        "\n",
        "- wskazanie pozycji najmniejszej wartości w series\n",
        "- wskazanie pozycji największej wartości w series\n",
        "- posortowanie wartości w kolejności malejącej\n",
        "- wyliczenie sumy wartości\n",
        "- wyliczenie sumy kumulatywnej (cumsum() )"
      ]
    },
    {
      "cell_type": "code",
      "metadata": {
        "id": "xF1LNr4ePW8_",
        "colab": {
          "base_uri": "https://localhost:8080/"
        },
        "outputId": "eca519f5-8c15-438f-c35d-ecbe4e44fd03"
      },
      "source": [
        "abs_series.min()"
      ],
      "execution_count": null,
      "outputs": [
        {
          "output_type": "execute_result",
          "data": {
            "text/plain": [
              "2"
            ]
          },
          "metadata": {
            "tags": []
          },
          "execution_count": 21
        }
      ]
    },
    {
      "cell_type": "code",
      "metadata": {
        "colab": {
          "base_uri": "https://localhost:8080/"
        },
        "id": "2R7o0yN0nMhN",
        "outputId": "9494cfa9-dd37-4169-ec62-fd47ea2e2df7"
      },
      "source": [
        "abs_series.max()"
      ],
      "execution_count": null,
      "outputs": [
        {
          "output_type": "execute_result",
          "data": {
            "text/plain": [
              "54"
            ]
          },
          "metadata": {
            "tags": []
          },
          "execution_count": 22
        }
      ]
    },
    {
      "cell_type": "code",
      "metadata": {
        "colab": {
          "base_uri": "https://localhost:8080/"
        },
        "id": "9gWCOL9HnP8P",
        "outputId": "0f2d21d9-0de9-4f7d-e97a-fd5351af495a"
      },
      "source": [
        "abs_series.sort_values(ascending=False)"
      ],
      "execution_count": null,
      "outputs": [
        {
          "output_type": "execute_result",
          "data": {
            "text/plain": [
              "2    54\n",
              "1    23\n",
              "4     6\n",
              "0     6\n",
              "3     2\n",
              "dtype: int64"
            ]
          },
          "metadata": {
            "tags": []
          },
          "execution_count": 23
        }
      ]
    },
    {
      "cell_type": "code",
      "metadata": {
        "colab": {
          "base_uri": "https://localhost:8080/"
        },
        "id": "GLdrwiKdngqm",
        "outputId": "454cf44e-a4be-4b0d-94a2-0d153663a52a"
      },
      "source": [
        "abs_series.sum()"
      ],
      "execution_count": null,
      "outputs": [
        {
          "output_type": "execute_result",
          "data": {
            "text/plain": [
              "91"
            ]
          },
          "metadata": {
            "tags": []
          },
          "execution_count": 24
        }
      ]
    },
    {
      "cell_type": "code",
      "metadata": {
        "colab": {
          "base_uri": "https://localhost:8080/"
        },
        "id": "nKvvbsZQnjRi",
        "outputId": "cb515511-1516-4d18-80a8-21fc97cbb891"
      },
      "source": [
        "abs_series.cumsum()"
      ],
      "execution_count": null,
      "outputs": [
        {
          "output_type": "execute_result",
          "data": {
            "text/plain": [
              "0     6\n",
              "1    29\n",
              "2    83\n",
              "3    85\n",
              "4    91\n",
              "dtype: int64"
            ]
          },
          "metadata": {
            "tags": []
          },
          "execution_count": 25
        }
      ]
    },
    {
      "cell_type": "markdown",
      "metadata": {
        "id": "gwDux0tmPXaj"
      },
      "source": [
        "##Podpowiedzi\n"
      ]
    },
    {
      "cell_type": "code",
      "metadata": {
        "id": "8JkZXE2jPZR9"
      },
      "source": [
        "# Suma kumulatywna to suma wartości poprzedzających dany rekord włącznie.\n",
        "# Indeksy wartości minimalnych i maksymalnych znajdziesz z wykorzystaniem funkcji .idxmin() i .idxmax()"
      ],
      "execution_count": null,
      "outputs": []
    },
    {
      "cell_type": "markdown",
      "metadata": {
        "id": "CjOoKj7BQafT"
      },
      "source": [
        "##Podpowiedzi + rozwiązanie\n"
      ]
    },
    {
      "cell_type": "code",
      "metadata": {
        "id": "shuORwtAQczR",
        "colab": {
          "base_uri": "https://localhost:8080/"
        },
        "outputId": "646d3e09-9bdb-494d-826a-ad7c01468f33"
      },
      "source": [
        "# Suma kumulatywna to suma wartości poprzedzających dany rekord włącznie.\n",
        "# Indeksy wartości minimalnych i maksymalnych znajdziesz z wykorzystaniem funkcji .idxmin() i .idxmax()\n",
        "\n",
        "print(\"indeks najmniejszej wartości: \", abs_series.idxmin()) \n",
        "print(\"indeks największej wartości: \", abs_series.idxmax()) \n",
        "print(abs_series.sort_values(ascending = False))\n",
        "print(\"suma: \", abs_series.sum())\n",
        "print(\"suma kumulatywna: \", abs_series.cumsum())"
      ],
      "execution_count": null,
      "outputs": [
        {
          "output_type": "stream",
          "text": [
            "indeks najmniejszej wartości:  3\n",
            "indeks największej wartości:  2\n",
            "2    54\n",
            "1    23\n",
            "4     6\n",
            "0     6\n",
            "3     2\n",
            "dtype: int64\n",
            "suma:  91\n",
            "suma kumulatywna:  0     6\n",
            "1    29\n",
            "2    83\n",
            "3    85\n",
            "4    91\n",
            "dtype: int64\n"
          ],
          "name": "stdout"
        }
      ]
    },
    {
      "cell_type": "markdown",
      "metadata": {
        "id": "iBjoEjZqJHK_"
      },
      "source": [
        "#Zadanie 6\n"
      ]
    },
    {
      "cell_type": "markdown",
      "metadata": {
        "id": "oSA1UroqJaJ1"
      },
      "source": [
        "1. Wykorzystaj obiekt **lista_zakupow** z **zadania 1**.\n",
        "\n",
        "2. Stwórz obiekt series nazwany **lista_cen** z wartościami : [2.99, 8, 1, 22.50, 3.30, 4.29, 9.50]\n",
        "\n",
        "3. Stwórz obiekt series nazwany **lista_ilosci** z wartościami: [1, 1, 3, 1, 2, 8, 2]\n",
        "\n",
        "4. Połącz te 3 obiekty series w obiekt DataFrame nazwany **zakupy**, nazywając kolumny tak, jak nazwane były poszczególne listy.\n",
        "\n",
        "5. Wyświetl pierwsze 4 wartości tego DataFrame."
      ]
    },
    {
      "cell_type": "code",
      "metadata": {
        "id": "WZ2FcmjTJLY5"
      },
      "source": [
        "import pandas as pd\r\n",
        "import numpy as np\r\n",
        "\r\n",
        "lista_cen = pd.Series([2.99, 8, 1, 22.50, 3.30, 4.29, 9.50])\r\n",
        "lista_ilosci = pd.Series([1, 1, 3, 1, 2, 8, 2])"
      ],
      "execution_count": null,
      "outputs": []
    },
    {
      "cell_type": "code",
      "metadata": {
        "colab": {
          "base_uri": "https://localhost:8080/"
        },
        "id": "qSAG8Zfno8jM",
        "outputId": "21300b7b-dea6-4784-c663-886c8886942d"
      },
      "source": [
        "lista_cen"
      ],
      "execution_count": null,
      "outputs": [
        {
          "output_type": "execute_result",
          "data": {
            "text/plain": [
              "0     2.99\n",
              "1     8.00\n",
              "2     1.00\n",
              "3    22.50\n",
              "4     3.30\n",
              "5     4.29\n",
              "6     9.50\n",
              "dtype: float64"
            ]
          },
          "metadata": {
            "tags": []
          },
          "execution_count": 29
        }
      ]
    },
    {
      "cell_type": "code",
      "metadata": {
        "colab": {
          "base_uri": "https://localhost:8080/"
        },
        "id": "YtX77aQcHQfu",
        "outputId": "ab608e79-6ace-403c-efa0-0b6b29e1cbf9"
      },
      "source": [
        "lista_ilosci"
      ],
      "execution_count": null,
      "outputs": [
        {
          "output_type": "execute_result",
          "data": {
            "text/plain": [
              "0    1\n",
              "1    1\n",
              "2    3\n",
              "3    1\n",
              "4    2\n",
              "5    8\n",
              "6    2\n",
              "dtype: int64"
            ]
          },
          "metadata": {
            "tags": []
          },
          "execution_count": 30
        }
      ]
    },
    {
      "cell_type": "code",
      "metadata": {
        "colab": {
          "base_uri": "https://localhost:8080/"
        },
        "id": "trtHv90hHSHZ",
        "outputId": "4f902f1e-a3b7-481f-947d-2e3789a5f177"
      },
      "source": [
        "list(lista_zakupow)"
      ],
      "execution_count": null,
      "outputs": [
        {
          "output_type": "execute_result",
          "data": {
            "text/plain": [
              "['mleko', 'jajka', 'pieprz', 'ser', 'woda', 'piwo', 'pomidory']"
            ]
          },
          "metadata": {
            "tags": []
          },
          "execution_count": 31
        }
      ]
    },
    {
      "cell_type": "code",
      "metadata": {
        "colab": {
          "base_uri": "https://localhost:8080/"
        },
        "id": "ge95BC84HTFQ",
        "outputId": "217e3c65-b048-4d35-dcfb-e2c8cbd0e277"
      },
      "source": [
        "dane = {'lista_zakupow':list(lista_zakupow), 'lista_cen':list(lista_cen),'lista_ilosci':list(lista_ilosci)}\r\n",
        "dane"
      ],
      "execution_count": null,
      "outputs": [
        {
          "output_type": "execute_result",
          "data": {
            "text/plain": [
              "{'lista_cen': [2.99, 8.0, 1.0, 22.5, 3.3, 4.29, 9.5],\n",
              " 'lista_ilosci': [1, 1, 3, 1, 2, 8, 2],\n",
              " 'lista_zakupow': ['mleko',\n",
              "  'jajka',\n",
              "  'pieprz',\n",
              "  'ser',\n",
              "  'woda',\n",
              "  'piwo',\n",
              "  'pomidory']}"
            ]
          },
          "metadata": {
            "tags": []
          },
          "execution_count": 32
        }
      ]
    },
    {
      "cell_type": "code",
      "metadata": {
        "colab": {
          "base_uri": "https://localhost:8080/",
          "height": 269
        },
        "id": "B-cA37WlKMZJ",
        "outputId": "fa4eda0e-ae83-4394-a549-1c2fb9601129"
      },
      "source": [
        "zakupy = pd.DataFrame(data=dane)\r\n",
        "zakupy"
      ],
      "execution_count": null,
      "outputs": [
        {
          "output_type": "execute_result",
          "data": {
            "text/html": [
              "<div>\n",
              "<style scoped>\n",
              "    .dataframe tbody tr th:only-of-type {\n",
              "        vertical-align: middle;\n",
              "    }\n",
              "\n",
              "    .dataframe tbody tr th {\n",
              "        vertical-align: top;\n",
              "    }\n",
              "\n",
              "    .dataframe thead th {\n",
              "        text-align: right;\n",
              "    }\n",
              "</style>\n",
              "<table border=\"1\" class=\"dataframe\">\n",
              "  <thead>\n",
              "    <tr style=\"text-align: right;\">\n",
              "      <th></th>\n",
              "      <th>lista_zakupow</th>\n",
              "      <th>lista_cen</th>\n",
              "      <th>lista_ilosci</th>\n",
              "    </tr>\n",
              "  </thead>\n",
              "  <tbody>\n",
              "    <tr>\n",
              "      <th>0</th>\n",
              "      <td>mleko</td>\n",
              "      <td>2.99</td>\n",
              "      <td>1</td>\n",
              "    </tr>\n",
              "    <tr>\n",
              "      <th>1</th>\n",
              "      <td>jajka</td>\n",
              "      <td>8.00</td>\n",
              "      <td>1</td>\n",
              "    </tr>\n",
              "    <tr>\n",
              "      <th>2</th>\n",
              "      <td>pieprz</td>\n",
              "      <td>1.00</td>\n",
              "      <td>3</td>\n",
              "    </tr>\n",
              "    <tr>\n",
              "      <th>3</th>\n",
              "      <td>ser</td>\n",
              "      <td>22.50</td>\n",
              "      <td>1</td>\n",
              "    </tr>\n",
              "    <tr>\n",
              "      <th>4</th>\n",
              "      <td>woda</td>\n",
              "      <td>3.30</td>\n",
              "      <td>2</td>\n",
              "    </tr>\n",
              "    <tr>\n",
              "      <th>5</th>\n",
              "      <td>piwo</td>\n",
              "      <td>4.29</td>\n",
              "      <td>8</td>\n",
              "    </tr>\n",
              "    <tr>\n",
              "      <th>6</th>\n",
              "      <td>pomidory</td>\n",
              "      <td>9.50</td>\n",
              "      <td>2</td>\n",
              "    </tr>\n",
              "  </tbody>\n",
              "</table>\n",
              "</div>"
            ],
            "text/plain": [
              "  lista_zakupow  lista_cen  lista_ilosci\n",
              "0         mleko       2.99             1\n",
              "1         jajka       8.00             1\n",
              "2        pieprz       1.00             3\n",
              "3           ser      22.50             1\n",
              "4          woda       3.30             2\n",
              "5          piwo       4.29             8\n",
              "6      pomidory       9.50             2"
            ]
          },
          "metadata": {
            "tags": []
          },
          "execution_count": 33
        }
      ]
    },
    {
      "cell_type": "code",
      "metadata": {
        "colab": {
          "base_uri": "https://localhost:8080/",
          "height": 175
        },
        "id": "aKj1yMcEKoID",
        "outputId": "beeac58d-ce76-493d-bb4b-45ed72b70fcf"
      },
      "source": [
        "zakupy.head(4)"
      ],
      "execution_count": null,
      "outputs": [
        {
          "output_type": "execute_result",
          "data": {
            "text/html": [
              "<div>\n",
              "<style scoped>\n",
              "    .dataframe tbody tr th:only-of-type {\n",
              "        vertical-align: middle;\n",
              "    }\n",
              "\n",
              "    .dataframe tbody tr th {\n",
              "        vertical-align: top;\n",
              "    }\n",
              "\n",
              "    .dataframe thead th {\n",
              "        text-align: right;\n",
              "    }\n",
              "</style>\n",
              "<table border=\"1\" class=\"dataframe\">\n",
              "  <thead>\n",
              "    <tr style=\"text-align: right;\">\n",
              "      <th></th>\n",
              "      <th>lista_zakupow</th>\n",
              "      <th>lista_cen</th>\n",
              "      <th>lista_ilosci</th>\n",
              "    </tr>\n",
              "  </thead>\n",
              "  <tbody>\n",
              "    <tr>\n",
              "      <th>0</th>\n",
              "      <td>mleko</td>\n",
              "      <td>2.99</td>\n",
              "      <td>1</td>\n",
              "    </tr>\n",
              "    <tr>\n",
              "      <th>1</th>\n",
              "      <td>jajka</td>\n",
              "      <td>8.00</td>\n",
              "      <td>1</td>\n",
              "    </tr>\n",
              "    <tr>\n",
              "      <th>2</th>\n",
              "      <td>pieprz</td>\n",
              "      <td>1.00</td>\n",
              "      <td>3</td>\n",
              "    </tr>\n",
              "    <tr>\n",
              "      <th>3</th>\n",
              "      <td>ser</td>\n",
              "      <td>22.50</td>\n",
              "      <td>1</td>\n",
              "    </tr>\n",
              "  </tbody>\n",
              "</table>\n",
              "</div>"
            ],
            "text/plain": [
              "  lista_zakupow  lista_cen  lista_ilosci\n",
              "0         mleko       2.99             1\n",
              "1         jajka       8.00             1\n",
              "2        pieprz       1.00             3\n",
              "3           ser      22.50             1"
            ]
          },
          "metadata": {
            "tags": []
          },
          "execution_count": 34
        }
      ]
    },
    {
      "cell_type": "markdown",
      "metadata": {
        "id": "YYBO21UuJO46"
      },
      "source": [
        "##Podpowiedzi"
      ]
    },
    {
      "cell_type": "code",
      "metadata": {
        "id": "rJTKswt3JVQz"
      },
      "source": [
        "# DataFrame to dwuwymiarowy zbiór danych o elastycznym rozmiarze (możliwym do zmian). \n",
        "# Struktura danych zawiera opisane osie (wiersze i kolumny). To podstawowa struktura danych w pandas.\n",
        "# Potraktuj obiekt DataFrame jako słownik, w którym kluczem jest nazwa kolumny a wartością obiekt pd.Series lub lista wartości.\n",
        "# DataFrame może mieć dowolną ilość kolumn i wierszy."
      ],
      "execution_count": null,
      "outputs": []
    },
    {
      "cell_type": "markdown",
      "metadata": {
        "id": "g8YFAxS7JWXO"
      },
      "source": [
        "##Podpowiedzi + rozwiązanie"
      ]
    },
    {
      "cell_type": "code",
      "metadata": {
        "id": "fB3EZc3JJYYB",
        "colab": {
          "base_uri": "https://localhost:8080/"
        },
        "outputId": "a3e401f7-a2a1-4f4b-f110-c5eed54b0ed5"
      },
      "source": [
        "# DataFrame to dwuwymiarowy zbiór danych o elastycznym rozmiarze (możliwym do zmian). \n",
        "# Struktura danych zawiera opisane osie (wiersze i kolumny). To podstawowa struktura danych w pandas.\n",
        "# Potraktuj obiekt DataFrame jako słownik, w którym kluczem jest nazwa kolumny a wartością obiekt pd.Series lub lista wartości.\n",
        "# DataFrame może mieć dowolną ilość kolumn i wierszy.\n",
        "\n",
        "lista_cen = pd.Series([2.99, 8, 1, 22.50, 3.30, 4.29, 9.50])\n",
        "lista_ilosci = pd.Series([1, 1, 3, 1, 2, 8, 2])\n",
        "zakupy = pd.DataFrame({\"lista_zakupow\":lista_zakupow, \"lista_cen\":lista_cen, \"lista_ilosci\":lista_ilosci})\n",
        "zakupy.head(4)"
      ],
      "execution_count": null,
      "outputs": [
        {
          "output_type": "execute_result",
          "data": {
            "text/html": [
              "<div>\n",
              "<style scoped>\n",
              "    .dataframe tbody tr th:only-of-type {\n",
              "        vertical-align: middle;\n",
              "    }\n",
              "\n",
              "    .dataframe tbody tr th {\n",
              "        vertical-align: top;\n",
              "    }\n",
              "\n",
              "    .dataframe thead th {\n",
              "        text-align: right;\n",
              "    }\n",
              "</style>\n",
              "<table border=\"1\" class=\"dataframe\">\n",
              "  <thead>\n",
              "    <tr style=\"text-align: right;\">\n",
              "      <th></th>\n",
              "      <th>lista_zakupow</th>\n",
              "      <th>lista_cen</th>\n",
              "      <th>lista_ilosci</th>\n",
              "    </tr>\n",
              "  </thead>\n",
              "  <tbody>\n",
              "    <tr>\n",
              "      <th>0</th>\n",
              "      <td>mleko</td>\n",
              "      <td>2.99</td>\n",
              "      <td>1</td>\n",
              "    </tr>\n",
              "    <tr>\n",
              "      <th>1</th>\n",
              "      <td>jajka</td>\n",
              "      <td>8.00</td>\n",
              "      <td>1</td>\n",
              "    </tr>\n",
              "    <tr>\n",
              "      <th>2</th>\n",
              "      <td>pieprz</td>\n",
              "      <td>1.00</td>\n",
              "      <td>3</td>\n",
              "    </tr>\n",
              "    <tr>\n",
              "      <th>3</th>\n",
              "      <td>ser</td>\n",
              "      <td>22.50</td>\n",
              "      <td>1</td>\n",
              "    </tr>\n",
              "  </tbody>\n",
              "</table>\n",
              "</div>"
            ],
            "text/plain": [
              "  lista_zakupow  lista_cen  lista_ilosci\n",
              "0         mleko       2.99             1\n",
              "1         jajka       8.00             1\n",
              "2        pieprz       1.00             3\n",
              "3           ser      22.50             1"
            ]
          },
          "metadata": {
            "tags": []
          },
          "execution_count": 36
        }
      ]
    },
    {
      "cell_type": "markdown",
      "metadata": {
        "id": "TFX8x0aNN5nc"
      },
      "source": [
        "#Zadanie 7"
      ]
    },
    {
      "cell_type": "markdown",
      "metadata": {
        "id": "1SRwhVG_N9sP"
      },
      "source": [
        "1. Sprawdź następujące cechy DataFrame zakupy:\n",
        "- Type\n",
        "- Shape\n",
        "- Wyświetl listę kolumn\n",
        "- Opis DataFrame (funkcja describe() )\n",
        "\n",
        "2. Jaki jest 25ty percentyl kolumny \"**lista_cen**\"? \n",
        "\n",
        "3. Jakie jest odchylenie standardowe (std) kolumny \"**lista_ilosci**\" ?"
      ]
    },
    {
      "cell_type": "code",
      "metadata": {
        "id": "YJWZeMvHN8X2",
        "colab": {
          "base_uri": "https://localhost:8080/"
        },
        "outputId": "b0111f65-4f39-419e-b73d-d7a497112f0e"
      },
      "source": [
        "print(type(zakupy))\r\n",
        "print(zakupy.shape)\r\n",
        "print(zakupy.columns)\r\n",
        "print(zakupy.describe())"
      ],
      "execution_count": null,
      "outputs": [
        {
          "output_type": "stream",
          "text": [
            "<class 'pandas.core.frame.DataFrame'>\n",
            "(7, 3)\n",
            "Index(['lista_zakupow', 'lista_cen', 'lista_ilosci'], dtype='object')\n",
            "       lista_cen  lista_ilosci\n",
            "count   7.000000      7.000000\n",
            "mean    7.368571      2.571429\n",
            "std     7.299124      2.507133\n",
            "min     1.000000      1.000000\n",
            "25%     3.145000      1.000000\n",
            "50%     4.290000      2.000000\n",
            "75%     8.750000      2.500000\n",
            "max    22.500000      8.000000\n"
          ],
          "name": "stdout"
        }
      ]
    },
    {
      "cell_type": "markdown",
      "metadata": {
        "id": "CQJ3gkUdN75p"
      },
      "source": [
        "##Podpowiedzi"
      ]
    },
    {
      "cell_type": "code",
      "metadata": {
        "id": "1WxvqtD0ODZh"
      },
      "source": [
        "# Często będziesz korzystać z komendy .describe() w celu eksploracyjnej analizy danych.\n",
        "# Więcej o znaczeniu odchylenia standardowego i percentyli w dalszych modułach.\n",
        "# Listę kolumn można wyświetlić wykorzystując funkcję .columns\n",
        "# Zwróć uwagę, że tylko dwie kolumny zostają opisane przy użyciu funkcji describe - nie obejmuje ona kolumn z wartościami kategorycznymi."
      ],
      "execution_count": null,
      "outputs": []
    },
    {
      "cell_type": "markdown",
      "metadata": {
        "id": "apYFKFGvOAj4"
      },
      "source": [
        "##Podpowiedzi + rozwiązanie"
      ]
    },
    {
      "cell_type": "code",
      "metadata": {
        "id": "FzM7mP14Xeml",
        "colab": {
          "base_uri": "https://localhost:8080/"
        },
        "outputId": "97bc85a0-947a-4f1b-e9e3-d6b2d3591443"
      },
      "source": [
        "# Często będziesz korzystać z komendy .describe() w celu eksploracyjnej analizy danych.\n",
        "# Więcej o znaczeniu odchylenia standardowego i percentyli w dalszych modułach.\n",
        "# Listę kolumn można wyświetlić wykorzystując funkcję .columns\n",
        "# Zwróć uwagę, że tylko dwie kolumny zostają opisane przy użyciu funkcji describe - nie obejmuje ona kolumn z wartościami kategorycznymi.\n",
        "\n",
        "print(type(zakupy))\n",
        "print(zakupy.shape)\n",
        "print(zakupy.columns)\n",
        "print(zakupy.describe())\n",
        "\n",
        "# Odchylenie standardowe kolumny lista_ilosci wynosi 2.507133\n",
        "# 25ty percentyl listy cen to 3.145"
      ],
      "execution_count": null,
      "outputs": [
        {
          "output_type": "stream",
          "text": [
            "<class 'pandas.core.frame.DataFrame'>\n",
            "(7, 3)\n",
            "Index(['lista_zakupow', 'lista_cen', 'lista_ilosci'], dtype='object')\n",
            "       lista_cen  lista_ilosci\n",
            "count   7.000000      7.000000\n",
            "mean    7.368571      2.571429\n",
            "std     7.299124      2.507133\n",
            "min     1.000000      1.000000\n",
            "25%     3.145000      1.000000\n",
            "50%     4.290000      2.000000\n",
            "75%     8.750000      2.500000\n",
            "max    22.500000      8.000000\n"
          ],
          "name": "stdout"
        }
      ]
    },
    {
      "cell_type": "markdown",
      "metadata": {
        "id": "r64-AX5oSC5y"
      },
      "source": [
        "#Zadanie 8"
      ]
    },
    {
      "cell_type": "markdown",
      "metadata": {
        "id": "4Jj6e3VPSC50"
      },
      "source": [
        "1. Ustaw kolumnę \"**lista_zakupow**\" jako indeks DataFrame **zakupy**. Wyświetl zaktualizowany DataFrame. \n",
        "\n",
        "2. Stwórz kolumnę \"**koszt**\", która będzie zawierała iloczyn listy cen i listy ilości.\n",
        "\n",
        "3. Zresetuj indeks DataFrame **zakupy**. Wyświetl zaktualizowany DataFrame **zakupy**."
      ]
    },
    {
      "cell_type": "code",
      "metadata": {
        "id": "Y9ZzyIheYyw9"
      },
      "source": [
        "zakupy2 = zakupy.set_index(zakupy['lista_zakupow'])"
      ],
      "execution_count": null,
      "outputs": []
    },
    {
      "cell_type": "code",
      "metadata": {
        "colab": {
          "base_uri": "https://localhost:8080/",
          "height": 300
        },
        "id": "imD2gX1FQ59F",
        "outputId": "ec03f70e-fd89-492d-f595-8b7a24dd0395"
      },
      "source": [
        "zakupy2"
      ],
      "execution_count": null,
      "outputs": [
        {
          "output_type": "execute_result",
          "data": {
            "text/html": [
              "<div>\n",
              "<style scoped>\n",
              "    .dataframe tbody tr th:only-of-type {\n",
              "        vertical-align: middle;\n",
              "    }\n",
              "\n",
              "    .dataframe tbody tr th {\n",
              "        vertical-align: top;\n",
              "    }\n",
              "\n",
              "    .dataframe thead th {\n",
              "        text-align: right;\n",
              "    }\n",
              "</style>\n",
              "<table border=\"1\" class=\"dataframe\">\n",
              "  <thead>\n",
              "    <tr style=\"text-align: right;\">\n",
              "      <th></th>\n",
              "      <th>lista_zakupow</th>\n",
              "      <th>lista_cen</th>\n",
              "      <th>lista_ilosci</th>\n",
              "    </tr>\n",
              "    <tr>\n",
              "      <th>lista_zakupow</th>\n",
              "      <th></th>\n",
              "      <th></th>\n",
              "      <th></th>\n",
              "    </tr>\n",
              "  </thead>\n",
              "  <tbody>\n",
              "    <tr>\n",
              "      <th>mleko</th>\n",
              "      <td>mleko</td>\n",
              "      <td>2.99</td>\n",
              "      <td>1</td>\n",
              "    </tr>\n",
              "    <tr>\n",
              "      <th>jajka</th>\n",
              "      <td>jajka</td>\n",
              "      <td>8.00</td>\n",
              "      <td>1</td>\n",
              "    </tr>\n",
              "    <tr>\n",
              "      <th>pieprz</th>\n",
              "      <td>pieprz</td>\n",
              "      <td>1.00</td>\n",
              "      <td>3</td>\n",
              "    </tr>\n",
              "    <tr>\n",
              "      <th>ser</th>\n",
              "      <td>ser</td>\n",
              "      <td>22.50</td>\n",
              "      <td>1</td>\n",
              "    </tr>\n",
              "    <tr>\n",
              "      <th>woda</th>\n",
              "      <td>woda</td>\n",
              "      <td>3.30</td>\n",
              "      <td>2</td>\n",
              "    </tr>\n",
              "    <tr>\n",
              "      <th>piwo</th>\n",
              "      <td>piwo</td>\n",
              "      <td>4.29</td>\n",
              "      <td>8</td>\n",
              "    </tr>\n",
              "    <tr>\n",
              "      <th>pomidory</th>\n",
              "      <td>pomidory</td>\n",
              "      <td>9.50</td>\n",
              "      <td>2</td>\n",
              "    </tr>\n",
              "  </tbody>\n",
              "</table>\n",
              "</div>"
            ],
            "text/plain": [
              "              lista_zakupow  lista_cen  lista_ilosci\n",
              "lista_zakupow                                       \n",
              "mleko                 mleko       2.99             1\n",
              "jajka                 jajka       8.00             1\n",
              "pieprz               pieprz       1.00             3\n",
              "ser                     ser      22.50             1\n",
              "woda                   woda       3.30             2\n",
              "piwo                   piwo       4.29             8\n",
              "pomidory           pomidory       9.50             2"
            ]
          },
          "metadata": {
            "tags": []
          },
          "execution_count": 41
        }
      ]
    },
    {
      "cell_type": "code",
      "metadata": {
        "colab": {
          "base_uri": "https://localhost:8080/"
        },
        "id": "R6L0b1acVr1O",
        "outputId": "48d8adaf-210e-4c8a-f8ce-11ebe19415d5"
      },
      "source": [
        "koszt = zakupy2['lista_cen']*zakupy2['lista_ilosci']\r\n",
        "list(koszt)"
      ],
      "execution_count": null,
      "outputs": [
        {
          "output_type": "execute_result",
          "data": {
            "text/plain": [
              "[2.99, 8.0, 3.0, 22.5, 6.6, 34.32, 19.0]"
            ]
          },
          "metadata": {
            "tags": []
          },
          "execution_count": 42
        }
      ]
    },
    {
      "cell_type": "code",
      "metadata": {
        "id": "WBHaGMvxV0pu"
      },
      "source": [
        "zakupy2['koszt'] = zakupy2['lista_cen']*zakupy2['lista_ilosci']"
      ],
      "execution_count": null,
      "outputs": []
    },
    {
      "cell_type": "code",
      "metadata": {
        "colab": {
          "base_uri": "https://localhost:8080/",
          "height": 300
        },
        "id": "hjL5mtgvT0EG",
        "outputId": "d92944d6-38bd-416b-ed37-d03c973750eb"
      },
      "source": [
        "zakupy2"
      ],
      "execution_count": null,
      "outputs": [
        {
          "output_type": "execute_result",
          "data": {
            "text/html": [
              "<div>\n",
              "<style scoped>\n",
              "    .dataframe tbody tr th:only-of-type {\n",
              "        vertical-align: middle;\n",
              "    }\n",
              "\n",
              "    .dataframe tbody tr th {\n",
              "        vertical-align: top;\n",
              "    }\n",
              "\n",
              "    .dataframe thead th {\n",
              "        text-align: right;\n",
              "    }\n",
              "</style>\n",
              "<table border=\"1\" class=\"dataframe\">\n",
              "  <thead>\n",
              "    <tr style=\"text-align: right;\">\n",
              "      <th></th>\n",
              "      <th>lista_zakupow</th>\n",
              "      <th>lista_cen</th>\n",
              "      <th>lista_ilosci</th>\n",
              "      <th>koszt</th>\n",
              "    </tr>\n",
              "    <tr>\n",
              "      <th>lista_zakupow</th>\n",
              "      <th></th>\n",
              "      <th></th>\n",
              "      <th></th>\n",
              "      <th></th>\n",
              "    </tr>\n",
              "  </thead>\n",
              "  <tbody>\n",
              "    <tr>\n",
              "      <th>mleko</th>\n",
              "      <td>mleko</td>\n",
              "      <td>2.99</td>\n",
              "      <td>1</td>\n",
              "      <td>2.99</td>\n",
              "    </tr>\n",
              "    <tr>\n",
              "      <th>jajka</th>\n",
              "      <td>jajka</td>\n",
              "      <td>8.00</td>\n",
              "      <td>1</td>\n",
              "      <td>8.00</td>\n",
              "    </tr>\n",
              "    <tr>\n",
              "      <th>pieprz</th>\n",
              "      <td>pieprz</td>\n",
              "      <td>1.00</td>\n",
              "      <td>3</td>\n",
              "      <td>3.00</td>\n",
              "    </tr>\n",
              "    <tr>\n",
              "      <th>ser</th>\n",
              "      <td>ser</td>\n",
              "      <td>22.50</td>\n",
              "      <td>1</td>\n",
              "      <td>22.50</td>\n",
              "    </tr>\n",
              "    <tr>\n",
              "      <th>woda</th>\n",
              "      <td>woda</td>\n",
              "      <td>3.30</td>\n",
              "      <td>2</td>\n",
              "      <td>6.60</td>\n",
              "    </tr>\n",
              "    <tr>\n",
              "      <th>piwo</th>\n",
              "      <td>piwo</td>\n",
              "      <td>4.29</td>\n",
              "      <td>8</td>\n",
              "      <td>34.32</td>\n",
              "    </tr>\n",
              "    <tr>\n",
              "      <th>pomidory</th>\n",
              "      <td>pomidory</td>\n",
              "      <td>9.50</td>\n",
              "      <td>2</td>\n",
              "      <td>19.00</td>\n",
              "    </tr>\n",
              "  </tbody>\n",
              "</table>\n",
              "</div>"
            ],
            "text/plain": [
              "              lista_zakupow  lista_cen  lista_ilosci  koszt\n",
              "lista_zakupow                                              \n",
              "mleko                 mleko       2.99             1   2.99\n",
              "jajka                 jajka       8.00             1   8.00\n",
              "pieprz               pieprz       1.00             3   3.00\n",
              "ser                     ser      22.50             1  22.50\n",
              "woda                   woda       3.30             2   6.60\n",
              "piwo                   piwo       4.29             8  34.32\n",
              "pomidory           pomidory       9.50             2  19.00"
            ]
          },
          "metadata": {
            "tags": []
          },
          "execution_count": 44
        }
      ]
    },
    {
      "cell_type": "markdown",
      "metadata": {
        "id": "gaDYxhC_SC55"
      },
      "source": [
        "##Podpowiedzi"
      ]
    },
    {
      "cell_type": "code",
      "metadata": {
        "id": "wFhdosgCSC56"
      },
      "source": [
        "# Do ustawienia i zresetowania indeksu użyj funkcji .set_index() oraz .reset_index()\n",
        "# Przy wielokrotnych uruchomieniach danej komórki warto takie linijki wyłączyć z programu przez użycie # - oznaczyć je jako komentarz. Inaczej program może się zgubić.\n",
        "# Dodawanie nowych kolumn na podstawie wartości pozostałych kolumn będzie czymś, co będziesz często robić."
      ],
      "execution_count": null,
      "outputs": []
    },
    {
      "cell_type": "markdown",
      "metadata": {
        "id": "ollIx6-XSC59"
      },
      "source": [
        "##Podpowiedzi + rozwiązanie"
      ]
    },
    {
      "cell_type": "code",
      "metadata": {
        "id": "CxNn_1p1SC5-"
      },
      "source": [
        "# Do ustawienia i zresetowania indeksu użyj funkcji .set_index() oraz .reset_index()\n",
        "# Przy wielokrotnych uruchomieniach danej komórki warto takie linijki wyłączyć z programu przez użycie # - oznaczyć je jako komentarz. Inaczej program może się zgubić.\n",
        "# Dodawanie nowych kolumn na podstawie wartości pozostałych kolumn będzie czymś, co będziesz często robić.\n",
        "\n",
        "#zakupy = zakupy.set_index('lista_zakupow')\n",
        "print(zakupy)\n",
        "\n",
        "zakupy['koszt'] = zakupy['lista_cen']*zakupy['lista_ilosci']\n",
        "zakupy = zakupy.reset_index()\n",
        "print(zakupy)"
      ],
      "execution_count": null,
      "outputs": []
    },
    {
      "cell_type": "markdown",
      "metadata": {
        "id": "oif1b95zSFCU"
      },
      "source": [
        "#Zadanie 9"
      ]
    },
    {
      "cell_type": "markdown",
      "metadata": {
        "id": "58YFIs4LSFCV"
      },
      "source": [
        "1. Stwórz dwa arrays o wielkości 4, z numerami 2,3,4,5 w **array1** oraz 6,8,10,12 w **array2** odpowiednio.\n",
        "\n",
        "2. Znajdź sumę, iloczyn, różnicę oraz iloraz.\n",
        "\n",
        "3. Wyświetl wyniki."
      ]
    },
    {
      "cell_type": "code",
      "metadata": {
        "id": "HGCvPAGvSFCW"
      },
      "source": [
        "ar1 = pd.array([2,3,4,5])\r\n",
        "ar2 = pd.array([6,8,10,12])"
      ],
      "execution_count": null,
      "outputs": []
    },
    {
      "cell_type": "code",
      "metadata": {
        "colab": {
          "base_uri": "https://localhost:8080/"
        },
        "id": "rIhs_C7nXRRN",
        "outputId": "e0546055-eb80-4090-e3e1-a84ec9e0feab"
      },
      "source": [
        "ar1*ar2"
      ],
      "execution_count": null,
      "outputs": [
        {
          "output_type": "execute_result",
          "data": {
            "text/plain": [
              "<IntegerArray>\n",
              "[12, 24, 40, 60]\n",
              "Length: 4, dtype: Int64"
            ]
          },
          "metadata": {
            "tags": []
          },
          "execution_count": 47
        }
      ]
    },
    {
      "cell_type": "code",
      "metadata": {
        "colab": {
          "base_uri": "https://localhost:8080/"
        },
        "id": "xnft2RUnXStu",
        "outputId": "291bcca7-5c2d-4ced-b9ec-ecbc712e0bd5"
      },
      "source": [
        "ar1+ar2"
      ],
      "execution_count": null,
      "outputs": [
        {
          "output_type": "execute_result",
          "data": {
            "text/plain": [
              "<IntegerArray>\n",
              "[8, 11, 14, 17]\n",
              "Length: 4, dtype: Int64"
            ]
          },
          "metadata": {
            "tags": []
          },
          "execution_count": 48
        }
      ]
    },
    {
      "cell_type": "code",
      "metadata": {
        "colab": {
          "base_uri": "https://localhost:8080/"
        },
        "id": "-UTZLNEyXV0U",
        "outputId": "92db15c2-65eb-436d-900f-bec24145d662"
      },
      "source": [
        "ar1/ar2"
      ],
      "execution_count": null,
      "outputs": [
        {
          "output_type": "execute_result",
          "data": {
            "text/plain": [
              "array([0.33333333, 0.375     , 0.4       , 0.41666667])"
            ]
          },
          "metadata": {
            "tags": []
          },
          "execution_count": 49
        }
      ]
    },
    {
      "cell_type": "code",
      "metadata": {
        "colab": {
          "base_uri": "https://localhost:8080/"
        },
        "id": "qggILDIoXYCc",
        "outputId": "ec80dbc0-dd04-4956-b3d3-0c9d5e99d278"
      },
      "source": [
        "ar1-ar2"
      ],
      "execution_count": null,
      "outputs": [
        {
          "output_type": "execute_result",
          "data": {
            "text/plain": [
              "<IntegerArray>\n",
              "[-4, -5, -6, -7]\n",
              "Length: 4, dtype: Int64"
            ]
          },
          "metadata": {
            "tags": []
          },
          "execution_count": 50
        }
      ]
    },
    {
      "cell_type": "markdown",
      "metadata": {
        "id": "VrnKa4RgSFCb"
      },
      "source": [
        "##Podpowiedzi"
      ]
    },
    {
      "cell_type": "code",
      "metadata": {
        "id": "qsQPLMr4SFCb"
      },
      "source": [
        "# Array \"ręcznie\" można definiować za pomocą zapisu array1 = np.array([2,3,4,5])\n",
        "# Działania matematyczne na arrays można przeprowadzać jak na normalnych zmiennych.\n",
        "# Zaobserwuj co się stanie jak arrays będą miały różne wielkości (długości)."
      ],
      "execution_count": null,
      "outputs": []
    },
    {
      "cell_type": "markdown",
      "metadata": {
        "id": "yQvjyXP6SFCf"
      },
      "source": [
        "##Podpowiedzi + rozwiązanie"
      ]
    },
    {
      "cell_type": "code",
      "metadata": {
        "id": "ABtbHz3lSFCf",
        "colab": {
          "base_uri": "https://localhost:8080/"
        },
        "outputId": "3a5fd075-8f71-4a63-ccc9-fcd2dda1e3f1"
      },
      "source": [
        "# Array \"ręcznie\" można definiować za pomocą zapisu array1 = np.array([2,3,4,5])\n",
        "# Działania matematyczne na arrays można przeprowadzać jak na normalnych zmiennych.\n",
        "# Zaobserwuj co się stanie jak arrays będą miały różne wielkości (długości).\n",
        "\n",
        "array1 = np.array([2, 3, 4, 5])\n",
        "array2 = np.array([6, 8, 10, 12])\n",
        "\n",
        "array_sum = array1 + array2\n",
        "print(\"Suma: \", array_sum)\n",
        "\n",
        "product = array1 * array2\n",
        "print(\"Iloczyn: \",product)\n",
        "\n",
        "difference = array1 - array2\n",
        "print(\"Różnica: \", difference)\n",
        "\n",
        "quotient = array1 / array2\n",
        "print(\"Iloraz: \", quotient)"
      ],
      "execution_count": null,
      "outputs": [
        {
          "output_type": "stream",
          "text": [
            "Suma:  [ 8 11 14 17]\n",
            "Iloczyn:  [12 24 40 60]\n",
            "Różnica:  [-4 -5 -6 -7]\n",
            "Iloraz:  [0.33333333 0.375      0.4        0.41666667]\n"
          ],
          "name": "stdout"
        }
      ]
    },
    {
      "cell_type": "markdown",
      "metadata": {
        "id": "fHuoh-08WklT"
      },
      "source": [
        "#Zadanie 10"
      ]
    },
    {
      "cell_type": "markdown",
      "metadata": {
        "id": "DWn3h2APWklU"
      },
      "source": [
        "1. Stwórz obiekt Date Series rozpoczynający się 8 lutego 2019 a kończący 20 lutego 2019 z rozdzielczością godzinową.\n",
        "\n",
        "2. Przekształć go w pandas DataFrame. Nazwij go **df**. Niech bazowa kolumna nazywa się '**baza**' i zawiera wartości z powyższego date series.\n",
        "\n",
        "3. Sprawdź **dtypes** tego DataFrame.\n",
        "\n",
        "4. Stwórz kolumnę zawierającą wyłącznie godzinę (ekstrakcja z formatu datetime64)\n",
        "\n",
        "5. Stwórz kolumnę zawierającą wyłącznie dzień tygodnia (jego numer, gdzie poniedziałek to 0 a niedziela 6)\n",
        "\n",
        "6. Stwórz kolumnę zawierającą informację, czy jest weekend. Niech ta kolumna zawiera wartości 1 - jeśli jest weekend, 0 - jeśli nie ma.\n",
        "\n",
        "7. Stwórz kolumnę zawierającą informację czy jest późno (tj. godzina między 18 a 6 włącznie). Jeśli jest późno, niech w kolumnie będzie wartość - 1, jeśli nie - 0.\n",
        "\n",
        "8. Wyświetl wyłącznie część DataFrame, która jest w weekend i z późnymi godzinami.\n",
        "\n"
      ]
    },
    {
      "cell_type": "code",
      "metadata": {
        "id": "jI4ayGofWklW"
      },
      "source": [
        "import pandas as pd\r\n",
        "import numpy as np\r\n",
        "dates = pd.date_range('20190208','20190220',freq = \"H\")"
      ],
      "execution_count": null,
      "outputs": []
    },
    {
      "cell_type": "code",
      "metadata": {
        "colab": {
          "base_uri": "https://localhost:8080/"
        },
        "id": "_TShgqGpbMEw",
        "outputId": "4f06a383-0541-4a15-889d-f736528b6034"
      },
      "source": [
        "dates"
      ],
      "execution_count": null,
      "outputs": [
        {
          "output_type": "execute_result",
          "data": {
            "text/plain": [
              "DatetimeIndex(['2019-02-08 00:00:00', '2019-02-08 01:00:00',\n",
              "               '2019-02-08 02:00:00', '2019-02-08 03:00:00',\n",
              "               '2019-02-08 04:00:00', '2019-02-08 05:00:00',\n",
              "               '2019-02-08 06:00:00', '2019-02-08 07:00:00',\n",
              "               '2019-02-08 08:00:00', '2019-02-08 09:00:00',\n",
              "               ...\n",
              "               '2019-02-19 15:00:00', '2019-02-19 16:00:00',\n",
              "               '2019-02-19 17:00:00', '2019-02-19 18:00:00',\n",
              "               '2019-02-19 19:00:00', '2019-02-19 20:00:00',\n",
              "               '2019-02-19 21:00:00', '2019-02-19 22:00:00',\n",
              "               '2019-02-19 23:00:00', '2019-02-20 00:00:00'],\n",
              "              dtype='datetime64[ns]', length=289, freq='H')"
            ]
          },
          "metadata": {
            "tags": []
          },
          "execution_count": 54
        }
      ]
    },
    {
      "cell_type": "code",
      "metadata": {
        "colab": {
          "base_uri": "https://localhost:8080/",
          "height": 424
        },
        "id": "cFMYhHBuZW1_",
        "outputId": "d6c06255-bc71-4d25-92e6-55dd130c3983"
      },
      "source": [
        "df = pd.DataFrame({'baza': list(dates)})\r\n",
        "df"
      ],
      "execution_count": null,
      "outputs": [
        {
          "output_type": "execute_result",
          "data": {
            "text/html": [
              "<div>\n",
              "<style scoped>\n",
              "    .dataframe tbody tr th:only-of-type {\n",
              "        vertical-align: middle;\n",
              "    }\n",
              "\n",
              "    .dataframe tbody tr th {\n",
              "        vertical-align: top;\n",
              "    }\n",
              "\n",
              "    .dataframe thead th {\n",
              "        text-align: right;\n",
              "    }\n",
              "</style>\n",
              "<table border=\"1\" class=\"dataframe\">\n",
              "  <thead>\n",
              "    <tr style=\"text-align: right;\">\n",
              "      <th></th>\n",
              "      <th>baza</th>\n",
              "    </tr>\n",
              "  </thead>\n",
              "  <tbody>\n",
              "    <tr>\n",
              "      <th>0</th>\n",
              "      <td>2019-02-08 00:00:00</td>\n",
              "    </tr>\n",
              "    <tr>\n",
              "      <th>1</th>\n",
              "      <td>2019-02-08 01:00:00</td>\n",
              "    </tr>\n",
              "    <tr>\n",
              "      <th>2</th>\n",
              "      <td>2019-02-08 02:00:00</td>\n",
              "    </tr>\n",
              "    <tr>\n",
              "      <th>3</th>\n",
              "      <td>2019-02-08 03:00:00</td>\n",
              "    </tr>\n",
              "    <tr>\n",
              "      <th>4</th>\n",
              "      <td>2019-02-08 04:00:00</td>\n",
              "    </tr>\n",
              "    <tr>\n",
              "      <th>...</th>\n",
              "      <td>...</td>\n",
              "    </tr>\n",
              "    <tr>\n",
              "      <th>284</th>\n",
              "      <td>2019-02-19 20:00:00</td>\n",
              "    </tr>\n",
              "    <tr>\n",
              "      <th>285</th>\n",
              "      <td>2019-02-19 21:00:00</td>\n",
              "    </tr>\n",
              "    <tr>\n",
              "      <th>286</th>\n",
              "      <td>2019-02-19 22:00:00</td>\n",
              "    </tr>\n",
              "    <tr>\n",
              "      <th>287</th>\n",
              "      <td>2019-02-19 23:00:00</td>\n",
              "    </tr>\n",
              "    <tr>\n",
              "      <th>288</th>\n",
              "      <td>2019-02-20 00:00:00</td>\n",
              "    </tr>\n",
              "  </tbody>\n",
              "</table>\n",
              "<p>289 rows × 1 columns</p>\n",
              "</div>"
            ],
            "text/plain": [
              "                   baza\n",
              "0   2019-02-08 00:00:00\n",
              "1   2019-02-08 01:00:00\n",
              "2   2019-02-08 02:00:00\n",
              "3   2019-02-08 03:00:00\n",
              "4   2019-02-08 04:00:00\n",
              "..                  ...\n",
              "284 2019-02-19 20:00:00\n",
              "285 2019-02-19 21:00:00\n",
              "286 2019-02-19 22:00:00\n",
              "287 2019-02-19 23:00:00\n",
              "288 2019-02-20 00:00:00\n",
              "\n",
              "[289 rows x 1 columns]"
            ]
          },
          "metadata": {
            "tags": []
          },
          "execution_count": 55
        }
      ]
    },
    {
      "cell_type": "code",
      "metadata": {
        "colab": {
          "base_uri": "https://localhost:8080/",
          "height": 424
        },
        "id": "tD_PpbhBi1TD",
        "outputId": "dcf96424-f014-4cf4-8174-30f66dac5128"
      },
      "source": [
        "df['godziny'] = list(df['baza'].dt.hour)\r\n",
        "df"
      ],
      "execution_count": null,
      "outputs": [
        {
          "output_type": "execute_result",
          "data": {
            "text/html": [
              "<div>\n",
              "<style scoped>\n",
              "    .dataframe tbody tr th:only-of-type {\n",
              "        vertical-align: middle;\n",
              "    }\n",
              "\n",
              "    .dataframe tbody tr th {\n",
              "        vertical-align: top;\n",
              "    }\n",
              "\n",
              "    .dataframe thead th {\n",
              "        text-align: right;\n",
              "    }\n",
              "</style>\n",
              "<table border=\"1\" class=\"dataframe\">\n",
              "  <thead>\n",
              "    <tr style=\"text-align: right;\">\n",
              "      <th></th>\n",
              "      <th>baza</th>\n",
              "      <th>godziny</th>\n",
              "    </tr>\n",
              "  </thead>\n",
              "  <tbody>\n",
              "    <tr>\n",
              "      <th>0</th>\n",
              "      <td>2019-02-08 00:00:00</td>\n",
              "      <td>0</td>\n",
              "    </tr>\n",
              "    <tr>\n",
              "      <th>1</th>\n",
              "      <td>2019-02-08 01:00:00</td>\n",
              "      <td>1</td>\n",
              "    </tr>\n",
              "    <tr>\n",
              "      <th>2</th>\n",
              "      <td>2019-02-08 02:00:00</td>\n",
              "      <td>2</td>\n",
              "    </tr>\n",
              "    <tr>\n",
              "      <th>3</th>\n",
              "      <td>2019-02-08 03:00:00</td>\n",
              "      <td>3</td>\n",
              "    </tr>\n",
              "    <tr>\n",
              "      <th>4</th>\n",
              "      <td>2019-02-08 04:00:00</td>\n",
              "      <td>4</td>\n",
              "    </tr>\n",
              "    <tr>\n",
              "      <th>...</th>\n",
              "      <td>...</td>\n",
              "      <td>...</td>\n",
              "    </tr>\n",
              "    <tr>\n",
              "      <th>284</th>\n",
              "      <td>2019-02-19 20:00:00</td>\n",
              "      <td>20</td>\n",
              "    </tr>\n",
              "    <tr>\n",
              "      <th>285</th>\n",
              "      <td>2019-02-19 21:00:00</td>\n",
              "      <td>21</td>\n",
              "    </tr>\n",
              "    <tr>\n",
              "      <th>286</th>\n",
              "      <td>2019-02-19 22:00:00</td>\n",
              "      <td>22</td>\n",
              "    </tr>\n",
              "    <tr>\n",
              "      <th>287</th>\n",
              "      <td>2019-02-19 23:00:00</td>\n",
              "      <td>23</td>\n",
              "    </tr>\n",
              "    <tr>\n",
              "      <th>288</th>\n",
              "      <td>2019-02-20 00:00:00</td>\n",
              "      <td>0</td>\n",
              "    </tr>\n",
              "  </tbody>\n",
              "</table>\n",
              "<p>289 rows × 2 columns</p>\n",
              "</div>"
            ],
            "text/plain": [
              "                   baza  godziny\n",
              "0   2019-02-08 00:00:00        0\n",
              "1   2019-02-08 01:00:00        1\n",
              "2   2019-02-08 02:00:00        2\n",
              "3   2019-02-08 03:00:00        3\n",
              "4   2019-02-08 04:00:00        4\n",
              "..                  ...      ...\n",
              "284 2019-02-19 20:00:00       20\n",
              "285 2019-02-19 21:00:00       21\n",
              "286 2019-02-19 22:00:00       22\n",
              "287 2019-02-19 23:00:00       23\n",
              "288 2019-02-20 00:00:00        0\n",
              "\n",
              "[289 rows x 2 columns]"
            ]
          },
          "metadata": {
            "tags": []
          },
          "execution_count": 56
        }
      ]
    },
    {
      "cell_type": "code",
      "metadata": {
        "colab": {
          "base_uri": "https://localhost:8080/",
          "height": 424
        },
        "id": "elOneASLnGzy",
        "outputId": "071960be-44fd-432f-c44f-49c814e9975d"
      },
      "source": [
        "df['dzientyg'] = list(df['baza'].dt.dayofweek)\r\n",
        "df"
      ],
      "execution_count": null,
      "outputs": [
        {
          "output_type": "execute_result",
          "data": {
            "text/html": [
              "<div>\n",
              "<style scoped>\n",
              "    .dataframe tbody tr th:only-of-type {\n",
              "        vertical-align: middle;\n",
              "    }\n",
              "\n",
              "    .dataframe tbody tr th {\n",
              "        vertical-align: top;\n",
              "    }\n",
              "\n",
              "    .dataframe thead th {\n",
              "        text-align: right;\n",
              "    }\n",
              "</style>\n",
              "<table border=\"1\" class=\"dataframe\">\n",
              "  <thead>\n",
              "    <tr style=\"text-align: right;\">\n",
              "      <th></th>\n",
              "      <th>baza</th>\n",
              "      <th>godziny</th>\n",
              "      <th>dzientyg</th>\n",
              "    </tr>\n",
              "  </thead>\n",
              "  <tbody>\n",
              "    <tr>\n",
              "      <th>0</th>\n",
              "      <td>2019-02-08 00:00:00</td>\n",
              "      <td>0</td>\n",
              "      <td>4</td>\n",
              "    </tr>\n",
              "    <tr>\n",
              "      <th>1</th>\n",
              "      <td>2019-02-08 01:00:00</td>\n",
              "      <td>1</td>\n",
              "      <td>4</td>\n",
              "    </tr>\n",
              "    <tr>\n",
              "      <th>2</th>\n",
              "      <td>2019-02-08 02:00:00</td>\n",
              "      <td>2</td>\n",
              "      <td>4</td>\n",
              "    </tr>\n",
              "    <tr>\n",
              "      <th>3</th>\n",
              "      <td>2019-02-08 03:00:00</td>\n",
              "      <td>3</td>\n",
              "      <td>4</td>\n",
              "    </tr>\n",
              "    <tr>\n",
              "      <th>4</th>\n",
              "      <td>2019-02-08 04:00:00</td>\n",
              "      <td>4</td>\n",
              "      <td>4</td>\n",
              "    </tr>\n",
              "    <tr>\n",
              "      <th>...</th>\n",
              "      <td>...</td>\n",
              "      <td>...</td>\n",
              "      <td>...</td>\n",
              "    </tr>\n",
              "    <tr>\n",
              "      <th>284</th>\n",
              "      <td>2019-02-19 20:00:00</td>\n",
              "      <td>20</td>\n",
              "      <td>1</td>\n",
              "    </tr>\n",
              "    <tr>\n",
              "      <th>285</th>\n",
              "      <td>2019-02-19 21:00:00</td>\n",
              "      <td>21</td>\n",
              "      <td>1</td>\n",
              "    </tr>\n",
              "    <tr>\n",
              "      <th>286</th>\n",
              "      <td>2019-02-19 22:00:00</td>\n",
              "      <td>22</td>\n",
              "      <td>1</td>\n",
              "    </tr>\n",
              "    <tr>\n",
              "      <th>287</th>\n",
              "      <td>2019-02-19 23:00:00</td>\n",
              "      <td>23</td>\n",
              "      <td>1</td>\n",
              "    </tr>\n",
              "    <tr>\n",
              "      <th>288</th>\n",
              "      <td>2019-02-20 00:00:00</td>\n",
              "      <td>0</td>\n",
              "      <td>2</td>\n",
              "    </tr>\n",
              "  </tbody>\n",
              "</table>\n",
              "<p>289 rows × 3 columns</p>\n",
              "</div>"
            ],
            "text/plain": [
              "                   baza  godziny  dzientyg\n",
              "0   2019-02-08 00:00:00        0         4\n",
              "1   2019-02-08 01:00:00        1         4\n",
              "2   2019-02-08 02:00:00        2         4\n",
              "3   2019-02-08 03:00:00        3         4\n",
              "4   2019-02-08 04:00:00        4         4\n",
              "..                  ...      ...       ...\n",
              "284 2019-02-19 20:00:00       20         1\n",
              "285 2019-02-19 21:00:00       21         1\n",
              "286 2019-02-19 22:00:00       22         1\n",
              "287 2019-02-19 23:00:00       23         1\n",
              "288 2019-02-20 00:00:00        0         2\n",
              "\n",
              "[289 rows x 3 columns]"
            ]
          },
          "metadata": {
            "tags": []
          },
          "execution_count": 57
        }
      ]
    },
    {
      "cell_type": "code",
      "metadata": {
        "colab": {
          "base_uri": "https://localhost:8080/",
          "height": 424
        },
        "id": "QdWEXYr_ngEi",
        "outputId": "550191d3-38f8-4266-f1f4-4aa3a5c8b5c7"
      },
      "source": [
        "df['weekend'] = df['dzientyg']>4\r\n",
        "df"
      ],
      "execution_count": null,
      "outputs": [
        {
          "output_type": "execute_result",
          "data": {
            "text/html": [
              "<div>\n",
              "<style scoped>\n",
              "    .dataframe tbody tr th:only-of-type {\n",
              "        vertical-align: middle;\n",
              "    }\n",
              "\n",
              "    .dataframe tbody tr th {\n",
              "        vertical-align: top;\n",
              "    }\n",
              "\n",
              "    .dataframe thead th {\n",
              "        text-align: right;\n",
              "    }\n",
              "</style>\n",
              "<table border=\"1\" class=\"dataframe\">\n",
              "  <thead>\n",
              "    <tr style=\"text-align: right;\">\n",
              "      <th></th>\n",
              "      <th>baza</th>\n",
              "      <th>godziny</th>\n",
              "      <th>dzientyg</th>\n",
              "      <th>weekend</th>\n",
              "    </tr>\n",
              "  </thead>\n",
              "  <tbody>\n",
              "    <tr>\n",
              "      <th>0</th>\n",
              "      <td>2019-02-08 00:00:00</td>\n",
              "      <td>0</td>\n",
              "      <td>4</td>\n",
              "      <td>False</td>\n",
              "    </tr>\n",
              "    <tr>\n",
              "      <th>1</th>\n",
              "      <td>2019-02-08 01:00:00</td>\n",
              "      <td>1</td>\n",
              "      <td>4</td>\n",
              "      <td>False</td>\n",
              "    </tr>\n",
              "    <tr>\n",
              "      <th>2</th>\n",
              "      <td>2019-02-08 02:00:00</td>\n",
              "      <td>2</td>\n",
              "      <td>4</td>\n",
              "      <td>False</td>\n",
              "    </tr>\n",
              "    <tr>\n",
              "      <th>3</th>\n",
              "      <td>2019-02-08 03:00:00</td>\n",
              "      <td>3</td>\n",
              "      <td>4</td>\n",
              "      <td>False</td>\n",
              "    </tr>\n",
              "    <tr>\n",
              "      <th>4</th>\n",
              "      <td>2019-02-08 04:00:00</td>\n",
              "      <td>4</td>\n",
              "      <td>4</td>\n",
              "      <td>False</td>\n",
              "    </tr>\n",
              "    <tr>\n",
              "      <th>...</th>\n",
              "      <td>...</td>\n",
              "      <td>...</td>\n",
              "      <td>...</td>\n",
              "      <td>...</td>\n",
              "    </tr>\n",
              "    <tr>\n",
              "      <th>284</th>\n",
              "      <td>2019-02-19 20:00:00</td>\n",
              "      <td>20</td>\n",
              "      <td>1</td>\n",
              "      <td>False</td>\n",
              "    </tr>\n",
              "    <tr>\n",
              "      <th>285</th>\n",
              "      <td>2019-02-19 21:00:00</td>\n",
              "      <td>21</td>\n",
              "      <td>1</td>\n",
              "      <td>False</td>\n",
              "    </tr>\n",
              "    <tr>\n",
              "      <th>286</th>\n",
              "      <td>2019-02-19 22:00:00</td>\n",
              "      <td>22</td>\n",
              "      <td>1</td>\n",
              "      <td>False</td>\n",
              "    </tr>\n",
              "    <tr>\n",
              "      <th>287</th>\n",
              "      <td>2019-02-19 23:00:00</td>\n",
              "      <td>23</td>\n",
              "      <td>1</td>\n",
              "      <td>False</td>\n",
              "    </tr>\n",
              "    <tr>\n",
              "      <th>288</th>\n",
              "      <td>2019-02-20 00:00:00</td>\n",
              "      <td>0</td>\n",
              "      <td>2</td>\n",
              "      <td>False</td>\n",
              "    </tr>\n",
              "  </tbody>\n",
              "</table>\n",
              "<p>289 rows × 4 columns</p>\n",
              "</div>"
            ],
            "text/plain": [
              "                   baza  godziny  dzientyg  weekend\n",
              "0   2019-02-08 00:00:00        0         4    False\n",
              "1   2019-02-08 01:00:00        1         4    False\n",
              "2   2019-02-08 02:00:00        2         4    False\n",
              "3   2019-02-08 03:00:00        3         4    False\n",
              "4   2019-02-08 04:00:00        4         4    False\n",
              "..                  ...      ...       ...      ...\n",
              "284 2019-02-19 20:00:00       20         1    False\n",
              "285 2019-02-19 21:00:00       21         1    False\n",
              "286 2019-02-19 22:00:00       22         1    False\n",
              "287 2019-02-19 23:00:00       23         1    False\n",
              "288 2019-02-20 00:00:00        0         2    False\n",
              "\n",
              "[289 rows x 4 columns]"
            ]
          },
          "metadata": {
            "tags": []
          },
          "execution_count": 58
        }
      ]
    },
    {
      "cell_type": "code",
      "metadata": {
        "colab": {
          "base_uri": "https://localhost:8080/",
          "height": 424
        },
        "id": "gP5D1vtzsJZ8",
        "outputId": "a74e4bdc-f552-4782-f5c9-e4dcbc25de71"
      },
      "source": [
        "df['pozno'] = ((df['godziny']>=18) | (df['godziny']<=6)) \r\n",
        "df"
      ],
      "execution_count": null,
      "outputs": [
        {
          "output_type": "execute_result",
          "data": {
            "text/html": [
              "<div>\n",
              "<style scoped>\n",
              "    .dataframe tbody tr th:only-of-type {\n",
              "        vertical-align: middle;\n",
              "    }\n",
              "\n",
              "    .dataframe tbody tr th {\n",
              "        vertical-align: top;\n",
              "    }\n",
              "\n",
              "    .dataframe thead th {\n",
              "        text-align: right;\n",
              "    }\n",
              "</style>\n",
              "<table border=\"1\" class=\"dataframe\">\n",
              "  <thead>\n",
              "    <tr style=\"text-align: right;\">\n",
              "      <th></th>\n",
              "      <th>baza</th>\n",
              "      <th>godziny</th>\n",
              "      <th>dzientyg</th>\n",
              "      <th>weekend</th>\n",
              "      <th>pozno</th>\n",
              "    </tr>\n",
              "  </thead>\n",
              "  <tbody>\n",
              "    <tr>\n",
              "      <th>0</th>\n",
              "      <td>2019-02-08 00:00:00</td>\n",
              "      <td>0</td>\n",
              "      <td>4</td>\n",
              "      <td>False</td>\n",
              "      <td>True</td>\n",
              "    </tr>\n",
              "    <tr>\n",
              "      <th>1</th>\n",
              "      <td>2019-02-08 01:00:00</td>\n",
              "      <td>1</td>\n",
              "      <td>4</td>\n",
              "      <td>False</td>\n",
              "      <td>True</td>\n",
              "    </tr>\n",
              "    <tr>\n",
              "      <th>2</th>\n",
              "      <td>2019-02-08 02:00:00</td>\n",
              "      <td>2</td>\n",
              "      <td>4</td>\n",
              "      <td>False</td>\n",
              "      <td>True</td>\n",
              "    </tr>\n",
              "    <tr>\n",
              "      <th>3</th>\n",
              "      <td>2019-02-08 03:00:00</td>\n",
              "      <td>3</td>\n",
              "      <td>4</td>\n",
              "      <td>False</td>\n",
              "      <td>True</td>\n",
              "    </tr>\n",
              "    <tr>\n",
              "      <th>4</th>\n",
              "      <td>2019-02-08 04:00:00</td>\n",
              "      <td>4</td>\n",
              "      <td>4</td>\n",
              "      <td>False</td>\n",
              "      <td>True</td>\n",
              "    </tr>\n",
              "    <tr>\n",
              "      <th>...</th>\n",
              "      <td>...</td>\n",
              "      <td>...</td>\n",
              "      <td>...</td>\n",
              "      <td>...</td>\n",
              "      <td>...</td>\n",
              "    </tr>\n",
              "    <tr>\n",
              "      <th>284</th>\n",
              "      <td>2019-02-19 20:00:00</td>\n",
              "      <td>20</td>\n",
              "      <td>1</td>\n",
              "      <td>False</td>\n",
              "      <td>True</td>\n",
              "    </tr>\n",
              "    <tr>\n",
              "      <th>285</th>\n",
              "      <td>2019-02-19 21:00:00</td>\n",
              "      <td>21</td>\n",
              "      <td>1</td>\n",
              "      <td>False</td>\n",
              "      <td>True</td>\n",
              "    </tr>\n",
              "    <tr>\n",
              "      <th>286</th>\n",
              "      <td>2019-02-19 22:00:00</td>\n",
              "      <td>22</td>\n",
              "      <td>1</td>\n",
              "      <td>False</td>\n",
              "      <td>True</td>\n",
              "    </tr>\n",
              "    <tr>\n",
              "      <th>287</th>\n",
              "      <td>2019-02-19 23:00:00</td>\n",
              "      <td>23</td>\n",
              "      <td>1</td>\n",
              "      <td>False</td>\n",
              "      <td>True</td>\n",
              "    </tr>\n",
              "    <tr>\n",
              "      <th>288</th>\n",
              "      <td>2019-02-20 00:00:00</td>\n",
              "      <td>0</td>\n",
              "      <td>2</td>\n",
              "      <td>False</td>\n",
              "      <td>True</td>\n",
              "    </tr>\n",
              "  </tbody>\n",
              "</table>\n",
              "<p>289 rows × 5 columns</p>\n",
              "</div>"
            ],
            "text/plain": [
              "                   baza  godziny  dzientyg  weekend  pozno\n",
              "0   2019-02-08 00:00:00        0         4    False   True\n",
              "1   2019-02-08 01:00:00        1         4    False   True\n",
              "2   2019-02-08 02:00:00        2         4    False   True\n",
              "3   2019-02-08 03:00:00        3         4    False   True\n",
              "4   2019-02-08 04:00:00        4         4    False   True\n",
              "..                  ...      ...       ...      ...    ...\n",
              "284 2019-02-19 20:00:00       20         1    False   True\n",
              "285 2019-02-19 21:00:00       21         1    False   True\n",
              "286 2019-02-19 22:00:00       22         1    False   True\n",
              "287 2019-02-19 23:00:00       23         1    False   True\n",
              "288 2019-02-20 00:00:00        0         2    False   True\n",
              "\n",
              "[289 rows x 5 columns]"
            ]
          },
          "metadata": {
            "tags": []
          },
          "execution_count": 59
        }
      ]
    },
    {
      "cell_type": "code",
      "metadata": {
        "colab": {
          "base_uri": "https://localhost:8080/",
          "height": 1000
        },
        "id": "ziMGeRNAsbEe",
        "outputId": "93e752b8-b39d-482b-d14b-e09dde252177"
      },
      "source": [
        "df[(df['weekend'] == True) & (df['pozno'] == True)]\r\n",
        "\r\n"
      ],
      "execution_count": null,
      "outputs": [
        {
          "output_type": "execute_result",
          "data": {
            "text/html": [
              "<div>\n",
              "<style scoped>\n",
              "    .dataframe tbody tr th:only-of-type {\n",
              "        vertical-align: middle;\n",
              "    }\n",
              "\n",
              "    .dataframe tbody tr th {\n",
              "        vertical-align: top;\n",
              "    }\n",
              "\n",
              "    .dataframe thead th {\n",
              "        text-align: right;\n",
              "    }\n",
              "</style>\n",
              "<table border=\"1\" class=\"dataframe\">\n",
              "  <thead>\n",
              "    <tr style=\"text-align: right;\">\n",
              "      <th></th>\n",
              "      <th>baza</th>\n",
              "      <th>godziny</th>\n",
              "      <th>dzientyg</th>\n",
              "      <th>weekend</th>\n",
              "      <th>pozno</th>\n",
              "    </tr>\n",
              "  </thead>\n",
              "  <tbody>\n",
              "    <tr>\n",
              "      <th>24</th>\n",
              "      <td>2019-02-09 00:00:00</td>\n",
              "      <td>0</td>\n",
              "      <td>5</td>\n",
              "      <td>True</td>\n",
              "      <td>True</td>\n",
              "    </tr>\n",
              "    <tr>\n",
              "      <th>25</th>\n",
              "      <td>2019-02-09 01:00:00</td>\n",
              "      <td>1</td>\n",
              "      <td>5</td>\n",
              "      <td>True</td>\n",
              "      <td>True</td>\n",
              "    </tr>\n",
              "    <tr>\n",
              "      <th>26</th>\n",
              "      <td>2019-02-09 02:00:00</td>\n",
              "      <td>2</td>\n",
              "      <td>5</td>\n",
              "      <td>True</td>\n",
              "      <td>True</td>\n",
              "    </tr>\n",
              "    <tr>\n",
              "      <th>27</th>\n",
              "      <td>2019-02-09 03:00:00</td>\n",
              "      <td>3</td>\n",
              "      <td>5</td>\n",
              "      <td>True</td>\n",
              "      <td>True</td>\n",
              "    </tr>\n",
              "    <tr>\n",
              "      <th>28</th>\n",
              "      <td>2019-02-09 04:00:00</td>\n",
              "      <td>4</td>\n",
              "      <td>5</td>\n",
              "      <td>True</td>\n",
              "      <td>True</td>\n",
              "    </tr>\n",
              "    <tr>\n",
              "      <th>29</th>\n",
              "      <td>2019-02-09 05:00:00</td>\n",
              "      <td>5</td>\n",
              "      <td>5</td>\n",
              "      <td>True</td>\n",
              "      <td>True</td>\n",
              "    </tr>\n",
              "    <tr>\n",
              "      <th>30</th>\n",
              "      <td>2019-02-09 06:00:00</td>\n",
              "      <td>6</td>\n",
              "      <td>5</td>\n",
              "      <td>True</td>\n",
              "      <td>True</td>\n",
              "    </tr>\n",
              "    <tr>\n",
              "      <th>42</th>\n",
              "      <td>2019-02-09 18:00:00</td>\n",
              "      <td>18</td>\n",
              "      <td>5</td>\n",
              "      <td>True</td>\n",
              "      <td>True</td>\n",
              "    </tr>\n",
              "    <tr>\n",
              "      <th>43</th>\n",
              "      <td>2019-02-09 19:00:00</td>\n",
              "      <td>19</td>\n",
              "      <td>5</td>\n",
              "      <td>True</td>\n",
              "      <td>True</td>\n",
              "    </tr>\n",
              "    <tr>\n",
              "      <th>44</th>\n",
              "      <td>2019-02-09 20:00:00</td>\n",
              "      <td>20</td>\n",
              "      <td>5</td>\n",
              "      <td>True</td>\n",
              "      <td>True</td>\n",
              "    </tr>\n",
              "    <tr>\n",
              "      <th>45</th>\n",
              "      <td>2019-02-09 21:00:00</td>\n",
              "      <td>21</td>\n",
              "      <td>5</td>\n",
              "      <td>True</td>\n",
              "      <td>True</td>\n",
              "    </tr>\n",
              "    <tr>\n",
              "      <th>46</th>\n",
              "      <td>2019-02-09 22:00:00</td>\n",
              "      <td>22</td>\n",
              "      <td>5</td>\n",
              "      <td>True</td>\n",
              "      <td>True</td>\n",
              "    </tr>\n",
              "    <tr>\n",
              "      <th>47</th>\n",
              "      <td>2019-02-09 23:00:00</td>\n",
              "      <td>23</td>\n",
              "      <td>5</td>\n",
              "      <td>True</td>\n",
              "      <td>True</td>\n",
              "    </tr>\n",
              "    <tr>\n",
              "      <th>48</th>\n",
              "      <td>2019-02-10 00:00:00</td>\n",
              "      <td>0</td>\n",
              "      <td>6</td>\n",
              "      <td>True</td>\n",
              "      <td>True</td>\n",
              "    </tr>\n",
              "    <tr>\n",
              "      <th>49</th>\n",
              "      <td>2019-02-10 01:00:00</td>\n",
              "      <td>1</td>\n",
              "      <td>6</td>\n",
              "      <td>True</td>\n",
              "      <td>True</td>\n",
              "    </tr>\n",
              "    <tr>\n",
              "      <th>50</th>\n",
              "      <td>2019-02-10 02:00:00</td>\n",
              "      <td>2</td>\n",
              "      <td>6</td>\n",
              "      <td>True</td>\n",
              "      <td>True</td>\n",
              "    </tr>\n",
              "    <tr>\n",
              "      <th>51</th>\n",
              "      <td>2019-02-10 03:00:00</td>\n",
              "      <td>3</td>\n",
              "      <td>6</td>\n",
              "      <td>True</td>\n",
              "      <td>True</td>\n",
              "    </tr>\n",
              "    <tr>\n",
              "      <th>52</th>\n",
              "      <td>2019-02-10 04:00:00</td>\n",
              "      <td>4</td>\n",
              "      <td>6</td>\n",
              "      <td>True</td>\n",
              "      <td>True</td>\n",
              "    </tr>\n",
              "    <tr>\n",
              "      <th>53</th>\n",
              "      <td>2019-02-10 05:00:00</td>\n",
              "      <td>5</td>\n",
              "      <td>6</td>\n",
              "      <td>True</td>\n",
              "      <td>True</td>\n",
              "    </tr>\n",
              "    <tr>\n",
              "      <th>54</th>\n",
              "      <td>2019-02-10 06:00:00</td>\n",
              "      <td>6</td>\n",
              "      <td>6</td>\n",
              "      <td>True</td>\n",
              "      <td>True</td>\n",
              "    </tr>\n",
              "    <tr>\n",
              "      <th>66</th>\n",
              "      <td>2019-02-10 18:00:00</td>\n",
              "      <td>18</td>\n",
              "      <td>6</td>\n",
              "      <td>True</td>\n",
              "      <td>True</td>\n",
              "    </tr>\n",
              "    <tr>\n",
              "      <th>67</th>\n",
              "      <td>2019-02-10 19:00:00</td>\n",
              "      <td>19</td>\n",
              "      <td>6</td>\n",
              "      <td>True</td>\n",
              "      <td>True</td>\n",
              "    </tr>\n",
              "    <tr>\n",
              "      <th>68</th>\n",
              "      <td>2019-02-10 20:00:00</td>\n",
              "      <td>20</td>\n",
              "      <td>6</td>\n",
              "      <td>True</td>\n",
              "      <td>True</td>\n",
              "    </tr>\n",
              "    <tr>\n",
              "      <th>69</th>\n",
              "      <td>2019-02-10 21:00:00</td>\n",
              "      <td>21</td>\n",
              "      <td>6</td>\n",
              "      <td>True</td>\n",
              "      <td>True</td>\n",
              "    </tr>\n",
              "    <tr>\n",
              "      <th>70</th>\n",
              "      <td>2019-02-10 22:00:00</td>\n",
              "      <td>22</td>\n",
              "      <td>6</td>\n",
              "      <td>True</td>\n",
              "      <td>True</td>\n",
              "    </tr>\n",
              "    <tr>\n",
              "      <th>71</th>\n",
              "      <td>2019-02-10 23:00:00</td>\n",
              "      <td>23</td>\n",
              "      <td>6</td>\n",
              "      <td>True</td>\n",
              "      <td>True</td>\n",
              "    </tr>\n",
              "    <tr>\n",
              "      <th>192</th>\n",
              "      <td>2019-02-16 00:00:00</td>\n",
              "      <td>0</td>\n",
              "      <td>5</td>\n",
              "      <td>True</td>\n",
              "      <td>True</td>\n",
              "    </tr>\n",
              "    <tr>\n",
              "      <th>193</th>\n",
              "      <td>2019-02-16 01:00:00</td>\n",
              "      <td>1</td>\n",
              "      <td>5</td>\n",
              "      <td>True</td>\n",
              "      <td>True</td>\n",
              "    </tr>\n",
              "    <tr>\n",
              "      <th>194</th>\n",
              "      <td>2019-02-16 02:00:00</td>\n",
              "      <td>2</td>\n",
              "      <td>5</td>\n",
              "      <td>True</td>\n",
              "      <td>True</td>\n",
              "    </tr>\n",
              "    <tr>\n",
              "      <th>195</th>\n",
              "      <td>2019-02-16 03:00:00</td>\n",
              "      <td>3</td>\n",
              "      <td>5</td>\n",
              "      <td>True</td>\n",
              "      <td>True</td>\n",
              "    </tr>\n",
              "    <tr>\n",
              "      <th>196</th>\n",
              "      <td>2019-02-16 04:00:00</td>\n",
              "      <td>4</td>\n",
              "      <td>5</td>\n",
              "      <td>True</td>\n",
              "      <td>True</td>\n",
              "    </tr>\n",
              "    <tr>\n",
              "      <th>197</th>\n",
              "      <td>2019-02-16 05:00:00</td>\n",
              "      <td>5</td>\n",
              "      <td>5</td>\n",
              "      <td>True</td>\n",
              "      <td>True</td>\n",
              "    </tr>\n",
              "    <tr>\n",
              "      <th>198</th>\n",
              "      <td>2019-02-16 06:00:00</td>\n",
              "      <td>6</td>\n",
              "      <td>5</td>\n",
              "      <td>True</td>\n",
              "      <td>True</td>\n",
              "    </tr>\n",
              "    <tr>\n",
              "      <th>210</th>\n",
              "      <td>2019-02-16 18:00:00</td>\n",
              "      <td>18</td>\n",
              "      <td>5</td>\n",
              "      <td>True</td>\n",
              "      <td>True</td>\n",
              "    </tr>\n",
              "    <tr>\n",
              "      <th>211</th>\n",
              "      <td>2019-02-16 19:00:00</td>\n",
              "      <td>19</td>\n",
              "      <td>5</td>\n",
              "      <td>True</td>\n",
              "      <td>True</td>\n",
              "    </tr>\n",
              "    <tr>\n",
              "      <th>212</th>\n",
              "      <td>2019-02-16 20:00:00</td>\n",
              "      <td>20</td>\n",
              "      <td>5</td>\n",
              "      <td>True</td>\n",
              "      <td>True</td>\n",
              "    </tr>\n",
              "    <tr>\n",
              "      <th>213</th>\n",
              "      <td>2019-02-16 21:00:00</td>\n",
              "      <td>21</td>\n",
              "      <td>5</td>\n",
              "      <td>True</td>\n",
              "      <td>True</td>\n",
              "    </tr>\n",
              "    <tr>\n",
              "      <th>214</th>\n",
              "      <td>2019-02-16 22:00:00</td>\n",
              "      <td>22</td>\n",
              "      <td>5</td>\n",
              "      <td>True</td>\n",
              "      <td>True</td>\n",
              "    </tr>\n",
              "    <tr>\n",
              "      <th>215</th>\n",
              "      <td>2019-02-16 23:00:00</td>\n",
              "      <td>23</td>\n",
              "      <td>5</td>\n",
              "      <td>True</td>\n",
              "      <td>True</td>\n",
              "    </tr>\n",
              "    <tr>\n",
              "      <th>216</th>\n",
              "      <td>2019-02-17 00:00:00</td>\n",
              "      <td>0</td>\n",
              "      <td>6</td>\n",
              "      <td>True</td>\n",
              "      <td>True</td>\n",
              "    </tr>\n",
              "    <tr>\n",
              "      <th>217</th>\n",
              "      <td>2019-02-17 01:00:00</td>\n",
              "      <td>1</td>\n",
              "      <td>6</td>\n",
              "      <td>True</td>\n",
              "      <td>True</td>\n",
              "    </tr>\n",
              "    <tr>\n",
              "      <th>218</th>\n",
              "      <td>2019-02-17 02:00:00</td>\n",
              "      <td>2</td>\n",
              "      <td>6</td>\n",
              "      <td>True</td>\n",
              "      <td>True</td>\n",
              "    </tr>\n",
              "    <tr>\n",
              "      <th>219</th>\n",
              "      <td>2019-02-17 03:00:00</td>\n",
              "      <td>3</td>\n",
              "      <td>6</td>\n",
              "      <td>True</td>\n",
              "      <td>True</td>\n",
              "    </tr>\n",
              "    <tr>\n",
              "      <th>220</th>\n",
              "      <td>2019-02-17 04:00:00</td>\n",
              "      <td>4</td>\n",
              "      <td>6</td>\n",
              "      <td>True</td>\n",
              "      <td>True</td>\n",
              "    </tr>\n",
              "    <tr>\n",
              "      <th>221</th>\n",
              "      <td>2019-02-17 05:00:00</td>\n",
              "      <td>5</td>\n",
              "      <td>6</td>\n",
              "      <td>True</td>\n",
              "      <td>True</td>\n",
              "    </tr>\n",
              "    <tr>\n",
              "      <th>222</th>\n",
              "      <td>2019-02-17 06:00:00</td>\n",
              "      <td>6</td>\n",
              "      <td>6</td>\n",
              "      <td>True</td>\n",
              "      <td>True</td>\n",
              "    </tr>\n",
              "    <tr>\n",
              "      <th>234</th>\n",
              "      <td>2019-02-17 18:00:00</td>\n",
              "      <td>18</td>\n",
              "      <td>6</td>\n",
              "      <td>True</td>\n",
              "      <td>True</td>\n",
              "    </tr>\n",
              "    <tr>\n",
              "      <th>235</th>\n",
              "      <td>2019-02-17 19:00:00</td>\n",
              "      <td>19</td>\n",
              "      <td>6</td>\n",
              "      <td>True</td>\n",
              "      <td>True</td>\n",
              "    </tr>\n",
              "    <tr>\n",
              "      <th>236</th>\n",
              "      <td>2019-02-17 20:00:00</td>\n",
              "      <td>20</td>\n",
              "      <td>6</td>\n",
              "      <td>True</td>\n",
              "      <td>True</td>\n",
              "    </tr>\n",
              "    <tr>\n",
              "      <th>237</th>\n",
              "      <td>2019-02-17 21:00:00</td>\n",
              "      <td>21</td>\n",
              "      <td>6</td>\n",
              "      <td>True</td>\n",
              "      <td>True</td>\n",
              "    </tr>\n",
              "    <tr>\n",
              "      <th>238</th>\n",
              "      <td>2019-02-17 22:00:00</td>\n",
              "      <td>22</td>\n",
              "      <td>6</td>\n",
              "      <td>True</td>\n",
              "      <td>True</td>\n",
              "    </tr>\n",
              "    <tr>\n",
              "      <th>239</th>\n",
              "      <td>2019-02-17 23:00:00</td>\n",
              "      <td>23</td>\n",
              "      <td>6</td>\n",
              "      <td>True</td>\n",
              "      <td>True</td>\n",
              "    </tr>\n",
              "  </tbody>\n",
              "</table>\n",
              "</div>"
            ],
            "text/plain": [
              "                   baza  godziny  dzientyg  weekend  pozno\n",
              "24  2019-02-09 00:00:00        0         5     True   True\n",
              "25  2019-02-09 01:00:00        1         5     True   True\n",
              "26  2019-02-09 02:00:00        2         5     True   True\n",
              "27  2019-02-09 03:00:00        3         5     True   True\n",
              "28  2019-02-09 04:00:00        4         5     True   True\n",
              "29  2019-02-09 05:00:00        5         5     True   True\n",
              "30  2019-02-09 06:00:00        6         5     True   True\n",
              "42  2019-02-09 18:00:00       18         5     True   True\n",
              "43  2019-02-09 19:00:00       19         5     True   True\n",
              "44  2019-02-09 20:00:00       20         5     True   True\n",
              "45  2019-02-09 21:00:00       21         5     True   True\n",
              "46  2019-02-09 22:00:00       22         5     True   True\n",
              "47  2019-02-09 23:00:00       23         5     True   True\n",
              "48  2019-02-10 00:00:00        0         6     True   True\n",
              "49  2019-02-10 01:00:00        1         6     True   True\n",
              "50  2019-02-10 02:00:00        2         6     True   True\n",
              "51  2019-02-10 03:00:00        3         6     True   True\n",
              "52  2019-02-10 04:00:00        4         6     True   True\n",
              "53  2019-02-10 05:00:00        5         6     True   True\n",
              "54  2019-02-10 06:00:00        6         6     True   True\n",
              "66  2019-02-10 18:00:00       18         6     True   True\n",
              "67  2019-02-10 19:00:00       19         6     True   True\n",
              "68  2019-02-10 20:00:00       20         6     True   True\n",
              "69  2019-02-10 21:00:00       21         6     True   True\n",
              "70  2019-02-10 22:00:00       22         6     True   True\n",
              "71  2019-02-10 23:00:00       23         6     True   True\n",
              "192 2019-02-16 00:00:00        0         5     True   True\n",
              "193 2019-02-16 01:00:00        1         5     True   True\n",
              "194 2019-02-16 02:00:00        2         5     True   True\n",
              "195 2019-02-16 03:00:00        3         5     True   True\n",
              "196 2019-02-16 04:00:00        4         5     True   True\n",
              "197 2019-02-16 05:00:00        5         5     True   True\n",
              "198 2019-02-16 06:00:00        6         5     True   True\n",
              "210 2019-02-16 18:00:00       18         5     True   True\n",
              "211 2019-02-16 19:00:00       19         5     True   True\n",
              "212 2019-02-16 20:00:00       20         5     True   True\n",
              "213 2019-02-16 21:00:00       21         5     True   True\n",
              "214 2019-02-16 22:00:00       22         5     True   True\n",
              "215 2019-02-16 23:00:00       23         5     True   True\n",
              "216 2019-02-17 00:00:00        0         6     True   True\n",
              "217 2019-02-17 01:00:00        1         6     True   True\n",
              "218 2019-02-17 02:00:00        2         6     True   True\n",
              "219 2019-02-17 03:00:00        3         6     True   True\n",
              "220 2019-02-17 04:00:00        4         6     True   True\n",
              "221 2019-02-17 05:00:00        5         6     True   True\n",
              "222 2019-02-17 06:00:00        6         6     True   True\n",
              "234 2019-02-17 18:00:00       18         6     True   True\n",
              "235 2019-02-17 19:00:00       19         6     True   True\n",
              "236 2019-02-17 20:00:00       20         6     True   True\n",
              "237 2019-02-17 21:00:00       21         6     True   True\n",
              "238 2019-02-17 22:00:00       22         6     True   True\n",
              "239 2019-02-17 23:00:00       23         6     True   True"
            ]
          },
          "metadata": {
            "tags": []
          },
          "execution_count": 60
        }
      ]
    },
    {
      "cell_type": "markdown",
      "metadata": {
        "id": "wsrBaBpBWklg"
      },
      "source": [
        "##Podpowiedzi"
      ]
    },
    {
      "cell_type": "code",
      "metadata": {
        "id": "rkYJ3epdWkli"
      },
      "source": [
        "# Do zdefiniowania DataFrame wykorzystaj zapis jak przy definicji słownika, tj. {'klucz': wartosc}\n",
        "# Do odnoszenia się do kolumny z danymi typu datetime64 wykorzystaj zapis .dt.minute - jeśli przykładowo chcesz odczytać minutę.\n",
        "# Format pandas datetime jest jednym z najbardziej przystępnych formatów zapisu daty oraz godziny. Serio.\n",
        "# Przy definiowaniu nowych kolumn, które odnoszą się do warunków logicznych upewnij się, \n",
        "# że każda część warunku logicznego jest w nawiasie lub można się do niej bezpośrednio odnieść (np. jest liczbą),\n",
        "# Przykładowy zapis df['ptak'] = ((df['kura'] == 1) | (df['kaczka'] == 1) | (df['ges'] == 1)) zwróci zapis True, jeśli któraś z kolumn kura, kaczka lub ges ma zapis 1. \n",
        "# Wartości bool można łatwo przekształcić w integery za pomocą ().astype(int)"
      ],
      "execution_count": null,
      "outputs": []
    },
    {
      "cell_type": "markdown",
      "metadata": {
        "id": "CUCXm0LUWklm"
      },
      "source": [
        "##Podpowiedzi + rozwiązanie"
      ]
    },
    {
      "cell_type": "code",
      "metadata": {
        "id": "IX_H2y9qghIi",
        "colab": {
          "base_uri": "https://localhost:8080/"
        },
        "outputId": "8f566863-320b-474d-ae56-4b5c8ebafd41"
      },
      "source": [
        "# Do zdefiniowania DataFrame wykorzystaj zapis jak przy definicji słownika, tj. {'klucz': wartosc}\n",
        "# Do odnoszenia się do kolumny z danymi typu datetime64 wykorzystaj zapis .dt.minute - jeśli przykładowo chcesz odczytać minutę.\n",
        "# Format pandas datetime jest jednym z najbardziej przystępnych formatów zapisu daty oraz godziny. Serio.\n",
        "# Przy definiowaniu nowych kolumn, które odnoszą się do warunków logicznych upewnij się, \n",
        "# że każda część warunku logicznego jest w nawiasie lub można się do niej bezpośrednio odnieść (np. jest liczbą),\n",
        "# Przykładowy zapis df['ptak'] = ((df['kura'] == 1) | (df['kaczka'] == 1) | (df['ges'] == 1)) zwróci zapis True, jeśli któraś z kolumn kura, kaczka lub ges ma zapis 1. \n",
        "# Wartości bool można łatwo przekształcić w integery za pomocą ().astype(int)\n",
        "\n",
        "# Aby otrzymać krok godzinowy, ustaw parametr freq='H' w funkcji pd.date_range()\n",
        "godziny = pd.date_range(start='20190208', end='20190220', freq='H')\n",
        "df = pd.DataFrame({\"baza\": godziny})\n",
        "df['godzina'] = df['baza'].dt.hour\n",
        "df['dzien_tygodnia'] = df['baza'].dt.dayofweek\n",
        "df['weekend'] = (df['dzien_tygodnia']>=5).astype(int)\n",
        "df['pozno'] = ((df['godzina'] >= 18) | (df['godzina'] <= 6)).astype(int)\n",
        "\n",
        "print(df[(df['pozno']==1) & (df['weekend']==1)])"
      ],
      "execution_count": null,
      "outputs": [
        {
          "output_type": "stream",
          "text": [
            "                   baza  godzina  dzien_tygodnia  weekend  pozno\n",
            "24  2019-02-09 00:00:00        0               5        1      1\n",
            "25  2019-02-09 01:00:00        1               5        1      1\n",
            "26  2019-02-09 02:00:00        2               5        1      1\n",
            "27  2019-02-09 03:00:00        3               5        1      1\n",
            "28  2019-02-09 04:00:00        4               5        1      1\n",
            "29  2019-02-09 05:00:00        5               5        1      1\n",
            "30  2019-02-09 06:00:00        6               5        1      1\n",
            "42  2019-02-09 18:00:00       18               5        1      1\n",
            "43  2019-02-09 19:00:00       19               5        1      1\n",
            "44  2019-02-09 20:00:00       20               5        1      1\n",
            "45  2019-02-09 21:00:00       21               5        1      1\n",
            "46  2019-02-09 22:00:00       22               5        1      1\n",
            "47  2019-02-09 23:00:00       23               5        1      1\n",
            "48  2019-02-10 00:00:00        0               6        1      1\n",
            "49  2019-02-10 01:00:00        1               6        1      1\n",
            "50  2019-02-10 02:00:00        2               6        1      1\n",
            "51  2019-02-10 03:00:00        3               6        1      1\n",
            "52  2019-02-10 04:00:00        4               6        1      1\n",
            "53  2019-02-10 05:00:00        5               6        1      1\n",
            "54  2019-02-10 06:00:00        6               6        1      1\n",
            "66  2019-02-10 18:00:00       18               6        1      1\n",
            "67  2019-02-10 19:00:00       19               6        1      1\n",
            "68  2019-02-10 20:00:00       20               6        1      1\n",
            "69  2019-02-10 21:00:00       21               6        1      1\n",
            "70  2019-02-10 22:00:00       22               6        1      1\n",
            "71  2019-02-10 23:00:00       23               6        1      1\n",
            "192 2019-02-16 00:00:00        0               5        1      1\n",
            "193 2019-02-16 01:00:00        1               5        1      1\n",
            "194 2019-02-16 02:00:00        2               5        1      1\n",
            "195 2019-02-16 03:00:00        3               5        1      1\n",
            "196 2019-02-16 04:00:00        4               5        1      1\n",
            "197 2019-02-16 05:00:00        5               5        1      1\n",
            "198 2019-02-16 06:00:00        6               5        1      1\n",
            "210 2019-02-16 18:00:00       18               5        1      1\n",
            "211 2019-02-16 19:00:00       19               5        1      1\n",
            "212 2019-02-16 20:00:00       20               5        1      1\n",
            "213 2019-02-16 21:00:00       21               5        1      1\n",
            "214 2019-02-16 22:00:00       22               5        1      1\n",
            "215 2019-02-16 23:00:00       23               5        1      1\n",
            "216 2019-02-17 00:00:00        0               6        1      1\n",
            "217 2019-02-17 01:00:00        1               6        1      1\n",
            "218 2019-02-17 02:00:00        2               6        1      1\n",
            "219 2019-02-17 03:00:00        3               6        1      1\n",
            "220 2019-02-17 04:00:00        4               6        1      1\n",
            "221 2019-02-17 05:00:00        5               6        1      1\n",
            "222 2019-02-17 06:00:00        6               6        1      1\n",
            "234 2019-02-17 18:00:00       18               6        1      1\n",
            "235 2019-02-17 19:00:00       19               6        1      1\n",
            "236 2019-02-17 20:00:00       20               6        1      1\n",
            "237 2019-02-17 21:00:00       21               6        1      1\n",
            "238 2019-02-17 22:00:00       22               6        1      1\n",
            "239 2019-02-17 23:00:00       23               6        1      1\n"
          ],
          "name": "stdout"
        }
      ]
    },
    {
      "cell_type": "markdown",
      "metadata": {
        "id": "xrIkkh1m5-Kj"
      },
      "source": [
        "#Zadanie 11"
      ]
    },
    {
      "cell_type": "markdown",
      "metadata": {
        "id": "8Ulg5YBb5-Kj"
      },
      "source": [
        "1. Zaimportuj pakiet seaborn jako sns.\n",
        "\n",
        "2. Załaduj dataset \"**tips**\" za pomocą sns.load_dataset(\"tips\") jako pandas DataFrame o nazwie **df**.\n",
        "\n",
        "3. Sprawdź czy są jakieś brakujące wartości\n",
        "\n",
        "4. Dodaj kolumnę o nazwie '**procent**', w której będzie zawarta informacja jaki procent całkowitej kwoty stanowi napiwek.\n",
        "\n",
        "5. Sprawdź, czy napiwek >20% kwoty dało więcej osób palących czy niepalących.\n",
        "\n",
        "\n",
        "\n"
      ]
    },
    {
      "cell_type": "code",
      "metadata": {
        "id": "xdOOBRhS5-Kj"
      },
      "source": [
        "import seaborn as sns"
      ],
      "execution_count": null,
      "outputs": []
    },
    {
      "cell_type": "code",
      "metadata": {
        "colab": {
          "base_uri": "https://localhost:8080/",
          "height": 424
        },
        "id": "l1fcmB81uixz",
        "outputId": "a663c8dc-ce53-4399-9789-352940c2e5c9"
      },
      "source": [
        "df2 = pd.DataFrame(sns.load_dataset(\"tips\"))\r\n",
        "df2"
      ],
      "execution_count": null,
      "outputs": [
        {
          "output_type": "execute_result",
          "data": {
            "text/html": [
              "<div>\n",
              "<style scoped>\n",
              "    .dataframe tbody tr th:only-of-type {\n",
              "        vertical-align: middle;\n",
              "    }\n",
              "\n",
              "    .dataframe tbody tr th {\n",
              "        vertical-align: top;\n",
              "    }\n",
              "\n",
              "    .dataframe thead th {\n",
              "        text-align: right;\n",
              "    }\n",
              "</style>\n",
              "<table border=\"1\" class=\"dataframe\">\n",
              "  <thead>\n",
              "    <tr style=\"text-align: right;\">\n",
              "      <th></th>\n",
              "      <th>total_bill</th>\n",
              "      <th>tip</th>\n",
              "      <th>sex</th>\n",
              "      <th>smoker</th>\n",
              "      <th>day</th>\n",
              "      <th>time</th>\n",
              "      <th>size</th>\n",
              "    </tr>\n",
              "  </thead>\n",
              "  <tbody>\n",
              "    <tr>\n",
              "      <th>0</th>\n",
              "      <td>16.99</td>\n",
              "      <td>1.01</td>\n",
              "      <td>Female</td>\n",
              "      <td>No</td>\n",
              "      <td>Sun</td>\n",
              "      <td>Dinner</td>\n",
              "      <td>2</td>\n",
              "    </tr>\n",
              "    <tr>\n",
              "      <th>1</th>\n",
              "      <td>10.34</td>\n",
              "      <td>1.66</td>\n",
              "      <td>Male</td>\n",
              "      <td>No</td>\n",
              "      <td>Sun</td>\n",
              "      <td>Dinner</td>\n",
              "      <td>3</td>\n",
              "    </tr>\n",
              "    <tr>\n",
              "      <th>2</th>\n",
              "      <td>21.01</td>\n",
              "      <td>3.50</td>\n",
              "      <td>Male</td>\n",
              "      <td>No</td>\n",
              "      <td>Sun</td>\n",
              "      <td>Dinner</td>\n",
              "      <td>3</td>\n",
              "    </tr>\n",
              "    <tr>\n",
              "      <th>3</th>\n",
              "      <td>23.68</td>\n",
              "      <td>3.31</td>\n",
              "      <td>Male</td>\n",
              "      <td>No</td>\n",
              "      <td>Sun</td>\n",
              "      <td>Dinner</td>\n",
              "      <td>2</td>\n",
              "    </tr>\n",
              "    <tr>\n",
              "      <th>4</th>\n",
              "      <td>24.59</td>\n",
              "      <td>3.61</td>\n",
              "      <td>Female</td>\n",
              "      <td>No</td>\n",
              "      <td>Sun</td>\n",
              "      <td>Dinner</td>\n",
              "      <td>4</td>\n",
              "    </tr>\n",
              "    <tr>\n",
              "      <th>...</th>\n",
              "      <td>...</td>\n",
              "      <td>...</td>\n",
              "      <td>...</td>\n",
              "      <td>...</td>\n",
              "      <td>...</td>\n",
              "      <td>...</td>\n",
              "      <td>...</td>\n",
              "    </tr>\n",
              "    <tr>\n",
              "      <th>239</th>\n",
              "      <td>29.03</td>\n",
              "      <td>5.92</td>\n",
              "      <td>Male</td>\n",
              "      <td>No</td>\n",
              "      <td>Sat</td>\n",
              "      <td>Dinner</td>\n",
              "      <td>3</td>\n",
              "    </tr>\n",
              "    <tr>\n",
              "      <th>240</th>\n",
              "      <td>27.18</td>\n",
              "      <td>2.00</td>\n",
              "      <td>Female</td>\n",
              "      <td>Yes</td>\n",
              "      <td>Sat</td>\n",
              "      <td>Dinner</td>\n",
              "      <td>2</td>\n",
              "    </tr>\n",
              "    <tr>\n",
              "      <th>241</th>\n",
              "      <td>22.67</td>\n",
              "      <td>2.00</td>\n",
              "      <td>Male</td>\n",
              "      <td>Yes</td>\n",
              "      <td>Sat</td>\n",
              "      <td>Dinner</td>\n",
              "      <td>2</td>\n",
              "    </tr>\n",
              "    <tr>\n",
              "      <th>242</th>\n",
              "      <td>17.82</td>\n",
              "      <td>1.75</td>\n",
              "      <td>Male</td>\n",
              "      <td>No</td>\n",
              "      <td>Sat</td>\n",
              "      <td>Dinner</td>\n",
              "      <td>2</td>\n",
              "    </tr>\n",
              "    <tr>\n",
              "      <th>243</th>\n",
              "      <td>18.78</td>\n",
              "      <td>3.00</td>\n",
              "      <td>Female</td>\n",
              "      <td>No</td>\n",
              "      <td>Thur</td>\n",
              "      <td>Dinner</td>\n",
              "      <td>2</td>\n",
              "    </tr>\n",
              "  </tbody>\n",
              "</table>\n",
              "<p>244 rows × 7 columns</p>\n",
              "</div>"
            ],
            "text/plain": [
              "     total_bill   tip     sex smoker   day    time  size\n",
              "0         16.99  1.01  Female     No   Sun  Dinner     2\n",
              "1         10.34  1.66    Male     No   Sun  Dinner     3\n",
              "2         21.01  3.50    Male     No   Sun  Dinner     3\n",
              "3         23.68  3.31    Male     No   Sun  Dinner     2\n",
              "4         24.59  3.61  Female     No   Sun  Dinner     4\n",
              "..          ...   ...     ...    ...   ...     ...   ...\n",
              "239       29.03  5.92    Male     No   Sat  Dinner     3\n",
              "240       27.18  2.00  Female    Yes   Sat  Dinner     2\n",
              "241       22.67  2.00    Male    Yes   Sat  Dinner     2\n",
              "242       17.82  1.75    Male     No   Sat  Dinner     2\n",
              "243       18.78  3.00  Female     No  Thur  Dinner     2\n",
              "\n",
              "[244 rows x 7 columns]"
            ]
          },
          "metadata": {
            "tags": []
          },
          "execution_count": 64
        }
      ]
    },
    {
      "cell_type": "code",
      "metadata": {
        "colab": {
          "base_uri": "https://localhost:8080/",
          "height": 424
        },
        "id": "JkTMc0E3u8j6",
        "outputId": "238331ff-8fdd-4c7f-8d80-2f3f45c33595"
      },
      "source": [
        "df2.isnull()"
      ],
      "execution_count": null,
      "outputs": [
        {
          "output_type": "execute_result",
          "data": {
            "text/html": [
              "<div>\n",
              "<style scoped>\n",
              "    .dataframe tbody tr th:only-of-type {\n",
              "        vertical-align: middle;\n",
              "    }\n",
              "\n",
              "    .dataframe tbody tr th {\n",
              "        vertical-align: top;\n",
              "    }\n",
              "\n",
              "    .dataframe thead th {\n",
              "        text-align: right;\n",
              "    }\n",
              "</style>\n",
              "<table border=\"1\" class=\"dataframe\">\n",
              "  <thead>\n",
              "    <tr style=\"text-align: right;\">\n",
              "      <th></th>\n",
              "      <th>total_bill</th>\n",
              "      <th>tip</th>\n",
              "      <th>sex</th>\n",
              "      <th>smoker</th>\n",
              "      <th>day</th>\n",
              "      <th>time</th>\n",
              "      <th>size</th>\n",
              "    </tr>\n",
              "  </thead>\n",
              "  <tbody>\n",
              "    <tr>\n",
              "      <th>0</th>\n",
              "      <td>False</td>\n",
              "      <td>False</td>\n",
              "      <td>False</td>\n",
              "      <td>False</td>\n",
              "      <td>False</td>\n",
              "      <td>False</td>\n",
              "      <td>False</td>\n",
              "    </tr>\n",
              "    <tr>\n",
              "      <th>1</th>\n",
              "      <td>False</td>\n",
              "      <td>False</td>\n",
              "      <td>False</td>\n",
              "      <td>False</td>\n",
              "      <td>False</td>\n",
              "      <td>False</td>\n",
              "      <td>False</td>\n",
              "    </tr>\n",
              "    <tr>\n",
              "      <th>2</th>\n",
              "      <td>False</td>\n",
              "      <td>False</td>\n",
              "      <td>False</td>\n",
              "      <td>False</td>\n",
              "      <td>False</td>\n",
              "      <td>False</td>\n",
              "      <td>False</td>\n",
              "    </tr>\n",
              "    <tr>\n",
              "      <th>3</th>\n",
              "      <td>False</td>\n",
              "      <td>False</td>\n",
              "      <td>False</td>\n",
              "      <td>False</td>\n",
              "      <td>False</td>\n",
              "      <td>False</td>\n",
              "      <td>False</td>\n",
              "    </tr>\n",
              "    <tr>\n",
              "      <th>4</th>\n",
              "      <td>False</td>\n",
              "      <td>False</td>\n",
              "      <td>False</td>\n",
              "      <td>False</td>\n",
              "      <td>False</td>\n",
              "      <td>False</td>\n",
              "      <td>False</td>\n",
              "    </tr>\n",
              "    <tr>\n",
              "      <th>...</th>\n",
              "      <td>...</td>\n",
              "      <td>...</td>\n",
              "      <td>...</td>\n",
              "      <td>...</td>\n",
              "      <td>...</td>\n",
              "      <td>...</td>\n",
              "      <td>...</td>\n",
              "    </tr>\n",
              "    <tr>\n",
              "      <th>239</th>\n",
              "      <td>False</td>\n",
              "      <td>False</td>\n",
              "      <td>False</td>\n",
              "      <td>False</td>\n",
              "      <td>False</td>\n",
              "      <td>False</td>\n",
              "      <td>False</td>\n",
              "    </tr>\n",
              "    <tr>\n",
              "      <th>240</th>\n",
              "      <td>False</td>\n",
              "      <td>False</td>\n",
              "      <td>False</td>\n",
              "      <td>False</td>\n",
              "      <td>False</td>\n",
              "      <td>False</td>\n",
              "      <td>False</td>\n",
              "    </tr>\n",
              "    <tr>\n",
              "      <th>241</th>\n",
              "      <td>False</td>\n",
              "      <td>False</td>\n",
              "      <td>False</td>\n",
              "      <td>False</td>\n",
              "      <td>False</td>\n",
              "      <td>False</td>\n",
              "      <td>False</td>\n",
              "    </tr>\n",
              "    <tr>\n",
              "      <th>242</th>\n",
              "      <td>False</td>\n",
              "      <td>False</td>\n",
              "      <td>False</td>\n",
              "      <td>False</td>\n",
              "      <td>False</td>\n",
              "      <td>False</td>\n",
              "      <td>False</td>\n",
              "    </tr>\n",
              "    <tr>\n",
              "      <th>243</th>\n",
              "      <td>False</td>\n",
              "      <td>False</td>\n",
              "      <td>False</td>\n",
              "      <td>False</td>\n",
              "      <td>False</td>\n",
              "      <td>False</td>\n",
              "      <td>False</td>\n",
              "    </tr>\n",
              "  </tbody>\n",
              "</table>\n",
              "<p>244 rows × 7 columns</p>\n",
              "</div>"
            ],
            "text/plain": [
              "     total_bill    tip    sex  smoker    day   time   size\n",
              "0         False  False  False   False  False  False  False\n",
              "1         False  False  False   False  False  False  False\n",
              "2         False  False  False   False  False  False  False\n",
              "3         False  False  False   False  False  False  False\n",
              "4         False  False  False   False  False  False  False\n",
              "..          ...    ...    ...     ...    ...    ...    ...\n",
              "239       False  False  False   False  False  False  False\n",
              "240       False  False  False   False  False  False  False\n",
              "241       False  False  False   False  False  False  False\n",
              "242       False  False  False   False  False  False  False\n",
              "243       False  False  False   False  False  False  False\n",
              "\n",
              "[244 rows x 7 columns]"
            ]
          },
          "metadata": {
            "tags": []
          },
          "execution_count": 65
        }
      ]
    },
    {
      "cell_type": "code",
      "metadata": {
        "colab": {
          "base_uri": "https://localhost:8080/"
        },
        "id": "ZJhq3YT8v-0P",
        "outputId": "7982ac7c-9030-42bb-e3f0-f738b09ebcf2"
      },
      "source": [
        "df2.isnull().sum()"
      ],
      "execution_count": null,
      "outputs": [
        {
          "output_type": "execute_result",
          "data": {
            "text/plain": [
              "total_bill    0\n",
              "tip           0\n",
              "sex           0\n",
              "smoker        0\n",
              "day           0\n",
              "time          0\n",
              "size          0\n",
              "dtype: int64"
            ]
          },
          "metadata": {
            "tags": []
          },
          "execution_count": 66
        }
      ]
    },
    {
      "cell_type": "code",
      "metadata": {
        "id": "zPbMbv1XwFxr"
      },
      "source": [
        "df2['procent'] = df2['tip'] / df2['total_bill']"
      ],
      "execution_count": null,
      "outputs": []
    },
    {
      "cell_type": "code",
      "metadata": {
        "colab": {
          "base_uri": "https://localhost:8080/",
          "height": 206
        },
        "id": "OZDbqgi7dhAm",
        "outputId": "21e8e061-6d83-48f2-fbee-50f7dc316c95"
      },
      "source": [
        "df2['20procent'] = df2['procent']>0.2\r\n",
        "porownanie = df2.groupby([\"smoker\", \"20procent\"]).count()\r\n",
        "porownanie\r\n"
      ],
      "execution_count": null,
      "outputs": [
        {
          "output_type": "execute_result",
          "data": {
            "text/html": [
              "<div>\n",
              "<style scoped>\n",
              "    .dataframe tbody tr th:only-of-type {\n",
              "        vertical-align: middle;\n",
              "    }\n",
              "\n",
              "    .dataframe tbody tr th {\n",
              "        vertical-align: top;\n",
              "    }\n",
              "\n",
              "    .dataframe thead th {\n",
              "        text-align: right;\n",
              "    }\n",
              "</style>\n",
              "<table border=\"1\" class=\"dataframe\">\n",
              "  <thead>\n",
              "    <tr style=\"text-align: right;\">\n",
              "      <th></th>\n",
              "      <th></th>\n",
              "      <th>total_bill</th>\n",
              "      <th>tip</th>\n",
              "      <th>sex</th>\n",
              "      <th>day</th>\n",
              "      <th>time</th>\n",
              "      <th>size</th>\n",
              "      <th>procent</th>\n",
              "    </tr>\n",
              "    <tr>\n",
              "      <th>smoker</th>\n",
              "      <th>20procent</th>\n",
              "      <th></th>\n",
              "      <th></th>\n",
              "      <th></th>\n",
              "      <th></th>\n",
              "      <th></th>\n",
              "      <th></th>\n",
              "      <th></th>\n",
              "    </tr>\n",
              "  </thead>\n",
              "  <tbody>\n",
              "    <tr>\n",
              "      <th rowspan=\"2\" valign=\"top\">Yes</th>\n",
              "      <th>False</th>\n",
              "      <td>77</td>\n",
              "      <td>77</td>\n",
              "      <td>77</td>\n",
              "      <td>77</td>\n",
              "      <td>77</td>\n",
              "      <td>77</td>\n",
              "      <td>77</td>\n",
              "    </tr>\n",
              "    <tr>\n",
              "      <th>True</th>\n",
              "      <td>16</td>\n",
              "      <td>16</td>\n",
              "      <td>16</td>\n",
              "      <td>16</td>\n",
              "      <td>16</td>\n",
              "      <td>16</td>\n",
              "      <td>16</td>\n",
              "    </tr>\n",
              "    <tr>\n",
              "      <th rowspan=\"2\" valign=\"top\">No</th>\n",
              "      <th>False</th>\n",
              "      <td>128</td>\n",
              "      <td>128</td>\n",
              "      <td>128</td>\n",
              "      <td>128</td>\n",
              "      <td>128</td>\n",
              "      <td>128</td>\n",
              "      <td>128</td>\n",
              "    </tr>\n",
              "    <tr>\n",
              "      <th>True</th>\n",
              "      <td>23</td>\n",
              "      <td>23</td>\n",
              "      <td>23</td>\n",
              "      <td>23</td>\n",
              "      <td>23</td>\n",
              "      <td>23</td>\n",
              "      <td>23</td>\n",
              "    </tr>\n",
              "  </tbody>\n",
              "</table>\n",
              "</div>"
            ],
            "text/plain": [
              "                  total_bill  tip  sex  day  time  size  procent\n",
              "smoker 20procent                                                \n",
              "Yes    False              77   77   77   77    77    77       77\n",
              "       True               16   16   16   16    16    16       16\n",
              "No     False             128  128  128  128   128   128      128\n",
              "       True               23   23   23   23    23    23       23"
            ]
          },
          "metadata": {
            "tags": []
          },
          "execution_count": 88
        }
      ]
    },
    {
      "cell_type": "code",
      "metadata": {
        "id": "puqV-kFSeqV1"
      },
      "source": [
        ""
      ],
      "execution_count": null,
      "outputs": []
    },
    {
      "cell_type": "markdown",
      "metadata": {
        "id": "FwG1fXpv5-Kj"
      },
      "source": [
        "##Podpowiedzi"
      ]
    },
    {
      "cell_type": "code",
      "metadata": {
        "id": "5dur1mpu5-Kj"
      },
      "source": [
        "# seaborn to pakiet do wizualizacji danych ale ma kilka przydatnych datasetów do treningów.\n",
        "# Sprawdzenie obecności wartości brakujących to jeden z pierwszych kroków przy eksploracyjnej analizie danych. Robi się go praktycznie zawsze.\n",
        "# Aby poznać wielkość grup po grupowaniu, poprzez groupby wykorzystaj funkcję .size()"
      ],
      "execution_count": null,
      "outputs": []
    },
    {
      "cell_type": "markdown",
      "metadata": {
        "id": "iew7zhLo5-Kj"
      },
      "source": [
        "##Podpowiedzi + rozwiązanie"
      ]
    },
    {
      "cell_type": "code",
      "metadata": {
        "id": "PO_vPKt25-Kj"
      },
      "source": [
        "# seaborn to pakiet do wizualizacji danych ale ma kilka przydatnych datasetów do treningów.\n",
        "# Sprawdzenie obecności wartości brakujących to jeden z pierwszych kroków przy eksploracyjnej analizie danych. Robi się go praktycznie zawsze.\n",
        "# Aby poznać wielkość grup po grupowaniu, poprzez groupby wykorzystaj funkcję .size()\n",
        "\n",
        "import seaborn as sns\n",
        "df = pd.DataFrame(sns.load_dataset(\"tips\"))\n",
        "df.isnull().sum()\n",
        "df['procent'] = df['tip']/df['total_bill'] *100\n",
        "df[(df['procent'] > 20)].groupby(['smoker']).size()\n"
      ],
      "execution_count": null,
      "outputs": []
    },
    {
      "cell_type": "markdown",
      "metadata": {
        "id": "2aYXPaA-5_OU"
      },
      "source": [
        "#Zadanie 12"
      ]
    },
    {
      "cell_type": "markdown",
      "metadata": {
        "id": "fvotD3kC5_OU"
      },
      "source": [
        "1. Policz długość cienia, którą rzucasz, dla swojego wzrostu i położenia geograficznego.\n",
        "\n",
        "2. Dane o wysokości słońca zbierz stąd:\n",
        "http://astronomia.zagan.pl/pliki/pozycja_slonca.html\n",
        "\n",
        "3. Stwórz dwa obiekty series o dowolnej (ale równej) długości i połącz je w DataFrame.\n",
        "\n",
        "* Pierwszy series powinien zawierać datę (przykładowo - 10 dnia miesiąca o tej samej godzinie) - czyli 12 pól, od stycznia do grudnia. \n",
        "* Drugi powinien zawierać wysokość słońca (dane w stopniach).\n",
        "\n",
        "4. Dodaj kolumnę '**dlugosc_cienia**' z kalkulacją, jakiej długości rzucisz cień."
      ]
    },
    {
      "cell_type": "code",
      "metadata": {
        "id": "taaukwZ55_OU"
      },
      "source": [
        ""
      ],
      "execution_count": null,
      "outputs": []
    },
    {
      "cell_type": "markdown",
      "metadata": {
        "id": "SoXpMo_x5_OU"
      },
      "source": [
        "##Podpowiedzi"
      ]
    },
    {
      "cell_type": "code",
      "metadata": {
        "id": "4Adq49Zj5_OV"
      },
      "source": [
        "# Z trygonometrii: b = a/tan(alfa), gdzie b - długość cienia oraz a - wysokość osoby rzucającej cień.\n",
        "# Pamiętaj, aby przekształcić dane w stopniach na radiany.\n",
        "# Wykorzystaj do tego bibliotekę numpy i funkcję np.radians."
      ],
      "execution_count": null,
      "outputs": []
    },
    {
      "cell_type": "markdown",
      "metadata": {
        "id": "9ZGH009Q5_OV"
      },
      "source": [
        "##Podpowiedzi + rozwiązanie"
      ]
    },
    {
      "cell_type": "code",
      "metadata": {
        "id": "IwR1E8e05_OV"
      },
      "source": [
        "# Dane dla miasta Gdańsk\n",
        "# Mój wzrost (wysokość) - 1.83m\n",
        "# Dane zbierane dla 10 dnia miesiąca w południe\n",
        "# Z trygonometrii: b = a/tan(alfa), gdzie b - długość cienia oraz a - wysokość osoby rzucającej cień.\n",
        "# Pamiętaj, aby przekształcić dane w stopniach na radiany.\n",
        "# Wykorzystaj do tego bibliotekę numpy i funkcję np.radians.\n",
        "\n",
        "import pandas as pd\n",
        "import numpy as np\n",
        "\n",
        "miesiac = pd.Series([\"Styczeń\", \"Luty\", \"Marzec\", \"Kwiecień\", \"Maj\", \"Czerwiec\", \"Lipiec\", \"Sierpień\", \"Wrzesień\", \"Pazdziernik\", \"Listopad\", \"Grudzien\"])\n",
        "wysokosc = pd.Series([13.7, 21.24, 31.83, 43.79, 53.29, 58.59, 57.75, 50.97, 40.2, 28.49, 18.06, 12.21])\n",
        "a = 1.83 #podaję mój wzrost\n",
        "df = pd.DataFrame({\"miesiac\": miesiac, \"wysokosc\": wysokosc})\n",
        "df['dlugosc_cienia'] = (a/np.tan(np.radians(df['wysokosc'])))\n",
        "df"
      ],
      "execution_count": null,
      "outputs": []
    }
  ]
}